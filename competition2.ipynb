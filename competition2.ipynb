{
 "cells": [
  {
   "cell_type": "code",
   "execution_count": 1,
   "id": "2e5666dc",
   "metadata": {},
   "outputs": [],
   "source": [
    "import numpy as np\n",
    "import pandas as pd\n",
    "import matplotlib.pyplot as plt\n",
    "import seaborn as sns\n",
    "import warnings\n",
    "warnings.filterwarnings('ignore')"
   ]
  },
  {
   "cell_type": "code",
   "execution_count": 2,
   "id": "3002e4ed",
   "metadata": {},
   "outputs": [],
   "source": [
    "input_dir = '/Users/suxuanrong/Desktop/关于横市啊/GCI/コンペ２/input/'\n",
    "\n",
    "train = pd.read_csv(input_dir + 'train.csv')\n",
    "test = pd.read_csv(input_dir + 'test.csv')\n",
    "sample_sub = pd.read_csv(input_dir + 'sample_submission.csv')"
   ]
  },
  {
   "cell_type": "code",
   "execution_count": 77,
   "id": "3f205414",
   "metadata": {
    "scrolled": true
   },
   "outputs": [
    {
     "data": {
      "text/html": [
       "<div>\n",
       "<style scoped>\n",
       "    .dataframe tbody tr th:only-of-type {\n",
       "        vertical-align: middle;\n",
       "    }\n",
       "\n",
       "    .dataframe tbody tr th {\n",
       "        vertical-align: top;\n",
       "    }\n",
       "\n",
       "    .dataframe thead th {\n",
       "        text-align: right;\n",
       "    }\n",
       "</style>\n",
       "<table border=\"1\" class=\"dataframe\">\n",
       "  <thead>\n",
       "    <tr style=\"text-align: right;\">\n",
       "      <th></th>\n",
       "      <th>SK_ID_CURR</th>\n",
       "      <th>TARGET</th>\n",
       "      <th>NAME_CONTRACT_TYPE</th>\n",
       "      <th>CODE_GENDER</th>\n",
       "      <th>FLAG_OWN_CAR</th>\n",
       "      <th>FLAG_OWN_REALTY</th>\n",
       "      <th>CNT_CHILDREN</th>\n",
       "      <th>AMT_INCOME_TOTAL</th>\n",
       "      <th>AMT_CREDIT</th>\n",
       "      <th>AMT_ANNUITY</th>\n",
       "      <th>...</th>\n",
       "      <th>EXT_SOURCE_3</th>\n",
       "      <th>OBS_30_CNT_SOCIAL_CIRCLE</th>\n",
       "      <th>DEF_30_CNT_SOCIAL_CIRCLE</th>\n",
       "      <th>OBS_60_CNT_SOCIAL_CIRCLE</th>\n",
       "      <th>DEF_60_CNT_SOCIAL_CIRCLE</th>\n",
       "      <th>DAYS_LAST_PHONE_CHANGE</th>\n",
       "      <th>AMT_REQ_CREDIT_BUREAU_HOUR</th>\n",
       "      <th>AMT_REQ_CREDIT_BUREAU_MON</th>\n",
       "      <th>AMT_REQ_CREDIT_BUREAU_QRT</th>\n",
       "      <th>AMT_REQ_CREDIT_BUREAU_YEAR</th>\n",
       "    </tr>\n",
       "  </thead>\n",
       "  <tbody>\n",
       "    <tr>\n",
       "      <th>0</th>\n",
       "      <td>0</td>\n",
       "      <td>0</td>\n",
       "      <td>Cash loans</td>\n",
       "      <td>F</td>\n",
       "      <td>N</td>\n",
       "      <td>N</td>\n",
       "      <td>0</td>\n",
       "      <td>112500.0</td>\n",
       "      <td>755190.0</td>\n",
       "      <td>36328.5</td>\n",
       "      <td>...</td>\n",
       "      <td>NaN</td>\n",
       "      <td>0.0</td>\n",
       "      <td>0.0</td>\n",
       "      <td>0.0</td>\n",
       "      <td>0.0</td>\n",
       "      <td>-292.0</td>\n",
       "      <td>NaN</td>\n",
       "      <td>NaN</td>\n",
       "      <td>NaN</td>\n",
       "      <td>NaN</td>\n",
       "    </tr>\n",
       "    <tr>\n",
       "      <th>1</th>\n",
       "      <td>1</td>\n",
       "      <td>0</td>\n",
       "      <td>Cash loans</td>\n",
       "      <td>F</td>\n",
       "      <td>N</td>\n",
       "      <td>Y</td>\n",
       "      <td>0</td>\n",
       "      <td>225000.0</td>\n",
       "      <td>585000.0</td>\n",
       "      <td>16893.0</td>\n",
       "      <td>...</td>\n",
       "      <td>0.553165</td>\n",
       "      <td>0.0</td>\n",
       "      <td>0.0</td>\n",
       "      <td>0.0</td>\n",
       "      <td>0.0</td>\n",
       "      <td>-617.0</td>\n",
       "      <td>0.0</td>\n",
       "      <td>0.0</td>\n",
       "      <td>0.0</td>\n",
       "      <td>1.0</td>\n",
       "    </tr>\n",
       "    <tr>\n",
       "      <th>2</th>\n",
       "      <td>2</td>\n",
       "      <td>0</td>\n",
       "      <td>Cash loans</td>\n",
       "      <td>F</td>\n",
       "      <td>N</td>\n",
       "      <td>Y</td>\n",
       "      <td>0</td>\n",
       "      <td>54000.0</td>\n",
       "      <td>334152.0</td>\n",
       "      <td>18256.5</td>\n",
       "      <td>...</td>\n",
       "      <td>NaN</td>\n",
       "      <td>4.0</td>\n",
       "      <td>0.0</td>\n",
       "      <td>4.0</td>\n",
       "      <td>0.0</td>\n",
       "      <td>-542.0</td>\n",
       "      <td>NaN</td>\n",
       "      <td>NaN</td>\n",
       "      <td>NaN</td>\n",
       "      <td>NaN</td>\n",
       "    </tr>\n",
       "  </tbody>\n",
       "</table>\n",
       "<p>3 rows × 51 columns</p>\n",
       "</div>"
      ],
      "text/plain": [
       "   SK_ID_CURR  TARGET NAME_CONTRACT_TYPE CODE_GENDER FLAG_OWN_CAR  \\\n",
       "0           0       0         Cash loans           F            N   \n",
       "1           1       0         Cash loans           F            N   \n",
       "2           2       0         Cash loans           F            N   \n",
       "\n",
       "  FLAG_OWN_REALTY  CNT_CHILDREN  AMT_INCOME_TOTAL  AMT_CREDIT  AMT_ANNUITY  \\\n",
       "0               N             0          112500.0    755190.0      36328.5   \n",
       "1               Y             0          225000.0    585000.0      16893.0   \n",
       "2               Y             0           54000.0    334152.0      18256.5   \n",
       "\n",
       "   ...  EXT_SOURCE_3 OBS_30_CNT_SOCIAL_CIRCLE DEF_30_CNT_SOCIAL_CIRCLE  \\\n",
       "0  ...           NaN                      0.0                      0.0   \n",
       "1  ...      0.553165                      0.0                      0.0   \n",
       "2  ...           NaN                      4.0                      0.0   \n",
       "\n",
       "  OBS_60_CNT_SOCIAL_CIRCLE DEF_60_CNT_SOCIAL_CIRCLE DAYS_LAST_PHONE_CHANGE  \\\n",
       "0                      0.0                      0.0                 -292.0   \n",
       "1                      0.0                      0.0                 -617.0   \n",
       "2                      4.0                      0.0                 -542.0   \n",
       "\n",
       "   AMT_REQ_CREDIT_BUREAU_HOUR  AMT_REQ_CREDIT_BUREAU_MON  \\\n",
       "0                         NaN                        NaN   \n",
       "1                         0.0                        0.0   \n",
       "2                         NaN                        NaN   \n",
       "\n",
       "   AMT_REQ_CREDIT_BUREAU_QRT  AMT_REQ_CREDIT_BUREAU_YEAR  \n",
       "0                        NaN                         NaN  \n",
       "1                        0.0                         1.0  \n",
       "2                        NaN                         NaN  \n",
       "\n",
       "[3 rows x 51 columns]"
      ]
     },
     "execution_count": 77,
     "metadata": {},
     "output_type": "execute_result"
    }
   ],
   "source": [
    "train.head(3)"
   ]
  },
  {
   "cell_type": "code",
   "execution_count": 78,
   "id": "e8759a5d",
   "metadata": {},
   "outputs": [
    {
     "name": "stdout",
     "output_type": "stream",
     "text": [
      "train shape: (171202, 51)\n",
      "test shape: (61500, 50)\n"
     ]
    }
   ],
   "source": [
    "print(f\"train shape: {train.shape}\")\n",
    "print(f\"test shape: {test.shape}\")"
   ]
  },
  {
   "cell_type": "code",
   "execution_count": 79,
   "id": "ee8944e5",
   "metadata": {},
   "outputs": [
    {
     "data": {
      "text/html": [
       "<div>\n",
       "<style scoped>\n",
       "    .dataframe tbody tr th:only-of-type {\n",
       "        vertical-align: middle;\n",
       "    }\n",
       "\n",
       "    .dataframe tbody tr th {\n",
       "        vertical-align: top;\n",
       "    }\n",
       "\n",
       "    .dataframe thead th {\n",
       "        text-align: right;\n",
       "    }\n",
       "</style>\n",
       "<table border=\"1\" class=\"dataframe\">\n",
       "  <thead>\n",
       "    <tr style=\"text-align: right;\">\n",
       "      <th></th>\n",
       "      <th>SK_ID_CURR</th>\n",
       "      <th>NAME_CONTRACT_TYPE</th>\n",
       "      <th>CODE_GENDER</th>\n",
       "      <th>FLAG_OWN_CAR</th>\n",
       "      <th>FLAG_OWN_REALTY</th>\n",
       "      <th>CNT_CHILDREN</th>\n",
       "      <th>AMT_INCOME_TOTAL</th>\n",
       "      <th>AMT_CREDIT</th>\n",
       "      <th>AMT_ANNUITY</th>\n",
       "      <th>AMT_GOODS_PRICE</th>\n",
       "      <th>...</th>\n",
       "      <th>EXT_SOURCE_3</th>\n",
       "      <th>OBS_30_CNT_SOCIAL_CIRCLE</th>\n",
       "      <th>DEF_30_CNT_SOCIAL_CIRCLE</th>\n",
       "      <th>OBS_60_CNT_SOCIAL_CIRCLE</th>\n",
       "      <th>DEF_60_CNT_SOCIAL_CIRCLE</th>\n",
       "      <th>DAYS_LAST_PHONE_CHANGE</th>\n",
       "      <th>AMT_REQ_CREDIT_BUREAU_HOUR</th>\n",
       "      <th>AMT_REQ_CREDIT_BUREAU_MON</th>\n",
       "      <th>AMT_REQ_CREDIT_BUREAU_QRT</th>\n",
       "      <th>AMT_REQ_CREDIT_BUREAU_YEAR</th>\n",
       "    </tr>\n",
       "  </thead>\n",
       "  <tbody>\n",
       "    <tr>\n",
       "      <th>0</th>\n",
       "      <td>171202</td>\n",
       "      <td>Cash loans</td>\n",
       "      <td>F</td>\n",
       "      <td>N</td>\n",
       "      <td>N</td>\n",
       "      <td>1</td>\n",
       "      <td>144000.0</td>\n",
       "      <td>961146.0</td>\n",
       "      <td>28233.0</td>\n",
       "      <td>688500.0</td>\n",
       "      <td>...</td>\n",
       "      <td>NaN</td>\n",
       "      <td>2.0</td>\n",
       "      <td>0.0</td>\n",
       "      <td>2.0</td>\n",
       "      <td>0.0</td>\n",
       "      <td>-1.0</td>\n",
       "      <td>NaN</td>\n",
       "      <td>NaN</td>\n",
       "      <td>NaN</td>\n",
       "      <td>NaN</td>\n",
       "    </tr>\n",
       "    <tr>\n",
       "      <th>1</th>\n",
       "      <td>171203</td>\n",
       "      <td>Cash loans</td>\n",
       "      <td>F</td>\n",
       "      <td>N</td>\n",
       "      <td>N</td>\n",
       "      <td>0</td>\n",
       "      <td>103500.0</td>\n",
       "      <td>296280.0</td>\n",
       "      <td>16069.5</td>\n",
       "      <td>225000.0</td>\n",
       "      <td>...</td>\n",
       "      <td>NaN</td>\n",
       "      <td>5.0</td>\n",
       "      <td>0.0</td>\n",
       "      <td>5.0</td>\n",
       "      <td>0.0</td>\n",
       "      <td>-212.0</td>\n",
       "      <td>NaN</td>\n",
       "      <td>NaN</td>\n",
       "      <td>NaN</td>\n",
       "      <td>NaN</td>\n",
       "    </tr>\n",
       "    <tr>\n",
       "      <th>2</th>\n",
       "      <td>171204</td>\n",
       "      <td>Cash loans</td>\n",
       "      <td>F</td>\n",
       "      <td>N</td>\n",
       "      <td>Y</td>\n",
       "      <td>1</td>\n",
       "      <td>180000.0</td>\n",
       "      <td>183694.5</td>\n",
       "      <td>11236.5</td>\n",
       "      <td>139500.0</td>\n",
       "      <td>...</td>\n",
       "      <td>0.389339</td>\n",
       "      <td>7.0</td>\n",
       "      <td>0.0</td>\n",
       "      <td>7.0</td>\n",
       "      <td>0.0</td>\n",
       "      <td>-428.0</td>\n",
       "      <td>0.0</td>\n",
       "      <td>1.0</td>\n",
       "      <td>1.0</td>\n",
       "      <td>1.0</td>\n",
       "    </tr>\n",
       "  </tbody>\n",
       "</table>\n",
       "<p>3 rows × 50 columns</p>\n",
       "</div>"
      ],
      "text/plain": [
       "   SK_ID_CURR NAME_CONTRACT_TYPE CODE_GENDER FLAG_OWN_CAR FLAG_OWN_REALTY  \\\n",
       "0      171202         Cash loans           F            N               N   \n",
       "1      171203         Cash loans           F            N               N   \n",
       "2      171204         Cash loans           F            N               Y   \n",
       "\n",
       "   CNT_CHILDREN  AMT_INCOME_TOTAL  AMT_CREDIT  AMT_ANNUITY  AMT_GOODS_PRICE  \\\n",
       "0             1          144000.0    961146.0      28233.0         688500.0   \n",
       "1             0          103500.0    296280.0      16069.5         225000.0   \n",
       "2             1          180000.0    183694.5      11236.5         139500.0   \n",
       "\n",
       "   ... EXT_SOURCE_3 OBS_30_CNT_SOCIAL_CIRCLE DEF_30_CNT_SOCIAL_CIRCLE  \\\n",
       "0  ...          NaN                      2.0                      0.0   \n",
       "1  ...          NaN                      5.0                      0.0   \n",
       "2  ...     0.389339                      7.0                      0.0   \n",
       "\n",
       "  OBS_60_CNT_SOCIAL_CIRCLE DEF_60_CNT_SOCIAL_CIRCLE  DAYS_LAST_PHONE_CHANGE  \\\n",
       "0                      2.0                      0.0                    -1.0   \n",
       "1                      5.0                      0.0                  -212.0   \n",
       "2                      7.0                      0.0                  -428.0   \n",
       "\n",
       "   AMT_REQ_CREDIT_BUREAU_HOUR  AMT_REQ_CREDIT_BUREAU_MON  \\\n",
       "0                         NaN                        NaN   \n",
       "1                         NaN                        NaN   \n",
       "2                         0.0                        1.0   \n",
       "\n",
       "   AMT_REQ_CREDIT_BUREAU_QRT  AMT_REQ_CREDIT_BUREAU_YEAR  \n",
       "0                        NaN                         NaN  \n",
       "1                        NaN                         NaN  \n",
       "2                        1.0                         1.0  \n",
       "\n",
       "[3 rows x 50 columns]"
      ]
     },
     "execution_count": 79,
     "metadata": {},
     "output_type": "execute_result"
    }
   ],
   "source": [
    "test.head(3)"
   ]
  },
  {
   "cell_type": "code",
   "execution_count": 80,
   "id": "f04d08fe",
   "metadata": {
    "scrolled": true
   },
   "outputs": [
    {
     "data": {
      "text/plain": [
       "SK_ID_CURR                          0\n",
       "TARGET                              0\n",
       "NAME_CONTRACT_TYPE                  0\n",
       "CODE_GENDER                         0\n",
       "FLAG_OWN_CAR                    34241\n",
       "FLAG_OWN_REALTY                 34241\n",
       "CNT_CHILDREN                        0\n",
       "AMT_INCOME_TOTAL                    0\n",
       "AMT_CREDIT                          0\n",
       "AMT_ANNUITY                         6\n",
       "AMT_GOODS_PRICE                   163\n",
       "NAME_TYPE_SUITE                   747\n",
       "NAME_INCOME_TYPE                    0\n",
       "NAME_EDUCATION_TYPE                 0\n",
       "NAME_FAMILY_STATUS                  0\n",
       "NAME_HOUSING_TYPE                   0\n",
       "REGION_POPULATION_RELATIVE          0\n",
       "DAYS_BIRTH                          0\n",
       "DAYS_EMPLOYED                       0\n",
       "DAYS_REGISTRATION                   0\n",
       "DAYS_ID_PUBLISH                     0\n",
       "OWN_CAR_AGE                    112992\n",
       "FLAG_MOBIL                          0\n",
       "FLAG_EMP_PHONE                      0\n",
       "FLAG_WORK_PHONE                     0\n",
       "FLAG_CONT_MOBILE                    0\n",
       "FLAG_PHONE                          0\n",
       "FLAG_EMAIL                          0\n",
       "OCCUPATION_TYPE                 53745\n",
       "CNT_FAM_MEMBERS                     2\n",
       "REGION_RATING_CLIENT                0\n",
       "REGION_RATING_CLIENT_W_CITY         0\n",
       "REG_REGION_NOT_LIVE_REGION          0\n",
       "REG_REGION_NOT_WORK_REGION          0\n",
       "LIVE_REGION_NOT_WORK_REGION         0\n",
       "REG_CITY_NOT_LIVE_CITY              0\n",
       "REG_CITY_NOT_WORK_CITY              0\n",
       "LIVE_CITY_NOT_WORK_CITY             0\n",
       "ORGANIZATION_TYPE                   0\n",
       "EXT_SOURCE_1                   118928\n",
       "EXT_SOURCE_2                      369\n",
       "EXT_SOURCE_3                    54586\n",
       "OBS_30_CNT_SOCIAL_CIRCLE          560\n",
       "DEF_30_CNT_SOCIAL_CIRCLE          560\n",
       "OBS_60_CNT_SOCIAL_CIRCLE          560\n",
       "DEF_60_CNT_SOCIAL_CIRCLE          560\n",
       "DAYS_LAST_PHONE_CHANGE              1\n",
       "AMT_REQ_CREDIT_BUREAU_HOUR      23116\n",
       "AMT_REQ_CREDIT_BUREAU_MON       23116\n",
       "AMT_REQ_CREDIT_BUREAU_QRT       23116\n",
       "AMT_REQ_CREDIT_BUREAU_YEAR      23116\n",
       "dtype: int64"
      ]
     },
     "execution_count": 80,
     "metadata": {},
     "output_type": "execute_result"
    }
   ],
   "source": [
    "train.isnull().sum()"
   ]
  },
  {
   "cell_type": "code",
   "execution_count": 81,
   "id": "ac3b6c67",
   "metadata": {
    "scrolled": true
   },
   "outputs": [
    {
     "data": {
      "text/plain": [
       "SK_ID_CURR                         0\n",
       "NAME_CONTRACT_TYPE                 0\n",
       "CODE_GENDER                        0\n",
       "FLAG_OWN_CAR                   12334\n",
       "FLAG_OWN_REALTY                12334\n",
       "CNT_CHILDREN                       0\n",
       "AMT_INCOME_TOTAL                   0\n",
       "AMT_CREDIT                         0\n",
       "AMT_ANNUITY                        3\n",
       "AMT_GOODS_PRICE                   53\n",
       "NAME_TYPE_SUITE                  248\n",
       "NAME_INCOME_TYPE                   0\n",
       "NAME_EDUCATION_TYPE                0\n",
       "NAME_FAMILY_STATUS                 0\n",
       "NAME_HOUSING_TYPE                  0\n",
       "REGION_POPULATION_RELATIVE         0\n",
       "DAYS_BIRTH                         0\n",
       "DAYS_EMPLOYED                      0\n",
       "DAYS_REGISTRATION                  0\n",
       "DAYS_ID_PUBLISH                    0\n",
       "OWN_CAR_AGE                    40909\n",
       "FLAG_MOBIL                         0\n",
       "FLAG_EMP_PHONE                     0\n",
       "FLAG_WORK_PHONE                    0\n",
       "FLAG_CONT_MOBILE                   0\n",
       "FLAG_PHONE                         0\n",
       "FLAG_EMAIL                         0\n",
       "OCCUPATION_TYPE                18734\n",
       "CNT_FAM_MEMBERS                    0\n",
       "REGION_RATING_CLIENT               0\n",
       "REGION_RATING_CLIENT_W_CITY        0\n",
       "REG_REGION_NOT_LIVE_REGION         0\n",
       "REG_REGION_NOT_WORK_REGION         0\n",
       "LIVE_REGION_NOT_WORK_REGION        0\n",
       "REG_CITY_NOT_LIVE_CITY             0\n",
       "REG_CITY_NOT_WORK_CITY             0\n",
       "LIVE_CITY_NOT_WORK_CITY            0\n",
       "ORGANIZATION_TYPE                  0\n",
       "EXT_SOURCE_1                   42912\n",
       "EXT_SOURCE_2                     130\n",
       "EXT_SOURCE_3                   19690\n",
       "OBS_30_CNT_SOCIAL_CIRCLE         181\n",
       "DEF_30_CNT_SOCIAL_CIRCLE         181\n",
       "OBS_60_CNT_SOCIAL_CIRCLE         181\n",
       "DEF_60_CNT_SOCIAL_CIRCLE         181\n",
       "DAYS_LAST_PHONE_CHANGE             0\n",
       "AMT_REQ_CREDIT_BUREAU_HOUR      8513\n",
       "AMT_REQ_CREDIT_BUREAU_MON       8513\n",
       "AMT_REQ_CREDIT_BUREAU_QRT       8513\n",
       "AMT_REQ_CREDIT_BUREAU_YEAR      8513\n",
       "dtype: int64"
      ]
     },
     "execution_count": 81,
     "metadata": {},
     "output_type": "execute_result"
    }
   ],
   "source": [
    "test.isnull().sum()"
   ]
  },
  {
   "cell_type": "code",
   "execution_count": 82,
   "id": "300a4e25",
   "metadata": {},
   "outputs": [
    {
     "data": {
      "text/html": [
       "<div>\n",
       "<style scoped>\n",
       "    .dataframe tbody tr th:only-of-type {\n",
       "        vertical-align: middle;\n",
       "    }\n",
       "\n",
       "    .dataframe tbody tr th {\n",
       "        vertical-align: top;\n",
       "    }\n",
       "\n",
       "    .dataframe thead th {\n",
       "        text-align: right;\n",
       "    }\n",
       "</style>\n",
       "<table border=\"1\" class=\"dataframe\">\n",
       "  <thead>\n",
       "    <tr style=\"text-align: right;\">\n",
       "      <th></th>\n",
       "      <th>SK_ID_CURR</th>\n",
       "      <th>TARGET</th>\n",
       "      <th>CNT_CHILDREN</th>\n",
       "      <th>AMT_INCOME_TOTAL</th>\n",
       "      <th>AMT_CREDIT</th>\n",
       "      <th>AMT_ANNUITY</th>\n",
       "      <th>AMT_GOODS_PRICE</th>\n",
       "      <th>REGION_POPULATION_RELATIVE</th>\n",
       "      <th>DAYS_BIRTH</th>\n",
       "      <th>DAYS_EMPLOYED</th>\n",
       "      <th>...</th>\n",
       "      <th>EXT_SOURCE_3</th>\n",
       "      <th>OBS_30_CNT_SOCIAL_CIRCLE</th>\n",
       "      <th>DEF_30_CNT_SOCIAL_CIRCLE</th>\n",
       "      <th>OBS_60_CNT_SOCIAL_CIRCLE</th>\n",
       "      <th>DEF_60_CNT_SOCIAL_CIRCLE</th>\n",
       "      <th>DAYS_LAST_PHONE_CHANGE</th>\n",
       "      <th>AMT_REQ_CREDIT_BUREAU_HOUR</th>\n",
       "      <th>AMT_REQ_CREDIT_BUREAU_MON</th>\n",
       "      <th>AMT_REQ_CREDIT_BUREAU_QRT</th>\n",
       "      <th>AMT_REQ_CREDIT_BUREAU_YEAR</th>\n",
       "    </tr>\n",
       "  </thead>\n",
       "  <tbody>\n",
       "    <tr>\n",
       "      <th>count</th>\n",
       "      <td>171202.00000</td>\n",
       "      <td>171202.000000</td>\n",
       "      <td>171202.000000</td>\n",
       "      <td>1.712020e+05</td>\n",
       "      <td>1.712020e+05</td>\n",
       "      <td>171196.000000</td>\n",
       "      <td>1.710390e+05</td>\n",
       "      <td>171202.000000</td>\n",
       "      <td>171202.000000</td>\n",
       "      <td>171202.000000</td>\n",
       "      <td>...</td>\n",
       "      <td>116616.000000</td>\n",
       "      <td>170642.000000</td>\n",
       "      <td>170642.000000</td>\n",
       "      <td>170642.000000</td>\n",
       "      <td>170642.000000</td>\n",
       "      <td>171201.000000</td>\n",
       "      <td>148086.000000</td>\n",
       "      <td>148086.000000</td>\n",
       "      <td>148086.000000</td>\n",
       "      <td>148086.000000</td>\n",
       "    </tr>\n",
       "    <tr>\n",
       "      <th>mean</th>\n",
       "      <td>85600.50000</td>\n",
       "      <td>0.080729</td>\n",
       "      <td>0.416490</td>\n",
       "      <td>1.683712e+05</td>\n",
       "      <td>5.991293e+05</td>\n",
       "      <td>27127.500701</td>\n",
       "      <td>5.384669e+05</td>\n",
       "      <td>0.020839</td>\n",
       "      <td>-16045.340504</td>\n",
       "      <td>63960.411969</td>\n",
       "      <td>...</td>\n",
       "      <td>0.511177</td>\n",
       "      <td>1.423137</td>\n",
       "      <td>0.143915</td>\n",
       "      <td>1.406406</td>\n",
       "      <td>0.100438</td>\n",
       "      <td>-962.411218</td>\n",
       "      <td>0.006652</td>\n",
       "      <td>0.268418</td>\n",
       "      <td>0.267547</td>\n",
       "      <td>1.903644</td>\n",
       "    </tr>\n",
       "    <tr>\n",
       "      <th>std</th>\n",
       "      <td>49421.90473</td>\n",
       "      <td>0.272420</td>\n",
       "      <td>0.720138</td>\n",
       "      <td>1.072348e+05</td>\n",
       "      <td>4.028170e+05</td>\n",
       "      <td>14538.361801</td>\n",
       "      <td>3.696921e+05</td>\n",
       "      <td>0.013803</td>\n",
       "      <td>4363.792228</td>\n",
       "      <td>141401.513149</td>\n",
       "      <td>...</td>\n",
       "      <td>0.194778</td>\n",
       "      <td>2.323733</td>\n",
       "      <td>0.443579</td>\n",
       "      <td>2.303540</td>\n",
       "      <td>0.360037</td>\n",
       "      <td>826.278427</td>\n",
       "      <td>0.086204</td>\n",
       "      <td>0.921022</td>\n",
       "      <td>0.914532</td>\n",
       "      <td>1.872237</td>\n",
       "    </tr>\n",
       "    <tr>\n",
       "      <th>min</th>\n",
       "      <td>0.00000</td>\n",
       "      <td>0.000000</td>\n",
       "      <td>0.000000</td>\n",
       "      <td>2.610000e+04</td>\n",
       "      <td>4.500000e+04</td>\n",
       "      <td>1980.000000</td>\n",
       "      <td>4.500000e+04</td>\n",
       "      <td>0.000290</td>\n",
       "      <td>-25229.000000</td>\n",
       "      <td>-17912.000000</td>\n",
       "      <td>...</td>\n",
       "      <td>0.000527</td>\n",
       "      <td>0.000000</td>\n",
       "      <td>0.000000</td>\n",
       "      <td>0.000000</td>\n",
       "      <td>0.000000</td>\n",
       "      <td>-4173.000000</td>\n",
       "      <td>0.000000</td>\n",
       "      <td>0.000000</td>\n",
       "      <td>0.000000</td>\n",
       "      <td>0.000000</td>\n",
       "    </tr>\n",
       "    <tr>\n",
       "      <th>25%</th>\n",
       "      <td>42800.25000</td>\n",
       "      <td>0.000000</td>\n",
       "      <td>0.000000</td>\n",
       "      <td>1.125000e+05</td>\n",
       "      <td>2.700000e+05</td>\n",
       "      <td>16546.500000</td>\n",
       "      <td>2.385000e+05</td>\n",
       "      <td>0.010006</td>\n",
       "      <td>-19686.000000</td>\n",
       "      <td>-2772.000000</td>\n",
       "      <td>...</td>\n",
       "      <td>0.370650</td>\n",
       "      <td>0.000000</td>\n",
       "      <td>0.000000</td>\n",
       "      <td>0.000000</td>\n",
       "      <td>0.000000</td>\n",
       "      <td>-1568.000000</td>\n",
       "      <td>0.000000</td>\n",
       "      <td>0.000000</td>\n",
       "      <td>0.000000</td>\n",
       "      <td>0.000000</td>\n",
       "    </tr>\n",
       "    <tr>\n",
       "      <th>50%</th>\n",
       "      <td>85600.50000</td>\n",
       "      <td>0.000000</td>\n",
       "      <td>0.000000</td>\n",
       "      <td>1.462500e+05</td>\n",
       "      <td>5.146020e+05</td>\n",
       "      <td>24916.500000</td>\n",
       "      <td>4.500000e+05</td>\n",
       "      <td>0.018850</td>\n",
       "      <td>-15778.000000</td>\n",
       "      <td>-1215.000000</td>\n",
       "      <td>...</td>\n",
       "      <td>0.537070</td>\n",
       "      <td>0.000000</td>\n",
       "      <td>0.000000</td>\n",
       "      <td>0.000000</td>\n",
       "      <td>0.000000</td>\n",
       "      <td>-757.000000</td>\n",
       "      <td>0.000000</td>\n",
       "      <td>0.000000</td>\n",
       "      <td>0.000000</td>\n",
       "      <td>1.000000</td>\n",
       "    </tr>\n",
       "    <tr>\n",
       "      <th>75%</th>\n",
       "      <td>128400.75000</td>\n",
       "      <td>0.000000</td>\n",
       "      <td>1.000000</td>\n",
       "      <td>2.025000e+05</td>\n",
       "      <td>8.086500e+05</td>\n",
       "      <td>34600.500000</td>\n",
       "      <td>6.795000e+05</td>\n",
       "      <td>0.028663</td>\n",
       "      <td>-12420.000000</td>\n",
       "      <td>-288.000000</td>\n",
       "      <td>...</td>\n",
       "      <td>0.669057</td>\n",
       "      <td>2.000000</td>\n",
       "      <td>0.000000</td>\n",
       "      <td>2.000000</td>\n",
       "      <td>0.000000</td>\n",
       "      <td>-274.000000</td>\n",
       "      <td>0.000000</td>\n",
       "      <td>0.000000</td>\n",
       "      <td>0.000000</td>\n",
       "      <td>3.000000</td>\n",
       "    </tr>\n",
       "    <tr>\n",
       "      <th>max</th>\n",
       "      <td>171201.00000</td>\n",
       "      <td>1.000000</td>\n",
       "      <td>14.000000</td>\n",
       "      <td>1.350000e+07</td>\n",
       "      <td>4.050000e+06</td>\n",
       "      <td>258025.500000</td>\n",
       "      <td>4.050000e+06</td>\n",
       "      <td>0.072508</td>\n",
       "      <td>-7673.000000</td>\n",
       "      <td>365243.000000</td>\n",
       "      <td>...</td>\n",
       "      <td>0.896010</td>\n",
       "      <td>47.000000</td>\n",
       "      <td>8.000000</td>\n",
       "      <td>47.000000</td>\n",
       "      <td>7.000000</td>\n",
       "      <td>0.000000</td>\n",
       "      <td>4.000000</td>\n",
       "      <td>23.000000</td>\n",
       "      <td>261.000000</td>\n",
       "      <td>23.000000</td>\n",
       "    </tr>\n",
       "  </tbody>\n",
       "</table>\n",
       "<p>8 rows × 40 columns</p>\n",
       "</div>"
      ],
      "text/plain": [
       "         SK_ID_CURR         TARGET   CNT_CHILDREN  AMT_INCOME_TOTAL  \\\n",
       "count  171202.00000  171202.000000  171202.000000      1.712020e+05   \n",
       "mean    85600.50000       0.080729       0.416490      1.683712e+05   \n",
       "std     49421.90473       0.272420       0.720138      1.072348e+05   \n",
       "min         0.00000       0.000000       0.000000      2.610000e+04   \n",
       "25%     42800.25000       0.000000       0.000000      1.125000e+05   \n",
       "50%     85600.50000       0.000000       0.000000      1.462500e+05   \n",
       "75%    128400.75000       0.000000       1.000000      2.025000e+05   \n",
       "max    171201.00000       1.000000      14.000000      1.350000e+07   \n",
       "\n",
       "         AMT_CREDIT    AMT_ANNUITY  AMT_GOODS_PRICE  \\\n",
       "count  1.712020e+05  171196.000000     1.710390e+05   \n",
       "mean   5.991293e+05   27127.500701     5.384669e+05   \n",
       "std    4.028170e+05   14538.361801     3.696921e+05   \n",
       "min    4.500000e+04    1980.000000     4.500000e+04   \n",
       "25%    2.700000e+05   16546.500000     2.385000e+05   \n",
       "50%    5.146020e+05   24916.500000     4.500000e+05   \n",
       "75%    8.086500e+05   34600.500000     6.795000e+05   \n",
       "max    4.050000e+06  258025.500000     4.050000e+06   \n",
       "\n",
       "       REGION_POPULATION_RELATIVE     DAYS_BIRTH  DAYS_EMPLOYED  ...  \\\n",
       "count               171202.000000  171202.000000  171202.000000  ...   \n",
       "mean                     0.020839  -16045.340504   63960.411969  ...   \n",
       "std                      0.013803    4363.792228  141401.513149  ...   \n",
       "min                      0.000290  -25229.000000  -17912.000000  ...   \n",
       "25%                      0.010006  -19686.000000   -2772.000000  ...   \n",
       "50%                      0.018850  -15778.000000   -1215.000000  ...   \n",
       "75%                      0.028663  -12420.000000    -288.000000  ...   \n",
       "max                      0.072508   -7673.000000  365243.000000  ...   \n",
       "\n",
       "        EXT_SOURCE_3  OBS_30_CNT_SOCIAL_CIRCLE  DEF_30_CNT_SOCIAL_CIRCLE  \\\n",
       "count  116616.000000             170642.000000             170642.000000   \n",
       "mean        0.511177                  1.423137                  0.143915   \n",
       "std         0.194778                  2.323733                  0.443579   \n",
       "min         0.000527                  0.000000                  0.000000   \n",
       "25%         0.370650                  0.000000                  0.000000   \n",
       "50%         0.537070                  0.000000                  0.000000   \n",
       "75%         0.669057                  2.000000                  0.000000   \n",
       "max         0.896010                 47.000000                  8.000000   \n",
       "\n",
       "       OBS_60_CNT_SOCIAL_CIRCLE  DEF_60_CNT_SOCIAL_CIRCLE  \\\n",
       "count             170642.000000             170642.000000   \n",
       "mean                   1.406406                  0.100438   \n",
       "std                    2.303540                  0.360037   \n",
       "min                    0.000000                  0.000000   \n",
       "25%                    0.000000                  0.000000   \n",
       "50%                    0.000000                  0.000000   \n",
       "75%                    2.000000                  0.000000   \n",
       "max                   47.000000                  7.000000   \n",
       "\n",
       "       DAYS_LAST_PHONE_CHANGE  AMT_REQ_CREDIT_BUREAU_HOUR  \\\n",
       "count           171201.000000               148086.000000   \n",
       "mean              -962.411218                    0.006652   \n",
       "std                826.278427                    0.086204   \n",
       "min              -4173.000000                    0.000000   \n",
       "25%              -1568.000000                    0.000000   \n",
       "50%               -757.000000                    0.000000   \n",
       "75%               -274.000000                    0.000000   \n",
       "max                  0.000000                    4.000000   \n",
       "\n",
       "       AMT_REQ_CREDIT_BUREAU_MON  AMT_REQ_CREDIT_BUREAU_QRT  \\\n",
       "count              148086.000000              148086.000000   \n",
       "mean                    0.268418                   0.267547   \n",
       "std                     0.921022                   0.914532   \n",
       "min                     0.000000                   0.000000   \n",
       "25%                     0.000000                   0.000000   \n",
       "50%                     0.000000                   0.000000   \n",
       "75%                     0.000000                   0.000000   \n",
       "max                    23.000000                 261.000000   \n",
       "\n",
       "       AMT_REQ_CREDIT_BUREAU_YEAR  \n",
       "count               148086.000000  \n",
       "mean                     1.903644  \n",
       "std                      1.872237  \n",
       "min                      0.000000  \n",
       "25%                      0.000000  \n",
       "50%                      1.000000  \n",
       "75%                      3.000000  \n",
       "max                     23.000000  \n",
       "\n",
       "[8 rows x 40 columns]"
      ]
     },
     "execution_count": 82,
     "metadata": {},
     "output_type": "execute_result"
    }
   ],
   "source": [
    "train.describe()"
   ]
  },
  {
   "cell_type": "code",
   "execution_count": 3,
   "id": "49ec838b",
   "metadata": {},
   "outputs": [],
   "source": [
    "#例の五つ特徴量\n",
    "use_features = [\"NAME_CONTRACT_TYPE\", \"AMT_INCOME_TOTAL\", \"EXT_SOURCE_2\", \"OWN_CAR_AGE\", \"ORGANIZATION_TYPE\"]\n",
    "target = train[\"TARGET\"].values\n",
    "\n",
    "train1 = train[use_features]\n",
    "train1[\"TARGET\"] = target\n",
    "test1 = test[use_features]"
   ]
  },
  {
   "cell_type": "code",
   "execution_count": 4,
   "id": "a18ecf3e",
   "metadata": {},
   "outputs": [
    {
     "data": {
      "text/plain": [
       "NAME_CONTRACT_TYPE         0\n",
       "AMT_INCOME_TOTAL           0\n",
       "EXT_SOURCE_2               0\n",
       "OWN_CAR_AGE           112992\n",
       "ORGANIZATION_TYPE          0\n",
       "TARGET                     0\n",
       "dtype: int64"
      ]
     },
     "execution_count": 4,
     "metadata": {},
     "output_type": "execute_result"
    }
   ],
   "source": [
    "# EXT_SOURCE_2の欠損値を平均値で補完\n",
    "train1[\"EXT_SOURCE_2\"].fillna(train1[\"EXT_SOURCE_2\"].mean(), inplace=True)\n",
    "test1[\"EXT_SOURCE_2\"].fillna(train1[\"EXT_SOURCE_2\"].mean(), inplace=True)\n",
    "\n",
    "train1.isnull().sum()"
   ]
  },
  {
   "cell_type": "code",
   "execution_count": 5,
   "id": "9dffb277",
   "metadata": {},
   "outputs": [
    {
     "data": {
      "text/html": [
       "<div>\n",
       "<style scoped>\n",
       "    .dataframe tbody tr th:only-of-type {\n",
       "        vertical-align: middle;\n",
       "    }\n",
       "\n",
       "    .dataframe tbody tr th {\n",
       "        vertical-align: top;\n",
       "    }\n",
       "\n",
       "    .dataframe thead th {\n",
       "        text-align: right;\n",
       "    }\n",
       "</style>\n",
       "<table border=\"1\" class=\"dataframe\">\n",
       "  <thead>\n",
       "    <tr style=\"text-align: right;\">\n",
       "      <th></th>\n",
       "      <th>NAME_CONTRACT_TYPE</th>\n",
       "      <th>AMT_INCOME_TOTAL</th>\n",
       "      <th>EXT_SOURCE_2</th>\n",
       "      <th>OWN_CAR_AGE</th>\n",
       "      <th>ORGANIZATION_TYPE</th>\n",
       "      <th>TARGET</th>\n",
       "    </tr>\n",
       "  </thead>\n",
       "  <tbody>\n",
       "    <tr>\n",
       "      <th>0</th>\n",
       "      <td>0</td>\n",
       "      <td>112500.0</td>\n",
       "      <td>0.372591</td>\n",
       "      <td>NaN</td>\n",
       "      <td>School</td>\n",
       "      <td>0</td>\n",
       "    </tr>\n",
       "    <tr>\n",
       "      <th>1</th>\n",
       "      <td>0</td>\n",
       "      <td>225000.0</td>\n",
       "      <td>0.449567</td>\n",
       "      <td>NaN</td>\n",
       "      <td>XNA</td>\n",
       "      <td>0</td>\n",
       "    </tr>\n",
       "    <tr>\n",
       "      <th>2</th>\n",
       "      <td>0</td>\n",
       "      <td>54000.0</td>\n",
       "      <td>0.569503</td>\n",
       "      <td>NaN</td>\n",
       "      <td>Postal</td>\n",
       "      <td>0</td>\n",
       "    </tr>\n",
       "    <tr>\n",
       "      <th>3</th>\n",
       "      <td>0</td>\n",
       "      <td>67500.0</td>\n",
       "      <td>0.105235</td>\n",
       "      <td>NaN</td>\n",
       "      <td>XNA</td>\n",
       "      <td>0</td>\n",
       "    </tr>\n",
       "    <tr>\n",
       "      <th>4</th>\n",
       "      <td>0</td>\n",
       "      <td>157500.0</td>\n",
       "      <td>0.202490</td>\n",
       "      <td>NaN</td>\n",
       "      <td>Business Entity Type 3</td>\n",
       "      <td>1</td>\n",
       "    </tr>\n",
       "  </tbody>\n",
       "</table>\n",
       "</div>"
      ],
      "text/plain": [
       "   NAME_CONTRACT_TYPE  AMT_INCOME_TOTAL  EXT_SOURCE_2  OWN_CAR_AGE  \\\n",
       "0                   0          112500.0      0.372591          NaN   \n",
       "1                   0          225000.0      0.449567          NaN   \n",
       "2                   0           54000.0      0.569503          NaN   \n",
       "3                   0           67500.0      0.105235          NaN   \n",
       "4                   0          157500.0      0.202490          NaN   \n",
       "\n",
       "        ORGANIZATION_TYPE  TARGET  \n",
       "0                  School       0  \n",
       "1                     XNA       0  \n",
       "2                  Postal       0  \n",
       "3                     XNA       0  \n",
       "4  Business Entity Type 3       1  "
      ]
     },
     "execution_count": 5,
     "metadata": {},
     "output_type": "execute_result"
    }
   ],
   "source": [
    "# NAME_CONTRACT_TYPEの数値化（Label Encoding）\n",
    "train1[\"NAME_CONTRACT_TYPE\"].replace({'Cash loans': 0, 'Revolving loans': 1}, inplace=True)\n",
    "test1[\"NAME_CONTRACT_TYPE\"].replace({'Cash loans': 0, 'Revolving loans': 1}, inplace=True)\n",
    "\n",
    "train1.head(5)"
   ]
  },
  {
   "cell_type": "code",
   "execution_count": 6,
   "id": "0bd8aff2",
   "metadata": {},
   "outputs": [
    {
     "data": {
      "text/html": [
       "<div>\n",
       "<style scoped>\n",
       "    .dataframe tbody tr th:only-of-type {\n",
       "        vertical-align: middle;\n",
       "    }\n",
       "\n",
       "    .dataframe tbody tr th {\n",
       "        vertical-align: top;\n",
       "    }\n",
       "\n",
       "    .dataframe thead th {\n",
       "        text-align: right;\n",
       "    }\n",
       "</style>\n",
       "<table border=\"1\" class=\"dataframe\">\n",
       "  <thead>\n",
       "    <tr style=\"text-align: right;\">\n",
       "      <th></th>\n",
       "      <th>NAME_CONTRACT_TYPE</th>\n",
       "      <th>AMT_INCOME_TOTAL</th>\n",
       "      <th>EXT_SOURCE_2</th>\n",
       "      <th>OWN_CAR_AGE</th>\n",
       "      <th>ORGANIZATION_TYPE</th>\n",
       "      <th>TARGET</th>\n",
       "    </tr>\n",
       "  </thead>\n",
       "  <tbody>\n",
       "    <tr>\n",
       "      <th>0</th>\n",
       "      <td>0</td>\n",
       "      <td>112500.0</td>\n",
       "      <td>0.372591</td>\n",
       "      <td>NaN</td>\n",
       "      <td>4991</td>\n",
       "      <td>0</td>\n",
       "    </tr>\n",
       "    <tr>\n",
       "      <th>1</th>\n",
       "      <td>0</td>\n",
       "      <td>225000.0</td>\n",
       "      <td>0.449567</td>\n",
       "      <td>NaN</td>\n",
       "      <td>30898</td>\n",
       "      <td>0</td>\n",
       "    </tr>\n",
       "    <tr>\n",
       "      <th>2</th>\n",
       "      <td>0</td>\n",
       "      <td>54000.0</td>\n",
       "      <td>0.569503</td>\n",
       "      <td>NaN</td>\n",
       "      <td>1185</td>\n",
       "      <td>0</td>\n",
       "    </tr>\n",
       "    <tr>\n",
       "      <th>3</th>\n",
       "      <td>0</td>\n",
       "      <td>67500.0</td>\n",
       "      <td>0.105235</td>\n",
       "      <td>NaN</td>\n",
       "      <td>30898</td>\n",
       "      <td>0</td>\n",
       "    </tr>\n",
       "    <tr>\n",
       "      <th>4</th>\n",
       "      <td>0</td>\n",
       "      <td>157500.0</td>\n",
       "      <td>0.202490</td>\n",
       "      <td>NaN</td>\n",
       "      <td>37943</td>\n",
       "      <td>1</td>\n",
       "    </tr>\n",
       "  </tbody>\n",
       "</table>\n",
       "</div>"
      ],
      "text/plain": [
       "   NAME_CONTRACT_TYPE  AMT_INCOME_TOTAL  EXT_SOURCE_2  OWN_CAR_AGE  \\\n",
       "0                   0          112500.0      0.372591          NaN   \n",
       "1                   0          225000.0      0.449567          NaN   \n",
       "2                   0           54000.0      0.569503          NaN   \n",
       "3                   0           67500.0      0.105235          NaN   \n",
       "4                   0          157500.0      0.202490          NaN   \n",
       "\n",
       "   ORGANIZATION_TYPE  TARGET  \n",
       "0               4991       0  \n",
       "1              30898       0  \n",
       "2               1185       0  \n",
       "3              30898       0  \n",
       "4              37943       1  "
      ]
     },
     "execution_count": 6,
     "metadata": {},
     "output_type": "execute_result"
    }
   ],
   "source": [
    "# ORGANIZATION_TYPEの数値化（Count Encoding）\n",
    "organization_ce = train1[\"ORGANIZATION_TYPE\"].value_counts()\n",
    "train1[\"ORGANIZATION_TYPE\"] = train1[\"ORGANIZATION_TYPE\"].map(organization_ce)\n",
    "test1[\"ORGANIZATION_TYPE\"] = test1[\"ORGANIZATION_TYPE\"].map(organization_ce)\n",
    "\n",
    "train1.head(5)"
   ]
  },
  {
   "cell_type": "code",
   "execution_count": 7,
   "id": "4ba9f9b2",
   "metadata": {},
   "outputs": [],
   "source": [
    "# OWN_CAR_AGEの60以上の値（外れ値）を欠損値扱いする\n",
    "train1.loc[train1[\"OWN_CAR_AGE\"] >= 60, \"OWN_CAR_AGE\"] = np.nan\n",
    "test1.loc[test1[\"OWN_CAR_AGE\"] >= 60, \"OWN_CAR_AGE\"] = np.nan"
   ]
  },
  {
   "cell_type": "code",
   "execution_count": 8,
   "id": "93d52e08",
   "metadata": {},
   "outputs": [
    {
     "data": {
      "text/plain": [
       "array([nan,  0.,  2.,  1.,  3.,  4.,  5.])"
      ]
     },
     "execution_count": 8,
     "metadata": {},
     "output_type": "execute_result"
    }
   ],
   "source": [
    "# OWN_CAR_AGEをグループ分け\n",
    "train1[\"OWN_CAR_AGE\"] = train1[\"OWN_CAR_AGE\"] // 10\n",
    "test1[\"OWN_CAR_AGE\"] = test1[\"OWN_CAR_AGE\"] // 10\n",
    "\n",
    "train1[\"OWN_CAR_AGE\"].unique()"
   ]
  },
  {
   "cell_type": "code",
   "execution_count": 9,
   "id": "243e6581",
   "metadata": {
    "scrolled": true
   },
   "outputs": [
    {
     "data": {
      "text/html": [
       "<div>\n",
       "<style scoped>\n",
       "    .dataframe tbody tr th:only-of-type {\n",
       "        vertical-align: middle;\n",
       "    }\n",
       "\n",
       "    .dataframe tbody tr th {\n",
       "        vertical-align: top;\n",
       "    }\n",
       "\n",
       "    .dataframe thead th {\n",
       "        text-align: right;\n",
       "    }\n",
       "</style>\n",
       "<table border=\"1\" class=\"dataframe\">\n",
       "  <thead>\n",
       "    <tr style=\"text-align: right;\">\n",
       "      <th></th>\n",
       "      <th>NAME_CONTRACT_TYPE</th>\n",
       "      <th>AMT_INCOME_TOTAL</th>\n",
       "      <th>EXT_SOURCE_2</th>\n",
       "      <th>ORGANIZATION_TYPE</th>\n",
       "      <th>TARGET</th>\n",
       "      <th>OWN_CAR_AGE_0.0</th>\n",
       "      <th>OWN_CAR_AGE_1.0</th>\n",
       "      <th>OWN_CAR_AGE_2.0</th>\n",
       "      <th>OWN_CAR_AGE_3.0</th>\n",
       "      <th>OWN_CAR_AGE_4.0</th>\n",
       "      <th>OWN_CAR_AGE_5.0</th>\n",
       "    </tr>\n",
       "  </thead>\n",
       "  <tbody>\n",
       "    <tr>\n",
       "      <th>0</th>\n",
       "      <td>0</td>\n",
       "      <td>112500.0</td>\n",
       "      <td>0.372591</td>\n",
       "      <td>4991</td>\n",
       "      <td>0</td>\n",
       "      <td>0</td>\n",
       "      <td>0</td>\n",
       "      <td>0</td>\n",
       "      <td>0</td>\n",
       "      <td>0</td>\n",
       "      <td>0</td>\n",
       "    </tr>\n",
       "    <tr>\n",
       "      <th>1</th>\n",
       "      <td>0</td>\n",
       "      <td>225000.0</td>\n",
       "      <td>0.449567</td>\n",
       "      <td>30898</td>\n",
       "      <td>0</td>\n",
       "      <td>0</td>\n",
       "      <td>0</td>\n",
       "      <td>0</td>\n",
       "      <td>0</td>\n",
       "      <td>0</td>\n",
       "      <td>0</td>\n",
       "    </tr>\n",
       "    <tr>\n",
       "      <th>2</th>\n",
       "      <td>0</td>\n",
       "      <td>54000.0</td>\n",
       "      <td>0.569503</td>\n",
       "      <td>1185</td>\n",
       "      <td>0</td>\n",
       "      <td>0</td>\n",
       "      <td>0</td>\n",
       "      <td>0</td>\n",
       "      <td>0</td>\n",
       "      <td>0</td>\n",
       "      <td>0</td>\n",
       "    </tr>\n",
       "    <tr>\n",
       "      <th>3</th>\n",
       "      <td>0</td>\n",
       "      <td>67500.0</td>\n",
       "      <td>0.105235</td>\n",
       "      <td>30898</td>\n",
       "      <td>0</td>\n",
       "      <td>0</td>\n",
       "      <td>0</td>\n",
       "      <td>0</td>\n",
       "      <td>0</td>\n",
       "      <td>0</td>\n",
       "      <td>0</td>\n",
       "    </tr>\n",
       "    <tr>\n",
       "      <th>4</th>\n",
       "      <td>0</td>\n",
       "      <td>157500.0</td>\n",
       "      <td>0.202490</td>\n",
       "      <td>37943</td>\n",
       "      <td>1</td>\n",
       "      <td>0</td>\n",
       "      <td>0</td>\n",
       "      <td>0</td>\n",
       "      <td>0</td>\n",
       "      <td>0</td>\n",
       "      <td>0</td>\n",
       "    </tr>\n",
       "  </tbody>\n",
       "</table>\n",
       "</div>"
      ],
      "text/plain": [
       "   NAME_CONTRACT_TYPE  AMT_INCOME_TOTAL  EXT_SOURCE_2  ORGANIZATION_TYPE  \\\n",
       "0                   0          112500.0      0.372591               4991   \n",
       "1                   0          225000.0      0.449567              30898   \n",
       "2                   0           54000.0      0.569503               1185   \n",
       "3                   0           67500.0      0.105235              30898   \n",
       "4                   0          157500.0      0.202490              37943   \n",
       "\n",
       "   TARGET  OWN_CAR_AGE_0.0  OWN_CAR_AGE_1.0  OWN_CAR_AGE_2.0  OWN_CAR_AGE_3.0  \\\n",
       "0       0                0                0                0                0   \n",
       "1       0                0                0                0                0   \n",
       "2       0                0                0                0                0   \n",
       "3       0                0                0                0                0   \n",
       "4       1                0                0                0                0   \n",
       "\n",
       "   OWN_CAR_AGE_4.0  OWN_CAR_AGE_5.0  \n",
       "0                0                0  \n",
       "1                0                0  \n",
       "2                0                0  \n",
       "3                0                0  \n",
       "4                0                0  "
      ]
     },
     "execution_count": 9,
     "metadata": {},
     "output_type": "execute_result"
    }
   ],
   "source": [
    "# OWN_CAR_AGEをOne Hot Encoding\n",
    "train_car_age_ohe = pd.get_dummies(train1[\"OWN_CAR_AGE\"]).add_prefix(\"OWN_CAR_AGE_\")\n",
    "test_car_age_ohe = pd.get_dummies(test1[\"OWN_CAR_AGE\"]).add_prefix(\"OWN_CAR_AGE_\")\n",
    "\n",
    "train1 = pd.concat([train1, train_car_age_ohe], axis=1)\n",
    "test1 = pd.concat([test1, test_car_age_ohe], axis=1)\n",
    "\n",
    "train1.drop('OWN_CAR_AGE', axis=1, inplace=True)\n",
    "test1.drop('OWN_CAR_AGE', axis=1, inplace=True)\n",
    "\n",
    "train1.head(5)"
   ]
  },
  {
   "cell_type": "markdown",
   "id": "96474812",
   "metadata": {},
   "source": [
    "## 自己的1"
   ]
  },
  {
   "cell_type": "code",
   "execution_count": 25,
   "id": "0280c8f5",
   "metadata": {},
   "outputs": [],
   "source": [
    "#二つの特徴量に絞る\n",
    "features1 = ['CNT_CHILDREN', 'AMT_CREDIT']\n",
    "eda1 = train[features1]\n",
    "target = train['TARGET'].values\n",
    "eda1['TARGET'] = target\n",
    "eda1_test = test[features1]"
   ]
  },
  {
   "cell_type": "code",
   "execution_count": 26,
   "id": "e6e2c8d9",
   "metadata": {},
   "outputs": [
    {
     "name": "stdout",
     "output_type": "stream",
     "text": [
      "eda1 shape: (171202, 3)\n"
     ]
    },
    {
     "data": {
      "text/html": [
       "<div>\n",
       "<style scoped>\n",
       "    .dataframe tbody tr th:only-of-type {\n",
       "        vertical-align: middle;\n",
       "    }\n",
       "\n",
       "    .dataframe tbody tr th {\n",
       "        vertical-align: top;\n",
       "    }\n",
       "\n",
       "    .dataframe thead th {\n",
       "        text-align: right;\n",
       "    }\n",
       "</style>\n",
       "<table border=\"1\" class=\"dataframe\">\n",
       "  <thead>\n",
       "    <tr style=\"text-align: right;\">\n",
       "      <th></th>\n",
       "      <th>CNT_CHILDREN</th>\n",
       "      <th>AMT_CREDIT</th>\n",
       "      <th>TARGET</th>\n",
       "    </tr>\n",
       "  </thead>\n",
       "  <tbody>\n",
       "    <tr>\n",
       "      <th>0</th>\n",
       "      <td>0</td>\n",
       "      <td>755190.0</td>\n",
       "      <td>0</td>\n",
       "    </tr>\n",
       "    <tr>\n",
       "      <th>1</th>\n",
       "      <td>0</td>\n",
       "      <td>585000.0</td>\n",
       "      <td>0</td>\n",
       "    </tr>\n",
       "    <tr>\n",
       "      <th>2</th>\n",
       "      <td>0</td>\n",
       "      <td>334152.0</td>\n",
       "      <td>0</td>\n",
       "    </tr>\n",
       "  </tbody>\n",
       "</table>\n",
       "</div>"
      ],
      "text/plain": [
       "   CNT_CHILDREN  AMT_CREDIT  TARGET\n",
       "0             0    755190.0       0\n",
       "1             0    585000.0       0\n",
       "2             0    334152.0       0"
      ]
     },
     "execution_count": 26,
     "metadata": {},
     "output_type": "execute_result"
    }
   ],
   "source": [
    "#trainデータの確認\n",
    "print(f'eda1 shape: {eda1.shape}')\n",
    "eda1.head(3)"
   ]
  },
  {
   "cell_type": "code",
   "execution_count": 12,
   "id": "cec979f6",
   "metadata": {},
   "outputs": [
    {
     "data": {
      "text/plain": [
       "CNT_CHILDREN    0\n",
       "AMT_CREDIT      0\n",
       "TARGET          0\n",
       "dtype: int64"
      ]
     },
     "execution_count": 12,
     "metadata": {},
     "output_type": "execute_result"
    }
   ],
   "source": [
    "eda1.isnull().sum()"
   ]
  },
  {
   "cell_type": "code",
   "execution_count": 13,
   "id": "1beec653",
   "metadata": {},
   "outputs": [
    {
     "data": {
      "text/plain": [
       "CNT_CHILDREN    0\n",
       "AMT_CREDIT      0\n",
       "dtype: int64"
      ]
     },
     "execution_count": 13,
     "metadata": {},
     "output_type": "execute_result"
    }
   ],
   "source": [
    "eda1_test.isnull().sum()"
   ]
  },
  {
   "cell_type": "code",
   "execution_count": 14,
   "id": "394ea9ab",
   "metadata": {},
   "outputs": [
    {
     "data": {
      "image/png": "[encoded data removed]",
      "text/plain": [
       "<Figure size 432x288 with 1 Axes>"
      ]
     },
     "metadata": {
      "needs_background": "light"
     },
     "output_type": "display_data"
    }
   ],
   "source": [
    "#可視化\n",
    "#CNT_CHILDREN\n",
    "sns.countplot(data = eda1, x = 'CNT_CHILDREN')\n",
    "plt.show()"
   ]
  },
  {
   "cell_type": "code",
   "execution_count": 15,
   "id": "1b816298",
   "metadata": {},
   "outputs": [
    {
     "data": {
      "text/plain": [
       "0     119950\n",
       "1      33975\n",
       "2      14932\n",
       "3       2049\n",
       "4        230\n",
       "5         40\n",
       "6         13\n",
       "7          5\n",
       "10         2\n",
       "8          2\n",
       "14         2\n",
       "9          1\n",
       "12         1\n",
       "Name: CNT_CHILDREN, dtype: int64"
      ]
     },
     "execution_count": 15,
     "metadata": {},
     "output_type": "execute_result"
    }
   ],
   "source": [
    "eda1['CNT_CHILDREN'].value_counts()"
   ]
  },
  {
   "cell_type": "code",
   "execution_count": 16,
   "id": "b3711453",
   "metadata": {},
   "outputs": [
    {
     "data": {
      "image/png": "[encoded data removed]",
      "text/plain": [
       "<Figure size 360x360 with 1 Axes>"
      ]
     },
     "metadata": {
      "needs_background": "light"
     },
     "output_type": "display_data"
    }
   ],
   "source": [
    "#AMT_CREDIT\n",
    "sns.displot(data = eda1, x = 'AMT_CREDIT')\n",
    "plt.show()"
   ]
  },
  {
   "cell_type": "code",
   "execution_count": 17,
   "id": "47792608",
   "metadata": {},
   "outputs": [
    {
     "data": {
      "text/plain": [
       "<function matplotlib.pyplot.show(close=None, block=None)>"
      ]
     },
     "execution_count": 17,
     "metadata": {},
     "output_type": "execute_result"
    },
    {
     "data": {
      "image/png": "[encoded data removed]",
      "text/plain": [
       "<Figure size 360x360 with 1 Axes>"
      ]
     },
     "metadata": {
      "needs_background": "light"
     },
     "output_type": "display_data"
    }
   ],
   "source": [
    "sns.displot(data = eda1, x = 'AMT_CREDIT', log_scale = 10)\n",
    "plt.show"
   ]
  },
  {
   "cell_type": "code",
   "execution_count": 18,
   "id": "a0bc51d8",
   "metadata": {},
   "outputs": [
    {
     "data": {
      "text/plain": [
       "4796"
      ]
     },
     "execution_count": 18,
     "metadata": {},
     "output_type": "execute_result"
    }
   ],
   "source": [
    "len(eda1['AMT_CREDIT'].unique())"
   ]
  },
  {
   "cell_type": "code",
   "execution_count": 19,
   "id": "ce86e950",
   "metadata": {
    "scrolled": true
   },
   "outputs": [
    {
     "data": {
      "text/plain": [
       "450000.0     5355\n",
       "675000.0     4883\n",
       "225000.0     4554\n",
       "270000.0     4026\n",
       "180000.0     4026\n",
       "900000.0     3373\n",
       "254700.0     2520\n",
       "545040.0     2487\n",
       "808650.0     2337\n",
       "135000.0     2070\n",
       "755190.0     1967\n",
       "1125000.0    1960\n",
       "521280.0     1769\n",
       "284400.0     1731\n",
       "1078200.0    1583\n",
       "454500.0     1520\n",
       "1288350.0    1423\n",
       "269550.0     1357\n",
       "781920.0     1300\n",
       "1350000.0    1287\n",
       "Name: AMT_CREDIT, dtype: int64"
      ]
     },
     "execution_count": 19,
     "metadata": {},
     "output_type": "execute_result"
    }
   ],
   "source": [
    "eda1['AMT_CREDIT'].value_counts().head(20)\n",
    "#そんなにキリがいいではないなぁ"
   ]
  },
  {
   "cell_type": "code",
   "execution_count": 27,
   "id": "786c680a",
   "metadata": {},
   "outputs": [],
   "source": [
    "#データの加工\n",
    "eda1.loc[eda1['CNT_CHILDREN'] >= 6, 'CNT_CHILDREN'] = 6\n",
    "eda1_test.loc[eda1_test['CNT_CHILDREN'] >= 6, 'CNT_CHILDREN'] = 6"
   ]
  },
  {
   "cell_type": "code",
   "execution_count": 21,
   "id": "a1ef3e3d",
   "metadata": {},
   "outputs": [
    {
     "data": {
      "text/plain": [
       "0    119950\n",
       "1     33975\n",
       "2     14932\n",
       "3      2049\n",
       "4       230\n",
       "5        40\n",
       "6        26\n",
       "Name: CNT_CHILDREN, dtype: int64"
      ]
     },
     "execution_count": 21,
     "metadata": {},
     "output_type": "execute_result"
    }
   ],
   "source": [
    "eda1['CNT_CHILDREN'].value_counts()"
   ]
  },
  {
   "cell_type": "code",
   "execution_count": 22,
   "id": "19b60471",
   "metadata": {},
   "outputs": [
    {
     "data": {
      "text/html": [
       "<div>\n",
       "<style scoped>\n",
       "    .dataframe tbody tr th:only-of-type {\n",
       "        vertical-align: middle;\n",
       "    }\n",
       "\n",
       "    .dataframe tbody tr th {\n",
       "        vertical-align: top;\n",
       "    }\n",
       "\n",
       "    .dataframe thead th {\n",
       "        text-align: right;\n",
       "    }\n",
       "</style>\n",
       "<table border=\"1\" class=\"dataframe\">\n",
       "  <thead>\n",
       "    <tr style=\"text-align: right;\">\n",
       "      <th></th>\n",
       "      <th>CNT_CHILDREN</th>\n",
       "      <th>AMT_CREDIT</th>\n",
       "      <th>TARGET</th>\n",
       "    </tr>\n",
       "  </thead>\n",
       "  <tbody>\n",
       "    <tr>\n",
       "      <th>0</th>\n",
       "      <td>0</td>\n",
       "      <td>755190.0</td>\n",
       "      <td>0</td>\n",
       "    </tr>\n",
       "    <tr>\n",
       "      <th>1</th>\n",
       "      <td>0</td>\n",
       "      <td>585000.0</td>\n",
       "      <td>0</td>\n",
       "    </tr>\n",
       "  </tbody>\n",
       "</table>\n",
       "</div>"
      ],
      "text/plain": [
       "   CNT_CHILDREN  AMT_CREDIT  TARGET\n",
       "0             0    755190.0       0\n",
       "1             0    585000.0       0"
      ]
     },
     "execution_count": 22,
     "metadata": {},
     "output_type": "execute_result"
    }
   ],
   "source": [
    "eda1.head(2)"
   ]
  },
  {
   "cell_type": "code",
   "execution_count": 23,
   "id": "86428dad",
   "metadata": {},
   "outputs": [
    {
     "data": {
      "text/html": [
       "<div>\n",
       "<style scoped>\n",
       "    .dataframe tbody tr th:only-of-type {\n",
       "        vertical-align: middle;\n",
       "    }\n",
       "\n",
       "    .dataframe tbody tr th {\n",
       "        vertical-align: top;\n",
       "    }\n",
       "\n",
       "    .dataframe thead th {\n",
       "        text-align: right;\n",
       "    }\n",
       "</style>\n",
       "<table border=\"1\" class=\"dataframe\">\n",
       "  <thead>\n",
       "    <tr style=\"text-align: right;\">\n",
       "      <th></th>\n",
       "      <th>AMT_CREDIT</th>\n",
       "      <th>TARGET</th>\n",
       "      <th>CNT_CHILDREN_0</th>\n",
       "      <th>CNT_CHILDREN_1</th>\n",
       "      <th>CNT_CHILDREN_2</th>\n",
       "      <th>CNT_CHILDREN_3</th>\n",
       "      <th>CNT_CHILDREN_4</th>\n",
       "      <th>CNT_CHILDREN_5</th>\n",
       "      <th>CNT_CHILDREN_6</th>\n",
       "    </tr>\n",
       "  </thead>\n",
       "  <tbody>\n",
       "    <tr>\n",
       "      <th>0</th>\n",
       "      <td>755190.0</td>\n",
       "      <td>0</td>\n",
       "      <td>1</td>\n",
       "      <td>0</td>\n",
       "      <td>0</td>\n",
       "      <td>0</td>\n",
       "      <td>0</td>\n",
       "      <td>0</td>\n",
       "      <td>0</td>\n",
       "    </tr>\n",
       "    <tr>\n",
       "      <th>1</th>\n",
       "      <td>585000.0</td>\n",
       "      <td>0</td>\n",
       "      <td>1</td>\n",
       "      <td>0</td>\n",
       "      <td>0</td>\n",
       "      <td>0</td>\n",
       "      <td>0</td>\n",
       "      <td>0</td>\n",
       "      <td>0</td>\n",
       "    </tr>\n",
       "    <tr>\n",
       "      <th>2</th>\n",
       "      <td>334152.0</td>\n",
       "      <td>0</td>\n",
       "      <td>1</td>\n",
       "      <td>0</td>\n",
       "      <td>0</td>\n",
       "      <td>0</td>\n",
       "      <td>0</td>\n",
       "      <td>0</td>\n",
       "      <td>0</td>\n",
       "    </tr>\n",
       "    <tr>\n",
       "      <th>3</th>\n",
       "      <td>152820.0</td>\n",
       "      <td>0</td>\n",
       "      <td>1</td>\n",
       "      <td>0</td>\n",
       "      <td>0</td>\n",
       "      <td>0</td>\n",
       "      <td>0</td>\n",
       "      <td>0</td>\n",
       "      <td>0</td>\n",
       "    </tr>\n",
       "    <tr>\n",
       "      <th>4</th>\n",
       "      <td>271066.5</td>\n",
       "      <td>1</td>\n",
       "      <td>1</td>\n",
       "      <td>0</td>\n",
       "      <td>0</td>\n",
       "      <td>0</td>\n",
       "      <td>0</td>\n",
       "      <td>0</td>\n",
       "      <td>0</td>\n",
       "    </tr>\n",
       "  </tbody>\n",
       "</table>\n",
       "</div>"
      ],
      "text/plain": [
       "   AMT_CREDIT  TARGET  CNT_CHILDREN_0  CNT_CHILDREN_1  CNT_CHILDREN_2  \\\n",
       "0    755190.0       0               1               0               0   \n",
       "1    585000.0       0               1               0               0   \n",
       "2    334152.0       0               1               0               0   \n",
       "3    152820.0       0               1               0               0   \n",
       "4    271066.5       1               1               0               0   \n",
       "\n",
       "   CNT_CHILDREN_3  CNT_CHILDREN_4  CNT_CHILDREN_5  CNT_CHILDREN_6  \n",
       "0               0               0               0               0  \n",
       "1               0               0               0               0  \n",
       "2               0               0               0               0  \n",
       "3               0               0               0               0  \n",
       "4               0               0               0               0  "
      ]
     },
     "execution_count": 23,
     "metadata": {},
     "output_type": "execute_result"
    }
   ],
   "source": [
    "eda1_CNT_CHILDREN_ohe = pd.get_dummies(eda1['CNT_CHILDREN']).add_prefix('CNT_CHILDREN_')\n",
    "eda1_test_CNT_CHILDREN_ohe = pd.get_dummies(eda1_test['CNT_CHILDREN']).add_prefix('CNT_CHILDREN_')\n",
    "\n",
    "eda1 = pd.concat([eda1, eda1_CNT_CHILDREN_ohe], axis = 1)\n",
    "eda1_test = pd.concat([eda1_test, eda1_test_CNT_CHILDREN_ohe], axis = 1)\n",
    "\n",
    "eda1.drop('CNT_CHILDREN', axis = 1, inplace = True)\n",
    "eda1_test.drop('CNT_CHILDREN', axis = 1, inplace = True)\n",
    "\n",
    "\n",
    "eda1.head(5)\n"
   ]
  },
  {
   "cell_type": "markdown",
   "id": "c15e1810",
   "metadata": {},
   "source": [
    "#データの加工\n",
    "eda1.loc[eda1['CNT_CHILDREN'] >= 6, 'CNT_CHILDREN'] = 6\n",
    "eda1_test.loc[eda1_test['CNT_CHILDREN'] >= 6, 'CNT_CHILDREN'] = 6\n",
    "eda1_CNT_CHILDREN_ohe = pd.get_dummies(eda1['CNT_CHILDREN']).add_prefix('CNT_CHILDREN_')\n",
    "eda1_test_CNT_CHILDREN_ohe = pd.get_dummies(eda1_test['CNT_CHILDREN']).add_prefix('CNT_CHILDREN_')\n",
    "\n",
    "eda1 = pd.concat([eda1, eda1_CNT_CHILDREN_ohe], axis = 1)\n",
    "eda1_test = pd.concat([eda1_test, eda1_test_CNT_CHILDREN_ohe], axis = 1)\n",
    "\n",
    "eda1.drop('CNT_CHILDREN', axis = 1, inplace = True)\n",
    "eda1_test.drop('CNT_CHILDREN', axis = 1, inplace = True)\n",
    "\n",
    "\n",
    "eda1.head(5)\n",
    "\n"
   ]
  },
  {
   "cell_type": "code",
   "execution_count": 28,
   "id": "4bd8aa68",
   "metadata": {},
   "outputs": [
    {
     "data": {
      "text/html": [
       "<div>\n",
       "<style scoped>\n",
       "    .dataframe tbody tr th:only-of-type {\n",
       "        vertical-align: middle;\n",
       "    }\n",
       "\n",
       "    .dataframe tbody tr th {\n",
       "        vertical-align: top;\n",
       "    }\n",
       "\n",
       "    .dataframe thead th {\n",
       "        text-align: right;\n",
       "    }\n",
       "</style>\n",
       "<table border=\"1\" class=\"dataframe\">\n",
       "  <thead>\n",
       "    <tr style=\"text-align: right;\">\n",
       "      <th></th>\n",
       "      <th>NAME_CONTRACT_TYPE</th>\n",
       "      <th>AMT_INCOME_TOTAL</th>\n",
       "      <th>EXT_SOURCE_2</th>\n",
       "      <th>ORGANIZATION_TYPE</th>\n",
       "      <th>TARGET</th>\n",
       "      <th>OWN_CAR_AGE_0.0</th>\n",
       "      <th>OWN_CAR_AGE_1.0</th>\n",
       "      <th>OWN_CAR_AGE_2.0</th>\n",
       "      <th>OWN_CAR_AGE_3.0</th>\n",
       "      <th>OWN_CAR_AGE_4.0</th>\n",
       "      <th>OWN_CAR_AGE_5.0</th>\n",
       "      <th>CNT_CHILDREN</th>\n",
       "      <th>AMT_CREDIT</th>\n",
       "    </tr>\n",
       "  </thead>\n",
       "  <tbody>\n",
       "    <tr>\n",
       "      <th>0</th>\n",
       "      <td>0</td>\n",
       "      <td>112500.0</td>\n",
       "      <td>0.372591</td>\n",
       "      <td>4991</td>\n",
       "      <td>0</td>\n",
       "      <td>0</td>\n",
       "      <td>0</td>\n",
       "      <td>0</td>\n",
       "      <td>0</td>\n",
       "      <td>0</td>\n",
       "      <td>0</td>\n",
       "      <td>0</td>\n",
       "      <td>755190.0</td>\n",
       "    </tr>\n",
       "    <tr>\n",
       "      <th>1</th>\n",
       "      <td>0</td>\n",
       "      <td>225000.0</td>\n",
       "      <td>0.449567</td>\n",
       "      <td>30898</td>\n",
       "      <td>0</td>\n",
       "      <td>0</td>\n",
       "      <td>0</td>\n",
       "      <td>0</td>\n",
       "      <td>0</td>\n",
       "      <td>0</td>\n",
       "      <td>0</td>\n",
       "      <td>0</td>\n",
       "      <td>585000.0</td>\n",
       "    </tr>\n",
       "    <tr>\n",
       "      <th>2</th>\n",
       "      <td>0</td>\n",
       "      <td>54000.0</td>\n",
       "      <td>0.569503</td>\n",
       "      <td>1185</td>\n",
       "      <td>0</td>\n",
       "      <td>0</td>\n",
       "      <td>0</td>\n",
       "      <td>0</td>\n",
       "      <td>0</td>\n",
       "      <td>0</td>\n",
       "      <td>0</td>\n",
       "      <td>0</td>\n",
       "      <td>334152.0</td>\n",
       "    </tr>\n",
       "    <tr>\n",
       "      <th>3</th>\n",
       "      <td>0</td>\n",
       "      <td>67500.0</td>\n",
       "      <td>0.105235</td>\n",
       "      <td>30898</td>\n",
       "      <td>0</td>\n",
       "      <td>0</td>\n",
       "      <td>0</td>\n",
       "      <td>0</td>\n",
       "      <td>0</td>\n",
       "      <td>0</td>\n",
       "      <td>0</td>\n",
       "      <td>0</td>\n",
       "      <td>152820.0</td>\n",
       "    </tr>\n",
       "  </tbody>\n",
       "</table>\n",
       "</div>"
      ],
      "text/plain": [
       "   NAME_CONTRACT_TYPE  AMT_INCOME_TOTAL  EXT_SOURCE_2  ORGANIZATION_TYPE  \\\n",
       "0                   0          112500.0      0.372591               4991   \n",
       "1                   0          225000.0      0.449567              30898   \n",
       "2                   0           54000.0      0.569503               1185   \n",
       "3                   0           67500.0      0.105235              30898   \n",
       "\n",
       "   TARGET  OWN_CAR_AGE_0.0  OWN_CAR_AGE_1.0  OWN_CAR_AGE_2.0  OWN_CAR_AGE_3.0  \\\n",
       "0       0                0                0                0                0   \n",
       "1       0                0                0                0                0   \n",
       "2       0                0                0                0                0   \n",
       "3       0                0                0                0                0   \n",
       "\n",
       "   OWN_CAR_AGE_4.0  OWN_CAR_AGE_5.0  CNT_CHILDREN  AMT_CREDIT  \n",
       "0                0                0             0    755190.0  \n",
       "1                0                0             0    585000.0  \n",
       "2                0                0             0    334152.0  \n",
       "3                0                0             0    152820.0  "
      ]
     },
     "execution_count": 28,
     "metadata": {},
     "output_type": "execute_result"
    }
   ],
   "source": [
    "eda1 = eda1.drop(\"TARGET\", axis = 1)\n",
    "eda1 = pd.concat([train1, eda1], axis = 1)\n",
    "eda1_test = pd.concat([test1, eda1_test], axis = 1)\n",
    "eda1.head(4)"
   ]
  },
  {
   "cell_type": "code",
   "execution_count": 73,
   "id": "8a2cd496",
   "metadata": {},
   "outputs": [],
   "source": [
    "#モデルの作成\n",
    "# ライブラリの読み込み\n",
    "from sklearn.model_selection import train_test_split\n",
    "from sklearn.preprocessing import StandardScaler\n",
    "from sklearn.metrics import roc_auc_score"
   ]
  },
  {
   "cell_type": "code",
   "execution_count": 46,
   "id": "96f88884",
   "metadata": {},
   "outputs": [],
   "source": [
    "# 目的変数と説明変数に分割\n",
    "X = eda1.drop(\"TARGET\", axis=1).values\n",
    "y = eda1[\"TARGET\"].values\n",
    "X_test = eda1_test.values"
   ]
  },
  {
   "cell_type": "code",
   "execution_count": 42,
   "id": "e35461ee",
   "metadata": {},
   "outputs": [
    {
     "data": {
      "text/html": [
       "<div>\n",
       "<style scoped>\n",
       "    .dataframe tbody tr th:only-of-type {\n",
       "        vertical-align: middle;\n",
       "    }\n",
       "\n",
       "    .dataframe tbody tr th {\n",
       "        vertical-align: top;\n",
       "    }\n",
       "\n",
       "    .dataframe thead th {\n",
       "        text-align: right;\n",
       "    }\n",
       "</style>\n",
       "<table border=\"1\" class=\"dataframe\">\n",
       "  <thead>\n",
       "    <tr style=\"text-align: right;\">\n",
       "      <th></th>\n",
       "      <th>TARGET</th>\n",
       "      <th>TARGET</th>\n",
       "    </tr>\n",
       "  </thead>\n",
       "  <tbody>\n",
       "    <tr>\n",
       "      <th>0</th>\n",
       "      <td>0</td>\n",
       "      <td>0</td>\n",
       "    </tr>\n",
       "    <tr>\n",
       "      <th>1</th>\n",
       "      <td>0</td>\n",
       "      <td>0</td>\n",
       "    </tr>\n",
       "    <tr>\n",
       "      <th>2</th>\n",
       "      <td>0</td>\n",
       "      <td>0</td>\n",
       "    </tr>\n",
       "    <tr>\n",
       "      <th>3</th>\n",
       "      <td>0</td>\n",
       "      <td>0</td>\n",
       "    </tr>\n",
       "    <tr>\n",
       "      <th>4</th>\n",
       "      <td>1</td>\n",
       "      <td>1</td>\n",
       "    </tr>\n",
       "    <tr>\n",
       "      <th>...</th>\n",
       "      <td>...</td>\n",
       "      <td>...</td>\n",
       "    </tr>\n",
       "    <tr>\n",
       "      <th>171197</th>\n",
       "      <td>0</td>\n",
       "      <td>0</td>\n",
       "    </tr>\n",
       "    <tr>\n",
       "      <th>171198</th>\n",
       "      <td>0</td>\n",
       "      <td>0</td>\n",
       "    </tr>\n",
       "    <tr>\n",
       "      <th>171199</th>\n",
       "      <td>0</td>\n",
       "      <td>0</td>\n",
       "    </tr>\n",
       "    <tr>\n",
       "      <th>171200</th>\n",
       "      <td>0</td>\n",
       "      <td>0</td>\n",
       "    </tr>\n",
       "    <tr>\n",
       "      <th>171201</th>\n",
       "      <td>0</td>\n",
       "      <td>0</td>\n",
       "    </tr>\n",
       "  </tbody>\n",
       "</table>\n",
       "<p>171202 rows × 2 columns</p>\n",
       "</div>"
      ],
      "text/plain": [
       "        TARGET  TARGET\n",
       "0            0       0\n",
       "1            0       0\n",
       "2            0       0\n",
       "3            0       0\n",
       "4            1       1\n",
       "...        ...     ...\n",
       "171197       0       0\n",
       "171198       0       0\n",
       "171199       0       0\n",
       "171200       0       0\n",
       "171201       0       0\n",
       "\n",
       "[171202 rows x 2 columns]"
      ]
     },
     "execution_count": 42,
     "metadata": {},
     "output_type": "execute_result"
    }
   ],
   "source": []
  },
  {
   "cell_type": "code",
   "execution_count": 47,
   "id": "77dabc49",
   "metadata": {},
   "outputs": [],
   "source": [
    "# 標準化\n",
    "sc = StandardScaler()\n",
    "sc.fit(X)\n",
    "X_std = sc.transform(X)\n",
    "X_test_std = sc.transform(X_test)"
   ]
  },
  {
   "cell_type": "code",
   "execution_count": 48,
   "id": "f6061f79",
   "metadata": {},
   "outputs": [],
   "source": [
    "# 訓練データと評価データに分割\n",
    "X_train, X_valid, y_train, y_valid = train_test_split(X_std, y, test_size=0.3, stratify=y, random_state=0)"
   ]
  },
  {
   "cell_type": "code",
   "execution_count": 50,
   "id": "1c877e45",
   "metadata": {},
   "outputs": [
    {
     "name": "stdout",
     "output_type": "stream",
     "text": [
      "Train Score: 0.6637664298101044\n",
      "Valid Score: 0.6660380211040023\n"
     ]
    }
   ],
   "source": [
    "#LogisticRegression\n",
    "from sklearn.linear_model import LogisticRegression\n",
    "\n",
    "lr = LogisticRegression(random_state = 1)\n",
    "lr.fit(X_train, y_train)\n",
    "\n",
    "lr_train_pred = lr.predict_proba(X_train)[:, 1]\n",
    "lr_valid_pred = lr.predict_proba(X_valid)[:, 1]\n",
    "print(f'Train Score: {roc_auc_score(y_train, lr_train_pred)}')\n",
    "print(f'Valid Score: {roc_auc_score(y_valid, lr_valid_pred)}')\n"
   ]
  },
  {
   "cell_type": "code",
   "execution_count": 53,
   "id": "87b71c82",
   "metadata": {},
   "outputs": [
    {
     "name": "stdout",
     "output_type": "stream",
     "text": [
      "Train Score: 0.6896907166779229\n",
      "Test Score: 0.6732736608035244\n"
     ]
    }
   ],
   "source": [
    "#MLPClassifier\n",
    "from sklearn.neural_network import MLPClassifier\n",
    "\n",
    "mlp = MLPClassifier(random_state = 1)\n",
    "mlp.fit(X_train, y_train)\n",
    "\n",
    "mlp_train_pred = mlp.predict_proba(X_train)[:, 1]\n",
    "mlp_valid_pred = mlp.predict_proba(X_valid)[:, 1]\n",
    "print(f\"Train Score: {roc_auc_score(y_train, mlp_train_pred)}\")\n",
    "print(f\"Test Score: {roc_auc_score(y_valid, mlp_valid_pred)}\")\n",
    "\n"
   ]
  },
  {
   "cell_type": "code",
   "execution_count": 56,
   "id": "16e9c8d8",
   "metadata": {},
   "outputs": [
    {
     "name": "stdout",
     "output_type": "stream",
     "text": [
      "Train Score: 0.7893620292346232\n",
      "Valid Score: 0.6747356482562066\n"
     ]
    }
   ],
   "source": [
    "# XGBClassifier\n",
    "from xgboost import XGBClassifier\n",
    "\n",
    "xgb = XGBClassifier(random_state= 1)\n",
    "xgb.fit(X_train, y_train)\n",
    "\n",
    "xgb_train_pred = xgb.predict_proba(X_train)[:, 1]\n",
    "xgb_valid_pred = xgb.predict_proba(X_valid)[:, 1]\n",
    "print(f\"Train Score: {roc_auc_score(y_train, xgb_train_pred)}\")\n",
    "print(f\"Valid Score: {roc_auc_score(y_valid, xgb_valid_pred)}\")"
   ]
  },
  {
   "cell_type": "code",
   "execution_count": 54,
   "id": "5a549ea6",
   "metadata": {
    "scrolled": true
   },
   "outputs": [
    {
     "name": "stdout",
     "output_type": "stream",
     "text": [
      "Train Score: 0.7451325767677539\n",
      "Valid Score: 0.6820313354471154\n"
     ]
    }
   ],
   "source": [
    "# LGBMClassfier\n",
    "from lightgbm import LGBMClassifier\n",
    "\n",
    "lgb = LGBMClassifier(random_state = 1)\n",
    "lgb.fit(X_train, y_train)\n",
    "\n",
    "lgb_train_pred = lgb.predict_proba(X_train)[:, 1]\n",
    "lgb_valid_pred = lgb.predict_proba(X_valid)[:, 1]\n",
    "print(f\"Train Score: {roc_auc_score(y_train, lgb_train_pred)}\")\n",
    "print(f\"Valid Score: {roc_auc_score(y_valid, lgb_valid_pred)}\")"
   ]
  },
  {
   "cell_type": "code",
   "execution_count": 57,
   "id": "d10ba881",
   "metadata": {},
   "outputs": [
    {
     "name": "stdout",
     "output_type": "stream",
     "text": [
      "Train Score: 0.7463696941064416\n",
      "Valid Score: 0.6841515158434804\n"
     ]
    }
   ],
   "source": [
    "train_pred = (lr_train_pred + mlp_train_pred + lgb_train_pred + xgb_train_pred)/4\n",
    "valid_pred = (lr_valid_pred + mlp_valid_pred + lgb_valid_pred + xgb_valid_pred)/4\n",
    "\n",
    "print(f\"Train Score: {roc_auc_score(y_train, train_pred)}\")\n",
    "print(f\"Valid Score: {roc_auc_score(y_valid, valid_pred)}\")"
   ]
  },
  {
   "cell_type": "markdown",
   "id": "cf7ee3f3",
   "metadata": {},
   "source": [
    "## 自己的2"
   ]
  },
  {
   "cell_type": "code",
   "execution_count": 34,
   "id": "0d53923d",
   "metadata": {},
   "outputs": [],
   "source": [
    "#３つに絞る\n",
    "features2 = ['OCCUPATION_TYPE', 'AMT_GOODS_PRICE', 'NAME_EDUCATION_TYPE']\n",
    "eda2 = train[features2]\n",
    "\n",
    "eda2_test = test[features2]"
   ]
  },
  {
   "cell_type": "code",
   "execution_count": 35,
   "id": "47a83410",
   "metadata": {},
   "outputs": [
    {
     "name": "stdout",
     "output_type": "stream",
     "text": [
      "eda2 shape: (171202, 3)\n"
     ]
    },
    {
     "data": {
      "text/html": [
       "<div>\n",
       "<style scoped>\n",
       "    .dataframe tbody tr th:only-of-type {\n",
       "        vertical-align: middle;\n",
       "    }\n",
       "\n",
       "    .dataframe tbody tr th {\n",
       "        vertical-align: top;\n",
       "    }\n",
       "\n",
       "    .dataframe thead th {\n",
       "        text-align: right;\n",
       "    }\n",
       "</style>\n",
       "<table border=\"1\" class=\"dataframe\">\n",
       "  <thead>\n",
       "    <tr style=\"text-align: right;\">\n",
       "      <th></th>\n",
       "      <th>OCCUPATION_TYPE</th>\n",
       "      <th>AMT_GOODS_PRICE</th>\n",
       "      <th>NAME_EDUCATION_TYPE</th>\n",
       "    </tr>\n",
       "  </thead>\n",
       "  <tbody>\n",
       "    <tr>\n",
       "      <th>0</th>\n",
       "      <td>Core staff</td>\n",
       "      <td>675000.0</td>\n",
       "      <td>Higher education</td>\n",
       "    </tr>\n",
       "    <tr>\n",
       "      <th>1</th>\n",
       "      <td>NaN</td>\n",
       "      <td>585000.0</td>\n",
       "      <td>Secondary / secondary special</td>\n",
       "    </tr>\n",
       "    <tr>\n",
       "      <th>2</th>\n",
       "      <td>Core staff</td>\n",
       "      <td>270000.0</td>\n",
       "      <td>Secondary / secondary special</td>\n",
       "    </tr>\n",
       "  </tbody>\n",
       "</table>\n",
       "</div>"
      ],
      "text/plain": [
       "  OCCUPATION_TYPE  AMT_GOODS_PRICE            NAME_EDUCATION_TYPE\n",
       "0      Core staff         675000.0               Higher education\n",
       "1             NaN         585000.0  Secondary / secondary special\n",
       "2      Core staff         270000.0  Secondary / secondary special"
      ]
     },
     "execution_count": 35,
     "metadata": {},
     "output_type": "execute_result"
    }
   ],
   "source": [
    "#trainデータの確認\n",
    "print(f'eda2 shape: {eda2.shape}')\n",
    "eda2.head(3)"
   ]
  },
  {
   "cell_type": "code",
   "execution_count": 46,
   "id": "881135de",
   "metadata": {},
   "outputs": [
    {
     "data": {
      "text/plain": [
       "OCCUPATION_TYPE        53745\n",
       "AMT_GOODS_PRICE          163\n",
       "NAME_EDUCATION_TYPE        0\n",
       "dtype: int64"
      ]
     },
     "execution_count": 46,
     "metadata": {},
     "output_type": "execute_result"
    }
   ],
   "source": [
    "eda2.isnull().sum()"
   ]
  },
  {
   "cell_type": "code",
   "execution_count": 47,
   "id": "c1774ea3",
   "metadata": {},
   "outputs": [
    {
     "data": {
      "image/png": "[encoded data removed]",
      "text/plain": [
       "<Figure size 432x288 with 1 Axes>"
      ]
     },
     "metadata": {
      "needs_background": "light"
     },
     "output_type": "display_data"
    }
   ],
   "source": [
    "#可視化\n",
    "#OCCUPATION_TYPE\n",
    "sns.countplot(data = eda2, x = 'OCCUPATION_TYPE')\n",
    "plt.show()"
   ]
  },
  {
   "cell_type": "code",
   "execution_count": 48,
   "id": "99daec50",
   "metadata": {},
   "outputs": [
    {
     "data": {
      "text/plain": [
       "19"
      ]
     },
     "execution_count": 48,
     "metadata": {},
     "output_type": "execute_result"
    }
   ],
   "source": [
    "len(eda2['OCCUPATION_TYPE'].unique())"
   ]
  },
  {
   "cell_type": "code",
   "execution_count": 49,
   "id": "f9b0ae5d",
   "metadata": {
    "scrolled": false
   },
   "outputs": [
    {
     "data": {
      "text/plain": [
       "Laborers                 30723\n",
       "Sales staff              17793\n",
       "Core staff               15271\n",
       "Managers                 11855\n",
       "Drivers                  10353\n",
       "High skill tech staff     6385\n",
       "Accountants               5506\n",
       "Medicine staff            4744\n",
       "Security staff            3752\n",
       "Cooking staff             3353\n",
       "Cleaning staff            2567\n",
       "Private service staff     1457\n",
       "Low-skill Laborers        1158\n",
       "Secretaries                762\n",
       "Waiters/barmen staff       747\n",
       "Realty agents              416\n",
       "HR staff                   309\n",
       "IT staff                   306\n",
       "Name: OCCUPATION_TYPE, dtype: int64"
      ]
     },
     "execution_count": 49,
     "metadata": {},
     "output_type": "execute_result"
    }
   ],
   "source": [
    "eda2['OCCUPATION_TYPE'].value_counts()"
   ]
  },
  {
   "cell_type": "code",
   "execution_count": 50,
   "id": "05bec339",
   "metadata": {},
   "outputs": [
    {
     "data": {
      "image/png": "[encoded data removed]",
      "text/plain": [
       "<Figure size 432x288 with 1 Axes>"
      ]
     },
     "metadata": {
      "needs_background": "light"
     },
     "output_type": "display_data"
    },
    {
     "data": {
      "image/png": "[encoded data removed]",
      "text/plain": [
       "<Figure size 360x360 with 1 Axes>"
      ]
     },
     "metadata": {
      "needs_background": "light"
     },
     "output_type": "display_data"
    }
   ],
   "source": [
    "#可視化\n",
    "#OCCUPATION_TYPE\n",
    "sns.boxplot(data = eda2, x = 'AMT_GOODS_PRICE')\n",
    "sns.displot(data = eda2, x = 'AMT_GOODS_PRICE')\n",
    "plt.show()"
   ]
  },
  {
   "cell_type": "code",
   "execution_count": 51,
   "id": "cc09ed3d",
   "metadata": {},
   "outputs": [
    {
     "data": {
      "text/plain": [
       "756"
      ]
     },
     "execution_count": 51,
     "metadata": {},
     "output_type": "execute_result"
    }
   ],
   "source": [
    "len(eda2['AMT_GOODS_PRICE'].unique())"
   ]
  },
  {
   "cell_type": "code",
   "execution_count": 52,
   "id": "150fa099",
   "metadata": {
    "scrolled": true
   },
   "outputs": [
    {
     "data": {
      "text/plain": [
       "450000.0     14400\n",
       "225000.0     14066\n",
       "675000.0     13883\n",
       "900000.0      8479\n",
       "270000.0      6324\n",
       "180000.0      5561\n",
       "454500.0      5116\n",
       "1125000.0     5017\n",
       "135000.0      4649\n",
       "315000.0      2925\n",
       "1350000.0     2808\n",
       "679500.0      2699\n",
       "238500.0      2657\n",
       "360000.0      2552\n",
       "247500.0      2430\n",
       "463500.0      2176\n",
       "540000.0      2113\n",
       "495000.0      2002\n",
       "90000.0       1783\n",
       "202500.0      1742\n",
       "Name: AMT_GOODS_PRICE, dtype: int64"
      ]
     },
     "execution_count": 52,
     "metadata": {},
     "output_type": "execute_result"
    }
   ],
   "source": [
    "eda2['AMT_GOODS_PRICE'].value_counts().head(20)\n",
    "#キリがいいなぁ"
   ]
  },
  {
   "cell_type": "code",
   "execution_count": 53,
   "id": "768b59a4",
   "metadata": {},
   "outputs": [
    {
     "name": "stdout",
     "output_type": "stream",
     "text": [
      "mean 538466.9265167593\n",
      "mode 0    450000.0\n",
      "dtype: float64\n"
     ]
    }
   ],
   "source": [
    "print(f'mean {eda2[\"AMT_GOODS_PRICE\"].mean()}')\n",
    "print(f'mode {eda2[\"AMT_GOODS_PRICE\"].mode()}')"
   ]
  },
  {
   "cell_type": "code",
   "execution_count": 54,
   "id": "040ea762",
   "metadata": {},
   "outputs": [
    {
     "data": {
      "image/png": "[encoded data removed]",
      "text/plain": [
       "<Figure size 432x288 with 1 Axes>"
      ]
     },
     "metadata": {
      "needs_background": "light"
     },
     "output_type": "display_data"
    }
   ],
   "source": [
    "#可視化\n",
    "#NAME_EDUCATION_TYPE\n",
    "sns.countplot(data = eda2, x = 'NAME_EDUCATION_TYPE')\n",
    "#sns.displot(data = eda2, x = 'AMT_GOODS_PRICE')\n",
    "plt.show()"
   ]
  },
  {
   "cell_type": "code",
   "execution_count": 55,
   "id": "c6ebc63b",
   "metadata": {},
   "outputs": [
    {
     "data": {
      "text/plain": [
       "Secondary / secondary special    121612\n",
       "Higher education                  41645\n",
       "Incomplete higher                  5711\n",
       "Lower secondary                    2133\n",
       "Academic degree                     101\n",
       "Name: NAME_EDUCATION_TYPE, dtype: int64"
      ]
     },
     "execution_count": 55,
     "metadata": {},
     "output_type": "execute_result"
    }
   ],
   "source": [
    "eda2['NAME_EDUCATION_TYPE'].value_counts()"
   ]
  },
  {
   "cell_type": "code",
   "execution_count": 36,
   "id": "45871154",
   "metadata": {},
   "outputs": [
    {
     "data": {
      "text/html": [
       "<div>\n",
       "<style scoped>\n",
       "    .dataframe tbody tr th:only-of-type {\n",
       "        vertical-align: middle;\n",
       "    }\n",
       "\n",
       "    .dataframe tbody tr th {\n",
       "        vertical-align: top;\n",
       "    }\n",
       "\n",
       "    .dataframe thead th {\n",
       "        text-align: right;\n",
       "    }\n",
       "</style>\n",
       "<table border=\"1\" class=\"dataframe\">\n",
       "  <thead>\n",
       "    <tr style=\"text-align: right;\">\n",
       "      <th></th>\n",
       "      <th>OCCUPATION_TYPE</th>\n",
       "      <th>AMT_GOODS_PRICE</th>\n",
       "      <th>NAME_EDUCATION_TYPEAcademic degree</th>\n",
       "      <th>NAME_EDUCATION_TYPEHigher education</th>\n",
       "      <th>NAME_EDUCATION_TYPEIncomplete higher</th>\n",
       "      <th>NAME_EDUCATION_TYPELower secondary</th>\n",
       "      <th>NAME_EDUCATION_TYPESecondary / secondary special</th>\n",
       "    </tr>\n",
       "  </thead>\n",
       "  <tbody>\n",
       "    <tr>\n",
       "      <th>0</th>\n",
       "      <td>Core staff</td>\n",
       "      <td>675000.0</td>\n",
       "      <td>0</td>\n",
       "      <td>1</td>\n",
       "      <td>0</td>\n",
       "      <td>0</td>\n",
       "      <td>0</td>\n",
       "    </tr>\n",
       "    <tr>\n",
       "      <th>1</th>\n",
       "      <td>NaN</td>\n",
       "      <td>585000.0</td>\n",
       "      <td>0</td>\n",
       "      <td>0</td>\n",
       "      <td>0</td>\n",
       "      <td>0</td>\n",
       "      <td>1</td>\n",
       "    </tr>\n",
       "    <tr>\n",
       "      <th>2</th>\n",
       "      <td>Core staff</td>\n",
       "      <td>270000.0</td>\n",
       "      <td>0</td>\n",
       "      <td>0</td>\n",
       "      <td>0</td>\n",
       "      <td>0</td>\n",
       "      <td>1</td>\n",
       "    </tr>\n",
       "    <tr>\n",
       "      <th>3</th>\n",
       "      <td>NaN</td>\n",
       "      <td>135000.0</td>\n",
       "      <td>0</td>\n",
       "      <td>0</td>\n",
       "      <td>0</td>\n",
       "      <td>1</td>\n",
       "      <td>0</td>\n",
       "    </tr>\n",
       "    <tr>\n",
       "      <th>4</th>\n",
       "      <td>Drivers</td>\n",
       "      <td>234000.0</td>\n",
       "      <td>0</td>\n",
       "      <td>0</td>\n",
       "      <td>0</td>\n",
       "      <td>0</td>\n",
       "      <td>1</td>\n",
       "    </tr>\n",
       "  </tbody>\n",
       "</table>\n",
       "</div>"
      ],
      "text/plain": [
       "  OCCUPATION_TYPE  AMT_GOODS_PRICE  NAME_EDUCATION_TYPEAcademic degree  \\\n",
       "0      Core staff         675000.0                                   0   \n",
       "1             NaN         585000.0                                   0   \n",
       "2      Core staff         270000.0                                   0   \n",
       "3             NaN         135000.0                                   0   \n",
       "4         Drivers         234000.0                                   0   \n",
       "\n",
       "   NAME_EDUCATION_TYPEHigher education  NAME_EDUCATION_TYPEIncomplete higher  \\\n",
       "0                                    1                                     0   \n",
       "1                                    0                                     0   \n",
       "2                                    0                                     0   \n",
       "3                                    0                                     0   \n",
       "4                                    0                                     0   \n",
       "\n",
       "   NAME_EDUCATION_TYPELower secondary  \\\n",
       "0                                   0   \n",
       "1                                   0   \n",
       "2                                   0   \n",
       "3                                   1   \n",
       "4                                   0   \n",
       "\n",
       "   NAME_EDUCATION_TYPESecondary / secondary special  \n",
       "0                                                 0  \n",
       "1                                                 1  \n",
       "2                                                 1  \n",
       "3                                                 0  \n",
       "4                                                 1  "
      ]
     },
     "execution_count": 36,
     "metadata": {},
     "output_type": "execute_result"
    }
   ],
   "source": [
    "#データの加工\n",
    "eda2_NAME_EDUCATION_TYPE_ohe = pd.get_dummies(eda2['NAME_EDUCATION_TYPE']).add_prefix('NAME_EDUCATION_TYPE')\n",
    "eda2_test_NAME_EDUCATION_TYPE_ohe = pd.get_dummies(eda2_test['NAME_EDUCATION_TYPE']).add_prefix('NAME_EDUCATION_TYPE')\n",
    "\n",
    "eda2 = pd.concat([eda2, eda2_NAME_EDUCATION_TYPE_ohe], axis = 1)\n",
    "eda2_test = pd.concat([eda2_test, eda2_test_NAME_EDUCATION_TYPE_ohe], axis = 1)\n",
    "\n",
    "eda2.drop('NAME_EDUCATION_TYPE', axis = 1, inplace = True)\n",
    "eda2_test.drop('NAME_EDUCATION_TYPE', axis = 1, inplace = True)\n",
    "\n",
    "\n",
    "eda2.head(5)\n",
    "\n"
   ]
  },
  {
   "cell_type": "code",
   "execution_count": 37,
   "id": "288549cb",
   "metadata": {},
   "outputs": [],
   "source": [
    "eda2 = eda2.fillna({'AMT_GOODS_PRICE': 450000.0, 'OCCUPATION_TYPE':'unknow'})\n",
    "eda2_test = eda2_test.fillna({'AMT_GOODS_PRICE': 450000.0, 'OCCUPATION_TYPE':'unknow'})\n",
    "\n",
    "\n",
    "            "
   ]
  },
  {
   "cell_type": "code",
   "execution_count": 33,
   "id": "07963152",
   "metadata": {
    "scrolled": true
   },
   "outputs": [
    {
     "data": {
      "text/plain": [
       "OCCUPATION_TYPE                                     0\n",
       "AMT_GOODS_PRICE                                     0\n",
       "NAME_EDUCATION_TYPEAcademic degree                  0\n",
       "NAME_EDUCATION_TYPEHigher education                 0\n",
       "NAME_EDUCATION_TYPEIncomplete higher                0\n",
       "NAME_EDUCATION_TYPELower secondary                  0\n",
       "NAME_EDUCATION_TYPESecondary / secondary special    0\n",
       "dtype: int64"
      ]
     },
     "execution_count": 33,
     "metadata": {},
     "output_type": "execute_result"
    }
   ],
   "source": [
    "eda2.isnull().sum()"
   ]
  },
  {
   "cell_type": "code",
   "execution_count": 38,
   "id": "1113b5e7",
   "metadata": {},
   "outputs": [
    {
     "data": {
      "text/html": [
       "<div>\n",
       "<style scoped>\n",
       "    .dataframe tbody tr th:only-of-type {\n",
       "        vertical-align: middle;\n",
       "    }\n",
       "\n",
       "    .dataframe tbody tr th {\n",
       "        vertical-align: top;\n",
       "    }\n",
       "\n",
       "    .dataframe thead th {\n",
       "        text-align: right;\n",
       "    }\n",
       "</style>\n",
       "<table border=\"1\" class=\"dataframe\">\n",
       "  <thead>\n",
       "    <tr style=\"text-align: right;\">\n",
       "      <th></th>\n",
       "      <th>AMT_GOODS_PRICE</th>\n",
       "      <th>NAME_EDUCATION_TYPEAcademic degree</th>\n",
       "      <th>NAME_EDUCATION_TYPEHigher education</th>\n",
       "      <th>NAME_EDUCATION_TYPEIncomplete higher</th>\n",
       "      <th>NAME_EDUCATION_TYPELower secondary</th>\n",
       "      <th>NAME_EDUCATION_TYPESecondary / secondary special</th>\n",
       "      <th>OCCUPATION_TYPEAccountants</th>\n",
       "      <th>OCCUPATION_TYPECleaning staff</th>\n",
       "      <th>OCCUPATION_TYPECooking staff</th>\n",
       "      <th>OCCUPATION_TYPECore staff</th>\n",
       "      <th>...</th>\n",
       "      <th>OCCUPATION_TYPELow-skill Laborers</th>\n",
       "      <th>OCCUPATION_TYPEManagers</th>\n",
       "      <th>OCCUPATION_TYPEMedicine staff</th>\n",
       "      <th>OCCUPATION_TYPEPrivate service staff</th>\n",
       "      <th>OCCUPATION_TYPERealty agents</th>\n",
       "      <th>OCCUPATION_TYPESales staff</th>\n",
       "      <th>OCCUPATION_TYPESecretaries</th>\n",
       "      <th>OCCUPATION_TYPESecurity staff</th>\n",
       "      <th>OCCUPATION_TYPEWaiters/barmen staff</th>\n",
       "      <th>OCCUPATION_TYPEunknow</th>\n",
       "    </tr>\n",
       "  </thead>\n",
       "  <tbody>\n",
       "    <tr>\n",
       "      <th>0</th>\n",
       "      <td>675000.0</td>\n",
       "      <td>0</td>\n",
       "      <td>1</td>\n",
       "      <td>0</td>\n",
       "      <td>0</td>\n",
       "      <td>0</td>\n",
       "      <td>0</td>\n",
       "      <td>0</td>\n",
       "      <td>0</td>\n",
       "      <td>1</td>\n",
       "      <td>...</td>\n",
       "      <td>0</td>\n",
       "      <td>0</td>\n",
       "      <td>0</td>\n",
       "      <td>0</td>\n",
       "      <td>0</td>\n",
       "      <td>0</td>\n",
       "      <td>0</td>\n",
       "      <td>0</td>\n",
       "      <td>0</td>\n",
       "      <td>0</td>\n",
       "    </tr>\n",
       "    <tr>\n",
       "      <th>1</th>\n",
       "      <td>585000.0</td>\n",
       "      <td>0</td>\n",
       "      <td>0</td>\n",
       "      <td>0</td>\n",
       "      <td>0</td>\n",
       "      <td>1</td>\n",
       "      <td>0</td>\n",
       "      <td>0</td>\n",
       "      <td>0</td>\n",
       "      <td>0</td>\n",
       "      <td>...</td>\n",
       "      <td>0</td>\n",
       "      <td>0</td>\n",
       "      <td>0</td>\n",
       "      <td>0</td>\n",
       "      <td>0</td>\n",
       "      <td>0</td>\n",
       "      <td>0</td>\n",
       "      <td>0</td>\n",
       "      <td>0</td>\n",
       "      <td>1</td>\n",
       "    </tr>\n",
       "    <tr>\n",
       "      <th>2</th>\n",
       "      <td>270000.0</td>\n",
       "      <td>0</td>\n",
       "      <td>0</td>\n",
       "      <td>0</td>\n",
       "      <td>0</td>\n",
       "      <td>1</td>\n",
       "      <td>0</td>\n",
       "      <td>0</td>\n",
       "      <td>0</td>\n",
       "      <td>1</td>\n",
       "      <td>...</td>\n",
       "      <td>0</td>\n",
       "      <td>0</td>\n",
       "      <td>0</td>\n",
       "      <td>0</td>\n",
       "      <td>0</td>\n",
       "      <td>0</td>\n",
       "      <td>0</td>\n",
       "      <td>0</td>\n",
       "      <td>0</td>\n",
       "      <td>0</td>\n",
       "    </tr>\n",
       "    <tr>\n",
       "      <th>3</th>\n",
       "      <td>135000.0</td>\n",
       "      <td>0</td>\n",
       "      <td>0</td>\n",
       "      <td>0</td>\n",
       "      <td>1</td>\n",
       "      <td>0</td>\n",
       "      <td>0</td>\n",
       "      <td>0</td>\n",
       "      <td>0</td>\n",
       "      <td>0</td>\n",
       "      <td>...</td>\n",
       "      <td>0</td>\n",
       "      <td>0</td>\n",
       "      <td>0</td>\n",
       "      <td>0</td>\n",
       "      <td>0</td>\n",
       "      <td>0</td>\n",
       "      <td>0</td>\n",
       "      <td>0</td>\n",
       "      <td>0</td>\n",
       "      <td>1</td>\n",
       "    </tr>\n",
       "    <tr>\n",
       "      <th>4</th>\n",
       "      <td>234000.0</td>\n",
       "      <td>0</td>\n",
       "      <td>0</td>\n",
       "      <td>0</td>\n",
       "      <td>0</td>\n",
       "      <td>1</td>\n",
       "      <td>0</td>\n",
       "      <td>0</td>\n",
       "      <td>0</td>\n",
       "      <td>0</td>\n",
       "      <td>...</td>\n",
       "      <td>0</td>\n",
       "      <td>0</td>\n",
       "      <td>0</td>\n",
       "      <td>0</td>\n",
       "      <td>0</td>\n",
       "      <td>0</td>\n",
       "      <td>0</td>\n",
       "      <td>0</td>\n",
       "      <td>0</td>\n",
       "      <td>0</td>\n",
       "    </tr>\n",
       "  </tbody>\n",
       "</table>\n",
       "<p>5 rows × 25 columns</p>\n",
       "</div>"
      ],
      "text/plain": [
       "   AMT_GOODS_PRICE  NAME_EDUCATION_TYPEAcademic degree  \\\n",
       "0         675000.0                                   0   \n",
       "1         585000.0                                   0   \n",
       "2         270000.0                                   0   \n",
       "3         135000.0                                   0   \n",
       "4         234000.0                                   0   \n",
       "\n",
       "   NAME_EDUCATION_TYPEHigher education  NAME_EDUCATION_TYPEIncomplete higher  \\\n",
       "0                                    1                                     0   \n",
       "1                                    0                                     0   \n",
       "2                                    0                                     0   \n",
       "3                                    0                                     0   \n",
       "4                                    0                                     0   \n",
       "\n",
       "   NAME_EDUCATION_TYPELower secondary  \\\n",
       "0                                   0   \n",
       "1                                   0   \n",
       "2                                   0   \n",
       "3                                   1   \n",
       "4                                   0   \n",
       "\n",
       "   NAME_EDUCATION_TYPESecondary / secondary special  \\\n",
       "0                                                 0   \n",
       "1                                                 1   \n",
       "2                                                 1   \n",
       "3                                                 0   \n",
       "4                                                 1   \n",
       "\n",
       "   OCCUPATION_TYPEAccountants  OCCUPATION_TYPECleaning staff  \\\n",
       "0                           0                              0   \n",
       "1                           0                              0   \n",
       "2                           0                              0   \n",
       "3                           0                              0   \n",
       "4                           0                              0   \n",
       "\n",
       "   OCCUPATION_TYPECooking staff  OCCUPATION_TYPECore staff  ...  \\\n",
       "0                             0                          1  ...   \n",
       "1                             0                          0  ...   \n",
       "2                             0                          1  ...   \n",
       "3                             0                          0  ...   \n",
       "4                             0                          0  ...   \n",
       "\n",
       "   OCCUPATION_TYPELow-skill Laborers  OCCUPATION_TYPEManagers  \\\n",
       "0                                  0                        0   \n",
       "1                                  0                        0   \n",
       "2                                  0                        0   \n",
       "3                                  0                        0   \n",
       "4                                  0                        0   \n",
       "\n",
       "   OCCUPATION_TYPEMedicine staff  OCCUPATION_TYPEPrivate service staff  \\\n",
       "0                              0                                     0   \n",
       "1                              0                                     0   \n",
       "2                              0                                     0   \n",
       "3                              0                                     0   \n",
       "4                              0                                     0   \n",
       "\n",
       "   OCCUPATION_TYPERealty agents  OCCUPATION_TYPESales staff  \\\n",
       "0                             0                           0   \n",
       "1                             0                           0   \n",
       "2                             0                           0   \n",
       "3                             0                           0   \n",
       "4                             0                           0   \n",
       "\n",
       "   OCCUPATION_TYPESecretaries  OCCUPATION_TYPESecurity staff  \\\n",
       "0                           0                              0   \n",
       "1                           0                              0   \n",
       "2                           0                              0   \n",
       "3                           0                              0   \n",
       "4                           0                              0   \n",
       "\n",
       "   OCCUPATION_TYPEWaiters/barmen staff  OCCUPATION_TYPEunknow  \n",
       "0                                    0                      0  \n",
       "1                                    0                      1  \n",
       "2                                    0                      0  \n",
       "3                                    0                      1  \n",
       "4                                    0                      0  \n",
       "\n",
       "[5 rows x 25 columns]"
      ]
     },
     "execution_count": 38,
     "metadata": {},
     "output_type": "execute_result"
    }
   ],
   "source": [
    "eda2_OCCUPATION_TYPE_ohe = pd.get_dummies(eda2['OCCUPATION_TYPE']).add_prefix('OCCUPATION_TYPE')\n",
    "eda2_test_OCCUPATION_TYPE_ohe = pd.get_dummies(eda2_test['OCCUPATION_TYPE']).add_prefix('OCCUPATION_TYPE')\n",
    "\n",
    "eda2 = pd.concat([eda2, eda2_OCCUPATION_TYPE_ohe], axis = 1)\n",
    "eda2_test = pd.concat([eda2_test, eda2_test_OCCUPATION_TYPE_ohe], axis = 1)\n",
    "\n",
    "eda2.drop('OCCUPATION_TYPE', axis = 1, inplace = True)\n",
    "eda2_test.drop('OCCUPATION_TYPE', axis = 1, inplace = True)\n",
    "\n",
    "\n",
    "eda2.head(5)\n",
    "\n"
   ]
  },
  {
   "cell_type": "code",
   "execution_count": 39,
   "id": "63060f00",
   "metadata": {},
   "outputs": [],
   "source": [
    "#最終２データ\n",
    "eda2 = pd.concat([eda1, eda2], axis = 1)\n",
    "eda2_test = pd.concat([eda1_test, eda2_test], axis = 1)"
   ]
  },
  {
   "cell_type": "code",
   "execution_count": 237,
   "id": "0cfa3028",
   "metadata": {},
   "outputs": [
    {
     "data": {
      "text/plain": [
       "NAME_CONTRACT_TYPE                                  0\n",
       "AMT_INCOME_TOTAL                                    0\n",
       "EXT_SOURCE_2                                        0\n",
       "ORGANIZATION_TYPE                                   0\n",
       "OWN_CAR_AGE_0.0                                     0\n",
       "OWN_CAR_AGE_1.0                                     0\n",
       "OWN_CAR_AGE_2.0                                     0\n",
       "OWN_CAR_AGE_3.0                                     0\n",
       "OWN_CAR_AGE_4.0                                     0\n",
       "OWN_CAR_AGE_5.0                                     0\n",
       "AMT_CREDIT                                          0\n",
       "CNT_CHILDREN_0                                      0\n",
       "CNT_CHILDREN_1                                      0\n",
       "CNT_CHILDREN_2                                      0\n",
       "CNT_CHILDREN_3                                      0\n",
       "CNT_CHILDREN_4                                      0\n",
       "CNT_CHILDREN_5                                      0\n",
       "CNT_CHILDREN_6                                      0\n",
       "NAME_CONTRACT_TYPE                                  0\n",
       "AMT_INCOME_TOTAL                                    0\n",
       "EXT_SOURCE_2                                        0\n",
       "ORGANIZATION_TYPE                                   0\n",
       "OWN_CAR_AGE_0.0                                     0\n",
       "OWN_CAR_AGE_1.0                                     0\n",
       "OWN_CAR_AGE_2.0                                     0\n",
       "OWN_CAR_AGE_3.0                                     0\n",
       "OWN_CAR_AGE_4.0                                     0\n",
       "OWN_CAR_AGE_5.0                                     0\n",
       "AMT_CREDIT                                          0\n",
       "CNT_CHILDREN_0                                      0\n",
       "CNT_CHILDREN_1                                      0\n",
       "CNT_CHILDREN_2                                      0\n",
       "CNT_CHILDREN_3                                      0\n",
       "CNT_CHILDREN_4                                      0\n",
       "CNT_CHILDREN_5                                      0\n",
       "CNT_CHILDREN_6                                      0\n",
       "AMT_GOODS_PRICE                                     0\n",
       "NAME_EDUCATION_TYPEAcademic degree                  0\n",
       "NAME_EDUCATION_TYPEHigher education                 0\n",
       "NAME_EDUCATION_TYPEIncomplete higher                0\n",
       "NAME_EDUCATION_TYPELower secondary                  0\n",
       "NAME_EDUCATION_TYPESecondary / secondary special    0\n",
       "OCCUPATION_TYPEAccountants                          0\n",
       "OCCUPATION_TYPECleaning staff                       0\n",
       "OCCUPATION_TYPECooking staff                        0\n",
       "OCCUPATION_TYPECore staff                           0\n",
       "OCCUPATION_TYPEDrivers                              0\n",
       "OCCUPATION_TYPEHR staff                             0\n",
       "OCCUPATION_TYPEHigh skill tech staff                0\n",
       "OCCUPATION_TYPEIT staff                             0\n",
       "OCCUPATION_TYPELaborers                             0\n",
       "OCCUPATION_TYPELow-skill Laborers                   0\n",
       "OCCUPATION_TYPEManagers                             0\n",
       "OCCUPATION_TYPEMedicine staff                       0\n",
       "OCCUPATION_TYPEPrivate service staff                0\n",
       "OCCUPATION_TYPERealty agents                        0\n",
       "OCCUPATION_TYPESales staff                          0\n",
       "OCCUPATION_TYPESecretaries                          0\n",
       "OCCUPATION_TYPESecurity staff                       0\n",
       "OCCUPATION_TYPEWaiters/barmen staff                 0\n",
       "dtype: int64"
      ]
     },
     "execution_count": 237,
     "metadata": {},
     "output_type": "execute_result"
    }
   ],
   "source": [
    "eda2_test.isnull().sum()"
   ]
  },
  {
   "cell_type": "code",
   "execution_count": 112,
   "id": "665cc475",
   "metadata": {},
   "outputs": [],
   "source": [
    "#モデルの作成\n",
    "# ライブラリの読み込み\n",
    "from sklearn.model_selection import train_test_split\n",
    "from sklearn.preprocessing import StandardScaler\n",
    "from sklearn.metrics import roc_auc_score"
   ]
  },
  {
   "cell_type": "code",
   "execution_count": 120,
   "id": "1f7e9444",
   "metadata": {},
   "outputs": [],
   "source": [
    "# 目的変数と説明変数に分割\n",
    "X = eda2.drop(\"TARGET\", axis=1).values\n",
    "y = eda2[\"TARGET\"].values\n",
    "X_test = eda2_test.values"
   ]
  },
  {
   "cell_type": "code",
   "execution_count": 121,
   "id": "56b666d4",
   "metadata": {},
   "outputs": [],
   "source": [
    "# 標準化\n",
    "sc = StandardScaler()\n",
    "sc.fit(X)\n",
    "X_std = sc.transform(X)\n",
    "X_test_std = sc.transform(X_test)"
   ]
  },
  {
   "cell_type": "code",
   "execution_count": 267,
   "id": "f5285777",
   "metadata": {},
   "outputs": [],
   "source": [
    "# 訓練データと評価データに分割\n",
    "X_train, X_valid, y_train, y_valid = train_test_split(X_std, y, test_size=0.3, stratify=y, random_state=1)"
   ]
  },
  {
   "cell_type": "code",
   "execution_count": 268,
   "id": "f56872df",
   "metadata": {},
   "outputs": [
    {
     "name": "stdout",
     "output_type": "stream",
     "text": [
      "Train Score: 0.6894148201344825\n",
      "Valid Score: 0.6850008523479465\n"
     ]
    }
   ],
   "source": [
    "#LogisticRegression\n",
    "from sklearn.linear_model import LogisticRegression\n",
    "\n",
    "lr = LogisticRegression(random_state = 1)\n",
    "lr.fit(X_train, y_train)\n",
    "\n",
    "lr_train_pred = lr.predict_proba(X_train)[:, 1]\n",
    "lr_valid_pred = lr.predict_proba(X_valid)[:, 1]\n",
    "print(f'Train Score: {roc_auc_score(y_train, lr_train_pred)}')\n",
    "print(f'Valid Score: {roc_auc_score(y_valid, lr_valid_pred)}')\n",
    "\n"
   ]
  },
  {
   "cell_type": "code",
   "execution_count": 269,
   "id": "db0fdc87",
   "metadata": {},
   "outputs": [
    {
     "name": "stdout",
     "output_type": "stream",
     "text": [
      "Train Score: 0.7076924468365122\n",
      "Test Score: 0.6761828390302717\n"
     ]
    }
   ],
   "source": [
    "#MLPClassifier\n",
    "from sklearn.neural_network import MLPClassifier\n",
    "\n",
    "mlp = MLPClassifier(random_state = 1)\n",
    "mlp.fit(X_train, y_train)\n",
    "\n",
    "mlp_train_pred = mlp.predict_proba(X_train)[:, 1]\n",
    "mlp_valid_pred = mlp.predict_proba(X_valid)[:, 1]\n",
    "print(f\"Train Score: {roc_auc_score(y_train, mlp_train_pred)}\")\n",
    "print(f\"Test Score: {roc_auc_score(y_valid, mlp_valid_pred)}\")\n",
    "\n",
    "\n"
   ]
  },
  {
   "cell_type": "code",
   "execution_count": 270,
   "id": "c99d8cef",
   "metadata": {},
   "outputs": [
    {
     "name": "stdout",
     "output_type": "stream",
     "text": [
      "Train Score: 0.8129038325578768\n",
      "Valid Score: 0.6847062495316174\n"
     ]
    }
   ],
   "source": [
    "# XGBClassifier\n",
    "from xgboost import XGBClassifier\n",
    "\n",
    "xgb = XGBClassifier(random_state= 1)\n",
    "xgb.fit(X_train, y_train)\n",
    "\n",
    "xgb_train_pred = xgb.predict_proba(X_train)[:, 1]\n",
    "xgb_valid_pred = xgb.predict_proba(X_valid)[:, 1]\n",
    "print(f\"Train Score: {roc_auc_score(y_train, xgb_train_pred)}\")\n",
    "print(f\"Valid Score: {roc_auc_score(y_valid, xgb_valid_pred)}\")"
   ]
  },
  {
   "cell_type": "code",
   "execution_count": 271,
   "id": "7b9653f3",
   "metadata": {},
   "outputs": [
    {
     "name": "stdout",
     "output_type": "stream",
     "text": [
      "Train Score: 0.7647874250936606\n",
      "Valid Score: 0.6937656124371588\n"
     ]
    }
   ],
   "source": [
    "# LGBMClassfier\n",
    "from lightgbm import LGBMClassifier\n",
    "\n",
    "lgb = LGBMClassifier(random_state = 1)\n",
    "lgb.fit(X_train, y_train)\n",
    "\n",
    "lgb_train_pred = lgb.predict_proba(X_train)[:, 1]\n",
    "lgb_valid_pred = lgb.predict_proba(X_valid)[:, 1]\n",
    "print(f\"Train Score: {roc_auc_score(y_train, lgb_train_pred)}\")\n",
    "print(f\"Valid Score: {roc_auc_score(y_valid, lgb_valid_pred)}\")"
   ]
  },
  {
   "cell_type": "code",
   "execution_count": 272,
   "id": "b6e08acd",
   "metadata": {},
   "outputs": [
    {
     "name": "stdout",
     "output_type": "stream",
     "text": [
      "Train Score: 0.7695553710090589\n",
      "Valid Score: 0.6946848225719106\n"
     ]
    }
   ],
   "source": [
    "train_pred = (lr_train_pred + mlp_train_pred + lgb_train_pred + xgb_train_pred)/4\n",
    "valid_pred = (lr_valid_pred + mlp_valid_pred + lgb_valid_pred + xgb_valid_pred)/4\n",
    "\n",
    "print(f\"Train Score: {roc_auc_score(y_train, train_pred)}\")\n",
    "print(f\"Valid Score: {roc_auc_score(y_valid, valid_pred)}\")"
   ]
  },
  {
   "cell_type": "markdown",
   "id": "78e254a3",
   "metadata": {},
   "source": [
    "## 自己的3"
   ]
  },
  {
   "cell_type": "code",
   "execution_count": 40,
   "id": "7dd8d845",
   "metadata": {},
   "outputs": [],
   "source": [
    "#３つに絞る\n",
    "features3 = ['REGION_RATING_CLIENT', 'FLAG_EMP_PHONE', 'CNT_FAM_MEMBERS']\n",
    "eda3 = train[features3]\n",
    "\n",
    "eda3_test = test[features3]"
   ]
  },
  {
   "cell_type": "code",
   "execution_count": 41,
   "id": "f67412cf",
   "metadata": {
    "scrolled": true
   },
   "outputs": [
    {
     "data": {
      "text/plain": [
       "REGION_RATING_CLIENT    0\n",
       "FLAG_EMP_PHONE          0\n",
       "CNT_FAM_MEMBERS         0\n",
       "dtype: int64"
      ]
     },
     "execution_count": 41,
     "metadata": {},
     "output_type": "execute_result"
    }
   ],
   "source": [
    "eda3_test.isnull().sum()"
   ]
  },
  {
   "cell_type": "code",
   "execution_count": 179,
   "id": "3148ca6f",
   "metadata": {},
   "outputs": [
    {
     "data": {
      "text/html": [
       "<div>\n",
       "<style scoped>\n",
       "    .dataframe tbody tr th:only-of-type {\n",
       "        vertical-align: middle;\n",
       "    }\n",
       "\n",
       "    .dataframe tbody tr th {\n",
       "        vertical-align: top;\n",
       "    }\n",
       "\n",
       "    .dataframe thead th {\n",
       "        text-align: right;\n",
       "    }\n",
       "</style>\n",
       "<table border=\"1\" class=\"dataframe\">\n",
       "  <thead>\n",
       "    <tr style=\"text-align: right;\">\n",
       "      <th></th>\n",
       "      <th>REGION_RATING_CLIENT</th>\n",
       "      <th>FLAG_EMP_PHONE</th>\n",
       "      <th>CNT_FAM_MEMBERS</th>\n",
       "    </tr>\n",
       "  </thead>\n",
       "  <tbody>\n",
       "    <tr>\n",
       "      <th>0</th>\n",
       "      <td>2</td>\n",
       "      <td>1</td>\n",
       "      <td>2.0</td>\n",
       "    </tr>\n",
       "    <tr>\n",
       "      <th>1</th>\n",
       "      <td>2</td>\n",
       "      <td>0</td>\n",
       "      <td>2.0</td>\n",
       "    </tr>\n",
       "    <tr>\n",
       "      <th>2</th>\n",
       "      <td>2</td>\n",
       "      <td>1</td>\n",
       "      <td>2.0</td>\n",
       "    </tr>\n",
       "    <tr>\n",
       "      <th>3</th>\n",
       "      <td>3</td>\n",
       "      <td>0</td>\n",
       "      <td>1.0</td>\n",
       "    </tr>\n",
       "    <tr>\n",
       "      <th>4</th>\n",
       "      <td>3</td>\n",
       "      <td>1</td>\n",
       "      <td>2.0</td>\n",
       "    </tr>\n",
       "  </tbody>\n",
       "</table>\n",
       "</div>"
      ],
      "text/plain": [
       "   REGION_RATING_CLIENT  FLAG_EMP_PHONE  CNT_FAM_MEMBERS\n",
       "0                     2               1              2.0\n",
       "1                     2               0              2.0\n",
       "2                     2               1              2.0\n",
       "3                     3               0              1.0\n",
       "4                     3               1              2.0"
      ]
     },
     "execution_count": 179,
     "metadata": {},
     "output_type": "execute_result"
    }
   ],
   "source": [
    "eda3.head()"
   ]
  },
  {
   "cell_type": "code",
   "execution_count": 180,
   "id": "320f9b2c",
   "metadata": {},
   "outputs": [
    {
     "data": {
      "image/png": "[encoded data removed]",
      "text/plain": [
       "<Figure size 432x288 with 1 Axes>"
      ]
     },
     "metadata": {
      "needs_background": "light"
     },
     "output_type": "display_data"
    }
   ],
   "source": [
    "#可視化\n",
    "#REGION_RATING_CLIENT\n",
    "sns.countplot(data = eda3, x = 'REGION_RATING_CLIENT')\n",
    "plt.show()"
   ]
  },
  {
   "cell_type": "code",
   "execution_count": 181,
   "id": "5d16a1fd",
   "metadata": {},
   "outputs": [
    {
     "data": {
      "image/png": "[encoded data removed]",
      "text/plain": [
       "<Figure size 432x288 with 1 Axes>"
      ]
     },
     "metadata": {
      "needs_background": "light"
     },
     "output_type": "display_data"
    }
   ],
   "source": [
    "#可視化\n",
    "#FLAG_EMP_PHONE\n",
    "sns.countplot(data = eda3, x = 'FLAG_EMP_PHONE')\n",
    "plt.show()"
   ]
  },
  {
   "cell_type": "code",
   "execution_count": 182,
   "id": "c52164cd",
   "metadata": {},
   "outputs": [
    {
     "data": {
      "text/plain": [
       "<AxesSubplot:xlabel='CNT_FAM_MEMBERS', ylabel='count'>"
      ]
     },
     "execution_count": 182,
     "metadata": {},
     "output_type": "execute_result"
    },
    {
     "data": {
      "image/png": "[encoded data removed]",
      "text/plain": [
       "<Figure size 432x288 with 1 Axes>"
      ]
     },
     "metadata": {
      "needs_background": "light"
     },
     "output_type": "display_data"
    }
   ],
   "source": [
    "#可視化\n",
    "#CNT_FAM_MEMBERS\n",
    "sns.countplot(data = eda3, x = 'CNT_FAM_MEMBERS')\n",
    "#plt.show()"
   ]
  },
  {
   "cell_type": "code",
   "execution_count": 184,
   "id": "4cdf2e37",
   "metadata": {},
   "outputs": [
    {
     "data": {
      "text/plain": [
       "16"
      ]
     },
     "execution_count": 184,
     "metadata": {},
     "output_type": "execute_result"
    }
   ],
   "source": [
    "len(eda3['CNT_FAM_MEMBERS'].unique())"
   ]
  },
  {
   "cell_type": "code",
   "execution_count": 492,
   "id": "e47cfebd",
   "metadata": {},
   "outputs": [
    {
     "data": {
      "text/plain": [
       "2.0     88165\n",
       "1.0     37766\n",
       "3.0     29284\n",
       "4.0     13801\n",
       "5.0      1903\n",
       "6.0       220\n",
       "7.0        36\n",
       "8.0        13\n",
       "9.0         4\n",
       "12.0        2\n",
       "10.0        2\n",
       "11.0        1\n",
       "14.0        1\n",
       "15.0        1\n",
       "16.0        1\n",
       "Name: CNT_FAM_MEMBERS, dtype: int64"
      ]
     },
     "execution_count": 492,
     "metadata": {},
     "output_type": "execute_result"
    }
   ],
   "source": [
    "eda3['CNT_FAM_MEMBERS'].value_counts()"
   ]
  },
  {
   "cell_type": "code",
   "execution_count": 42,
   "id": "7f1da9cc",
   "metadata": {},
   "outputs": [],
   "source": [
    "# OWN_CAR_AGEの60以上の値（外れ値）を欠損値扱いする\n",
    "eda3.loc[eda3[\"CNT_FAM_MEMBERS\"] >= 7, \"CNT_FAM_MEMBERS\"] = 7\n",
    "eda3_test.loc[eda3_test[\"CNT_FAM_MEMBERS\"] >= 7, \"CNT_FAM_MEMBERS\"] = 7\n"
   ]
  },
  {
   "cell_type": "code",
   "execution_count": 43,
   "id": "aaa15db6",
   "metadata": {},
   "outputs": [
    {
     "data": {
      "text/plain": [
       "2.0    31420\n",
       "1.0    13730\n",
       "3.0    10560\n",
       "4.0     4964\n",
       "5.0      700\n",
       "6.0       91\n",
       "7.0       35\n",
       "Name: CNT_FAM_MEMBERS, dtype: int64"
      ]
     },
     "execution_count": 43,
     "metadata": {},
     "output_type": "execute_result"
    }
   ],
   "source": [
    "eda3_test['CNT_FAM_MEMBERS'].value_counts()"
   ]
  },
  {
   "cell_type": "code",
   "execution_count": null,
   "id": "05b6cf7f",
   "metadata": {},
   "outputs": [],
   "source": []
  },
  {
   "cell_type": "code",
   "execution_count": null,
   "id": "d7a0ad3c",
   "metadata": {},
   "outputs": [],
   "source": []
  },
  {
   "cell_type": "code",
   "execution_count": null,
   "id": "c55282d5",
   "metadata": {},
   "outputs": [],
   "source": []
  },
  {
   "cell_type": "code",
   "execution_count": null,
   "id": "94098067",
   "metadata": {},
   "outputs": [],
   "source": []
  },
  {
   "cell_type": "code",
   "execution_count": 44,
   "id": "6a527a34",
   "metadata": {},
   "outputs": [],
   "source": [
    "#欠損値補完\n",
    "eda3 = eda3.fillna({'CNT_FAM_MEMBERS': 2})\n",
    "eda3_test = eda3_test.fillna({'CNT_FAM_MEMBERS': 2})"
   ]
  },
  {
   "cell_type": "code",
   "execution_count": 496,
   "id": "c49b8705",
   "metadata": {},
   "outputs": [
    {
     "data": {
      "text/plain": [
       "REGION_RATING_CLIENT    0\n",
       "FLAG_EMP_PHONE          0\n",
       "CNT_FAM_MEMBERS         0\n",
       "dtype: int64"
      ]
     },
     "execution_count": 496,
     "metadata": {},
     "output_type": "execute_result"
    }
   ],
   "source": [
    "eda3_test.isnull().sum()"
   ]
  },
  {
   "cell_type": "code",
   "execution_count": 45,
   "id": "16328080",
   "metadata": {
    "scrolled": false
   },
   "outputs": [
    {
     "data": {
      "text/html": [
       "<div>\n",
       "<style scoped>\n",
       "    .dataframe tbody tr th:only-of-type {\n",
       "        vertical-align: middle;\n",
       "    }\n",
       "\n",
       "    .dataframe tbody tr th {\n",
       "        vertical-align: top;\n",
       "    }\n",
       "\n",
       "    .dataframe thead th {\n",
       "        text-align: right;\n",
       "    }\n",
       "</style>\n",
       "<table border=\"1\" class=\"dataframe\">\n",
       "  <thead>\n",
       "    <tr style=\"text-align: right;\">\n",
       "      <th></th>\n",
       "      <th>FLAG_EMP_PHONE</th>\n",
       "      <th>CNT_FAM_MEMBERS</th>\n",
       "      <th>REGION_RATING_CLIENT1</th>\n",
       "      <th>REGION_RATING_CLIENT2</th>\n",
       "      <th>REGION_RATING_CLIENT3</th>\n",
       "    </tr>\n",
       "  </thead>\n",
       "  <tbody>\n",
       "    <tr>\n",
       "      <th>0</th>\n",
       "      <td>1</td>\n",
       "      <td>2.0</td>\n",
       "      <td>0</td>\n",
       "      <td>1</td>\n",
       "      <td>0</td>\n",
       "    </tr>\n",
       "    <tr>\n",
       "      <th>1</th>\n",
       "      <td>0</td>\n",
       "      <td>2.0</td>\n",
       "      <td>0</td>\n",
       "      <td>1</td>\n",
       "      <td>0</td>\n",
       "    </tr>\n",
       "    <tr>\n",
       "      <th>2</th>\n",
       "      <td>1</td>\n",
       "      <td>2.0</td>\n",
       "      <td>0</td>\n",
       "      <td>1</td>\n",
       "      <td>0</td>\n",
       "    </tr>\n",
       "    <tr>\n",
       "      <th>3</th>\n",
       "      <td>0</td>\n",
       "      <td>1.0</td>\n",
       "      <td>0</td>\n",
       "      <td>0</td>\n",
       "      <td>1</td>\n",
       "    </tr>\n",
       "    <tr>\n",
       "      <th>4</th>\n",
       "      <td>1</td>\n",
       "      <td>2.0</td>\n",
       "      <td>0</td>\n",
       "      <td>0</td>\n",
       "      <td>1</td>\n",
       "    </tr>\n",
       "  </tbody>\n",
       "</table>\n",
       "</div>"
      ],
      "text/plain": [
       "   FLAG_EMP_PHONE  CNT_FAM_MEMBERS  REGION_RATING_CLIENT1  \\\n",
       "0               1              2.0                      0   \n",
       "1               0              2.0                      0   \n",
       "2               1              2.0                      0   \n",
       "3               0              1.0                      0   \n",
       "4               1              2.0                      0   \n",
       "\n",
       "   REGION_RATING_CLIENT2  REGION_RATING_CLIENT3  \n",
       "0                      1                      0  \n",
       "1                      1                      0  \n",
       "2                      1                      0  \n",
       "3                      0                      1  \n",
       "4                      0                      1  "
      ]
     },
     "execution_count": 45,
     "metadata": {},
     "output_type": "execute_result"
    }
   ],
   "source": [
    "#データ加工\n",
    "eda3_REGION_RATING_CLIENT_ohe = pd.get_dummies(eda3['REGION_RATING_CLIENT']).add_prefix('REGION_RATING_CLIENT')\n",
    "eda3_test_REGION_RATING_CLIENT_ohe = pd.get_dummies(eda3_test['REGION_RATING_CLIENT']).add_prefix('REGION_RATING_CLIENT')\n",
    "\n",
    "eda3 = pd.concat([eda3, eda3_REGION_RATING_CLIENT_ohe], axis = 1)\n",
    "eda3_test = pd.concat([eda3_test, eda3_test_REGION_RATING_CLIENT_ohe], axis = 1)\n",
    "\n",
    "eda3.drop('REGION_RATING_CLIENT', axis = 1, inplace = True)\n",
    "eda3_test.drop('REGION_RATING_CLIENT', axis = 1, inplace = True)\n",
    "\n",
    "\n",
    "eda3.head(5)\n",
    "\n"
   ]
  },
  {
   "cell_type": "code",
   "execution_count": 498,
   "id": "b53349c9",
   "metadata": {},
   "outputs": [
    {
     "name": "stdout",
     "output_type": "stream",
     "text": [
      "(171202, 5)\n",
      "(61500, 5)\n"
     ]
    }
   ],
   "source": [
    "print(eda3.shape)\n",
    "print(eda3_test.shape)"
   ]
  },
  {
   "cell_type": "code",
   "execution_count": 499,
   "id": "97820eda",
   "metadata": {},
   "outputs": [
    {
     "data": {
      "text/plain": [
       "FLAG_EMP_PHONE           0\n",
       "CNT_FAM_MEMBERS          0\n",
       "REGION_RATING_CLIENT1    0\n",
       "REGION_RATING_CLIENT2    0\n",
       "REGION_RATING_CLIENT3    0\n",
       "dtype: int64"
      ]
     },
     "execution_count": 499,
     "metadata": {},
     "output_type": "execute_result"
    }
   ],
   "source": [
    "eda3_test.isnull().sum()"
   ]
  },
  {
   "cell_type": "code",
   "execution_count": 46,
   "id": "8375469e",
   "metadata": {},
   "outputs": [
    {
     "data": {
      "text/html": [
       "<div>\n",
       "<style scoped>\n",
       "    .dataframe tbody tr th:only-of-type {\n",
       "        vertical-align: middle;\n",
       "    }\n",
       "\n",
       "    .dataframe tbody tr th {\n",
       "        vertical-align: top;\n",
       "    }\n",
       "\n",
       "    .dataframe thead th {\n",
       "        text-align: right;\n",
       "    }\n",
       "</style>\n",
       "<table border=\"1\" class=\"dataframe\">\n",
       "  <thead>\n",
       "    <tr style=\"text-align: right;\">\n",
       "      <th></th>\n",
       "      <th>CNT_FAM_MEMBERS</th>\n",
       "      <th>REGION_RATING_CLIENT1</th>\n",
       "      <th>REGION_RATING_CLIENT2</th>\n",
       "      <th>REGION_RATING_CLIENT3</th>\n",
       "      <th>FLAG_EMP_PHONE0</th>\n",
       "      <th>FLAG_EMP_PHONE1</th>\n",
       "    </tr>\n",
       "  </thead>\n",
       "  <tbody>\n",
       "    <tr>\n",
       "      <th>0</th>\n",
       "      <td>2.0</td>\n",
       "      <td>0</td>\n",
       "      <td>1</td>\n",
       "      <td>0</td>\n",
       "      <td>0</td>\n",
       "      <td>1</td>\n",
       "    </tr>\n",
       "    <tr>\n",
       "      <th>1</th>\n",
       "      <td>2.0</td>\n",
       "      <td>0</td>\n",
       "      <td>1</td>\n",
       "      <td>0</td>\n",
       "      <td>1</td>\n",
       "      <td>0</td>\n",
       "    </tr>\n",
       "    <tr>\n",
       "      <th>2</th>\n",
       "      <td>2.0</td>\n",
       "      <td>0</td>\n",
       "      <td>1</td>\n",
       "      <td>0</td>\n",
       "      <td>0</td>\n",
       "      <td>1</td>\n",
       "    </tr>\n",
       "    <tr>\n",
       "      <th>3</th>\n",
       "      <td>1.0</td>\n",
       "      <td>0</td>\n",
       "      <td>0</td>\n",
       "      <td>1</td>\n",
       "      <td>1</td>\n",
       "      <td>0</td>\n",
       "    </tr>\n",
       "    <tr>\n",
       "      <th>4</th>\n",
       "      <td>2.0</td>\n",
       "      <td>0</td>\n",
       "      <td>0</td>\n",
       "      <td>1</td>\n",
       "      <td>0</td>\n",
       "      <td>1</td>\n",
       "    </tr>\n",
       "  </tbody>\n",
       "</table>\n",
       "</div>"
      ],
      "text/plain": [
       "   CNT_FAM_MEMBERS  REGION_RATING_CLIENT1  REGION_RATING_CLIENT2  \\\n",
       "0              2.0                      0                      1   \n",
       "1              2.0                      0                      1   \n",
       "2              2.0                      0                      1   \n",
       "3              1.0                      0                      0   \n",
       "4              2.0                      0                      0   \n",
       "\n",
       "   REGION_RATING_CLIENT3  FLAG_EMP_PHONE0  FLAG_EMP_PHONE1  \n",
       "0                      0                0                1  \n",
       "1                      0                1                0  \n",
       "2                      0                0                1  \n",
       "3                      1                1                0  \n",
       "4                      1                0                1  "
      ]
     },
     "execution_count": 46,
     "metadata": {},
     "output_type": "execute_result"
    }
   ],
   "source": [
    "#データ加工\n",
    "eda3_FLAG_EMP_PHONE_ohe = pd.get_dummies(eda3['FLAG_EMP_PHONE']).add_prefix('FLAG_EMP_PHONE')\n",
    "eda3_test_FLAG_EMP_PHONE_ohe = pd.get_dummies(eda3_test['FLAG_EMP_PHONE']).add_prefix('FLAG_EMP_PHONE')\n",
    "\n",
    "eda3 = pd.concat([eda3, eda3_FLAG_EMP_PHONE_ohe], axis = 1)\n",
    "eda3_test = pd.concat([eda3_test, eda3_test_FLAG_EMP_PHONE_ohe], axis = 1)\n",
    "\n",
    "eda3.drop('FLAG_EMP_PHONE', axis = 1, inplace = True)\n",
    "eda3_test.drop('FLAG_EMP_PHONE', axis = 1, inplace = True)\n",
    "\n",
    "\n",
    "eda3.head(5)\n",
    "\n"
   ]
  },
  {
   "cell_type": "code",
   "execution_count": 47,
   "id": "604b0aa7",
   "metadata": {
    "scrolled": true
   },
   "outputs": [
    {
     "data": {
      "text/html": [
       "<div>\n",
       "<style scoped>\n",
       "    .dataframe tbody tr th:only-of-type {\n",
       "        vertical-align: middle;\n",
       "    }\n",
       "\n",
       "    .dataframe tbody tr th {\n",
       "        vertical-align: top;\n",
       "    }\n",
       "\n",
       "    .dataframe thead th {\n",
       "        text-align: right;\n",
       "    }\n",
       "</style>\n",
       "<table border=\"1\" class=\"dataframe\">\n",
       "  <thead>\n",
       "    <tr style=\"text-align: right;\">\n",
       "      <th></th>\n",
       "      <th>REGION_RATING_CLIENT1</th>\n",
       "      <th>REGION_RATING_CLIENT2</th>\n",
       "      <th>REGION_RATING_CLIENT3</th>\n",
       "      <th>FLAG_EMP_PHONE0</th>\n",
       "      <th>FLAG_EMP_PHONE1</th>\n",
       "      <th>CNT_FAM_MEMBERS1.0</th>\n",
       "      <th>CNT_FAM_MEMBERS2.0</th>\n",
       "      <th>CNT_FAM_MEMBERS3.0</th>\n",
       "      <th>CNT_FAM_MEMBERS4.0</th>\n",
       "      <th>CNT_FAM_MEMBERS5.0</th>\n",
       "      <th>CNT_FAM_MEMBERS6.0</th>\n",
       "      <th>CNT_FAM_MEMBERS7.0</th>\n",
       "    </tr>\n",
       "  </thead>\n",
       "  <tbody>\n",
       "    <tr>\n",
       "      <th>0</th>\n",
       "      <td>0</td>\n",
       "      <td>1</td>\n",
       "      <td>0</td>\n",
       "      <td>0</td>\n",
       "      <td>1</td>\n",
       "      <td>0</td>\n",
       "      <td>0</td>\n",
       "      <td>1</td>\n",
       "      <td>0</td>\n",
       "      <td>0</td>\n",
       "      <td>0</td>\n",
       "      <td>0</td>\n",
       "    </tr>\n",
       "    <tr>\n",
       "      <th>1</th>\n",
       "      <td>0</td>\n",
       "      <td>1</td>\n",
       "      <td>0</td>\n",
       "      <td>0</td>\n",
       "      <td>1</td>\n",
       "      <td>0</td>\n",
       "      <td>1</td>\n",
       "      <td>0</td>\n",
       "      <td>0</td>\n",
       "      <td>0</td>\n",
       "      <td>0</td>\n",
       "      <td>0</td>\n",
       "    </tr>\n",
       "    <tr>\n",
       "      <th>2</th>\n",
       "      <td>0</td>\n",
       "      <td>0</td>\n",
       "      <td>1</td>\n",
       "      <td>0</td>\n",
       "      <td>1</td>\n",
       "      <td>0</td>\n",
       "      <td>1</td>\n",
       "      <td>0</td>\n",
       "      <td>0</td>\n",
       "      <td>0</td>\n",
       "      <td>0</td>\n",
       "      <td>0</td>\n",
       "    </tr>\n",
       "    <tr>\n",
       "      <th>3</th>\n",
       "      <td>0</td>\n",
       "      <td>1</td>\n",
       "      <td>0</td>\n",
       "      <td>0</td>\n",
       "      <td>1</td>\n",
       "      <td>0</td>\n",
       "      <td>0</td>\n",
       "      <td>0</td>\n",
       "      <td>1</td>\n",
       "      <td>0</td>\n",
       "      <td>0</td>\n",
       "      <td>0</td>\n",
       "    </tr>\n",
       "    <tr>\n",
       "      <th>4</th>\n",
       "      <td>0</td>\n",
       "      <td>0</td>\n",
       "      <td>1</td>\n",
       "      <td>0</td>\n",
       "      <td>1</td>\n",
       "      <td>0</td>\n",
       "      <td>0</td>\n",
       "      <td>0</td>\n",
       "      <td>1</td>\n",
       "      <td>0</td>\n",
       "      <td>0</td>\n",
       "      <td>0</td>\n",
       "    </tr>\n",
       "  </tbody>\n",
       "</table>\n",
       "</div>"
      ],
      "text/plain": [
       "   REGION_RATING_CLIENT1  REGION_RATING_CLIENT2  REGION_RATING_CLIENT3  \\\n",
       "0                      0                      1                      0   \n",
       "1                      0                      1                      0   \n",
       "2                      0                      0                      1   \n",
       "3                      0                      1                      0   \n",
       "4                      0                      0                      1   \n",
       "\n",
       "   FLAG_EMP_PHONE0  FLAG_EMP_PHONE1  CNT_FAM_MEMBERS1.0  CNT_FAM_MEMBERS2.0  \\\n",
       "0                0                1                   0                   0   \n",
       "1                0                1                   0                   1   \n",
       "2                0                1                   0                   1   \n",
       "3                0                1                   0                   0   \n",
       "4                0                1                   0                   0   \n",
       "\n",
       "   CNT_FAM_MEMBERS3.0  CNT_FAM_MEMBERS4.0  CNT_FAM_MEMBERS5.0  \\\n",
       "0                   1                   0                   0   \n",
       "1                   0                   0                   0   \n",
       "2                   0                   0                   0   \n",
       "3                   0                   1                   0   \n",
       "4                   0                   1                   0   \n",
       "\n",
       "   CNT_FAM_MEMBERS6.0  CNT_FAM_MEMBERS7.0  \n",
       "0                   0                   0  \n",
       "1                   0                   0  \n",
       "2                   0                   0  \n",
       "3                   0                   0  \n",
       "4                   0                   0  "
      ]
     },
     "execution_count": 47,
     "metadata": {},
     "output_type": "execute_result"
    }
   ],
   "source": [
    "#データ加工\n",
    "\n",
    "eda3_CNT_FAM_MEMBERS_ohe = pd.get_dummies(eda3['CNT_FAM_MEMBERS']).add_prefix('CNT_FAM_MEMBERS')\n",
    "eda3_test_CNT_FAM_MEMBERS_ohe = pd.get_dummies(eda3_test['CNT_FAM_MEMBERS']).add_prefix('CNT_FAM_MEMBERS')\n",
    "\n",
    "eda3 = pd.concat([eda3, eda3_CNT_FAM_MEMBERS_ohe], axis = 1)\n",
    "eda3_test = pd.concat([eda3_test, eda3_test_CNT_FAM_MEMBERS_ohe], axis = 1)\n",
    "\n",
    "eda3.drop('CNT_FAM_MEMBERS', axis = 1, inplace = True)\n",
    "eda3_test.drop('CNT_FAM_MEMBERS', axis = 1, inplace = True)\n",
    "\n",
    "\n",
    "eda3_test.head(5)\n",
    "\n",
    "\n"
   ]
  },
  {
   "cell_type": "code",
   "execution_count": 502,
   "id": "da1327fd",
   "metadata": {},
   "outputs": [
    {
     "data": {
      "text/plain": [
       "REGION_RATING_CLIENT1    0\n",
       "REGION_RATING_CLIENT2    0\n",
       "REGION_RATING_CLIENT3    0\n",
       "FLAG_EMP_PHONE0          0\n",
       "FLAG_EMP_PHONE1          0\n",
       "CNT_FAM_MEMBERS1.0       0\n",
       "CNT_FAM_MEMBERS2.0       0\n",
       "CNT_FAM_MEMBERS3.0       0\n",
       "CNT_FAM_MEMBERS4.0       0\n",
       "CNT_FAM_MEMBERS5.0       0\n",
       "CNT_FAM_MEMBERS6.0       0\n",
       "CNT_FAM_MEMBERS7.0       0\n",
       "dtype: int64"
      ]
     },
     "execution_count": 502,
     "metadata": {},
     "output_type": "execute_result"
    }
   ],
   "source": [
    "eda3_test.isnull().sum()"
   ]
  },
  {
   "cell_type": "code",
   "execution_count": 503,
   "id": "47485c51",
   "metadata": {},
   "outputs": [
    {
     "data": {
      "text/plain": [
       "NAME_CONTRACT_TYPE                                  0\n",
       "AMT_INCOME_TOTAL                                    0\n",
       "EXT_SOURCE_2                                        0\n",
       "ORGANIZATION_TYPE                                   0\n",
       "OWN_CAR_AGE_0.0                                     0\n",
       "OWN_CAR_AGE_1.0                                     0\n",
       "OWN_CAR_AGE_2.0                                     0\n",
       "OWN_CAR_AGE_3.0                                     0\n",
       "OWN_CAR_AGE_4.0                                     0\n",
       "OWN_CAR_AGE_5.0                                     0\n",
       "AMT_CREDIT                                          0\n",
       "CNT_CHILDREN_0                                      0\n",
       "CNT_CHILDREN_1                                      0\n",
       "CNT_CHILDREN_2                                      0\n",
       "CNT_CHILDREN_3                                      0\n",
       "CNT_CHILDREN_4                                      0\n",
       "CNT_CHILDREN_5                                      0\n",
       "CNT_CHILDREN_6                                      0\n",
       "NAME_CONTRACT_TYPE                                  0\n",
       "AMT_INCOME_TOTAL                                    0\n",
       "EXT_SOURCE_2                                        0\n",
       "ORGANIZATION_TYPE                                   0\n",
       "OWN_CAR_AGE_0.0                                     0\n",
       "OWN_CAR_AGE_1.0                                     0\n",
       "OWN_CAR_AGE_2.0                                     0\n",
       "OWN_CAR_AGE_3.0                                     0\n",
       "OWN_CAR_AGE_4.0                                     0\n",
       "OWN_CAR_AGE_5.0                                     0\n",
       "AMT_CREDIT                                          0\n",
       "CNT_CHILDREN_0                                      0\n",
       "CNT_CHILDREN_1                                      0\n",
       "CNT_CHILDREN_2                                      0\n",
       "CNT_CHILDREN_3                                      0\n",
       "CNT_CHILDREN_4                                      0\n",
       "CNT_CHILDREN_5                                      0\n",
       "CNT_CHILDREN_6                                      0\n",
       "AMT_GOODS_PRICE                                     0\n",
       "NAME_EDUCATION_TYPEAcademic degree                  0\n",
       "NAME_EDUCATION_TYPEHigher education                 0\n",
       "NAME_EDUCATION_TYPEIncomplete higher                0\n",
       "NAME_EDUCATION_TYPELower secondary                  0\n",
       "NAME_EDUCATION_TYPESecondary / secondary special    0\n",
       "OCCUPATION_TYPEAccountants                          0\n",
       "OCCUPATION_TYPECleaning staff                       0\n",
       "OCCUPATION_TYPECooking staff                        0\n",
       "OCCUPATION_TYPECore staff                           0\n",
       "OCCUPATION_TYPEDrivers                              0\n",
       "OCCUPATION_TYPEHR staff                             0\n",
       "OCCUPATION_TYPEHigh skill tech staff                0\n",
       "OCCUPATION_TYPEIT staff                             0\n",
       "OCCUPATION_TYPELaborers                             0\n",
       "OCCUPATION_TYPELow-skill Laborers                   0\n",
       "OCCUPATION_TYPEManagers                             0\n",
       "OCCUPATION_TYPEMedicine staff                       0\n",
       "OCCUPATION_TYPEPrivate service staff                0\n",
       "OCCUPATION_TYPERealty agents                        0\n",
       "OCCUPATION_TYPESales staff                          0\n",
       "OCCUPATION_TYPESecretaries                          0\n",
       "OCCUPATION_TYPESecurity staff                       0\n",
       "OCCUPATION_TYPEWaiters/barmen staff                 0\n",
       "dtype: int64"
      ]
     },
     "execution_count": 503,
     "metadata": {},
     "output_type": "execute_result"
    }
   ],
   "source": [
    "eda2_test.isnull().sum()"
   ]
  },
  {
   "cell_type": "code",
   "execution_count": 48,
   "id": "c8b529fd",
   "metadata": {},
   "outputs": [],
   "source": [
    "#最終3データ\n",
    "eda3 = pd.concat([eda2, eda3], axis = 1)\n",
    "eda3_test = pd.concat([eda2_test, eda3_test], axis = 1)"
   ]
  },
  {
   "cell_type": "code",
   "execution_count": 506,
   "id": "76cbe334",
   "metadata": {},
   "outputs": [
    {
     "data": {
      "text/plain": [
       "0"
      ]
     },
     "execution_count": 506,
     "metadata": {},
     "output_type": "execute_result"
    }
   ],
   "source": [
    "eda3_test.isnull().sum().sum()"
   ]
  },
  {
   "cell_type": "code",
   "execution_count": 210,
   "id": "8bc0b498",
   "metadata": {},
   "outputs": [],
   "source": [
    "# 目的変数と説明変数に分割\n",
    "X = eda3.drop(\"TARGET\", axis=1).values\n",
    "y = eda3[\"TARGET\"].values\n",
    "X_test = eda3_test.values"
   ]
  },
  {
   "cell_type": "code",
   "execution_count": 239,
   "id": "dccac9fd",
   "metadata": {},
   "outputs": [
    {
     "data": {
      "text/plain": [
       "(171202, 54)"
      ]
     },
     "execution_count": 239,
     "metadata": {},
     "output_type": "execute_result"
    }
   ],
   "source": [
    "X.shape"
   ]
  },
  {
   "cell_type": "code",
   "execution_count": 241,
   "id": "8981624a",
   "metadata": {},
   "outputs": [
    {
     "data": {
      "text/plain": [
       "NAME_CONTRACT_TYPE    0\n",
       "AMT_INCOME_TOTAL      0\n",
       "EXT_SOURCE_2          0\n",
       "ORGANIZATION_TYPE     0\n",
       "OWN_CAR_AGE_0.0       0\n",
       "                     ..\n",
       "CNT_FAM_MEMBERS3.0    0\n",
       "CNT_FAM_MEMBERS4.0    0\n",
       "CNT_FAM_MEMBERS5.0    0\n",
       "CNT_FAM_MEMBERS6.0    0\n",
       "CNT_FAM_MEMBERS7.0    0\n",
       "Length: 114, dtype: int64"
      ]
     },
     "execution_count": 241,
     "metadata": {},
     "output_type": "execute_result"
    }
   ],
   "source": [
    "eda3_test.isnull().sum()"
   ]
  },
  {
   "cell_type": "code",
   "execution_count": 242,
   "id": "4c41da95",
   "metadata": {},
   "outputs": [],
   "source": [
    "# 標準化\n",
    "sc = StandardScaler()\n",
    "sc.fit(X)\n",
    "X_std = sc.transform(X)\n",
    "X_test_std = sc.transform(X_test)"
   ]
  },
  {
   "cell_type": "code",
   "execution_count": 261,
   "id": "25b0a899",
   "metadata": {},
   "outputs": [],
   "source": [
    "# 訓練データと評価データに分割\n",
    "X_train, X_valid, y_train, y_valid = train_test_split(X_std, y, test_size=0.3, stratify=y, random_state=1)"
   ]
  },
  {
   "cell_type": "code",
   "execution_count": 262,
   "id": "908ac0e8",
   "metadata": {},
   "outputs": [
    {
     "name": "stdout",
     "output_type": "stream",
     "text": [
      "Train Score: 0.6894148201344825\n",
      "Valid Score: 0.6850008523479465\n"
     ]
    }
   ],
   "source": [
    "#LogisticRegression\n",
    "from sklearn.linear_model import LogisticRegression\n",
    "\n",
    "lr = LogisticRegression(random_state = 1)\n",
    "lr.fit(X_train, y_train)\n",
    "\n",
    "lr_train_pred = lr.predict_proba(X_train)[:, 1]\n",
    "lr_valid_pred = lr.predict_proba(X_valid)[:, 1]\n",
    "print(f'Train Score: {roc_auc_score(y_train, lr_train_pred)}')\n",
    "print(f'Valid Score: {roc_auc_score(y_valid, lr_valid_pred)}')\n",
    "\n",
    "\n"
   ]
  },
  {
   "cell_type": "code",
   "execution_count": 291,
   "id": "783d737a",
   "metadata": {},
   "outputs": [
    {
     "name": "stdout",
     "output_type": "stream",
     "text": [
      "Train Score: 0.7531556920843111\n",
      "Test Score: 0.6503287937950909\n"
     ]
    }
   ],
   "source": [
    "#MLPClassifier\n",
    "from sklearn.neural_network import MLPClassifier\n",
    "\n",
    "mlp = MLPClassifier(random_state = 1)\n",
    "mlp.fit(X_train, y_train)\n",
    "\n",
    "mlp_train_pred = mlp.predict_proba(X_train)[:, 1]\n",
    "mlp_valid_pred = mlp.predict_proba(X_valid)[:, 1]\n",
    "print(f\"Train Score: {roc_auc_score(y_train, mlp_train_pred)}\")\n",
    "print(f\"Test Score: {roc_auc_score(y_valid, mlp_valid_pred)}\")\n",
    "\n",
    "\n",
    "\n"
   ]
  },
  {
   "cell_type": "code",
   "execution_count": 264,
   "id": "2753ea86",
   "metadata": {},
   "outputs": [
    {
     "name": "stdout",
     "output_type": "stream",
     "text": [
      "Train Score: 0.8129038325578768\n",
      "Valid Score: 0.6847062495316174\n"
     ]
    }
   ],
   "source": [
    "# XGBClassifier\n",
    "from xgboost import XGBClassifier\n",
    "\n",
    "xgb = XGBClassifier(random_state= 1)\n",
    "xgb.fit(X_train, y_train)\n",
    "\n",
    "xgb_train_pred = xgb.predict_proba(X_train)[:, 1]\n",
    "xgb_valid_pred = xgb.predict_proba(X_valid)[:, 1]\n",
    "print(f\"Train Score: {roc_auc_score(y_train, xgb_train_pred)}\")\n",
    "print(f\"Valid Score: {roc_auc_score(y_valid, xgb_valid_pred)}\")"
   ]
  },
  {
   "cell_type": "code",
   "execution_count": 247,
   "id": "2eac7f0a",
   "metadata": {},
   "outputs": [
    {
     "name": "stdout",
     "output_type": "stream",
     "text": [
      "Train Score: 0.7641270802938165\n",
      "Valid Score: 0.6940956118307836\n"
     ]
    }
   ],
   "source": [
    "# LGBMClassfier\n",
    "from lightgbm import LGBMClassifier\n",
    "\n",
    "lgb = LGBMClassifier(random_state = 1)\n",
    "lgb.fit(X_train, y_train)\n",
    "\n",
    "lgb_train_pred = lgb.predict_proba(X_train)[:, 1]\n",
    "lgb_valid_pred = lgb.predict_proba(X_valid)[:, 1]\n",
    "print(f\"Train Score: {roc_auc_score(y_train, lgb_train_pred)}\")\n",
    "print(f\"Valid Score: {roc_auc_score(y_valid, lgb_valid_pred)}\")"
   ]
  },
  {
   "cell_type": "code",
   "execution_count": 265,
   "id": "8dfd84a0",
   "metadata": {},
   "outputs": [
    {
     "name": "stdout",
     "output_type": "stream",
     "text": [
      "Train Score: 0.7450535698512007\n",
      "Valid Score: 0.6803924213011074\n"
     ]
    }
   ],
   "source": [
    "train_pred = (lr_train_pred + mlp_train_pred + lgb_train_pred + xgb_train_pred)/4\n",
    "valid_pred = (lr_valid_pred + mlp_valid_pred + lgb_valid_pred + xgb_valid_pred)/4\n",
    "\n",
    "print(f\"Train Score: {roc_auc_score(y_train, train_pred)}\")\n",
    "print(f\"Valid Score: {roc_auc_score(y_valid, valid_pred)}\")"
   ]
  },
  {
   "cell_type": "code",
   "execution_count": 256,
   "id": "eef5ca61",
   "metadata": {},
   "outputs": [
    {
     "data": {
      "text/plain": [
       "NAME_CONTRACT_TYPE    0\n",
       "AMT_INCOME_TOTAL      0\n",
       "EXT_SOURCE_2          0\n",
       "ORGANIZATION_TYPE     0\n",
       "OWN_CAR_AGE_0.0       0\n",
       "                     ..\n",
       "CNT_FAM_MEMBERS3.0    0\n",
       "CNT_FAM_MEMBERS4.0    0\n",
       "CNT_FAM_MEMBERS5.0    0\n",
       "CNT_FAM_MEMBERS6.0    0\n",
       "CNT_FAM_MEMBERS7.0    0\n",
       "Length: 114, dtype: int64"
      ]
     },
     "execution_count": 256,
     "metadata": {},
     "output_type": "execute_result"
    }
   ],
   "source": [
    "eda3_test.isnull().sum()"
   ]
  },
  {
   "cell_type": "code",
   "execution_count": 276,
   "id": "daf97224",
   "metadata": {},
   "outputs": [
    {
     "ename": "AttributeError",
     "evalue": "'numpy.ndarray' object has no attribute 'isnull'",
     "output_type": "error",
     "traceback": [
      "\u001b[0;31m---------------------------------------------------------------------------\u001b[0m",
      "\u001b[0;31mAttributeError\u001b[0m                            Traceback (most recent call last)",
      "\u001b[0;32m/var/folders/3y/8x7b6_xs5zxdh9cshvv2p8d80000gn/T/ipykernel_8824/8269503.py\u001b[0m in \u001b[0;36m<module>\u001b[0;34m\u001b[0m\n\u001b[0;32m----> 1\u001b[0;31m \u001b[0mX_test\u001b[0m\u001b[0;34m.\u001b[0m\u001b[0misnull\u001b[0m\u001b[0;34m(\u001b[0m\u001b[0;34m)\u001b[0m\u001b[0;34m\u001b[0m\u001b[0;34m\u001b[0m\u001b[0m\n\u001b[0m",
      "\u001b[0;31mAttributeError\u001b[0m: 'numpy.ndarray' object has no attribute 'isnull'"
     ]
    }
   ],
   "source": [
    "X_test.isnull()"
   ]
  },
  {
   "cell_type": "code",
   "execution_count": 288,
   "id": "9b0b2249",
   "metadata": {},
   "outputs": [
    {
     "data": {
      "text/plain": [
       "0"
      ]
     },
     "execution_count": 288,
     "metadata": {},
     "output_type": "execute_result"
    }
   ],
   "source": [
    "a = [np.isnan(X_test)]\n",
    "a.count('True')"
   ]
  },
  {
   "cell_type": "code",
   "execution_count": 289,
   "id": "7155f8ea",
   "metadata": {
    "scrolled": true
   },
   "outputs": [],
   "source": [
    "pred1 = lgb.predict_proba(X_test)[:, 1]"
   ]
  },
  {
   "cell_type": "code",
   "execution_count": 290,
   "id": "3859f830",
   "metadata": {
    "scrolled": true
   },
   "outputs": [
    {
     "ename": "ValueError",
     "evalue": "Input X contains NaN.\nMLPClassifier does not accept missing values encoded as NaN natively. For supervised learning, you might want to consider sklearn.ensemble.HistGradientBoostingClassifier and Regressor which accept missing values encoded as NaNs natively. Alternatively, it is possible to preprocess the data, for instance by using an imputer transformer in a pipeline or drop samples with missing values. See https://scikit-learn.org/stable/modules/impute.html You can find a list of all estimators that handle NaN values at the following page: https://scikit-learn.org/stable/modules/impute.html#estimators-that-handle-nan-values",
     "output_type": "error",
     "traceback": [
      "\u001b[0;31m---------------------------------------------------------------------------\u001b[0m",
      "\u001b[0;31mValueError\u001b[0m                                Traceback (most recent call last)",
      "\u001b[0;32m/var/folders/3y/8x7b6_xs5zxdh9cshvv2p8d80000gn/T/ipykernel_8824/1826293296.py\u001b[0m in \u001b[0;36m<module>\u001b[0;34m\u001b[0m\n\u001b[0;32m----> 1\u001b[0;31m \u001b[0mpred2\u001b[0m \u001b[0;34m=\u001b[0m \u001b[0mmlp\u001b[0m\u001b[0;34m.\u001b[0m\u001b[0mpredict_proba\u001b[0m\u001b[0;34m(\u001b[0m\u001b[0mX_test\u001b[0m\u001b[0;34m)\u001b[0m\u001b[0;34m[\u001b[0m\u001b[0;34m:\u001b[0m\u001b[0;34m,\u001b[0m \u001b[0;36m1\u001b[0m\u001b[0;34m]\u001b[0m\u001b[0;34m\u001b[0m\u001b[0;34m\u001b[0m\u001b[0m\n\u001b[0m",
      "\u001b[0;32m~/opt/anaconda3/lib/python3.9/site-packages/sklearn/neural_network/_multilayer_perceptron.py\u001b[0m in \u001b[0;36mpredict_proba\u001b[0;34m(self, X)\u001b[0m\n\u001b[1;32m   1240\u001b[0m         \"\"\"\n\u001b[1;32m   1241\u001b[0m         \u001b[0mcheck_is_fitted\u001b[0m\u001b[0;34m(\u001b[0m\u001b[0mself\u001b[0m\u001b[0;34m)\u001b[0m\u001b[0;34m\u001b[0m\u001b[0;34m\u001b[0m\u001b[0m\n\u001b[0;32m-> 1242\u001b[0;31m         \u001b[0my_pred\u001b[0m \u001b[0;34m=\u001b[0m \u001b[0mself\u001b[0m\u001b[0;34m.\u001b[0m\u001b[0m_forward_pass_fast\u001b[0m\u001b[0;34m(\u001b[0m\u001b[0mX\u001b[0m\u001b[0;34m)\u001b[0m\u001b[0;34m\u001b[0m\u001b[0;34m\u001b[0m\u001b[0m\n\u001b[0m\u001b[1;32m   1243\u001b[0m \u001b[0;34m\u001b[0m\u001b[0m\n\u001b[1;32m   1244\u001b[0m         \u001b[0;32mif\u001b[0m \u001b[0mself\u001b[0m\u001b[0;34m.\u001b[0m\u001b[0mn_outputs_\u001b[0m \u001b[0;34m==\u001b[0m \u001b[0;36m1\u001b[0m\u001b[0;34m:\u001b[0m\u001b[0;34m\u001b[0m\u001b[0;34m\u001b[0m\u001b[0m\n",
      "\u001b[0;32m~/opt/anaconda3/lib/python3.9/site-packages/sklearn/neural_network/_multilayer_perceptron.py\u001b[0m in \u001b[0;36m_forward_pass_fast\u001b[0;34m(self, X, check_input)\u001b[0m\n\u001b[1;32m    200\u001b[0m         \"\"\"\n\u001b[1;32m    201\u001b[0m         \u001b[0;32mif\u001b[0m \u001b[0mcheck_input\u001b[0m\u001b[0;34m:\u001b[0m\u001b[0;34m\u001b[0m\u001b[0;34m\u001b[0m\u001b[0m\n\u001b[0;32m--> 202\u001b[0;31m             \u001b[0mX\u001b[0m \u001b[0;34m=\u001b[0m \u001b[0mself\u001b[0m\u001b[0;34m.\u001b[0m\u001b[0m_validate_data\u001b[0m\u001b[0;34m(\u001b[0m\u001b[0mX\u001b[0m\u001b[0;34m,\u001b[0m \u001b[0maccept_sparse\u001b[0m\u001b[0;34m=\u001b[0m\u001b[0;34m[\u001b[0m\u001b[0;34m\"csr\"\u001b[0m\u001b[0;34m,\u001b[0m \u001b[0;34m\"csc\"\u001b[0m\u001b[0;34m]\u001b[0m\u001b[0;34m,\u001b[0m \u001b[0mreset\u001b[0m\u001b[0;34m=\u001b[0m\u001b[0;32mFalse\u001b[0m\u001b[0;34m)\u001b[0m\u001b[0;34m\u001b[0m\u001b[0;34m\u001b[0m\u001b[0m\n\u001b[0m\u001b[1;32m    203\u001b[0m \u001b[0;34m\u001b[0m\u001b[0m\n\u001b[1;32m    204\u001b[0m         \u001b[0;31m# Initialize first layer\u001b[0m\u001b[0;34m\u001b[0m\u001b[0;34m\u001b[0m\u001b[0m\n",
      "\u001b[0;32m~/opt/anaconda3/lib/python3.9/site-packages/sklearn/base.py\u001b[0m in \u001b[0;36m_validate_data\u001b[0;34m(self, X, y, reset, validate_separately, **check_params)\u001b[0m\n\u001b[1;32m    563\u001b[0m             \u001b[0;32mraise\u001b[0m \u001b[0mValueError\u001b[0m\u001b[0;34m(\u001b[0m\u001b[0;34m\"Validation should be done on X, y or both.\"\u001b[0m\u001b[0;34m)\u001b[0m\u001b[0;34m\u001b[0m\u001b[0;34m\u001b[0m\u001b[0m\n\u001b[1;32m    564\u001b[0m         \u001b[0;32melif\u001b[0m \u001b[0;32mnot\u001b[0m \u001b[0mno_val_X\u001b[0m \u001b[0;32mand\u001b[0m \u001b[0mno_val_y\u001b[0m\u001b[0;34m:\u001b[0m\u001b[0;34m\u001b[0m\u001b[0;34m\u001b[0m\u001b[0m\n\u001b[0;32m--> 565\u001b[0;31m             \u001b[0mX\u001b[0m \u001b[0;34m=\u001b[0m \u001b[0mcheck_array\u001b[0m\u001b[0;34m(\u001b[0m\u001b[0mX\u001b[0m\u001b[0;34m,\u001b[0m \u001b[0minput_name\u001b[0m\u001b[0;34m=\u001b[0m\u001b[0;34m\"X\"\u001b[0m\u001b[0;34m,\u001b[0m \u001b[0;34m**\u001b[0m\u001b[0mcheck_params\u001b[0m\u001b[0;34m)\u001b[0m\u001b[0;34m\u001b[0m\u001b[0;34m\u001b[0m\u001b[0m\n\u001b[0m\u001b[1;32m    566\u001b[0m             \u001b[0mout\u001b[0m \u001b[0;34m=\u001b[0m \u001b[0mX\u001b[0m\u001b[0;34m\u001b[0m\u001b[0;34m\u001b[0m\u001b[0m\n\u001b[1;32m    567\u001b[0m         \u001b[0;32melif\u001b[0m \u001b[0mno_val_X\u001b[0m \u001b[0;32mand\u001b[0m \u001b[0;32mnot\u001b[0m \u001b[0mno_val_y\u001b[0m\u001b[0;34m:\u001b[0m\u001b[0;34m\u001b[0m\u001b[0;34m\u001b[0m\u001b[0m\n",
      "\u001b[0;32m~/opt/anaconda3/lib/python3.9/site-packages/sklearn/utils/validation.py\u001b[0m in \u001b[0;36mcheck_array\u001b[0;34m(array, accept_sparse, accept_large_sparse, dtype, order, copy, force_all_finite, ensure_2d, allow_nd, ensure_min_samples, ensure_min_features, estimator, input_name)\u001b[0m\n\u001b[1;32m    919\u001b[0m \u001b[0;34m\u001b[0m\u001b[0m\n\u001b[1;32m    920\u001b[0m         \u001b[0;32mif\u001b[0m \u001b[0mforce_all_finite\u001b[0m\u001b[0;34m:\u001b[0m\u001b[0;34m\u001b[0m\u001b[0;34m\u001b[0m\u001b[0m\n\u001b[0;32m--> 921\u001b[0;31m             _assert_all_finite(\n\u001b[0m\u001b[1;32m    922\u001b[0m                 \u001b[0marray\u001b[0m\u001b[0;34m,\u001b[0m\u001b[0;34m\u001b[0m\u001b[0;34m\u001b[0m\u001b[0m\n\u001b[1;32m    923\u001b[0m                 \u001b[0minput_name\u001b[0m\u001b[0;34m=\u001b[0m\u001b[0minput_name\u001b[0m\u001b[0;34m,\u001b[0m\u001b[0;34m\u001b[0m\u001b[0;34m\u001b[0m\u001b[0m\n",
      "\u001b[0;32m~/opt/anaconda3/lib/python3.9/site-packages/sklearn/utils/validation.py\u001b[0m in \u001b[0;36m_assert_all_finite\u001b[0;34m(X, allow_nan, msg_dtype, estimator_name, input_name)\u001b[0m\n\u001b[1;32m    159\u001b[0m                 \u001b[0;34m\"#estimators-that-handle-nan-values\"\u001b[0m\u001b[0;34m\u001b[0m\u001b[0;34m\u001b[0m\u001b[0m\n\u001b[1;32m    160\u001b[0m             )\n\u001b[0;32m--> 161\u001b[0;31m         \u001b[0;32mraise\u001b[0m \u001b[0mValueError\u001b[0m\u001b[0;34m(\u001b[0m\u001b[0mmsg_err\u001b[0m\u001b[0;34m)\u001b[0m\u001b[0;34m\u001b[0m\u001b[0;34m\u001b[0m\u001b[0m\n\u001b[0m\u001b[1;32m    162\u001b[0m \u001b[0;34m\u001b[0m\u001b[0m\n\u001b[1;32m    163\u001b[0m \u001b[0;34m\u001b[0m\u001b[0m\n",
      "\u001b[0;31mValueError\u001b[0m: Input X contains NaN.\nMLPClassifier does not accept missing values encoded as NaN natively. For supervised learning, you might want to consider sklearn.ensemble.HistGradientBoostingClassifier and Regressor which accept missing values encoded as NaNs natively. Alternatively, it is possible to preprocess the data, for instance by using an imputer transformer in a pipeline or drop samples with missing values. See https://scikit-learn.org/stable/modules/impute.html You can find a list of all estimators that handle NaN values at the following page: https://scikit-learn.org/stable/modules/impute.html#estimators-that-handle-nan-values"
     ]
    }
   ],
   "source": [
    "pred2 = mlp.predict_proba(X_test)[:, 1]"
   ]
  },
  {
   "cell_type": "code",
   "execution_count": null,
   "id": "4f4c1256",
   "metadata": {},
   "outputs": [],
   "source": [
    "pred3 = xgb.predict_proba(X_test)[:, 1]\n",
    "pred4 = lgb.predict_proba(X_test)[:, 1]"
   ]
  },
  {
   "cell_type": "markdown",
   "id": "751f01b4",
   "metadata": {},
   "source": [
    "## 自己的4"
   ]
  },
  {
   "cell_type": "code",
   "execution_count": 49,
   "id": "cd3b61b6",
   "metadata": {},
   "outputs": [],
   "source": [
    "#３つに絞る\n",
    "features4 = ['CODE_GENDER', 'AMT_ANNUITY', 'DAYS_BIRTH']\n",
    "eda4 = train[features4]\n",
    "\n",
    "eda4_test = test[features4]"
   ]
  },
  {
   "cell_type": "code",
   "execution_count": 478,
   "id": "2d8c8a7d",
   "metadata": {},
   "outputs": [
    {
     "name": "stdout",
     "output_type": "stream",
     "text": [
      "CODE_GENDER    0\n",
      "AMT_ANNUITY    6\n",
      "DAYS_BIRTH     0\n",
      "dtype: int64\n",
      "CODE_GENDER    0\n",
      "AMT_ANNUITY    3\n",
      "DAYS_BIRTH     0\n",
      "dtype: int64\n"
     ]
    }
   ],
   "source": [
    "print(eda4.isnull().sum())\n",
    "print(eda4_test.isnull().sum())"
   ]
  },
  {
   "cell_type": "code",
   "execution_count": 479,
   "id": "6f6a5b46",
   "metadata": {},
   "outputs": [
    {
     "data": {
      "text/html": [
       "<div>\n",
       "<style scoped>\n",
       "    .dataframe tbody tr th:only-of-type {\n",
       "        vertical-align: middle;\n",
       "    }\n",
       "\n",
       "    .dataframe tbody tr th {\n",
       "        vertical-align: top;\n",
       "    }\n",
       "\n",
       "    .dataframe thead th {\n",
       "        text-align: right;\n",
       "    }\n",
       "</style>\n",
       "<table border=\"1\" class=\"dataframe\">\n",
       "  <thead>\n",
       "    <tr style=\"text-align: right;\">\n",
       "      <th></th>\n",
       "      <th>CODE_GENDER</th>\n",
       "      <th>AMT_ANNUITY</th>\n",
       "      <th>DAYS_BIRTH</th>\n",
       "    </tr>\n",
       "  </thead>\n",
       "  <tbody>\n",
       "    <tr>\n",
       "      <th>0</th>\n",
       "      <td>F</td>\n",
       "      <td>36328.5</td>\n",
       "      <td>-9233</td>\n",
       "    </tr>\n",
       "    <tr>\n",
       "      <th>1</th>\n",
       "      <td>F</td>\n",
       "      <td>16893.0</td>\n",
       "      <td>-20148</td>\n",
       "    </tr>\n",
       "    <tr>\n",
       "      <th>2</th>\n",
       "      <td>F</td>\n",
       "      <td>18256.5</td>\n",
       "      <td>-18496</td>\n",
       "    </tr>\n",
       "  </tbody>\n",
       "</table>\n",
       "</div>"
      ],
      "text/plain": [
       "  CODE_GENDER  AMT_ANNUITY  DAYS_BIRTH\n",
       "0           F      36328.5       -9233\n",
       "1           F      16893.0      -20148\n",
       "2           F      18256.5      -18496"
      ]
     },
     "execution_count": 479,
     "metadata": {},
     "output_type": "execute_result"
    }
   ],
   "source": [
    "eda4.head(3)"
   ]
  },
  {
   "cell_type": "code",
   "execution_count": 480,
   "id": "793b097e",
   "metadata": {},
   "outputs": [
    {
     "data": {
      "image/png": "[encoded data removed]",
      "text/plain": [
       "<Figure size 432x288 with 1 Axes>"
      ]
     },
     "metadata": {
      "needs_background": "light"
     },
     "output_type": "display_data"
    }
   ],
   "source": [
    "#可視化\n",
    "#CODE_GENDER\n",
    "sns.countplot(data = eda4, x = 'CODE_GENDER')\n",
    "plt.show()"
   ]
  },
  {
   "cell_type": "code",
   "execution_count": 50,
   "id": "543da421",
   "metadata": {},
   "outputs": [
    {
     "data": {
      "text/plain": [
       "F    39916\n",
       "M    21584\n",
       "Name: CODE_GENDER, dtype: int64"
      ]
     },
     "execution_count": 50,
     "metadata": {},
     "output_type": "execute_result"
    }
   ],
   "source": [
    "eda4.loc[eda4['CODE_GENDER'] == 'XNA', 'CODE_GENDER'] = 'F'\n",
    "eda4_test.loc[eda4_test['CODE_GENDER'] == 'XNA', 'CODE_GENDER'] = 'F'\n",
    "\n",
    "eda4_test['CODE_GENDER'].value_counts()\n",
    "\n"
   ]
  },
  {
   "cell_type": "code",
   "execution_count": 482,
   "id": "037a1b71",
   "metadata": {},
   "outputs": [
    {
     "data": {
      "text/html": [
       "<div>\n",
       "<style scoped>\n",
       "    .dataframe tbody tr th:only-of-type {\n",
       "        vertical-align: middle;\n",
       "    }\n",
       "\n",
       "    .dataframe tbody tr th {\n",
       "        vertical-align: top;\n",
       "    }\n",
       "\n",
       "    .dataframe thead th {\n",
       "        text-align: right;\n",
       "    }\n",
       "</style>\n",
       "<table border=\"1\" class=\"dataframe\">\n",
       "  <thead>\n",
       "    <tr style=\"text-align: right;\">\n",
       "      <th></th>\n",
       "      <th>CODE_GENDER</th>\n",
       "      <th>AMT_ANNUITY</th>\n",
       "      <th>DAYS_BIRTH</th>\n",
       "    </tr>\n",
       "  </thead>\n",
       "  <tbody>\n",
       "    <tr>\n",
       "      <th>0</th>\n",
       "      <td>F</td>\n",
       "      <td>36328.5</td>\n",
       "      <td>-9233</td>\n",
       "    </tr>\n",
       "    <tr>\n",
       "      <th>1</th>\n",
       "      <td>F</td>\n",
       "      <td>16893.0</td>\n",
       "      <td>-20148</td>\n",
       "    </tr>\n",
       "    <tr>\n",
       "      <th>2</th>\n",
       "      <td>F</td>\n",
       "      <td>18256.5</td>\n",
       "      <td>-18496</td>\n",
       "    </tr>\n",
       "    <tr>\n",
       "      <th>3</th>\n",
       "      <td>F</td>\n",
       "      <td>8901.0</td>\n",
       "      <td>-24177</td>\n",
       "    </tr>\n",
       "    <tr>\n",
       "      <th>4</th>\n",
       "      <td>M</td>\n",
       "      <td>21546.0</td>\n",
       "      <td>-10685</td>\n",
       "    </tr>\n",
       "  </tbody>\n",
       "</table>\n",
       "</div>"
      ],
      "text/plain": [
       "  CODE_GENDER  AMT_ANNUITY  DAYS_BIRTH\n",
       "0           F      36328.5       -9233\n",
       "1           F      16893.0      -20148\n",
       "2           F      18256.5      -18496\n",
       "3           F       8901.0      -24177\n",
       "4           M      21546.0      -10685"
      ]
     },
     "execution_count": 482,
     "metadata": {},
     "output_type": "execute_result"
    }
   ],
   "source": [
    "eda4.head()"
   ]
  },
  {
   "cell_type": "code",
   "execution_count": 483,
   "id": "2b9d91c3",
   "metadata": {},
   "outputs": [
    {
     "data": {
      "image/png": "[encoded data removed]",
      "text/plain": [
       "<Figure size 360x360 with 1 Axes>"
      ]
     },
     "metadata": {
      "needs_background": "light"
     },
     "output_type": "display_data"
    },
    {
     "data": {
      "image/png": "[encoded data removed]",
      "text/plain": [
       "<Figure size 360x360 with 1 Axes>"
      ]
     },
     "metadata": {
      "needs_background": "light"
     },
     "output_type": "display_data"
    }
   ],
   "source": [
    "#可視化\n",
    "#AMT_ANNUITY\n",
    "sns.displot(data = eda4, x = 'AMT_ANNUITY')\n",
    "sns.displot(data = eda4, x = 'AMT_ANNUITY', log_scale = 10)\n",
    "plt.show()"
   ]
  },
  {
   "cell_type": "code",
   "execution_count": 484,
   "id": "8d75882b",
   "metadata": {},
   "outputs": [
    {
     "data": {
      "text/plain": [
       "27127.500700950957"
      ]
     },
     "execution_count": 484,
     "metadata": {},
     "output_type": "execute_result"
    }
   ],
   "source": [
    "eda4['AMT_ANNUITY'].mean()"
   ]
  },
  {
   "cell_type": "code",
   "execution_count": 51,
   "id": "496ab4ee",
   "metadata": {},
   "outputs": [],
   "source": [
    "eda4 = eda4.fillna({'AMT_ANNUITY':27127})\n",
    "eda4_test = eda4_test.fillna({'AMT_ANNUITY':27127})"
   ]
  },
  {
   "cell_type": "code",
   "execution_count": 521,
   "id": "0450dd37",
   "metadata": {},
   "outputs": [
    {
     "data": {
      "text/plain": [
       "CODE_GENDER    0\n",
       "AMT_ANNUITY    0\n",
       "DAYS_BIRTH     0\n",
       "dtype: int64"
      ]
     },
     "execution_count": 521,
     "metadata": {},
     "output_type": "execute_result"
    }
   ],
   "source": [
    "eda4_test.isnull().sum()"
   ]
  },
  {
   "cell_type": "code",
   "execution_count": 52,
   "id": "275bd1e9",
   "metadata": {},
   "outputs": [
    {
     "data": {
      "text/plain": [
       "0"
      ]
     },
     "execution_count": 52,
     "metadata": {},
     "output_type": "execute_result"
    }
   ],
   "source": [
    "eda3_test.isnull().sum().sum()"
   ]
  },
  {
   "cell_type": "code",
   "execution_count": 313,
   "id": "6ad320f3",
   "metadata": {},
   "outputs": [
    {
     "data": {
      "image/png": "[encoded data removed]",
      "text/plain": [
       "<Figure size 360x360 with 1 Axes>"
      ]
     },
     "metadata": {
      "needs_background": "light"
     },
     "output_type": "display_data"
    },
    {
     "data": {
      "image/png": "[encoded data removed]",
      "text/plain": [
       "<Figure size 360x360 with 1 Axes>"
      ]
     },
     "metadata": {
      "needs_background": "light"
     },
     "output_type": "display_data"
    }
   ],
   "source": [
    "#可視化\n",
    "#AMT_ANNUITY\n",
    "sns.displot(data = eda4, x = 'DAYS_BIRTH')\n",
    "sns.displot(data = eda4, x = 'old')\n",
    "plt.show()"
   ]
  },
  {
   "cell_type": "code",
   "execution_count": 53,
   "id": "98de001a",
   "metadata": {},
   "outputs": [
    {
     "data": {
      "text/html": [
       "<div>\n",
       "<style scoped>\n",
       "    .dataframe tbody tr th:only-of-type {\n",
       "        vertical-align: middle;\n",
       "    }\n",
       "\n",
       "    .dataframe tbody tr th {\n",
       "        vertical-align: top;\n",
       "    }\n",
       "\n",
       "    .dataframe thead th {\n",
       "        text-align: right;\n",
       "    }\n",
       "</style>\n",
       "<table border=\"1\" class=\"dataframe\">\n",
       "  <thead>\n",
       "    <tr style=\"text-align: right;\">\n",
       "      <th></th>\n",
       "      <th>CODE_GENDER</th>\n",
       "      <th>AMT_ANNUITY</th>\n",
       "      <th>DAYS_BIRTH</th>\n",
       "      <th>old</th>\n",
       "    </tr>\n",
       "  </thead>\n",
       "  <tbody>\n",
       "    <tr>\n",
       "      <th>0</th>\n",
       "      <td>F</td>\n",
       "      <td>28233.0</td>\n",
       "      <td>-12108</td>\n",
       "      <td>33.0</td>\n",
       "    </tr>\n",
       "    <tr>\n",
       "      <th>1</th>\n",
       "      <td>F</td>\n",
       "      <td>16069.5</td>\n",
       "      <td>-17907</td>\n",
       "      <td>49.0</td>\n",
       "    </tr>\n",
       "    <tr>\n",
       "      <th>2</th>\n",
       "      <td>F</td>\n",
       "      <td>11236.5</td>\n",
       "      <td>-15221</td>\n",
       "      <td>41.0</td>\n",
       "    </tr>\n",
       "  </tbody>\n",
       "</table>\n",
       "</div>"
      ],
      "text/plain": [
       "  CODE_GENDER  AMT_ANNUITY  DAYS_BIRTH   old\n",
       "0           F      28233.0      -12108  33.0\n",
       "1           F      16069.5      -17907  49.0\n",
       "2           F      11236.5      -15221  41.0"
      ]
     },
     "execution_count": 53,
     "metadata": {},
     "output_type": "execute_result"
    }
   ],
   "source": [
    "#加工\n",
    "eda4['old'] = np.floor(eda4['DAYS_BIRTH']/(-365))\n",
    "eda4_test['old'] = np.floor(eda4_test['DAYS_BIRTH']/(-365))\n",
    "eda4_test.head(3)"
   ]
  },
  {
   "cell_type": "code",
   "execution_count": 54,
   "id": "3d622cba",
   "metadata": {},
   "outputs": [
    {
     "data": {
      "text/plain": [
       "array([25., 55., 50., 66., 29., 46., 39., 23., 40., 48., 47., 49., 57.,\n",
       "       45., 35., 32., 33., 44., 59., 41., 36., 52., 27., 26., 60., 30.,\n",
       "       64., 31., 56., 37., 53., 38., 58., 63., 54., 43., 28., 65., 22.,\n",
       "       34., 42., 51., 61., 62., 67., 21., 24., 68., 69.])"
      ]
     },
     "execution_count": 54,
     "metadata": {},
     "output_type": "execute_result"
    }
   ],
   "source": [
    "eda4['old'].unique()"
   ]
  },
  {
   "cell_type": "code",
   "execution_count": 55,
   "id": "c2f0fe13",
   "metadata": {},
   "outputs": [
    {
     "data": {
      "text/plain": [
       "array([3., 4., 5., 2., 6.])"
      ]
     },
     "execution_count": 55,
     "metadata": {},
     "output_type": "execute_result"
    }
   ],
   "source": [
    "# oldをグループ分け\n",
    "eda4[\"old\"] = eda4[\"old\"] // 10\n",
    "eda4_test[\"old\"] = eda4_test[\"old\"] // 10\n",
    "eda4_test[\"old\"].unique()"
   ]
  },
  {
   "cell_type": "code",
   "execution_count": 56,
   "id": "3a9f9b96",
   "metadata": {},
   "outputs": [
    {
     "data": {
      "text/html": [
       "<div>\n",
       "<style scoped>\n",
       "    .dataframe tbody tr th:only-of-type {\n",
       "        vertical-align: middle;\n",
       "    }\n",
       "\n",
       "    .dataframe tbody tr th {\n",
       "        vertical-align: top;\n",
       "    }\n",
       "\n",
       "    .dataframe thead th {\n",
       "        text-align: right;\n",
       "    }\n",
       "</style>\n",
       "<table border=\"1\" class=\"dataframe\">\n",
       "  <thead>\n",
       "    <tr style=\"text-align: right;\">\n",
       "      <th></th>\n",
       "      <th>CODE_GENDER</th>\n",
       "      <th>AMT_ANNUITY</th>\n",
       "      <th>DAYS_BIRTH</th>\n",
       "      <th>old2.0</th>\n",
       "      <th>old3.0</th>\n",
       "      <th>old4.0</th>\n",
       "      <th>old5.0</th>\n",
       "      <th>old6.0</th>\n",
       "    </tr>\n",
       "  </thead>\n",
       "  <tbody>\n",
       "    <tr>\n",
       "      <th>0</th>\n",
       "      <td>F</td>\n",
       "      <td>28233.0</td>\n",
       "      <td>-12108</td>\n",
       "      <td>0</td>\n",
       "      <td>1</td>\n",
       "      <td>0</td>\n",
       "      <td>0</td>\n",
       "      <td>0</td>\n",
       "    </tr>\n",
       "    <tr>\n",
       "      <th>1</th>\n",
       "      <td>F</td>\n",
       "      <td>16069.5</td>\n",
       "      <td>-17907</td>\n",
       "      <td>0</td>\n",
       "      <td>0</td>\n",
       "      <td>1</td>\n",
       "      <td>0</td>\n",
       "      <td>0</td>\n",
       "    </tr>\n",
       "    <tr>\n",
       "      <th>2</th>\n",
       "      <td>F</td>\n",
       "      <td>11236.5</td>\n",
       "      <td>-15221</td>\n",
       "      <td>0</td>\n",
       "      <td>0</td>\n",
       "      <td>1</td>\n",
       "      <td>0</td>\n",
       "      <td>0</td>\n",
       "    </tr>\n",
       "    <tr>\n",
       "      <th>3</th>\n",
       "      <td>F</td>\n",
       "      <td>22500.0</td>\n",
       "      <td>-11217</td>\n",
       "      <td>0</td>\n",
       "      <td>1</td>\n",
       "      <td>0</td>\n",
       "      <td>0</td>\n",
       "      <td>0</td>\n",
       "    </tr>\n",
       "    <tr>\n",
       "      <th>4</th>\n",
       "      <td>F</td>\n",
       "      <td>26640.0</td>\n",
       "      <td>-11415</td>\n",
       "      <td>0</td>\n",
       "      <td>1</td>\n",
       "      <td>0</td>\n",
       "      <td>0</td>\n",
       "      <td>0</td>\n",
       "    </tr>\n",
       "  </tbody>\n",
       "</table>\n",
       "</div>"
      ],
      "text/plain": [
       "  CODE_GENDER  AMT_ANNUITY  DAYS_BIRTH  old2.0  old3.0  old4.0  old5.0  old6.0\n",
       "0           F      28233.0      -12108       0       1       0       0       0\n",
       "1           F      16069.5      -17907       0       0       1       0       0\n",
       "2           F      11236.5      -15221       0       0       1       0       0\n",
       "3           F      22500.0      -11217       0       1       0       0       0\n",
       "4           F      26640.0      -11415       0       1       0       0       0"
      ]
     },
     "execution_count": 56,
     "metadata": {},
     "output_type": "execute_result"
    }
   ],
   "source": [
    "# oldをOne Hot Encoding\n",
    "eda4_old_ohe = pd.get_dummies(eda4[\"old\"]).add_prefix(\"old\")\n",
    "eda4_test_old_ohe = pd.get_dummies(eda4_test[\"old\"]).add_prefix(\"old\")\n",
    "\n",
    "eda4 = pd.concat([eda4, eda4_old_ohe], axis=1)\n",
    "eda4_test = pd.concat([eda4_test, eda4_test_old_ohe], axis=1)\n",
    "\n",
    "eda4.drop('old', axis=1, inplace=True)\n",
    "eda4_test.drop('old', axis=1, inplace=True)\n",
    "\n",
    "eda4_test.head(5)"
   ]
  },
  {
   "cell_type": "code",
   "execution_count": 57,
   "id": "bdd51ab9",
   "metadata": {},
   "outputs": [
    {
     "data": {
      "text/html": [
       "<div>\n",
       "<style scoped>\n",
       "    .dataframe tbody tr th:only-of-type {\n",
       "        vertical-align: middle;\n",
       "    }\n",
       "\n",
       "    .dataframe tbody tr th {\n",
       "        vertical-align: top;\n",
       "    }\n",
       "\n",
       "    .dataframe thead th {\n",
       "        text-align: right;\n",
       "    }\n",
       "</style>\n",
       "<table border=\"1\" class=\"dataframe\">\n",
       "  <thead>\n",
       "    <tr style=\"text-align: right;\">\n",
       "      <th></th>\n",
       "      <th>AMT_ANNUITY</th>\n",
       "      <th>DAYS_BIRTH</th>\n",
       "      <th>old2.0</th>\n",
       "      <th>old3.0</th>\n",
       "      <th>old4.0</th>\n",
       "      <th>old5.0</th>\n",
       "      <th>old6.0</th>\n",
       "      <th>CODE_GENDERF</th>\n",
       "      <th>CODE_GENDERM</th>\n",
       "    </tr>\n",
       "  </thead>\n",
       "  <tbody>\n",
       "    <tr>\n",
       "      <th>0</th>\n",
       "      <td>28233.0</td>\n",
       "      <td>-12108</td>\n",
       "      <td>0</td>\n",
       "      <td>1</td>\n",
       "      <td>0</td>\n",
       "      <td>0</td>\n",
       "      <td>0</td>\n",
       "      <td>1</td>\n",
       "      <td>0</td>\n",
       "    </tr>\n",
       "    <tr>\n",
       "      <th>1</th>\n",
       "      <td>16069.5</td>\n",
       "      <td>-17907</td>\n",
       "      <td>0</td>\n",
       "      <td>0</td>\n",
       "      <td>1</td>\n",
       "      <td>0</td>\n",
       "      <td>0</td>\n",
       "      <td>1</td>\n",
       "      <td>0</td>\n",
       "    </tr>\n",
       "    <tr>\n",
       "      <th>2</th>\n",
       "      <td>11236.5</td>\n",
       "      <td>-15221</td>\n",
       "      <td>0</td>\n",
       "      <td>0</td>\n",
       "      <td>1</td>\n",
       "      <td>0</td>\n",
       "      <td>0</td>\n",
       "      <td>1</td>\n",
       "      <td>0</td>\n",
       "    </tr>\n",
       "    <tr>\n",
       "      <th>3</th>\n",
       "      <td>22500.0</td>\n",
       "      <td>-11217</td>\n",
       "      <td>0</td>\n",
       "      <td>1</td>\n",
       "      <td>0</td>\n",
       "      <td>0</td>\n",
       "      <td>0</td>\n",
       "      <td>1</td>\n",
       "      <td>0</td>\n",
       "    </tr>\n",
       "    <tr>\n",
       "      <th>4</th>\n",
       "      <td>26640.0</td>\n",
       "      <td>-11415</td>\n",
       "      <td>0</td>\n",
       "      <td>1</td>\n",
       "      <td>0</td>\n",
       "      <td>0</td>\n",
       "      <td>0</td>\n",
       "      <td>1</td>\n",
       "      <td>0</td>\n",
       "    </tr>\n",
       "  </tbody>\n",
       "</table>\n",
       "</div>"
      ],
      "text/plain": [
       "   AMT_ANNUITY  DAYS_BIRTH  old2.0  old3.0  old4.0  old5.0  old6.0  \\\n",
       "0      28233.0      -12108       0       1       0       0       0   \n",
       "1      16069.5      -17907       0       0       1       0       0   \n",
       "2      11236.5      -15221       0       0       1       0       0   \n",
       "3      22500.0      -11217       0       1       0       0       0   \n",
       "4      26640.0      -11415       0       1       0       0       0   \n",
       "\n",
       "   CODE_GENDERF  CODE_GENDERM  \n",
       "0             1             0  \n",
       "1             1             0  \n",
       "2             1             0  \n",
       "3             1             0  \n",
       "4             1             0  "
      ]
     },
     "execution_count": 57,
     "metadata": {},
     "output_type": "execute_result"
    }
   ],
   "source": [
    "# CODE_GENDERをOne Hot Encoding\n",
    "\n",
    "eda4_CODE_GENDER_ohe = pd.get_dummies(eda4[\"CODE_GENDER\"]).add_prefix(\"CODE_GENDER\")\n",
    "eda4_test_CODE_GENDER_ohe = pd.get_dummies(eda4_test[\"CODE_GENDER\"]).add_prefix(\"CODE_GENDER\")\n",
    "\n",
    "eda4 = pd.concat([eda4, eda4_CODE_GENDER_ohe], axis=1)\n",
    "eda4_test = pd.concat([eda4_test, eda4_test_CODE_GENDER_ohe], axis=1)\n",
    "\n",
    "eda4.drop('CODE_GENDER', axis=1, inplace=True)\n",
    "eda4_test.drop('CODE_GENDER', axis=1, inplace=True)\n",
    "\n",
    "eda4_test.head(5)"
   ]
  },
  {
   "cell_type": "code",
   "execution_count": 528,
   "id": "820858a8",
   "metadata": {},
   "outputs": [
    {
     "data": {
      "text/plain": [
       "AMT_ANNUITY     0\n",
       "DAYS_BIRTH      0\n",
       "old2.0          0\n",
       "old3.0          0\n",
       "old4.0          0\n",
       "old5.0          0\n",
       "old6.0          0\n",
       "CODE_GENDERF    0\n",
       "CODE_GENDERM    0\n",
       "dtype: int64"
      ]
     },
     "execution_count": 528,
     "metadata": {},
     "output_type": "execute_result"
    }
   ],
   "source": [
    "eda4_test.isnull().sum()"
   ]
  },
  {
   "cell_type": "code",
   "execution_count": 58,
   "id": "f96f180a",
   "metadata": {
    "scrolled": true
   },
   "outputs": [],
   "source": [
    "#最終4データ\n",
    "eda4.drop('DAYS_BIRTH', axis = 1, inplace = True)\n",
    "eda4_test.drop('DAYS_BIRTH', axis = 1, inplace = True)\n"
   ]
  },
  {
   "cell_type": "code",
   "execution_count": 530,
   "id": "55c4258b",
   "metadata": {},
   "outputs": [
    {
     "data": {
      "text/html": [
       "<div>\n",
       "<style scoped>\n",
       "    .dataframe tbody tr th:only-of-type {\n",
       "        vertical-align: middle;\n",
       "    }\n",
       "\n",
       "    .dataframe tbody tr th {\n",
       "        vertical-align: top;\n",
       "    }\n",
       "\n",
       "    .dataframe thead th {\n",
       "        text-align: right;\n",
       "    }\n",
       "</style>\n",
       "<table border=\"1\" class=\"dataframe\">\n",
       "  <thead>\n",
       "    <tr style=\"text-align: right;\">\n",
       "      <th></th>\n",
       "      <th>AMT_ANNUITY</th>\n",
       "      <th>old2.0</th>\n",
       "      <th>old3.0</th>\n",
       "      <th>old4.0</th>\n",
       "      <th>old5.0</th>\n",
       "      <th>old6.0</th>\n",
       "      <th>CODE_GENDERF</th>\n",
       "      <th>CODE_GENDERM</th>\n",
       "    </tr>\n",
       "  </thead>\n",
       "  <tbody>\n",
       "    <tr>\n",
       "      <th>0</th>\n",
       "      <td>36328.5</td>\n",
       "      <td>1</td>\n",
       "      <td>0</td>\n",
       "      <td>0</td>\n",
       "      <td>0</td>\n",
       "      <td>0</td>\n",
       "      <td>1</td>\n",
       "      <td>0</td>\n",
       "    </tr>\n",
       "    <tr>\n",
       "      <th>1</th>\n",
       "      <td>16893.0</td>\n",
       "      <td>0</td>\n",
       "      <td>0</td>\n",
       "      <td>0</td>\n",
       "      <td>1</td>\n",
       "      <td>0</td>\n",
       "      <td>1</td>\n",
       "      <td>0</td>\n",
       "    </tr>\n",
       "    <tr>\n",
       "      <th>2</th>\n",
       "      <td>18256.5</td>\n",
       "      <td>0</td>\n",
       "      <td>0</td>\n",
       "      <td>0</td>\n",
       "      <td>1</td>\n",
       "      <td>0</td>\n",
       "      <td>1</td>\n",
       "      <td>0</td>\n",
       "    </tr>\n",
       "    <tr>\n",
       "      <th>3</th>\n",
       "      <td>8901.0</td>\n",
       "      <td>0</td>\n",
       "      <td>0</td>\n",
       "      <td>0</td>\n",
       "      <td>0</td>\n",
       "      <td>1</td>\n",
       "      <td>1</td>\n",
       "      <td>0</td>\n",
       "    </tr>\n",
       "    <tr>\n",
       "      <th>4</th>\n",
       "      <td>21546.0</td>\n",
       "      <td>1</td>\n",
       "      <td>0</td>\n",
       "      <td>0</td>\n",
       "      <td>0</td>\n",
       "      <td>0</td>\n",
       "      <td>0</td>\n",
       "      <td>1</td>\n",
       "    </tr>\n",
       "  </tbody>\n",
       "</table>\n",
       "</div>"
      ],
      "text/plain": [
       "   AMT_ANNUITY  old2.0  old3.0  old4.0  old5.0  old6.0  CODE_GENDERF  \\\n",
       "0      36328.5       1       0       0       0       0             1   \n",
       "1      16893.0       0       0       0       1       0             1   \n",
       "2      18256.5       0       0       0       1       0             1   \n",
       "3       8901.0       0       0       0       0       1             1   \n",
       "4      21546.0       1       0       0       0       0             0   \n",
       "\n",
       "   CODE_GENDERM  \n",
       "0             0  \n",
       "1             0  \n",
       "2             0  \n",
       "3             0  \n",
       "4             1  "
      ]
     },
     "execution_count": 530,
     "metadata": {},
     "output_type": "execute_result"
    }
   ],
   "source": [
    "eda4.head()"
   ]
  },
  {
   "cell_type": "code",
   "execution_count": 59,
   "id": "88d1f5d2",
   "metadata": {},
   "outputs": [
    {
     "data": {
      "text/plain": [
       "0"
      ]
     },
     "execution_count": 59,
     "metadata": {},
     "output_type": "execute_result"
    }
   ],
   "source": [
    "eda4_test.isnull().sum().sum()"
   ]
  },
  {
   "cell_type": "code",
   "execution_count": 60,
   "id": "94e1f0bd",
   "metadata": {},
   "outputs": [],
   "source": [
    "eda4 = pd.concat([eda3, eda4], axis = 1)\n",
    "eda4_test = pd.concat([eda3_test, eda4_test], axis = 1)"
   ]
  },
  {
   "cell_type": "code",
   "execution_count": 61,
   "id": "07e7cfb3",
   "metadata": {},
   "outputs": [],
   "source": [
    "eda4 = eda4.drop(\"TARGET\", axis = 1)"
   ]
  },
  {
   "cell_type": "code",
   "execution_count": 62,
   "id": "5bc31217",
   "metadata": {},
   "outputs": [],
   "source": [
    "eda4['TARGET'] = train['TARGET']"
   ]
  },
  {
   "cell_type": "code",
   "execution_count": 63,
   "id": "b855a290",
   "metadata": {
    "scrolled": true
   },
   "outputs": [
    {
     "data": {
      "text/plain": [
       "0         0\n",
       "1         0\n",
       "2         0\n",
       "3         0\n",
       "4         1\n",
       "         ..\n",
       "171197    0\n",
       "171198    0\n",
       "171199    0\n",
       "171200    0\n",
       "171201    0\n",
       "Name: TARGET, Length: 171202, dtype: int64"
      ]
     },
     "execution_count": 63,
     "metadata": {},
     "output_type": "execute_result"
    }
   ],
   "source": [
    "eda4['TARGET']"
   ]
  },
  {
   "cell_type": "code",
   "execution_count": 536,
   "id": "1131bb2f",
   "metadata": {},
   "outputs": [
    {
     "data": {
      "text/html": [
       "<div>\n",
       "<style scoped>\n",
       "    .dataframe tbody tr th:only-of-type {\n",
       "        vertical-align: middle;\n",
       "    }\n",
       "\n",
       "    .dataframe tbody tr th {\n",
       "        vertical-align: top;\n",
       "    }\n",
       "\n",
       "    .dataframe thead th {\n",
       "        text-align: right;\n",
       "    }\n",
       "</style>\n",
       "<table border=\"1\" class=\"dataframe\">\n",
       "  <thead>\n",
       "    <tr style=\"text-align: right;\">\n",
       "      <th></th>\n",
       "      <th>NAME_CONTRACT_TYPE</th>\n",
       "      <th>AMT_INCOME_TOTAL</th>\n",
       "      <th>EXT_SOURCE_2</th>\n",
       "      <th>ORGANIZATION_TYPE</th>\n",
       "      <th>OWN_CAR_AGE_0.0</th>\n",
       "      <th>OWN_CAR_AGE_1.0</th>\n",
       "      <th>OWN_CAR_AGE_2.0</th>\n",
       "      <th>OWN_CAR_AGE_3.0</th>\n",
       "      <th>OWN_CAR_AGE_4.0</th>\n",
       "      <th>OWN_CAR_AGE_5.0</th>\n",
       "      <th>...</th>\n",
       "      <th>CNT_FAM_MEMBERS7.0</th>\n",
       "      <th>AMT_ANNUITY</th>\n",
       "      <th>old2.0</th>\n",
       "      <th>old3.0</th>\n",
       "      <th>old4.0</th>\n",
       "      <th>old5.0</th>\n",
       "      <th>old6.0</th>\n",
       "      <th>CODE_GENDERF</th>\n",
       "      <th>CODE_GENDERM</th>\n",
       "      <th>TARGET</th>\n",
       "    </tr>\n",
       "  </thead>\n",
       "  <tbody>\n",
       "    <tr>\n",
       "      <th>0</th>\n",
       "      <td>0</td>\n",
       "      <td>112500.0</td>\n",
       "      <td>0.372591</td>\n",
       "      <td>4991</td>\n",
       "      <td>0</td>\n",
       "      <td>0</td>\n",
       "      <td>0</td>\n",
       "      <td>0</td>\n",
       "      <td>0</td>\n",
       "      <td>0</td>\n",
       "      <td>...</td>\n",
       "      <td>0</td>\n",
       "      <td>36328.5</td>\n",
       "      <td>1</td>\n",
       "      <td>0</td>\n",
       "      <td>0</td>\n",
       "      <td>0</td>\n",
       "      <td>0</td>\n",
       "      <td>1</td>\n",
       "      <td>0</td>\n",
       "      <td>0</td>\n",
       "    </tr>\n",
       "    <tr>\n",
       "      <th>1</th>\n",
       "      <td>0</td>\n",
       "      <td>225000.0</td>\n",
       "      <td>0.449567</td>\n",
       "      <td>30898</td>\n",
       "      <td>0</td>\n",
       "      <td>0</td>\n",
       "      <td>0</td>\n",
       "      <td>0</td>\n",
       "      <td>0</td>\n",
       "      <td>0</td>\n",
       "      <td>...</td>\n",
       "      <td>0</td>\n",
       "      <td>16893.0</td>\n",
       "      <td>0</td>\n",
       "      <td>0</td>\n",
       "      <td>0</td>\n",
       "      <td>1</td>\n",
       "      <td>0</td>\n",
       "      <td>1</td>\n",
       "      <td>0</td>\n",
       "      <td>0</td>\n",
       "    </tr>\n",
       "    <tr>\n",
       "      <th>2</th>\n",
       "      <td>0</td>\n",
       "      <td>54000.0</td>\n",
       "      <td>0.569503</td>\n",
       "      <td>1185</td>\n",
       "      <td>0</td>\n",
       "      <td>0</td>\n",
       "      <td>0</td>\n",
       "      <td>0</td>\n",
       "      <td>0</td>\n",
       "      <td>0</td>\n",
       "      <td>...</td>\n",
       "      <td>0</td>\n",
       "      <td>18256.5</td>\n",
       "      <td>0</td>\n",
       "      <td>0</td>\n",
       "      <td>0</td>\n",
       "      <td>1</td>\n",
       "      <td>0</td>\n",
       "      <td>1</td>\n",
       "      <td>0</td>\n",
       "      <td>0</td>\n",
       "    </tr>\n",
       "    <tr>\n",
       "      <th>3</th>\n",
       "      <td>0</td>\n",
       "      <td>67500.0</td>\n",
       "      <td>0.105235</td>\n",
       "      <td>30898</td>\n",
       "      <td>0</td>\n",
       "      <td>0</td>\n",
       "      <td>0</td>\n",
       "      <td>0</td>\n",
       "      <td>0</td>\n",
       "      <td>0</td>\n",
       "      <td>...</td>\n",
       "      <td>0</td>\n",
       "      <td>8901.0</td>\n",
       "      <td>0</td>\n",
       "      <td>0</td>\n",
       "      <td>0</td>\n",
       "      <td>0</td>\n",
       "      <td>1</td>\n",
       "      <td>1</td>\n",
       "      <td>0</td>\n",
       "      <td>0</td>\n",
       "    </tr>\n",
       "    <tr>\n",
       "      <th>4</th>\n",
       "      <td>0</td>\n",
       "      <td>157500.0</td>\n",
       "      <td>0.202490</td>\n",
       "      <td>37943</td>\n",
       "      <td>0</td>\n",
       "      <td>0</td>\n",
       "      <td>0</td>\n",
       "      <td>0</td>\n",
       "      <td>0</td>\n",
       "      <td>0</td>\n",
       "      <td>...</td>\n",
       "      <td>0</td>\n",
       "      <td>21546.0</td>\n",
       "      <td>1</td>\n",
       "      <td>0</td>\n",
       "      <td>0</td>\n",
       "      <td>0</td>\n",
       "      <td>0</td>\n",
       "      <td>0</td>\n",
       "      <td>1</td>\n",
       "      <td>1</td>\n",
       "    </tr>\n",
       "  </tbody>\n",
       "</table>\n",
       "<p>5 rows × 81 columns</p>\n",
       "</div>"
      ],
      "text/plain": [
       "   NAME_CONTRACT_TYPE  AMT_INCOME_TOTAL  EXT_SOURCE_2  ORGANIZATION_TYPE  \\\n",
       "0                   0          112500.0      0.372591               4991   \n",
       "1                   0          225000.0      0.449567              30898   \n",
       "2                   0           54000.0      0.569503               1185   \n",
       "3                   0           67500.0      0.105235              30898   \n",
       "4                   0          157500.0      0.202490              37943   \n",
       "\n",
       "   OWN_CAR_AGE_0.0  OWN_CAR_AGE_1.0  OWN_CAR_AGE_2.0  OWN_CAR_AGE_3.0  \\\n",
       "0                0                0                0                0   \n",
       "1                0                0                0                0   \n",
       "2                0                0                0                0   \n",
       "3                0                0                0                0   \n",
       "4                0                0                0                0   \n",
       "\n",
       "   OWN_CAR_AGE_4.0  OWN_CAR_AGE_5.0  ...  CNT_FAM_MEMBERS7.0  AMT_ANNUITY  \\\n",
       "0                0                0  ...                   0      36328.5   \n",
       "1                0                0  ...                   0      16893.0   \n",
       "2                0                0  ...                   0      18256.5   \n",
       "3                0                0  ...                   0       8901.0   \n",
       "4                0                0  ...                   0      21546.0   \n",
       "\n",
       "   old2.0  old3.0  old4.0  old5.0  old6.0  CODE_GENDERF  CODE_GENDERM  TARGET  \n",
       "0       1       0       0       0       0             1             0       0  \n",
       "1       0       0       0       1       0             1             0       0  \n",
       "2       0       0       0       1       0             1             0       0  \n",
       "3       0       0       0       0       1             1             0       0  \n",
       "4       1       0       0       0       0             0             1       1  \n",
       "\n",
       "[5 rows x 81 columns]"
      ]
     },
     "execution_count": 536,
     "metadata": {},
     "output_type": "execute_result"
    }
   ],
   "source": [
    "eda4.head()"
   ]
  },
  {
   "cell_type": "code",
   "execution_count": 557,
   "id": "d157e868",
   "metadata": {},
   "outputs": [],
   "source": [
    "# 目的変数と説明変数に分割\n",
    "X = eda4.drop(\"TARGET\", axis=1).values\n",
    "y = eda4[\"TARGET\"].values\n",
    "X_test = eda4_test.values"
   ]
  },
  {
   "cell_type": "code",
   "execution_count": 564,
   "id": "7cf3457d",
   "metadata": {},
   "outputs": [
    {
     "data": {
      "text/plain": [
       "80"
      ]
     },
     "execution_count": 564,
     "metadata": {},
     "output_type": "execute_result"
    }
   ],
   "source": [
    "np.size(X_test,1)"
   ]
  },
  {
   "cell_type": "code",
   "execution_count": 559,
   "id": "4cc70ede",
   "metadata": {},
   "outputs": [],
   "source": [
    "# 標準化\n",
    "sc = StandardScaler()\n",
    "sc.fit(X)\n",
    "X_std = sc.transform(X)\n",
    "X_test_std = sc.transform(X_test)"
   ]
  },
  {
   "cell_type": "code",
   "execution_count": 562,
   "id": "bf04a466",
   "metadata": {},
   "outputs": [],
   "source": [
    "# 訓練データと評価データに分割\n",
    "X_train, X_valid, y_train, y_valid = train_test_split(X_std, y, test_size=0.3, stratify=y, random_state=1)"
   ]
  },
  {
   "cell_type": "code",
   "execution_count": 414,
   "id": "af63870d",
   "metadata": {},
   "outputs": [
    {
     "data": {
      "text/html": [
       "<div>\n",
       "<style scoped>\n",
       "    .dataframe tbody tr th:only-of-type {\n",
       "        vertical-align: middle;\n",
       "    }\n",
       "\n",
       "    .dataframe tbody tr th {\n",
       "        vertical-align: top;\n",
       "    }\n",
       "\n",
       "    .dataframe thead th {\n",
       "        text-align: right;\n",
       "    }\n",
       "</style>\n",
       "<table border=\"1\" class=\"dataframe\">\n",
       "  <thead>\n",
       "    <tr style=\"text-align: right;\">\n",
       "      <th></th>\n",
       "      <th>0</th>\n",
       "      <th>1</th>\n",
       "      <th>2</th>\n",
       "      <th>3</th>\n",
       "      <th>4</th>\n",
       "      <th>5</th>\n",
       "      <th>6</th>\n",
       "      <th>7</th>\n",
       "      <th>8</th>\n",
       "      <th>9</th>\n",
       "      <th>...</th>\n",
       "      <th>112</th>\n",
       "      <th>113</th>\n",
       "      <th>114</th>\n",
       "      <th>115</th>\n",
       "      <th>116</th>\n",
       "      <th>117</th>\n",
       "      <th>118</th>\n",
       "      <th>119</th>\n",
       "      <th>120</th>\n",
       "      <th>121</th>\n",
       "    </tr>\n",
       "  </thead>\n",
       "  <tbody>\n",
       "    <tr>\n",
       "      <th>0</th>\n",
       "      <td>NaN</td>\n",
       "      <td>NaN</td>\n",
       "      <td>NaN</td>\n",
       "      <td>NaN</td>\n",
       "      <td>NaN</td>\n",
       "      <td>NaN</td>\n",
       "      <td>NaN</td>\n",
       "      <td>NaN</td>\n",
       "      <td>NaN</td>\n",
       "      <td>NaN</td>\n",
       "      <td>...</td>\n",
       "      <td>NaN</td>\n",
       "      <td>NaN</td>\n",
       "      <td>NaN</td>\n",
       "      <td>NaN</td>\n",
       "      <td>NaN</td>\n",
       "      <td>NaN</td>\n",
       "      <td>NaN</td>\n",
       "      <td>NaN</td>\n",
       "      <td>NaN</td>\n",
       "      <td>NaN</td>\n",
       "    </tr>\n",
       "    <tr>\n",
       "      <th>1</th>\n",
       "      <td>NaN</td>\n",
       "      <td>NaN</td>\n",
       "      <td>NaN</td>\n",
       "      <td>NaN</td>\n",
       "      <td>NaN</td>\n",
       "      <td>NaN</td>\n",
       "      <td>NaN</td>\n",
       "      <td>NaN</td>\n",
       "      <td>NaN</td>\n",
       "      <td>NaN</td>\n",
       "      <td>...</td>\n",
       "      <td>NaN</td>\n",
       "      <td>NaN</td>\n",
       "      <td>NaN</td>\n",
       "      <td>NaN</td>\n",
       "      <td>NaN</td>\n",
       "      <td>NaN</td>\n",
       "      <td>NaN</td>\n",
       "      <td>NaN</td>\n",
       "      <td>NaN</td>\n",
       "      <td>NaN</td>\n",
       "    </tr>\n",
       "    <tr>\n",
       "      <th>2</th>\n",
       "      <td>NaN</td>\n",
       "      <td>NaN</td>\n",
       "      <td>NaN</td>\n",
       "      <td>NaN</td>\n",
       "      <td>NaN</td>\n",
       "      <td>NaN</td>\n",
       "      <td>NaN</td>\n",
       "      <td>NaN</td>\n",
       "      <td>NaN</td>\n",
       "      <td>NaN</td>\n",
       "      <td>...</td>\n",
       "      <td>NaN</td>\n",
       "      <td>NaN</td>\n",
       "      <td>NaN</td>\n",
       "      <td>NaN</td>\n",
       "      <td>NaN</td>\n",
       "      <td>NaN</td>\n",
       "      <td>NaN</td>\n",
       "      <td>NaN</td>\n",
       "      <td>NaN</td>\n",
       "      <td>NaN</td>\n",
       "    </tr>\n",
       "    <tr>\n",
       "      <th>3</th>\n",
       "      <td>NaN</td>\n",
       "      <td>NaN</td>\n",
       "      <td>NaN</td>\n",
       "      <td>NaN</td>\n",
       "      <td>NaN</td>\n",
       "      <td>NaN</td>\n",
       "      <td>NaN</td>\n",
       "      <td>NaN</td>\n",
       "      <td>NaN</td>\n",
       "      <td>NaN</td>\n",
       "      <td>...</td>\n",
       "      <td>NaN</td>\n",
       "      <td>NaN</td>\n",
       "      <td>NaN</td>\n",
       "      <td>NaN</td>\n",
       "      <td>NaN</td>\n",
       "      <td>NaN</td>\n",
       "      <td>NaN</td>\n",
       "      <td>NaN</td>\n",
       "      <td>NaN</td>\n",
       "      <td>NaN</td>\n",
       "    </tr>\n",
       "    <tr>\n",
       "      <th>4</th>\n",
       "      <td>NaN</td>\n",
       "      <td>NaN</td>\n",
       "      <td>NaN</td>\n",
       "      <td>NaN</td>\n",
       "      <td>NaN</td>\n",
       "      <td>NaN</td>\n",
       "      <td>NaN</td>\n",
       "      <td>NaN</td>\n",
       "      <td>NaN</td>\n",
       "      <td>NaN</td>\n",
       "      <td>...</td>\n",
       "      <td>NaN</td>\n",
       "      <td>NaN</td>\n",
       "      <td>NaN</td>\n",
       "      <td>NaN</td>\n",
       "      <td>NaN</td>\n",
       "      <td>NaN</td>\n",
       "      <td>NaN</td>\n",
       "      <td>NaN</td>\n",
       "      <td>NaN</td>\n",
       "      <td>NaN</td>\n",
       "    </tr>\n",
       "    <tr>\n",
       "      <th>...</th>\n",
       "      <td>...</td>\n",
       "      <td>...</td>\n",
       "      <td>...</td>\n",
       "      <td>...</td>\n",
       "      <td>...</td>\n",
       "      <td>...</td>\n",
       "      <td>...</td>\n",
       "      <td>...</td>\n",
       "      <td>...</td>\n",
       "      <td>...</td>\n",
       "      <td>...</td>\n",
       "      <td>...</td>\n",
       "      <td>...</td>\n",
       "      <td>...</td>\n",
       "      <td>...</td>\n",
       "      <td>...</td>\n",
       "      <td>...</td>\n",
       "      <td>...</td>\n",
       "      <td>...</td>\n",
       "      <td>...</td>\n",
       "      <td>...</td>\n",
       "    </tr>\n",
       "    <tr>\n",
       "      <th>119836</th>\n",
       "      <td>NaN</td>\n",
       "      <td>NaN</td>\n",
       "      <td>NaN</td>\n",
       "      <td>NaN</td>\n",
       "      <td>NaN</td>\n",
       "      <td>NaN</td>\n",
       "      <td>NaN</td>\n",
       "      <td>NaN</td>\n",
       "      <td>NaN</td>\n",
       "      <td>NaN</td>\n",
       "      <td>...</td>\n",
       "      <td>NaN</td>\n",
       "      <td>NaN</td>\n",
       "      <td>NaN</td>\n",
       "      <td>NaN</td>\n",
       "      <td>NaN</td>\n",
       "      <td>NaN</td>\n",
       "      <td>NaN</td>\n",
       "      <td>NaN</td>\n",
       "      <td>NaN</td>\n",
       "      <td>NaN</td>\n",
       "    </tr>\n",
       "    <tr>\n",
       "      <th>119837</th>\n",
       "      <td>NaN</td>\n",
       "      <td>NaN</td>\n",
       "      <td>NaN</td>\n",
       "      <td>NaN</td>\n",
       "      <td>NaN</td>\n",
       "      <td>NaN</td>\n",
       "      <td>NaN</td>\n",
       "      <td>NaN</td>\n",
       "      <td>NaN</td>\n",
       "      <td>NaN</td>\n",
       "      <td>...</td>\n",
       "      <td>NaN</td>\n",
       "      <td>NaN</td>\n",
       "      <td>NaN</td>\n",
       "      <td>NaN</td>\n",
       "      <td>NaN</td>\n",
       "      <td>NaN</td>\n",
       "      <td>NaN</td>\n",
       "      <td>NaN</td>\n",
       "      <td>NaN</td>\n",
       "      <td>NaN</td>\n",
       "    </tr>\n",
       "    <tr>\n",
       "      <th>119838</th>\n",
       "      <td>NaN</td>\n",
       "      <td>NaN</td>\n",
       "      <td>NaN</td>\n",
       "      <td>NaN</td>\n",
       "      <td>NaN</td>\n",
       "      <td>NaN</td>\n",
       "      <td>NaN</td>\n",
       "      <td>NaN</td>\n",
       "      <td>NaN</td>\n",
       "      <td>NaN</td>\n",
       "      <td>...</td>\n",
       "      <td>NaN</td>\n",
       "      <td>NaN</td>\n",
       "      <td>NaN</td>\n",
       "      <td>NaN</td>\n",
       "      <td>NaN</td>\n",
       "      <td>NaN</td>\n",
       "      <td>NaN</td>\n",
       "      <td>NaN</td>\n",
       "      <td>NaN</td>\n",
       "      <td>NaN</td>\n",
       "    </tr>\n",
       "    <tr>\n",
       "      <th>119839</th>\n",
       "      <td>NaN</td>\n",
       "      <td>NaN</td>\n",
       "      <td>NaN</td>\n",
       "      <td>NaN</td>\n",
       "      <td>NaN</td>\n",
       "      <td>NaN</td>\n",
       "      <td>NaN</td>\n",
       "      <td>NaN</td>\n",
       "      <td>NaN</td>\n",
       "      <td>NaN</td>\n",
       "      <td>...</td>\n",
       "      <td>NaN</td>\n",
       "      <td>NaN</td>\n",
       "      <td>NaN</td>\n",
       "      <td>NaN</td>\n",
       "      <td>NaN</td>\n",
       "      <td>NaN</td>\n",
       "      <td>NaN</td>\n",
       "      <td>NaN</td>\n",
       "      <td>NaN</td>\n",
       "      <td>NaN</td>\n",
       "    </tr>\n",
       "    <tr>\n",
       "      <th>119840</th>\n",
       "      <td>NaN</td>\n",
       "      <td>NaN</td>\n",
       "      <td>NaN</td>\n",
       "      <td>NaN</td>\n",
       "      <td>NaN</td>\n",
       "      <td>NaN</td>\n",
       "      <td>NaN</td>\n",
       "      <td>NaN</td>\n",
       "      <td>NaN</td>\n",
       "      <td>NaN</td>\n",
       "      <td>...</td>\n",
       "      <td>NaN</td>\n",
       "      <td>NaN</td>\n",
       "      <td>NaN</td>\n",
       "      <td>NaN</td>\n",
       "      <td>NaN</td>\n",
       "      <td>NaN</td>\n",
       "      <td>NaN</td>\n",
       "      <td>NaN</td>\n",
       "      <td>NaN</td>\n",
       "      <td>NaN</td>\n",
       "    </tr>\n",
       "  </tbody>\n",
       "</table>\n",
       "<p>119841 rows × 122 columns</p>\n",
       "</div>"
      ],
      "text/plain": [
       "        0    1    2    3    4    5    6    7    8    9    ...  112  113  114  \\\n",
       "0       NaN  NaN  NaN  NaN  NaN  NaN  NaN  NaN  NaN  NaN  ...  NaN  NaN  NaN   \n",
       "1       NaN  NaN  NaN  NaN  NaN  NaN  NaN  NaN  NaN  NaN  ...  NaN  NaN  NaN   \n",
       "2       NaN  NaN  NaN  NaN  NaN  NaN  NaN  NaN  NaN  NaN  ...  NaN  NaN  NaN   \n",
       "3       NaN  NaN  NaN  NaN  NaN  NaN  NaN  NaN  NaN  NaN  ...  NaN  NaN  NaN   \n",
       "4       NaN  NaN  NaN  NaN  NaN  NaN  NaN  NaN  NaN  NaN  ...  NaN  NaN  NaN   \n",
       "...     ...  ...  ...  ...  ...  ...  ...  ...  ...  ...  ...  ...  ...  ...   \n",
       "119836  NaN  NaN  NaN  NaN  NaN  NaN  NaN  NaN  NaN  NaN  ...  NaN  NaN  NaN   \n",
       "119837  NaN  NaN  NaN  NaN  NaN  NaN  NaN  NaN  NaN  NaN  ...  NaN  NaN  NaN   \n",
       "119838  NaN  NaN  NaN  NaN  NaN  NaN  NaN  NaN  NaN  NaN  ...  NaN  NaN  NaN   \n",
       "119839  NaN  NaN  NaN  NaN  NaN  NaN  NaN  NaN  NaN  NaN  ...  NaN  NaN  NaN   \n",
       "119840  NaN  NaN  NaN  NaN  NaN  NaN  NaN  NaN  NaN  NaN  ...  NaN  NaN  NaN   \n",
       "\n",
       "        115  116  117  118  119  120  121  \n",
       "0       NaN  NaN  NaN  NaN  NaN  NaN  NaN  \n",
       "1       NaN  NaN  NaN  NaN  NaN  NaN  NaN  \n",
       "2       NaN  NaN  NaN  NaN  NaN  NaN  NaN  \n",
       "3       NaN  NaN  NaN  NaN  NaN  NaN  NaN  \n",
       "4       NaN  NaN  NaN  NaN  NaN  NaN  NaN  \n",
       "...     ...  ...  ...  ...  ...  ...  ...  \n",
       "119836  NaN  NaN  NaN  NaN  NaN  NaN  NaN  \n",
       "119837  NaN  NaN  NaN  NaN  NaN  NaN  NaN  \n",
       "119838  NaN  NaN  NaN  NaN  NaN  NaN  NaN  \n",
       "119839  NaN  NaN  NaN  NaN  NaN  NaN  NaN  \n",
       "119840  NaN  NaN  NaN  NaN  NaN  NaN  NaN  \n",
       "\n",
       "[119841 rows x 122 columns]"
      ]
     },
     "execution_count": 414,
     "metadata": {},
     "output_type": "execute_result"
    }
   ],
   "source": [
    "pd.DataFrame(X_train)[pd.DataFrame(X_train).isna()]"
   ]
  },
  {
   "cell_type": "code",
   "execution_count": 569,
   "id": "f273f61d",
   "metadata": {},
   "outputs": [
    {
     "name": "stdout",
     "output_type": "stream",
     "text": [
      "Train Score: 0.6997161483485506\n",
      "Valid Score: 0.6947718044627478\n"
     ]
    }
   ],
   "source": [
    "#LogisticRegression\n",
    "from sklearn.linear_model import LogisticRegression\n",
    "\n",
    "lr = LogisticRegression(random_state = 1)\n",
    "lr.fit(X_train, y_train)\n",
    "\n",
    "lr_train_pred = lr.predict_proba(X_train)[:, 1]\n",
    "lr_valid_pred = lr.predict_proba(X_valid)[:, 1]\n",
    "print(f'Train Score: {roc_auc_score(y_train, lr_train_pred)}')\n",
    "print(f'Valid Score: {roc_auc_score(y_valid, lr_valid_pred)}')\n",
    "\n",
    "\n",
    "\n"
   ]
  },
  {
   "cell_type": "code",
   "execution_count": 565,
   "id": "1198ea5d",
   "metadata": {},
   "outputs": [
    {
     "data": {
      "text/plain": [
       "80"
      ]
     },
     "execution_count": 565,
     "metadata": {},
     "output_type": "execute_result"
    }
   ],
   "source": [
    "np.size(X_train,0)\n",
    "np.size(X_train,1)"
   ]
  },
  {
   "cell_type": "code",
   "execution_count": null,
   "id": "08014387",
   "metadata": {},
   "outputs": [],
   "source": []
  },
  {
   "cell_type": "code",
   "execution_count": 568,
   "id": "24a998b2",
   "metadata": {},
   "outputs": [
    {
     "name": "stdout",
     "output_type": "stream",
     "text": [
      "Train Score: 0.7712388985360641\n",
      "Test Score: 0.6626030946386166\n"
     ]
    }
   ],
   "source": [
    "#MLPClassifier\n",
    "from sklearn.neural_network import MLPClassifier\n",
    "\n",
    "mlp = MLPClassifier(random_state = 1)\n",
    "mlp.fit(X_train, y_train)\n",
    "\n",
    "mlp_train_pred = mlp.predict_proba(X_train)[:, 1]\n",
    "mlp_valid_pred = mlp.predict_proba(X_valid)[:, 1]\n",
    "print(f\"Train Score: {roc_auc_score(y_train, mlp_train_pred)}\")\n",
    "print(f\"Test Score: {roc_auc_score(y_valid, mlp_valid_pred)}\")\n"
   ]
  },
  {
   "cell_type": "code",
   "execution_count": 570,
   "id": "096de742",
   "metadata": {},
   "outputs": [
    {
     "name": "stdout",
     "output_type": "stream",
     "text": [
      "Train Score: 0.8341912071522228\n",
      "Valid Score: 0.6963289141506055\n"
     ]
    }
   ],
   "source": [
    "# XGBClassifier\n",
    "from xgboost import XGBClassifier\n",
    "\n",
    "xgb = XGBClassifier(random_state= 1)\n",
    "xgb.fit(X_train, y_train)\n",
    "\n",
    "xgb_train_pred = xgb.predict_proba(X_train)[:, 1]\n",
    "xgb_valid_pred = xgb.predict_proba(X_valid)[:, 1]\n",
    "print(f\"Train Score: {roc_auc_score(y_train, xgb_train_pred)}\")\n",
    "print(f\"Valid Score: {roc_auc_score(y_valid, xgb_valid_pred)}\")"
   ]
  },
  {
   "cell_type": "code",
   "execution_count": 571,
   "id": "9fb795d7",
   "metadata": {},
   "outputs": [
    {
     "name": "stdout",
     "output_type": "stream",
     "text": [
      "Train Score: 0.7790290353936631\n",
      "Valid Score: 0.708121920647198\n"
     ]
    }
   ],
   "source": [
    "# LGBMClassfier\n",
    "from lightgbm import LGBMClassifier\n",
    "\n",
    "lgb = LGBMClassifier(random_state = 1)\n",
    "lgb.fit(X_train, y_train)\n",
    "\n",
    "lgb_train_pred = lgb.predict_proba(X_train)[:, 1]\n",
    "lgb_valid_pred = lgb.predict_proba(X_valid)[:, 1]\n",
    "print(f\"Train Score: {roc_auc_score(y_train, lgb_train_pred)}\")\n",
    "print(f\"Valid Score: {roc_auc_score(y_valid, lgb_valid_pred)}\")"
   ]
  },
  {
   "cell_type": "code",
   "execution_count": 572,
   "id": "1775816a",
   "metadata": {},
   "outputs": [
    {
     "name": "stdout",
     "output_type": "stream",
     "text": [
      "Train Score: 0.8039138099370924\n",
      "Valid Score: 0.7054663216815811\n"
     ]
    }
   ],
   "source": [
    "train_pred = (lr_train_pred + mlp_train_pred + lgb_train_pred + xgb_train_pred)/4\n",
    "valid_pred = (lr_valid_pred + mlp_valid_pred + lgb_valid_pred + xgb_valid_pred)/4\n",
    "\n",
    "print(f\"Train Score: {roc_auc_score(y_train, train_pred)}\")\n",
    "print(f\"Valid Score: {roc_auc_score(y_valid, valid_pred)}\")"
   ]
  },
  {
   "cell_type": "code",
   "execution_count": 567,
   "id": "285ffccf",
   "metadata": {},
   "outputs": [],
   "source": [
    "pred = mlp.predict_proba(X_test)[:, 1]"
   ]
  },
  {
   "cell_type": "markdown",
   "id": "1c11e4a7",
   "metadata": {},
   "source": [
    "## 自己的5"
   ]
  },
  {
   "cell_type": "code",
   "execution_count": 76,
   "id": "b6aad53f",
   "metadata": {},
   "outputs": [],
   "source": [
    "#３つに絞る\n",
    "features5 = ['DAYS_EMPLOYED', 'FLAG_OWN_REALTY', 'EXT_SOURCE_3']\n",
    "eda5 = train[features5]\n",
    "\n",
    "eda5_test = test[features5]"
   ]
  },
  {
   "cell_type": "code",
   "execution_count": 77,
   "id": "409eeae6",
   "metadata": {},
   "outputs": [
    {
     "data": {
      "text/html": [
       "<div>\n",
       "<style scoped>\n",
       "    .dataframe tbody tr th:only-of-type {\n",
       "        vertical-align: middle;\n",
       "    }\n",
       "\n",
       "    .dataframe tbody tr th {\n",
       "        vertical-align: top;\n",
       "    }\n",
       "\n",
       "    .dataframe thead th {\n",
       "        text-align: right;\n",
       "    }\n",
       "</style>\n",
       "<table border=\"1\" class=\"dataframe\">\n",
       "  <thead>\n",
       "    <tr style=\"text-align: right;\">\n",
       "      <th></th>\n",
       "      <th>DAYS_EMPLOYED</th>\n",
       "      <th>FLAG_OWN_REALTY</th>\n",
       "      <th>EXT_SOURCE_3</th>\n",
       "    </tr>\n",
       "  </thead>\n",
       "  <tbody>\n",
       "    <tr>\n",
       "      <th>0</th>\n",
       "      <td>-878</td>\n",
       "      <td>N</td>\n",
       "      <td>NaN</td>\n",
       "    </tr>\n",
       "    <tr>\n",
       "      <th>1</th>\n",
       "      <td>365243</td>\n",
       "      <td>Y</td>\n",
       "      <td>0.553165</td>\n",
       "    </tr>\n",
       "    <tr>\n",
       "      <th>2</th>\n",
       "      <td>-523</td>\n",
       "      <td>Y</td>\n",
       "      <td>NaN</td>\n",
       "    </tr>\n",
       "    <tr>\n",
       "      <th>3</th>\n",
       "      <td>365243</td>\n",
       "      <td>Y</td>\n",
       "      <td>0.767523</td>\n",
       "    </tr>\n",
       "    <tr>\n",
       "      <th>4</th>\n",
       "      <td>-697</td>\n",
       "      <td>N</td>\n",
       "      <td>0.669057</td>\n",
       "    </tr>\n",
       "  </tbody>\n",
       "</table>\n",
       "</div>"
      ],
      "text/plain": [
       "   DAYS_EMPLOYED FLAG_OWN_REALTY  EXT_SOURCE_3\n",
       "0           -878               N           NaN\n",
       "1         365243               Y      0.553165\n",
       "2           -523               Y           NaN\n",
       "3         365243               Y      0.767523\n",
       "4           -697               N      0.669057"
      ]
     },
     "execution_count": 77,
     "metadata": {},
     "output_type": "execute_result"
    }
   ],
   "source": [
    "eda5.head(5)"
   ]
  },
  {
   "cell_type": "code",
   "execution_count": 78,
   "id": "cadb2cd3",
   "metadata": {},
   "outputs": [
    {
     "name": "stdout",
     "output_type": "stream",
     "text": [
      "DAYS_EMPLOYED          0\n",
      "FLAG_OWN_REALTY    34241\n",
      "EXT_SOURCE_3       54586\n",
      "dtype: int64\n",
      "DAYS_EMPLOYED          0\n",
      "FLAG_OWN_REALTY    34241\n",
      "EXT_SOURCE_3       54586\n",
      "dtype: int64\n",
      "(171202, 3)\n"
     ]
    }
   ],
   "source": [
    "print(eda5.isnull().sum())\n",
    "print(eda5.isnull().sum())\n",
    "print(eda5.shape)"
   ]
  },
  {
   "cell_type": "code",
   "execution_count": 79,
   "id": "c7b6a65f",
   "metadata": {},
   "outputs": [
    {
     "data": {
      "text/html": [
       "<div>\n",
       "<style scoped>\n",
       "    .dataframe tbody tr th:only-of-type {\n",
       "        vertical-align: middle;\n",
       "    }\n",
       "\n",
       "    .dataframe tbody tr th {\n",
       "        vertical-align: top;\n",
       "    }\n",
       "\n",
       "    .dataframe thead th {\n",
       "        text-align: right;\n",
       "    }\n",
       "</style>\n",
       "<table border=\"1\" class=\"dataframe\">\n",
       "  <thead>\n",
       "    <tr style=\"text-align: right;\">\n",
       "      <th></th>\n",
       "      <th>DAYS_EMPLOYED</th>\n",
       "      <th>EXT_SOURCE_3</th>\n",
       "    </tr>\n",
       "  </thead>\n",
       "  <tbody>\n",
       "    <tr>\n",
       "      <th>DAYS_EMPLOYED</th>\n",
       "      <td>1.000000</td>\n",
       "      <td>0.116883</td>\n",
       "    </tr>\n",
       "    <tr>\n",
       "      <th>EXT_SOURCE_3</th>\n",
       "      <td>0.116883</td>\n",
       "      <td>1.000000</td>\n",
       "    </tr>\n",
       "  </tbody>\n",
       "</table>\n",
       "</div>"
      ],
      "text/plain": [
       "               DAYS_EMPLOYED  EXT_SOURCE_3\n",
       "DAYS_EMPLOYED       1.000000      0.116883\n",
       "EXT_SOURCE_3        0.116883      1.000000"
      ]
     },
     "execution_count": 79,
     "metadata": {},
     "output_type": "execute_result"
    }
   ],
   "source": [
    "eda5.corr()"
   ]
  },
  {
   "cell_type": "code",
   "execution_count": 80,
   "id": "13d01b54",
   "metadata": {},
   "outputs": [],
   "source": [
    "eda5['TARGET'] = train['TARGET']"
   ]
  },
  {
   "cell_type": "code",
   "execution_count": 81,
   "id": "ac73fcab",
   "metadata": {},
   "outputs": [
    {
     "data": {
      "text/plain": [
       "<AxesSubplot:>"
      ]
     },
     "execution_count": 81,
     "metadata": {},
     "output_type": "execute_result"
    },
    {
     "data": {
      "image/png": "[encoded data removed]",
      "text/plain": [
       "<Figure size 432x288 with 2 Axes>"
      ]
     },
     "metadata": {
      "needs_background": "light"
     },
     "output_type": "display_data"
    }
   ],
   "source": [
    "sns.heatmap(eda5.corr(),square=True,annot=True)"
   ]
  },
  {
   "cell_type": "code",
   "execution_count": 82,
   "id": "6eddb3ba",
   "metadata": {},
   "outputs": [
    {
     "data": {
      "text/plain": [
       "<AxesSubplot:xlabel='FLAG_OWN_REALTY', ylabel='count'>"
      ]
     },
     "execution_count": 82,
     "metadata": {},
     "output_type": "execute_result"
    },
    {
     "data": {
      "image/png": "[encoded data removed]",
      "text/plain": [
       "<Figure size 432x288 with 1 Axes>"
      ]
     },
     "metadata": {
      "needs_background": "light"
     },
     "output_type": "display_data"
    }
   ],
   "source": [
    "#データ可視化\n",
    "sns.countplot(data = eda5, x = 'FLAG_OWN_REALTY')"
   ]
  },
  {
   "cell_type": "code",
   "execution_count": 83,
   "id": "562fc9a0",
   "metadata": {
    "scrolled": false
   },
   "outputs": [],
   "source": [
    "#データ加工\n",
    "eda5.fillna({'FLAG_OWN_REALTY':'Y'},inplace = True)\n",
    "eda5_test.fillna({'FLAG_OWN_REALTY':'Y'},inplace = True)"
   ]
  },
  {
   "cell_type": "code",
   "execution_count": 84,
   "id": "4a42e503",
   "metadata": {},
   "outputs": [
    {
     "data": {
      "text/html": [
       "<div>\n",
       "<style scoped>\n",
       "    .dataframe tbody tr th:only-of-type {\n",
       "        vertical-align: middle;\n",
       "    }\n",
       "\n",
       "    .dataframe tbody tr th {\n",
       "        vertical-align: top;\n",
       "    }\n",
       "\n",
       "    .dataframe thead th {\n",
       "        text-align: right;\n",
       "    }\n",
       "</style>\n",
       "<table border=\"1\" class=\"dataframe\">\n",
       "  <thead>\n",
       "    <tr style=\"text-align: right;\">\n",
       "      <th></th>\n",
       "      <th>DAYS_EMPLOYED</th>\n",
       "      <th>EXT_SOURCE_3</th>\n",
       "      <th>FLAG_OWN_REALTYN</th>\n",
       "      <th>FLAG_OWN_REALTYY</th>\n",
       "    </tr>\n",
       "  </thead>\n",
       "  <tbody>\n",
       "    <tr>\n",
       "      <th>0</th>\n",
       "      <td>-2372</td>\n",
       "      <td>NaN</td>\n",
       "      <td>1</td>\n",
       "      <td>0</td>\n",
       "    </tr>\n",
       "    <tr>\n",
       "      <th>1</th>\n",
       "      <td>-1712</td>\n",
       "      <td>NaN</td>\n",
       "      <td>1</td>\n",
       "      <td>0</td>\n",
       "    </tr>\n",
       "    <tr>\n",
       "      <th>2</th>\n",
       "      <td>-553</td>\n",
       "      <td>0.389339</td>\n",
       "      <td>0</td>\n",
       "      <td>1</td>\n",
       "    </tr>\n",
       "    <tr>\n",
       "      <th>3</th>\n",
       "      <td>-1438</td>\n",
       "      <td>0.217629</td>\n",
       "      <td>0</td>\n",
       "      <td>1</td>\n",
       "    </tr>\n",
       "    <tr>\n",
       "      <th>4</th>\n",
       "      <td>-2362</td>\n",
       "      <td>NaN</td>\n",
       "      <td>0</td>\n",
       "      <td>1</td>\n",
       "    </tr>\n",
       "  </tbody>\n",
       "</table>\n",
       "</div>"
      ],
      "text/plain": [
       "   DAYS_EMPLOYED  EXT_SOURCE_3  FLAG_OWN_REALTYN  FLAG_OWN_REALTYY\n",
       "0          -2372           NaN                 1                 0\n",
       "1          -1712           NaN                 1                 0\n",
       "2           -553      0.389339                 0                 1\n",
       "3          -1438      0.217629                 0                 1\n",
       "4          -2362           NaN                 0                 1"
      ]
     },
     "execution_count": 84,
     "metadata": {},
     "output_type": "execute_result"
    }
   ],
   "source": [
    "# FLAG_OWN_REALTYをOne Hot Encoding\n",
    "eda5_FLAG_OWN_REALTY_ohe = pd.get_dummies(eda5[\"FLAG_OWN_REALTY\"]).add_prefix(\"FLAG_OWN_REALTY\")\n",
    "eda5_test_FLAG_OWN_REALTY_ohe = pd.get_dummies(eda5_test[\"FLAG_OWN_REALTY\"]).add_prefix(\"FLAG_OWN_REALTY\")\n",
    "\n",
    "eda5 = pd.concat([eda5, eda5_FLAG_OWN_REALTY_ohe], axis=1)\n",
    "eda5_test = pd.concat([eda5_test, eda5_test_FLAG_OWN_REALTY_ohe], axis=1)\n",
    "\n",
    "eda5.drop('FLAG_OWN_REALTY', axis=1, inplace=True)\n",
    "eda5_test.drop('FLAG_OWN_REALTY', axis=1, inplace=True)\n",
    "\n",
    "eda5_test.head(5)"
   ]
  },
  {
   "cell_type": "code",
   "execution_count": 85,
   "id": "2a7355f8",
   "metadata": {},
   "outputs": [
    {
     "data": {
      "text/plain": [
       "DAYS_EMPLOYED           0\n",
       "EXT_SOURCE_3        19690\n",
       "FLAG_OWN_REALTYN        0\n",
       "FLAG_OWN_REALTYY        0\n",
       "dtype: int64"
      ]
     },
     "execution_count": 85,
     "metadata": {},
     "output_type": "execute_result"
    }
   ],
   "source": [
    "eda5_test.isnull().sum()"
   ]
  },
  {
   "cell_type": "code",
   "execution_count": 86,
   "id": "1f5f43c3",
   "metadata": {},
   "outputs": [
    {
     "data": {
      "text/plain": [
       "<seaborn.axisgrid.FacetGrid at 0x7f843014a730>"
      ]
     },
     "execution_count": 86,
     "metadata": {},
     "output_type": "execute_result"
    },
    {
     "data": {
      "image/png": "[encoded data removed]",
      "text/plain": [
       "<Figure size 360x360 with 1 Axes>"
      ]
     },
     "metadata": {
      "needs_background": "light"
     },
     "output_type": "display_data"
    }
   ],
   "source": [
    "#可視化\n",
    "sns.displot(data = eda5, x = 'DAYS_EMPLOYED')"
   ]
  },
  {
   "cell_type": "code",
   "execution_count": 87,
   "id": "b58ce9b2",
   "metadata": {},
   "outputs": [],
   "source": [
    "#データ加工\n",
    "eda5.loc[eda5[\"DAYS_EMPLOYED\"] >= 350000, \"DAYS_EMPLOYED\"] = np.nan\n",
    "eda5_test.loc[eda5_test[\"DAYS_EMPLOYED\"] >= 350000, \"DAYS_EMPLOYED\"] = np.nan\n"
   ]
  },
  {
   "cell_type": "code",
   "execution_count": 88,
   "id": "adfac523",
   "metadata": {},
   "outputs": [
    {
     "data": {
      "text/plain": [
       "30898"
      ]
     },
     "execution_count": 88,
     "metadata": {},
     "output_type": "execute_result"
    }
   ],
   "source": [
    "eda5[\"DAYS_EMPLOYED\"].isnull().sum()"
   ]
  },
  {
   "cell_type": "code",
   "execution_count": 89,
   "id": "5a72421d",
   "metadata": {},
   "outputs": [
    {
     "data": {
      "text/plain": [
       "-2388.5831052571557"
      ]
     },
     "execution_count": 89,
     "metadata": {},
     "output_type": "execute_result"
    }
   ],
   "source": [
    "eda5[\"DAYS_EMPLOYED\"].mean()"
   ]
  },
  {
   "cell_type": "code",
   "execution_count": 90,
   "id": "0d2b8026",
   "metadata": {},
   "outputs": [
    {
     "data": {
      "text/plain": [
       "0   -200.0\n",
       "dtype: float64"
      ]
     },
     "execution_count": 90,
     "metadata": {},
     "output_type": "execute_result"
    }
   ],
   "source": [
    "eda5[\"DAYS_EMPLOYED\"].mode()"
   ]
  },
  {
   "cell_type": "code",
   "execution_count": 843,
   "id": "10acc3c5",
   "metadata": {},
   "outputs": [
    {
     "data": {
      "text/plain": [
       "<AxesSubplot:xlabel='DAYS_EMPLOYED'>"
      ]
     },
     "execution_count": 843,
     "metadata": {},
     "output_type": "execute_result"
    },
    {
     "data": {
      "image/png": "[encoded data removed]",
      "text/plain": [
       "<Figure size 1440x1440 with 1 Axes>"
      ]
     },
     "metadata": {},
     "output_type": "display_data"
    }
   ],
   "source": [
    "sns.boxplot(data = eda5, x = 'DAYS_EMPLOYED')"
   ]
  },
  {
   "cell_type": "code",
   "execution_count": 91,
   "id": "ca9229b8",
   "metadata": {},
   "outputs": [],
   "source": [
    "eda5 = eda5.fillna({'DAYS_EMPLOYED':-2388.5831052571557})\n",
    "eda5_test = eda5_test.fillna({'DAYS_EMPLOYED':-2388.5831052571557})"
   ]
  },
  {
   "cell_type": "code",
   "execution_count": 92,
   "id": "64235bc4",
   "metadata": {},
   "outputs": [],
   "source": [
    "eda5['YEARS_EMPLOYED'] = np.floor(eda5['DAYS_EMPLOYED']/(-365))\n",
    "eda5_test['YEARS_EMPLOYED'] = np.floor(eda5_test['DAYS_EMPLOYED']/(-365))"
   ]
  },
  {
   "cell_type": "code",
   "execution_count": 93,
   "id": "7c5075e2",
   "metadata": {},
   "outputs": [
    {
     "data": {
      "text/html": [
       "<div>\n",
       "<style scoped>\n",
       "    .dataframe tbody tr th:only-of-type {\n",
       "        vertical-align: middle;\n",
       "    }\n",
       "\n",
       "    .dataframe tbody tr th {\n",
       "        vertical-align: top;\n",
       "    }\n",
       "\n",
       "    .dataframe thead th {\n",
       "        text-align: right;\n",
       "    }\n",
       "</style>\n",
       "<table border=\"1\" class=\"dataframe\">\n",
       "  <thead>\n",
       "    <tr style=\"text-align: right;\">\n",
       "      <th></th>\n",
       "      <th>DAYS_EMPLOYED</th>\n",
       "      <th>EXT_SOURCE_3</th>\n",
       "      <th>TARGET</th>\n",
       "      <th>FLAG_OWN_REALTYN</th>\n",
       "      <th>FLAG_OWN_REALTYY</th>\n",
       "      <th>YEARS_EMPLOYED</th>\n",
       "    </tr>\n",
       "  </thead>\n",
       "  <tbody>\n",
       "    <tr>\n",
       "      <th>0</th>\n",
       "      <td>-878.000000</td>\n",
       "      <td>NaN</td>\n",
       "      <td>0</td>\n",
       "      <td>1</td>\n",
       "      <td>0</td>\n",
       "      <td>2.0</td>\n",
       "    </tr>\n",
       "    <tr>\n",
       "      <th>1</th>\n",
       "      <td>-2388.583105</td>\n",
       "      <td>0.553165</td>\n",
       "      <td>0</td>\n",
       "      <td>0</td>\n",
       "      <td>1</td>\n",
       "      <td>6.0</td>\n",
       "    </tr>\n",
       "    <tr>\n",
       "      <th>2</th>\n",
       "      <td>-523.000000</td>\n",
       "      <td>NaN</td>\n",
       "      <td>0</td>\n",
       "      <td>0</td>\n",
       "      <td>1</td>\n",
       "      <td>1.0</td>\n",
       "    </tr>\n",
       "    <tr>\n",
       "      <th>3</th>\n",
       "      <td>-2388.583105</td>\n",
       "      <td>0.767523</td>\n",
       "      <td>0</td>\n",
       "      <td>0</td>\n",
       "      <td>1</td>\n",
       "      <td>6.0</td>\n",
       "    </tr>\n",
       "    <tr>\n",
       "      <th>4</th>\n",
       "      <td>-697.000000</td>\n",
       "      <td>0.669057</td>\n",
       "      <td>1</td>\n",
       "      <td>1</td>\n",
       "      <td>0</td>\n",
       "      <td>1.0</td>\n",
       "    </tr>\n",
       "  </tbody>\n",
       "</table>\n",
       "</div>"
      ],
      "text/plain": [
       "   DAYS_EMPLOYED  EXT_SOURCE_3  TARGET  FLAG_OWN_REALTYN  FLAG_OWN_REALTYY  \\\n",
       "0    -878.000000           NaN       0                 1                 0   \n",
       "1   -2388.583105      0.553165       0                 0                 1   \n",
       "2    -523.000000           NaN       0                 0                 1   \n",
       "3   -2388.583105      0.767523       0                 0                 1   \n",
       "4    -697.000000      0.669057       1                 1                 0   \n",
       "\n",
       "   YEARS_EMPLOYED  \n",
       "0             2.0  \n",
       "1             6.0  \n",
       "2             1.0  \n",
       "3             6.0  \n",
       "4             1.0  "
      ]
     },
     "execution_count": 93,
     "metadata": {},
     "output_type": "execute_result"
    }
   ],
   "source": [
    "eda5.head()"
   ]
  },
  {
   "cell_type": "code",
   "execution_count": 73,
   "id": "a8e526d5",
   "metadata": {},
   "outputs": [
    {
     "data": {
      "text/plain": [
       "<AxesSubplot:xlabel='DAYS_EMPLOYED'>"
      ]
     },
     "execution_count": 73,
     "metadata": {},
     "output_type": "execute_result"
    },
    {
     "data": {
      "image/png": "[encoded data removed]",
      "text/plain": [
       "<Figure size 432x288 with 1 Axes>"
      ]
     },
     "metadata": {
      "needs_background": "light"
     },
     "output_type": "display_data"
    }
   ],
   "source": [
    "sns.boxplot(data = eda5, x = 'DAYS_EMPLOYED')"
   ]
  },
  {
   "cell_type": "code",
   "execution_count": 94,
   "id": "e0805c34",
   "metadata": {},
   "outputs": [],
   "source": [
    "a = eda5[eda5['DAYS_EMPLOYED'] >= 350000]"
   ]
  },
  {
   "cell_type": "code",
   "execution_count": 95,
   "id": "a9aac370",
   "metadata": {},
   "outputs": [
    {
     "data": {
      "text/plain": [
       "(0, 6)"
      ]
     },
     "execution_count": 95,
     "metadata": {},
     "output_type": "execute_result"
    }
   ],
   "source": [
    "a.shape"
   ]
  },
  {
   "cell_type": "code",
   "execution_count": 96,
   "id": "9b3debbf",
   "metadata": {},
   "outputs": [
    {
     "data": {
      "text/plain": [
       "array([ 2.,  6.,  1., 11., 14.,  5.,  0.,  9., 15.,  7.,  4.,  3., 10.,\n",
       "       12., 17., 13., 33., 23.,  8., 16., 22., 25., 19., 29., 26., 20.,\n",
       "       18., 27., 24., 30., 36., 28., 31., 21., 32., 38., 35., 34., 40.,\n",
       "       44., 41., 39., 49., 37., 43., 48., 42., 45., 46., 47.])"
      ]
     },
     "execution_count": 96,
     "metadata": {},
     "output_type": "execute_result"
    }
   ],
   "source": [
    "eda5['YEARS_EMPLOYED'].unique()"
   ]
  },
  {
   "cell_type": "code",
   "execution_count": 97,
   "id": "67bdc0d2",
   "metadata": {},
   "outputs": [
    {
     "data": {
      "text/plain": [
       "array([1., 0., 2., 3., 4., 5., 6., 7., 8., 9.])"
      ]
     },
     "execution_count": 97,
     "metadata": {},
     "output_type": "execute_result"
    }
   ],
   "source": [
    "# YEARS_EMPLOYEDをグループ分け\n",
    "eda5[\"YEARS_EMPLOYED\"] = eda5[\"YEARS_EMPLOYED\"] // 5\n",
    "eda5_test[\"YEARS_EMPLOYED\"] = eda5_test[\"YEARS_EMPLOYED\"] // 5\n",
    "eda5_test[\"YEARS_EMPLOYED\"].unique()"
   ]
  },
  {
   "cell_type": "code",
   "execution_count": 98,
   "id": "02801eb9",
   "metadata": {},
   "outputs": [
    {
     "data": {
      "text/plain": [
       "10"
      ]
     },
     "execution_count": 98,
     "metadata": {},
     "output_type": "execute_result"
    }
   ],
   "source": [
    "len(eda5_test[\"YEARS_EMPLOYED\"].unique())"
   ]
  },
  {
   "cell_type": "code",
   "execution_count": 99,
   "id": "868b996b",
   "metadata": {},
   "outputs": [
    {
     "data": {
      "text/html": [
       "<div>\n",
       "<style scoped>\n",
       "    .dataframe tbody tr th:only-of-type {\n",
       "        vertical-align: middle;\n",
       "    }\n",
       "\n",
       "    .dataframe tbody tr th {\n",
       "        vertical-align: top;\n",
       "    }\n",
       "\n",
       "    .dataframe thead th {\n",
       "        text-align: right;\n",
       "    }\n",
       "</style>\n",
       "<table border=\"1\" class=\"dataframe\">\n",
       "  <thead>\n",
       "    <tr style=\"text-align: right;\">\n",
       "      <th></th>\n",
       "      <th>DAYS_EMPLOYED</th>\n",
       "      <th>EXT_SOURCE_3</th>\n",
       "      <th>FLAG_OWN_REALTYN</th>\n",
       "      <th>FLAG_OWN_REALTYY</th>\n",
       "      <th>YEARS_EMPLOYED0.0</th>\n",
       "      <th>YEARS_EMPLOYED1.0</th>\n",
       "      <th>YEARS_EMPLOYED2.0</th>\n",
       "      <th>YEARS_EMPLOYED3.0</th>\n",
       "      <th>YEARS_EMPLOYED4.0</th>\n",
       "      <th>YEARS_EMPLOYED5.0</th>\n",
       "      <th>YEARS_EMPLOYED6.0</th>\n",
       "      <th>YEARS_EMPLOYED7.0</th>\n",
       "      <th>YEARS_EMPLOYED8.0</th>\n",
       "      <th>YEARS_EMPLOYED9.0</th>\n",
       "    </tr>\n",
       "  </thead>\n",
       "  <tbody>\n",
       "    <tr>\n",
       "      <th>0</th>\n",
       "      <td>-2372.0</td>\n",
       "      <td>NaN</td>\n",
       "      <td>1</td>\n",
       "      <td>0</td>\n",
       "      <td>0</td>\n",
       "      <td>1</td>\n",
       "      <td>0</td>\n",
       "      <td>0</td>\n",
       "      <td>0</td>\n",
       "      <td>0</td>\n",
       "      <td>0</td>\n",
       "      <td>0</td>\n",
       "      <td>0</td>\n",
       "      <td>0</td>\n",
       "    </tr>\n",
       "    <tr>\n",
       "      <th>1</th>\n",
       "      <td>-1712.0</td>\n",
       "      <td>NaN</td>\n",
       "      <td>1</td>\n",
       "      <td>0</td>\n",
       "      <td>1</td>\n",
       "      <td>0</td>\n",
       "      <td>0</td>\n",
       "      <td>0</td>\n",
       "      <td>0</td>\n",
       "      <td>0</td>\n",
       "      <td>0</td>\n",
       "      <td>0</td>\n",
       "      <td>0</td>\n",
       "      <td>0</td>\n",
       "    </tr>\n",
       "    <tr>\n",
       "      <th>2</th>\n",
       "      <td>-553.0</td>\n",
       "      <td>0.389339</td>\n",
       "      <td>0</td>\n",
       "      <td>1</td>\n",
       "      <td>1</td>\n",
       "      <td>0</td>\n",
       "      <td>0</td>\n",
       "      <td>0</td>\n",
       "      <td>0</td>\n",
       "      <td>0</td>\n",
       "      <td>0</td>\n",
       "      <td>0</td>\n",
       "      <td>0</td>\n",
       "      <td>0</td>\n",
       "    </tr>\n",
       "    <tr>\n",
       "      <th>3</th>\n",
       "      <td>-1438.0</td>\n",
       "      <td>0.217629</td>\n",
       "      <td>0</td>\n",
       "      <td>1</td>\n",
       "      <td>1</td>\n",
       "      <td>0</td>\n",
       "      <td>0</td>\n",
       "      <td>0</td>\n",
       "      <td>0</td>\n",
       "      <td>0</td>\n",
       "      <td>0</td>\n",
       "      <td>0</td>\n",
       "      <td>0</td>\n",
       "      <td>0</td>\n",
       "    </tr>\n",
       "    <tr>\n",
       "      <th>4</th>\n",
       "      <td>-2362.0</td>\n",
       "      <td>NaN</td>\n",
       "      <td>0</td>\n",
       "      <td>1</td>\n",
       "      <td>0</td>\n",
       "      <td>1</td>\n",
       "      <td>0</td>\n",
       "      <td>0</td>\n",
       "      <td>0</td>\n",
       "      <td>0</td>\n",
       "      <td>0</td>\n",
       "      <td>0</td>\n",
       "      <td>0</td>\n",
       "      <td>0</td>\n",
       "    </tr>\n",
       "  </tbody>\n",
       "</table>\n",
       "</div>"
      ],
      "text/plain": [
       "   DAYS_EMPLOYED  EXT_SOURCE_3  FLAG_OWN_REALTYN  FLAG_OWN_REALTYY  \\\n",
       "0        -2372.0           NaN                 1                 0   \n",
       "1        -1712.0           NaN                 1                 0   \n",
       "2         -553.0      0.389339                 0                 1   \n",
       "3        -1438.0      0.217629                 0                 1   \n",
       "4        -2362.0           NaN                 0                 1   \n",
       "\n",
       "   YEARS_EMPLOYED0.0  YEARS_EMPLOYED1.0  YEARS_EMPLOYED2.0  YEARS_EMPLOYED3.0  \\\n",
       "0                  0                  1                  0                  0   \n",
       "1                  1                  0                  0                  0   \n",
       "2                  1                  0                  0                  0   \n",
       "3                  1                  0                  0                  0   \n",
       "4                  0                  1                  0                  0   \n",
       "\n",
       "   YEARS_EMPLOYED4.0  YEARS_EMPLOYED5.0  YEARS_EMPLOYED6.0  YEARS_EMPLOYED7.0  \\\n",
       "0                  0                  0                  0                  0   \n",
       "1                  0                  0                  0                  0   \n",
       "2                  0                  0                  0                  0   \n",
       "3                  0                  0                  0                  0   \n",
       "4                  0                  0                  0                  0   \n",
       "\n",
       "   YEARS_EMPLOYED8.0  YEARS_EMPLOYED9.0  \n",
       "0                  0                  0  \n",
       "1                  0                  0  \n",
       "2                  0                  0  \n",
       "3                  0                  0  \n",
       "4                  0                  0  "
      ]
     },
     "execution_count": 99,
     "metadata": {},
     "output_type": "execute_result"
    }
   ],
   "source": [
    "# YEARS_EMPLOYEDをOne Hot Encoding\n",
    "eda5_YEARS_EMPLOYED_ohe = pd.get_dummies(eda5[\"YEARS_EMPLOYED\"]).add_prefix(\"YEARS_EMPLOYED\")\n",
    "eda5_test_YEARS_EMPLOYED_ohe = pd.get_dummies(eda5_test[\"YEARS_EMPLOYED\"]).add_prefix(\"YEARS_EMPLOYED\")\n",
    "\n",
    "eda5 = pd.concat([eda5, eda5_YEARS_EMPLOYED_ohe], axis=1)\n",
    "eda5_test = pd.concat([eda5_test, eda5_test_YEARS_EMPLOYED_ohe], axis=1)\n",
    "\n",
    "eda5.drop('YEARS_EMPLOYED', axis=1, inplace=True)\n",
    "eda5_test.drop('YEARS_EMPLOYED', axis=1, inplace=True)\n",
    "\n",
    "eda5_test.head(5)"
   ]
  },
  {
   "cell_type": "code",
   "execution_count": 100,
   "id": "b56bc4c2",
   "metadata": {},
   "outputs": [],
   "source": [
    "eda5.drop('DAYS_EMPLOYED', axis=1, inplace=True)\n",
    "eda5_test.drop('DAYS_EMPLOYED', axis=1, inplace=True)"
   ]
  },
  {
   "cell_type": "code",
   "execution_count": 642,
   "id": "2ec995d7",
   "metadata": {},
   "outputs": [
    {
     "data": {
      "text/plain": [
       "<seaborn.axisgrid.FacetGrid at 0x7fb730e41490>"
      ]
     },
     "execution_count": 642,
     "metadata": {},
     "output_type": "execute_result"
    },
    {
     "data": {
      "image/png": "[encoded data removed]",
      "text/plain": [
       "<Figure size 360x360 with 1 Axes>"
      ]
     },
     "metadata": {
      "needs_background": "light"
     },
     "output_type": "display_data"
    }
   ],
   "source": [
    "#データ可視化\n",
    "sns.displot(data = eda5, x = 'EXT_SOURCE_3')"
   ]
  },
  {
   "cell_type": "code",
   "execution_count": 643,
   "id": "f09a733b",
   "metadata": {},
   "outputs": [
    {
     "name": "stdout",
     "output_type": "stream",
     "text": [
      "0.5111771488926778\n",
      "0    0.7463\n",
      "dtype: float64\n"
     ]
    }
   ],
   "source": [
    "print(eda5['EXT_SOURCE_3'].mean())\n",
    "print(eda5['EXT_SOURCE_3'].mode())"
   ]
  },
  {
   "cell_type": "code",
   "execution_count": 101,
   "id": "7eeec267",
   "metadata": {},
   "outputs": [],
   "source": [
    "#データ加工\n",
    "eda5.fillna({'EXT_SOURCE_3':0.7463}, inplace = True)\n",
    "eda5_test.fillna({'EXT_SOURCE_3':0.7463}, inplace = True)"
   ]
  },
  {
   "cell_type": "code",
   "execution_count": 102,
   "id": "561042ee",
   "metadata": {},
   "outputs": [
    {
     "data": {
      "text/plain": [
       "EXT_SOURCE_3         0\n",
       "TARGET               0\n",
       "FLAG_OWN_REALTYN     0\n",
       "FLAG_OWN_REALTYY     0\n",
       "YEARS_EMPLOYED0.0    0\n",
       "YEARS_EMPLOYED1.0    0\n",
       "YEARS_EMPLOYED2.0    0\n",
       "YEARS_EMPLOYED3.0    0\n",
       "YEARS_EMPLOYED4.0    0\n",
       "YEARS_EMPLOYED5.0    0\n",
       "YEARS_EMPLOYED6.0    0\n",
       "YEARS_EMPLOYED7.0    0\n",
       "YEARS_EMPLOYED8.0    0\n",
       "YEARS_EMPLOYED9.0    0\n",
       "dtype: int64"
      ]
     },
     "execution_count": 102,
     "metadata": {},
     "output_type": "execute_result"
    }
   ],
   "source": [
    "eda5.isnull().sum()"
   ]
  },
  {
   "cell_type": "code",
   "execution_count": 103,
   "id": "ff3d7242",
   "metadata": {},
   "outputs": [
    {
     "name": "stdout",
     "output_type": "stream",
     "text": [
      "0\n",
      "0\n"
     ]
    }
   ],
   "source": [
    "print(eda4.isnull().sum().sum())\n",
    "print(eda4_test.isnull().sum().sum())"
   ]
  },
  {
   "cell_type": "code",
   "execution_count": 104,
   "id": "5cf1f30b",
   "metadata": {},
   "outputs": [
    {
     "name": "stdout",
     "output_type": "stream",
     "text": [
      "(171202, 58)\n",
      "(61500, 57)\n"
     ]
    }
   ],
   "source": [
    "print(eda4.shape)\n",
    "print(eda4_test.shape)"
   ]
  },
  {
   "cell_type": "code",
   "execution_count": 105,
   "id": "9abf1f2f",
   "metadata": {},
   "outputs": [],
   "source": [
    "#最終5データ\n",
    "eda5 = pd.concat([eda4, eda5], axis = 1)\n",
    "eda5_test = pd.concat([eda4_test, eda5_test], axis = 1)"
   ]
  },
  {
   "cell_type": "code",
   "execution_count": 855,
   "id": "7fd81778",
   "metadata": {
    "scrolled": true
   },
   "outputs": [],
   "source": [
    "# 目的変数と説明変数に分割\n",
    "X = eda5.drop(\"TARGET\", axis=1).values\n",
    "y = eda5[\"TARGET\"].values\n",
    "X_test = eda5_test.values"
   ]
  },
  {
   "cell_type": "code",
   "execution_count": 856,
   "id": "5a67c1bc",
   "metadata": {},
   "outputs": [],
   "source": [
    "# 標準化\n",
    "sc = StandardScaler()\n",
    "sc.fit(X)\n",
    "X_std = sc.transform(X)\n",
    "X_test_std = sc.transform(X_test)"
   ]
  },
  {
   "cell_type": "code",
   "execution_count": 857,
   "id": "4addad00",
   "metadata": {},
   "outputs": [],
   "source": [
    "# 訓練データと評価データに分割\n",
    "X_train, X_valid, y_train, y_valid = train_test_split(X_std, y, test_size=0.3, stratify=y, random_state=1)"
   ]
  },
  {
   "cell_type": "code",
   "execution_count": 858,
   "id": "603fefb3",
   "metadata": {},
   "outputs": [
    {
     "name": "stdout",
     "output_type": "stream",
     "text": [
      "Train Score: 0.7219556956119918\n",
      "Valid Score: 0.7176210639315109\n"
     ]
    }
   ],
   "source": [
    "#LogisticRegression\n",
    "from sklearn.linear_model import LogisticRegression\n",
    "\n",
    "lr = LogisticRegression(random_state = 1)\n",
    "lr.fit(X_train, y_train)\n",
    "\n",
    "lr_train_pred = lr.predict_proba(X_train)[:, 1]\n",
    "lr_valid_pred = lr.predict_proba(X_valid)[:, 1]\n",
    "print(f'Train Score: {roc_auc_score(y_train, lr_train_pred)}')\n",
    "print(f'Valid Score: {roc_auc_score(y_valid, lr_valid_pred)}')\n",
    "\n",
    "\n",
    "\n",
    "\n"
   ]
  },
  {
   "cell_type": "code",
   "execution_count": 859,
   "id": "10d156d0",
   "metadata": {},
   "outputs": [
    {
     "name": "stdout",
     "output_type": "stream",
     "text": [
      "Train Score: 0.8156095065557867\n",
      "Test Score: 0.6728992586028779\n"
     ]
    }
   ],
   "source": [
    "#MLPClassifier\n",
    "from sklearn.neural_network import MLPClassifier\n",
    "\n",
    "mlp = MLPClassifier(random_state = 1)\n",
    "mlp.fit(X_train, y_train)\n",
    "\n",
    "mlp_train_pred = mlp.predict_proba(X_train)[:, 1]\n",
    "mlp_valid_pred = mlp.predict_proba(X_valid)[:, 1]\n",
    "print(f\"Train Score: {roc_auc_score(y_train, mlp_train_pred)}\")\n",
    "print(f\"Test Score: {roc_auc_score(y_valid, mlp_valid_pred)}\")\n",
    "\n"
   ]
  },
  {
   "cell_type": "code",
   "execution_count": 860,
   "id": "d0a942fe",
   "metadata": {
    "scrolled": true
   },
   "outputs": [
    {
     "name": "stdout",
     "output_type": "stream",
     "text": [
      "Train Score: 0.8529884818873993\n",
      "Valid Score: 0.7289639454008944\n"
     ]
    }
   ],
   "source": [
    "# XGBClassifier\n",
    "from xgboost import XGBClassifier\n",
    "xgb = XGBClassifier(random_state = 1)\n",
    "xgb.fit(X_train, y_train)\n",
    "xgb_train_pred = xgb.predict_proba(X_train)[:,1]\n",
    "xgb_valid_pred = xgb.predict_proba(X_valid)[:,1]\n",
    "print(f\"Train Score: {roc_auc_score(y_train, xgb_train_pred)}\")\n",
    "print(f\"Valid Score: {roc_auc_score(y_valid, xgb_valid_pred)}\")"
   ]
  },
  {
   "cell_type": "code",
   "execution_count": 861,
   "id": "16c63f01",
   "metadata": {},
   "outputs": [
    {
     "name": "stdout",
     "output_type": "stream",
     "text": [
      "Train Score: 0.8025588877597495\n",
      "Valid Score: 0.7393405089945059\n"
     ]
    }
   ],
   "source": [
    "# LGBMClassfier\n",
    "from lightgbm import LGBMClassifier\n",
    "\n",
    "lgb = LGBMClassifier(random_state = 1)\n",
    "lgb.fit(X_train, y_train)\n",
    "\n",
    "lgb_train_pred = lgb.predict_proba(X_train)[:, 1]\n",
    "lgb_valid_pred = lgb.predict_proba(X_valid)[:, 1]\n",
    "print(f\"Train Score: {roc_auc_score(y_train, lgb_train_pred)}\")\n",
    "print(f\"Valid Score: {roc_auc_score(y_valid, lgb_valid_pred)}\")"
   ]
  },
  {
   "cell_type": "code",
   "execution_count": 862,
   "id": "2f304d15",
   "metadata": {},
   "outputs": [
    {
     "name": "stdout",
     "output_type": "stream",
     "text": [
      "Train Score: 0.8347690440937123\n",
      "Valid Score: 0.7354014303404912\n"
     ]
    }
   ],
   "source": [
    "train_pred = (lr_train_pred + mlp_train_pred + lgb_train_pred + xgb_train_pred)/4\n",
    "valid_pred = (lr_valid_pred + mlp_valid_pred + lgb_valid_pred + xgb_valid_pred)/4\n",
    "\n",
    "print(f\"Train Score: {roc_auc_score(y_train, train_pred)}\")\n",
    "print(f\"Valid Score: {roc_auc_score(y_valid, valid_pred)}\")"
   ]
  },
  {
   "cell_type": "code",
   "execution_count": 662,
   "id": "f7ed6401",
   "metadata": {},
   "outputs": [],
   "source": [
    "#予測値の作成\n",
    "pred1 = lr.predict_proba(X_test)[:, 1]\n",
    "pred2 = mlp.predict_proba(X_test)[:, 1]\n",
    "pred3 = xgb.predict_proba(X_test)[:, 1]\n",
    "pred4 = lgb.predict_proba(X_test)[:, 1]\n",
    "pred = (pred1 + pred2 + pred3 + pred4)/4"
   ]
  },
  {
   "cell_type": "markdown",
   "id": "5f000a5b",
   "metadata": {},
   "source": [
    "## 多重共線性解消"
   ]
  },
  {
   "cell_type": "code",
   "execution_count": 699,
   "id": "13953025",
   "metadata": {
    "scrolled": true
   },
   "outputs": [],
   "source": [
    "eda6 = train[features1 + features2 + features3 + features4 + features5]\n",
    "eda6_test = test[features1 + features2 + features3 + features4 + features5]"
   ]
  },
  {
   "cell_type": "code",
   "execution_count": 676,
   "id": "7cf06a47",
   "metadata": {},
   "outputs": [
    {
     "data": {
      "text/plain": [
       "<AxesSubplot:>"
      ]
     },
     "execution_count": 676,
     "metadata": {},
     "output_type": "execute_result"
    },
    {
     "data": {
      "image/png": "[encoded data removed]",
      "text/plain": [
       "<Figure size 1440x1440 with 2 Axes>"
      ]
     },
     "metadata": {},
     "output_type": "display_data"
    }
   ],
   "source": [
    "sns.set(rc = {'figure.figsize':(20,20)})\n",
    "sns.heatmap(cor_check.corr(),square=True,annot=True)"
   ]
  },
  {
   "cell_type": "code",
   "execution_count": 700,
   "id": "29c527e1",
   "metadata": {},
   "outputs": [],
   "source": [
    "cha = ['CNT_CHILDREN','AMT_ANNUITY','AMT_GOODS_PRICE','FLAG_EMP_PHONE','DAYS_BIRTH']"
   ]
  },
  {
   "cell_type": "code",
   "execution_count": 706,
   "id": "8b77cb9c",
   "metadata": {},
   "outputs": [],
   "source": [
    "eda6_1 = eda6.drop(cha, axis = 1)\n",
    "eda6_1_test = eda6_test.drop(cha, axis = 1)"
   ]
  },
  {
   "cell_type": "code",
   "execution_count": 702,
   "id": "5db75b49",
   "metadata": {},
   "outputs": [
    {
     "name": "stdout",
     "output_type": "stream",
     "text": [
      "(171202, 14)\n",
      "(171202, 9)\n"
     ]
    }
   ],
   "source": [
    "print(eda6.shape)\n",
    "print(eda6_1.shape)"
   ]
  },
  {
   "cell_type": "code",
   "execution_count": 703,
   "id": "3885e1bb",
   "metadata": {},
   "outputs": [
    {
     "data": {
      "text/plain": [
       "<AxesSubplot:>"
      ]
     },
     "execution_count": 703,
     "metadata": {},
     "output_type": "execute_result"
    },
    {
     "data": {
      "image/png": "[encoded data removed]",
      "text/plain": [
       "<Figure size 1440x1440 with 2 Axes>"
      ]
     },
     "metadata": {},
     "output_type": "display_data"
    }
   ],
   "source": [
    "sns.heatmap(eda6_1.corr(), square = True, annot = True)"
   ]
  },
  {
   "cell_type": "code",
   "execution_count": null,
   "id": "d63fa07f",
   "metadata": {},
   "outputs": [],
   "source": []
  },
  {
   "cell_type": "code",
   "execution_count": 704,
   "id": "286a3eee",
   "metadata": {},
   "outputs": [
    {
     "data": {
      "text/html": [
       "<div>\n",
       "<style scoped>\n",
       "    .dataframe tbody tr th:only-of-type {\n",
       "        vertical-align: middle;\n",
       "    }\n",
       "\n",
       "    .dataframe tbody tr th {\n",
       "        vertical-align: top;\n",
       "    }\n",
       "\n",
       "    .dataframe thead th {\n",
       "        text-align: right;\n",
       "    }\n",
       "</style>\n",
       "<table border=\"1\" class=\"dataframe\">\n",
       "  <thead>\n",
       "    <tr style=\"text-align: right;\">\n",
       "      <th></th>\n",
       "      <th>AMT_CREDIT</th>\n",
       "      <th>OCCUPATION_TYPE</th>\n",
       "      <th>NAME_EDUCATION_TYPE</th>\n",
       "      <th>REGION_RATING_CLIENT</th>\n",
       "      <th>CNT_FAM_MEMBERS</th>\n",
       "      <th>CODE_GENDER</th>\n",
       "      <th>DAYS_EMPLOYED</th>\n",
       "      <th>FLAG_OWN_REALTY</th>\n",
       "      <th>EXT_SOURCE_3</th>\n",
       "    </tr>\n",
       "  </thead>\n",
       "  <tbody>\n",
       "    <tr>\n",
       "      <th>0</th>\n",
       "      <td>755190.0</td>\n",
       "      <td>Core staff</td>\n",
       "      <td>Higher education</td>\n",
       "      <td>2</td>\n",
       "      <td>2.0</td>\n",
       "      <td>F</td>\n",
       "      <td>-878</td>\n",
       "      <td>N</td>\n",
       "      <td>NaN</td>\n",
       "    </tr>\n",
       "    <tr>\n",
       "      <th>1</th>\n",
       "      <td>585000.0</td>\n",
       "      <td>NaN</td>\n",
       "      <td>Secondary / secondary special</td>\n",
       "      <td>2</td>\n",
       "      <td>2.0</td>\n",
       "      <td>F</td>\n",
       "      <td>365243</td>\n",
       "      <td>Y</td>\n",
       "      <td>0.553165</td>\n",
       "    </tr>\n",
       "    <tr>\n",
       "      <th>2</th>\n",
       "      <td>334152.0</td>\n",
       "      <td>Core staff</td>\n",
       "      <td>Secondary / secondary special</td>\n",
       "      <td>2</td>\n",
       "      <td>2.0</td>\n",
       "      <td>F</td>\n",
       "      <td>-523</td>\n",
       "      <td>Y</td>\n",
       "      <td>NaN</td>\n",
       "    </tr>\n",
       "    <tr>\n",
       "      <th>3</th>\n",
       "      <td>152820.0</td>\n",
       "      <td>NaN</td>\n",
       "      <td>Lower secondary</td>\n",
       "      <td>3</td>\n",
       "      <td>1.0</td>\n",
       "      <td>F</td>\n",
       "      <td>365243</td>\n",
       "      <td>Y</td>\n",
       "      <td>0.767523</td>\n",
       "    </tr>\n",
       "    <tr>\n",
       "      <th>4</th>\n",
       "      <td>271066.5</td>\n",
       "      <td>Drivers</td>\n",
       "      <td>Secondary / secondary special</td>\n",
       "      <td>3</td>\n",
       "      <td>2.0</td>\n",
       "      <td>M</td>\n",
       "      <td>-697</td>\n",
       "      <td>N</td>\n",
       "      <td>0.669057</td>\n",
       "    </tr>\n",
       "  </tbody>\n",
       "</table>\n",
       "</div>"
      ],
      "text/plain": [
       "   AMT_CREDIT OCCUPATION_TYPE            NAME_EDUCATION_TYPE  \\\n",
       "0    755190.0      Core staff               Higher education   \n",
       "1    585000.0             NaN  Secondary / secondary special   \n",
       "2    334152.0      Core staff  Secondary / secondary special   \n",
       "3    152820.0             NaN                Lower secondary   \n",
       "4    271066.5         Drivers  Secondary / secondary special   \n",
       "\n",
       "   REGION_RATING_CLIENT  CNT_FAM_MEMBERS CODE_GENDER  DAYS_EMPLOYED  \\\n",
       "0                     2              2.0           F           -878   \n",
       "1                     2              2.0           F         365243   \n",
       "2                     2              2.0           F           -523   \n",
       "3                     3              1.0           F         365243   \n",
       "4                     3              2.0           M           -697   \n",
       "\n",
       "  FLAG_OWN_REALTY  EXT_SOURCE_3  \n",
       "0               N           NaN  \n",
       "1               Y      0.553165  \n",
       "2               Y           NaN  \n",
       "3               Y      0.767523  \n",
       "4               N      0.669057  "
      ]
     },
     "execution_count": 704,
     "metadata": {},
     "output_type": "execute_result"
    }
   ],
   "source": [
    "eda6_1.head()"
   ]
  },
  {
   "cell_type": "code",
   "execution_count": 707,
   "id": "8f4e8a10",
   "metadata": {},
   "outputs": [
    {
     "data": {
      "text/html": [
       "<div>\n",
       "<style scoped>\n",
       "    .dataframe tbody tr th:only-of-type {\n",
       "        vertical-align: middle;\n",
       "    }\n",
       "\n",
       "    .dataframe tbody tr th {\n",
       "        vertical-align: top;\n",
       "    }\n",
       "\n",
       "    .dataframe thead th {\n",
       "        text-align: right;\n",
       "    }\n",
       "</style>\n",
       "<table border=\"1\" class=\"dataframe\">\n",
       "  <thead>\n",
       "    <tr style=\"text-align: right;\">\n",
       "      <th></th>\n",
       "      <th>AMT_CREDIT</th>\n",
       "      <th>NAME_EDUCATION_TYPE</th>\n",
       "      <th>REGION_RATING_CLIENT</th>\n",
       "      <th>CNT_FAM_MEMBERS</th>\n",
       "      <th>CODE_GENDER</th>\n",
       "      <th>DAYS_EMPLOYED</th>\n",
       "      <th>FLAG_OWN_REALTY</th>\n",
       "      <th>EXT_SOURCE_3</th>\n",
       "      <th>OCCUPATION_TYPEAccountants</th>\n",
       "      <th>OCCUPATION_TYPECleaning staff</th>\n",
       "      <th>...</th>\n",
       "      <th>OCCUPATION_TYPELow-skill Laborers</th>\n",
       "      <th>OCCUPATION_TYPEManagers</th>\n",
       "      <th>OCCUPATION_TYPEMedicine staff</th>\n",
       "      <th>OCCUPATION_TYPEPrivate service staff</th>\n",
       "      <th>OCCUPATION_TYPERealty agents</th>\n",
       "      <th>OCCUPATION_TYPESales staff</th>\n",
       "      <th>OCCUPATION_TYPESecretaries</th>\n",
       "      <th>OCCUPATION_TYPESecurity staff</th>\n",
       "      <th>OCCUPATION_TYPEWaiters/barmen staff</th>\n",
       "      <th>OCCUPATION_TYPEunknow</th>\n",
       "    </tr>\n",
       "  </thead>\n",
       "  <tbody>\n",
       "    <tr>\n",
       "      <th>0</th>\n",
       "      <td>755190.0</td>\n",
       "      <td>Higher education</td>\n",
       "      <td>2</td>\n",
       "      <td>2.0</td>\n",
       "      <td>F</td>\n",
       "      <td>-878</td>\n",
       "      <td>N</td>\n",
       "      <td>NaN</td>\n",
       "      <td>0</td>\n",
       "      <td>0</td>\n",
       "      <td>...</td>\n",
       "      <td>0</td>\n",
       "      <td>0</td>\n",
       "      <td>0</td>\n",
       "      <td>0</td>\n",
       "      <td>0</td>\n",
       "      <td>0</td>\n",
       "      <td>0</td>\n",
       "      <td>0</td>\n",
       "      <td>0</td>\n",
       "      <td>0</td>\n",
       "    </tr>\n",
       "    <tr>\n",
       "      <th>1</th>\n",
       "      <td>585000.0</td>\n",
       "      <td>Secondary / secondary special</td>\n",
       "      <td>2</td>\n",
       "      <td>2.0</td>\n",
       "      <td>F</td>\n",
       "      <td>365243</td>\n",
       "      <td>Y</td>\n",
       "      <td>0.553165</td>\n",
       "      <td>0</td>\n",
       "      <td>0</td>\n",
       "      <td>...</td>\n",
       "      <td>0</td>\n",
       "      <td>0</td>\n",
       "      <td>0</td>\n",
       "      <td>0</td>\n",
       "      <td>0</td>\n",
       "      <td>0</td>\n",
       "      <td>0</td>\n",
       "      <td>0</td>\n",
       "      <td>0</td>\n",
       "      <td>1</td>\n",
       "    </tr>\n",
       "    <tr>\n",
       "      <th>2</th>\n",
       "      <td>334152.0</td>\n",
       "      <td>Secondary / secondary special</td>\n",
       "      <td>2</td>\n",
       "      <td>2.0</td>\n",
       "      <td>F</td>\n",
       "      <td>-523</td>\n",
       "      <td>Y</td>\n",
       "      <td>NaN</td>\n",
       "      <td>0</td>\n",
       "      <td>0</td>\n",
       "      <td>...</td>\n",
       "      <td>0</td>\n",
       "      <td>0</td>\n",
       "      <td>0</td>\n",
       "      <td>0</td>\n",
       "      <td>0</td>\n",
       "      <td>0</td>\n",
       "      <td>0</td>\n",
       "      <td>0</td>\n",
       "      <td>0</td>\n",
       "      <td>0</td>\n",
       "    </tr>\n",
       "    <tr>\n",
       "      <th>3</th>\n",
       "      <td>152820.0</td>\n",
       "      <td>Lower secondary</td>\n",
       "      <td>3</td>\n",
       "      <td>1.0</td>\n",
       "      <td>F</td>\n",
       "      <td>365243</td>\n",
       "      <td>Y</td>\n",
       "      <td>0.767523</td>\n",
       "      <td>0</td>\n",
       "      <td>0</td>\n",
       "      <td>...</td>\n",
       "      <td>0</td>\n",
       "      <td>0</td>\n",
       "      <td>0</td>\n",
       "      <td>0</td>\n",
       "      <td>0</td>\n",
       "      <td>0</td>\n",
       "      <td>0</td>\n",
       "      <td>0</td>\n",
       "      <td>0</td>\n",
       "      <td>1</td>\n",
       "    </tr>\n",
       "    <tr>\n",
       "      <th>4</th>\n",
       "      <td>271066.5</td>\n",
       "      <td>Secondary / secondary special</td>\n",
       "      <td>3</td>\n",
       "      <td>2.0</td>\n",
       "      <td>M</td>\n",
       "      <td>-697</td>\n",
       "      <td>N</td>\n",
       "      <td>0.669057</td>\n",
       "      <td>0</td>\n",
       "      <td>0</td>\n",
       "      <td>...</td>\n",
       "      <td>0</td>\n",
       "      <td>0</td>\n",
       "      <td>0</td>\n",
       "      <td>0</td>\n",
       "      <td>0</td>\n",
       "      <td>0</td>\n",
       "      <td>0</td>\n",
       "      <td>0</td>\n",
       "      <td>0</td>\n",
       "      <td>0</td>\n",
       "    </tr>\n",
       "  </tbody>\n",
       "</table>\n",
       "<p>5 rows × 27 columns</p>\n",
       "</div>"
      ],
      "text/plain": [
       "   AMT_CREDIT            NAME_EDUCATION_TYPE  REGION_RATING_CLIENT  \\\n",
       "0    755190.0               Higher education                     2   \n",
       "1    585000.0  Secondary / secondary special                     2   \n",
       "2    334152.0  Secondary / secondary special                     2   \n",
       "3    152820.0                Lower secondary                     3   \n",
       "4    271066.5  Secondary / secondary special                     3   \n",
       "\n",
       "   CNT_FAM_MEMBERS CODE_GENDER  DAYS_EMPLOYED FLAG_OWN_REALTY  EXT_SOURCE_3  \\\n",
       "0              2.0           F           -878               N           NaN   \n",
       "1              2.0           F         365243               Y      0.553165   \n",
       "2              2.0           F           -523               Y           NaN   \n",
       "3              1.0           F         365243               Y      0.767523   \n",
       "4              2.0           M           -697               N      0.669057   \n",
       "\n",
       "   OCCUPATION_TYPEAccountants  OCCUPATION_TYPECleaning staff  ...  \\\n",
       "0                           0                              0  ...   \n",
       "1                           0                              0  ...   \n",
       "2                           0                              0  ...   \n",
       "3                           0                              0  ...   \n",
       "4                           0                              0  ...   \n",
       "\n",
       "   OCCUPATION_TYPELow-skill Laborers  OCCUPATION_TYPEManagers  \\\n",
       "0                                  0                        0   \n",
       "1                                  0                        0   \n",
       "2                                  0                        0   \n",
       "3                                  0                        0   \n",
       "4                                  0                        0   \n",
       "\n",
       "   OCCUPATION_TYPEMedicine staff  OCCUPATION_TYPEPrivate service staff  \\\n",
       "0                              0                                     0   \n",
       "1                              0                                     0   \n",
       "2                              0                                     0   \n",
       "3                              0                                     0   \n",
       "4                              0                                     0   \n",
       "\n",
       "   OCCUPATION_TYPERealty agents  OCCUPATION_TYPESales staff  \\\n",
       "0                             0                           0   \n",
       "1                             0                           0   \n",
       "2                             0                           0   \n",
       "3                             0                           0   \n",
       "4                             0                           0   \n",
       "\n",
       "   OCCUPATION_TYPESecretaries  OCCUPATION_TYPESecurity staff  \\\n",
       "0                           0                              0   \n",
       "1                           0                              0   \n",
       "2                           0                              0   \n",
       "3                           0                              0   \n",
       "4                           0                              0   \n",
       "\n",
       "   OCCUPATION_TYPEWaiters/barmen staff  OCCUPATION_TYPEunknow  \n",
       "0                                    0                      0  \n",
       "1                                    0                      1  \n",
       "2                                    0                      0  \n",
       "3                                    0                      1  \n",
       "4                                    0                      0  \n",
       "\n",
       "[5 rows x 27 columns]"
      ]
     },
     "execution_count": 707,
     "metadata": {},
     "output_type": "execute_result"
    }
   ],
   "source": [
    "#OCCUPATION_TYPE\n",
    "eda6_1 = eda6_1.fillna({'OCCUPATION_TYPE':'unknow'})\n",
    "eda6_1_test = eda6_1_test.fillna({'OCCUPATION_TYPE':'unknow'})\n",
    "\n",
    "\n",
    "eda6_1_OCCUPATION_TYPE_ohe = pd.get_dummies(eda6_1['OCCUPATION_TYPE']).add_prefix('OCCUPATION_TYPE')\n",
    "eda6_1_test_OCCUPATION_TYPE_ohe = pd.get_dummies(eda6_1_test['OCCUPATION_TYPE']).add_prefix('OCCUPATION_TYPE')\n",
    "\n",
    "eda6_1 = pd.concat([eda6_1, eda6_1_OCCUPATION_TYPE_ohe], axis = 1)\n",
    "eda6_1_test = pd.concat([eda6_1_test, eda6_1_test_OCCUPATION_TYPE_ohe], axis = 1)\n",
    "\n",
    "eda6_1.drop('OCCUPATION_TYPE', axis = 1, inplace = True)\n",
    "eda6_1_test.drop('OCCUPATION_TYPE', axis = 1, inplace = True)\n",
    "\n",
    "\n",
    "eda6_1.head(5)\n",
    "\n",
    "\n"
   ]
  },
  {
   "cell_type": "code",
   "execution_count": 708,
   "id": "30dba956",
   "metadata": {},
   "outputs": [
    {
     "data": {
      "text/plain": [
       "(171202, 31)"
      ]
     },
     "execution_count": 708,
     "metadata": {},
     "output_type": "execute_result"
    }
   ],
   "source": [
    "#データの加工\n",
    "eda6_1_NAME_EDUCATION_TYPE_ohe = pd.get_dummies(eda6_1['NAME_EDUCATION_TYPE']).add_prefix('NAME_EDUCATION_TYPE')\n",
    "eda6_1_test_NAME_EDUCATION_TYPE_ohe = pd.get_dummies(eda6_1_test['NAME_EDUCATION_TYPE']).add_prefix('NAME_EDUCATION_TYPE')\n",
    "\n",
    "eda6_1 = pd.concat([eda6_1, eda6_1_NAME_EDUCATION_TYPE_ohe], axis = 1)\n",
    "eda6_1_test = pd.concat([eda6_1_test, eda6_1_test_NAME_EDUCATION_TYPE_ohe], axis = 1)\n",
    "\n",
    "eda6_1.drop('NAME_EDUCATION_TYPE', axis = 1, inplace = True)\n",
    "eda6_1_test.drop('NAME_EDUCATION_TYPE', axis = 1, inplace = True)\n",
    "\n",
    "\n",
    "eda6_1.shape\n",
    "\n",
    "\n"
   ]
  },
  {
   "cell_type": "code",
   "execution_count": 709,
   "id": "fa504c5e",
   "metadata": {},
   "outputs": [
    {
     "data": {
      "text/plain": [
       "(171202, 33)"
      ]
     },
     "execution_count": 709,
     "metadata": {},
     "output_type": "execute_result"
    }
   ],
   "source": [
    "#データ加工\n",
    "eda6_1_REGION_RATING_CLIENT_ohe = pd.get_dummies(eda6_1['REGION_RATING_CLIENT']).add_prefix('REGION_RATING_CLIENT')\n",
    "eda6_1_test_REGION_RATING_CLIENT_ohe = pd.get_dummies(eda6_1_test['REGION_RATING_CLIENT']).add_prefix('REGION_RATING_CLIENT')\n",
    "\n",
    "eda6_1 = pd.concat([eda6_1, eda6_1_REGION_RATING_CLIENT_ohe], axis = 1)\n",
    "eda6_1_test = pd.concat([eda6_1_test, eda6_1_test_REGION_RATING_CLIENT_ohe], axis = 1)\n",
    "\n",
    "eda6_1.drop('REGION_RATING_CLIENT', axis = 1, inplace = True)\n",
    "eda6_1_test.drop('REGION_RATING_CLIENT', axis = 1, inplace = True)\n",
    "\n",
    "\n",
    "eda6_1.shape\n",
    "\n",
    "\n"
   ]
  },
  {
   "cell_type": "code",
   "execution_count": 710,
   "id": "1ebbbfbf",
   "metadata": {},
   "outputs": [
    {
     "data": {
      "text/plain": [
       "(171202, 39)"
      ]
     },
     "execution_count": 710,
     "metadata": {},
     "output_type": "execute_result"
    }
   ],
   "source": [
    "#データ加工\n",
    "#欠損値補完\n",
    "eda6_1.loc[eda6_1[\"CNT_FAM_MEMBERS\"] >= 7, \"CNT_FAM_MEMBERS\"] = 7\n",
    "eda6_1_test.loc[eda6_1_test[\"CNT_FAM_MEMBERS\"] >= 7, \"CNT_FAM_MEMBERS\"] = 7\n",
    "\n",
    "\n",
    "eda6_1 = eda6_1.fillna({'CNT_FAM_MEMBERS': 2})\n",
    "eda6_1_test = eda6_1_test.fillna({'CNT_FAM_MEMBERS': 2})\n",
    "\n",
    "eda6_1_CNT_FAM_MEMBERS_ohe = pd.get_dummies(eda6_1['CNT_FAM_MEMBERS']).add_prefix('CNT_FAM_MEMBERS')\n",
    "eda6_1_test_CNT_FAM_MEMBERS_ohe = pd.get_dummies(eda6_1_test['CNT_FAM_MEMBERS']).add_prefix('CNT_FAM_MEMBERS')\n",
    "\n",
    "eda6_1 = pd.concat([eda6_1, eda6_1_CNT_FAM_MEMBERS_ohe], axis = 1)\n",
    "eda6_1_test = pd.concat([eda6_1_test, eda6_1_test_CNT_FAM_MEMBERS_ohe], axis = 1)\n",
    "\n",
    "eda6_1.drop('CNT_FAM_MEMBERS', axis = 1, inplace = True)\n",
    "eda6_1_test.drop('CNT_FAM_MEMBERS', axis = 1, inplace = True)\n",
    "\n",
    "\n",
    "eda6_1.shape\n",
    "\n",
    "\n",
    "\n"
   ]
  },
  {
   "cell_type": "code",
   "execution_count": 711,
   "id": "8a3938b8",
   "metadata": {},
   "outputs": [
    {
     "data": {
      "text/plain": [
       "(171202, 40)"
      ]
     },
     "execution_count": 711,
     "metadata": {},
     "output_type": "execute_result"
    }
   ],
   "source": [
    "# CODE_GENDERをOne Hot Encoding\n",
    "\n",
    "eda6_1.loc[eda6_1['CODE_GENDER'] == 'XNA', 'CODE_GENDER'] = 'F'\n",
    "eda6_1_test.loc[eda6_1_test['CODE_GENDER'] == 'XNA', 'CODE_GENDER'] = 'F'\n",
    "\n",
    "eda6_1_test['CODE_GENDER'].value_counts()\n",
    "\n",
    "\n",
    "\n",
    "eda6_1_CODE_GENDER_ohe = pd.get_dummies(eda6_1[\"CODE_GENDER\"]).add_prefix(\"CODE_GENDER\")\n",
    "eda6_1_test_CODE_GENDER_ohe = pd.get_dummies(eda6_1_test[\"CODE_GENDER\"]).add_prefix(\"CODE_GENDER\")\n",
    "\n",
    "eda6_1 = pd.concat([eda6_1, eda6_1_CODE_GENDER_ohe], axis=1)\n",
    "eda6_1_test = pd.concat([eda6_1_test, eda6_1_test_CODE_GENDER_ohe], axis=1)\n",
    "\n",
    "eda6_1.drop('CODE_GENDER', axis=1, inplace=True)\n",
    "eda6_1_test.drop('CODE_GENDER', axis=1, inplace=True)\n",
    "\n",
    "eda6_1.shape"
   ]
  },
  {
   "cell_type": "code",
   "execution_count": 712,
   "id": "83cb1bb9",
   "metadata": {},
   "outputs": [],
   "source": [
    "#データ加工\n",
    "eda6_1.fillna({'EXT_SOURCE_3':0.7463}, inplace = True)\n",
    "eda6_1_test.fillna({'EXT_SOURCE_3':0.7463}, inplace = True)"
   ]
  },
  {
   "cell_type": "code",
   "execution_count": 714,
   "id": "62ac4f62",
   "metadata": {},
   "outputs": [],
   "source": [
    "#データ加工\n",
    "eda6_1.loc[eda6_1[\"DAYS_EMPLOYED\"] >= 350000, \"DAYS_EMPLOYED\"] = np.nan\n",
    "eda6_1_test.loc[eda6_1_test[\"DAYS_EMPLOYED\"] >= 350000, \"DAYS_EMPLOYED\"] = np.nan\n",
    "\n",
    "eda6_1 = eda6_1.fillna({'DAYS_EMPLOYED':-200})\n",
    "eda6_1_test = eda6_1_test.fillna({'DAYS_EMPLOYED':-200})\n",
    "\n",
    "eda6_1['YEARS_EMPLOYED'] = np.floor(eda6_1['DAYS_EMPLOYED']/(-365))\n",
    "eda6_1_test['YEARS_EMPLOYED'] = np.floor(eda6_1_test['DAYS_EMPLOYED']/(-365))\n",
    "\n",
    "# YEARS_EMPLOYEDをグループ分け\n",
    "eda6_1[\"YEARS_EMPLOYED\"] = eda6_1[\"YEARS_EMPLOYED\"] // 5\n",
    "eda6_1_test[\"YEARS_EMPLOYED\"] = eda6_1_test[\"YEARS_EMPLOYED\"] // 5\n",
    "eda6_1_test[\"YEARS_EMPLOYED\"].unique()\n",
    "\n",
    "# YEARS_EMPLOYEDをOne Hot Encoding\n",
    "eda6_1_YEARS_EMPLOYED_ohe = pd.get_dummies(eda6_1[\"YEARS_EMPLOYED\"]).add_prefix(\"YEARS_EMPLOYED\")\n",
    "eda6_1_test_YEARS_EMPLOYED_ohe = pd.get_dummies(eda6_1_test[\"YEARS_EMPLOYED\"]).add_prefix(\"YEARS_EMPLOYED\")\n",
    "\n",
    "eda6_1 = pd.concat([eda6_1, eda6_1_YEARS_EMPLOYED_ohe], axis=1)\n",
    "eda6_1_test = pd.concat([eda6_1_test, eda6_1_test_YEARS_EMPLOYED_ohe], axis=1)\n",
    "\n",
    "eda6_1.drop('YEARS_EMPLOYED', axis=1, inplace=True)\n",
    "eda6_1_test.drop('YEARS_EMPLOYED', axis=1, inplace=True)\n",
    "\n",
    "eda6_1_test.head(5)\n",
    "\n",
    "eda6_1.drop('DAYS_EMPLOYED', axis=1, inplace=True)\n",
    "eda6_1_test.drop('DAYS_EMPLOYED', axis=1, inplace=True)"
   ]
  },
  {
   "cell_type": "code",
   "execution_count": 715,
   "id": "5e05c1cb",
   "metadata": {},
   "outputs": [
    {
     "name": "stdout",
     "output_type": "stream",
     "text": [
      "(171202, 60)\n",
      "(61500, 60)\n"
     ]
    }
   ],
   "source": [
    "#データ加工\n",
    "eda6_1.fillna({'FLAG_OWN_REALTY':'Y'},inplace = True)\n",
    "eda6_1_test.fillna({'FLAG_OWN_REALTY':'Y'},inplace = True)\n",
    "\n",
    "# FLAG_OWN_REALTYをOne Hot Encoding\n",
    "eda6_1_FLAG_OWN_REALTY_ohe = pd.get_dummies(eda6_1[\"FLAG_OWN_REALTY\"]).add_prefix(\"FLAG_OWN_REALTY\")\n",
    "eda6_1_test_FLAG_OWN_REALTY_ohe = pd.get_dummies(eda6_1_test[\"FLAG_OWN_REALTY\"]).add_prefix(\"FLAG_OWN_REALTY\")\n",
    "\n",
    "eda6_1 = pd.concat([eda6_1, eda6_1_FLAG_OWN_REALTY_ohe], axis=1)\n",
    "eda6_1_test = pd.concat([eda6_1_test, eda6_1_test_FLAG_OWN_REALTY_ohe], axis=1)\n",
    "\n",
    "eda6_1.drop('FLAG_OWN_REALTY', axis=1, inplace=True)\n",
    "eda6_1_test.drop('FLAG_OWN_REALTY', axis=1, inplace=True)\n",
    "\n",
    "print(eda6_1.shape)\n",
    "print(eda6_1_test.shape)"
   ]
  },
  {
   "cell_type": "code",
   "execution_count": 716,
   "id": "e5292cd4",
   "metadata": {},
   "outputs": [],
   "source": [
    "eda6_1['TARGET'] = train['TARGET']"
   ]
  },
  {
   "cell_type": "code",
   "execution_count": 717,
   "id": "b21f06ce",
   "metadata": {},
   "outputs": [
    {
     "name": "stdout",
     "output_type": "stream",
     "text": [
      "(171202, 61)\n",
      "(61500, 60)\n"
     ]
    }
   ],
   "source": [
    "print(eda6_1.shape)\n",
    "print(eda6_1_test.shape)"
   ]
  },
  {
   "cell_type": "code",
   "execution_count": 718,
   "id": "9ef7c763",
   "metadata": {},
   "outputs": [],
   "source": [
    "# 目的変数と説明変数に分割\n",
    "X = eda6_1.drop(\"TARGET\", axis=1).values\n",
    "y = eda6_1[\"TARGET\"].values\n",
    "X_test = eda6_1_test.values\n",
    "\n",
    "# 標準化\n",
    "sc = StandardScaler()\n",
    "sc.fit(X)\n",
    "X_std = sc.transform(X)\n",
    "X_test_std = sc.transform(X_test)\n",
    "\n",
    "# 訓練データと評価データに分割\n",
    "X_train, X_valid, y_train, y_valid = train_test_split(X_std, y, test_size=0.3, stratify=y, random_state=1)"
   ]
  },
  {
   "cell_type": "code",
   "execution_count": 719,
   "id": "bb52315b",
   "metadata": {},
   "outputs": [
    {
     "name": "stdout",
     "output_type": "stream",
     "text": [
      "Train Score: 0.663013378776618\n",
      "Valid Score: 0.6634078776362443\n"
     ]
    }
   ],
   "source": [
    "#LogisticRegression\n",
    "from sklearn.linear_model import LogisticRegression\n",
    "\n",
    "lr = LogisticRegression(random_state = 1)\n",
    "lr.fit(X_train, y_train)\n",
    "\n",
    "lr_train_pred = lr.predict_proba(X_train)[:, 1]\n",
    "lr_valid_pred = lr.predict_proba(X_valid)[:, 1]\n",
    "print(f'Train Score: {roc_auc_score(y_train, lr_train_pred)}')\n",
    "print(f'Valid Score: {roc_auc_score(y_valid, lr_valid_pred)}')\n",
    "\n"
   ]
  },
  {
   "cell_type": "code",
   "execution_count": 720,
   "id": "84d65387",
   "metadata": {},
   "outputs": [
    {
     "name": "stdout",
     "output_type": "stream",
     "text": [
      "Train Score: 0.746707174951064\n",
      "Test Score: 0.6498277143501832\n"
     ]
    }
   ],
   "source": [
    "#MLPClassifier\n",
    "from sklearn.neural_network import MLPClassifier\n",
    "\n",
    "mlp = MLPClassifier(random_state = 1)\n",
    "mlp.fit(X_train, y_train)\n",
    "\n",
    "mlp_train_pred = mlp.predict_proba(X_train)[:, 1]\n",
    "mlp_valid_pred = mlp.predict_proba(X_valid)[:, 1]\n",
    "print(f\"Train Score: {roc_auc_score(y_train, mlp_train_pred)}\")\n",
    "print(f\"Test Score: {roc_auc_score(y_valid, mlp_valid_pred)}\")\n"
   ]
  },
  {
   "cell_type": "code",
   "execution_count": 721,
   "id": "f003c4ba",
   "metadata": {},
   "outputs": [
    {
     "name": "stdout",
     "output_type": "stream",
     "text": [
      "Train Score: 0.7859804797280083\n",
      "Valid Score: 0.6884690247254466\n"
     ]
    }
   ],
   "source": [
    "# XGBClassifier\n",
    "from xgboost import XGBClassifier\n",
    "xgb = XGBClassifier(random_state = 1)\n",
    "xgb.fit(X_train, y_train)\n",
    "xgb_train_pred = xgb.predict_proba(X_train)[:,1]\n",
    "xgb_valid_pred = xgb.predict_proba(X_valid)[:,1]\n",
    "print(f\"Train Score: {roc_auc_score(y_train, xgb_train_pred)}\")\n",
    "print(f\"Valid Score: {roc_auc_score(y_valid, xgb_valid_pred)}\")"
   ]
  },
  {
   "cell_type": "code",
   "execution_count": 722,
   "id": "2ae387a7",
   "metadata": {},
   "outputs": [
    {
     "name": "stdout",
     "output_type": "stream",
     "text": [
      "Train Score: 0.7510914869789405\n",
      "Valid Score: 0.6952125324624008\n"
     ]
    }
   ],
   "source": [
    "# LGBMClassfier\n",
    "from lightgbm import LGBMClassifier\n",
    "\n",
    "lgb = LGBMClassifier(random_state = 1)\n",
    "lgb.fit(X_train, y_train)\n",
    "\n",
    "lgb_train_pred = lgb.predict_proba(X_train)[:, 1]\n",
    "lgb_valid_pred = lgb.predict_proba(X_valid)[:, 1]\n",
    "print(f\"Train Score: {roc_auc_score(y_train, lgb_train_pred)}\")\n",
    "print(f\"Valid Score: {roc_auc_score(y_valid, lgb_valid_pred)}\")"
   ]
  },
  {
   "cell_type": "code",
   "execution_count": 723,
   "id": "1d9d061f",
   "metadata": {},
   "outputs": [
    {
     "name": "stdout",
     "output_type": "stream",
     "text": [
      "Train Score: 0.7692121708180013\n",
      "Valid Score: 0.6924290813047989\n"
     ]
    }
   ],
   "source": [
    "train_pred = (lr_train_pred + mlp_train_pred + lgb_train_pred + xgb_train_pred)/4\n",
    "valid_pred = (lr_valid_pred + mlp_valid_pred + lgb_valid_pred + xgb_valid_pred)/4\n",
    "\n",
    "print(f\"Train Score: {roc_auc_score(y_train, train_pred)}\")\n",
    "print(f\"Valid Score: {roc_auc_score(y_valid, valid_pred)}\")"
   ]
  },
  {
   "cell_type": "code",
   "execution_count": 724,
   "id": "cfb64d0c",
   "metadata": {},
   "outputs": [],
   "source": [
    "#予測値の作成\n",
    "pred1 = lr.predict_proba(X_test)[:, 1]\n",
    "pred2 = mlp.predict_proba(X_test)[:, 1]\n",
    "pred3 = xgb.predict_proba(X_test)[:, 1]\n",
    "pred4 = lgb.predict_proba(X_test)[:, 1]\n",
    "pred = (pred1 + pred2 + pred3 + pred4)/4"
   ]
  },
  {
   "cell_type": "markdown",
   "id": "0ffc3577",
   "metadata": {},
   "source": [
    "## 自己的7"
   ]
  },
  {
   "cell_type": "code",
   "execution_count": 125,
   "id": "d0f9910a",
   "metadata": {},
   "outputs": [],
   "source": [
    "#３つに絞る\n",
    "features7 = ['DAYS_ID_PUBLISH', 'REG_REGION_NOT_WORK_REGION', 'OBS_30_CNT_SOCIAL_CIRCLE']\n",
    "eda7 = train[features7]\n",
    "\n",
    "eda7_test = test[features7]"
   ]
  },
  {
   "cell_type": "code",
   "execution_count": 126,
   "id": "7a737d2a",
   "metadata": {},
   "outputs": [
    {
     "name": "stdout",
     "output_type": "stream",
     "text": [
      "DAYS_ID_PUBLISH                 0\n",
      "REG_REGION_NOT_WORK_REGION      0\n",
      "OBS_30_CNT_SOCIAL_CIRCLE      560\n",
      "dtype: int64\n",
      "DAYS_ID_PUBLISH                 0\n",
      "REG_REGION_NOT_WORK_REGION      0\n",
      "OBS_30_CNT_SOCIAL_CIRCLE      181\n",
      "dtype: int64\n"
     ]
    }
   ],
   "source": [
    "print(eda7.isnull().sum())\n",
    "print(eda7_test.isnull().sum())"
   ]
  },
  {
   "cell_type": "code",
   "execution_count": 108,
   "id": "da3fcc76",
   "metadata": {},
   "outputs": [
    {
     "data": {
      "text/plain": [
       "<seaborn.axisgrid.FacetGrid at 0x7f8451053430>"
      ]
     },
     "execution_count": 108,
     "metadata": {},
     "output_type": "execute_result"
    },
    {
     "data": {
      "image/png": "[encoded data removed]",
      "text/plain": [
       "<Figure size 360x360 with 1 Axes>"
      ]
     },
     "metadata": {
      "needs_background": "light"
     },
     "output_type": "display_data"
    }
   ],
   "source": [
    "#data visualization\n",
    "sns.displot(data = eda7, x = 'DAYS_ID_PUBLISH')\n"
   ]
  },
  {
   "cell_type": "code",
   "execution_count": 736,
   "id": "db8cb416",
   "metadata": {
    "scrolled": true
   },
   "outputs": [
    {
     "data": {
      "text/plain": [
       "<AxesSubplot:xlabel='REG_REGION_NOT_WORK_REGION', ylabel='count'>"
      ]
     },
     "execution_count": 736,
     "metadata": {},
     "output_type": "execute_result"
    },
    {
     "data": {
      "image/png": "[encoded data removed]",
      "text/plain": [
       "<Figure size 1440x1440 with 1 Axes>"
      ]
     },
     "metadata": {},
     "output_type": "display_data"
    }
   ],
   "source": [
    "#data visualization\n",
    "sns.countplot(data = eda7, x = 'REG_REGION_NOT_WORK_REGION')"
   ]
  },
  {
   "cell_type": "code",
   "execution_count": 737,
   "id": "3c374992",
   "metadata": {
    "scrolled": false
   },
   "outputs": [
    {
     "data": {
      "text/plain": [
       "<AxesSubplot:xlabel='OBS_30_CNT_SOCIAL_CIRCLE', ylabel='count'>"
      ]
     },
     "execution_count": 737,
     "metadata": {},
     "output_type": "execute_result"
    },
    {
     "data": {
      "image/png": "[encoded data removed]",
      "text/plain": [
       "<Figure size 1440x1440 with 1 Axes>"
      ]
     },
     "metadata": {},
     "output_type": "display_data"
    }
   ],
   "source": [
    "#data visualization\n",
    "sns.countplot(data = eda7, x = 'OBS_30_CNT_SOCIAL_CIRCLE')"
   ]
  },
  {
   "cell_type": "code",
   "execution_count": 745,
   "id": "cbd2293a",
   "metadata": {},
   "outputs": [
    {
     "data": {
      "text/plain": [
       "0    0.0\n",
       "dtype: float64"
      ]
     },
     "execution_count": 745,
     "metadata": {},
     "output_type": "execute_result"
    }
   ],
   "source": [
    "eda7['OBS_30_CNT_SOCIAL_CIRCLE'].mode()"
   ]
  },
  {
   "cell_type": "code",
   "execution_count": null,
   "id": "a0948363",
   "metadata": {},
   "outputs": [],
   "source": []
  },
  {
   "cell_type": "code",
   "execution_count": 127,
   "id": "4a5a2972",
   "metadata": {},
   "outputs": [],
   "source": [
    "#データ加工\n",
    "eda7.fillna({'OBS_30_CNT_SOCIAL_CIRCLE':0.0}, inplace = True)\n",
    "eda7_test.fillna({'OBS_30_CNT_SOCIAL_CIRCLE':0.0}, inplace = True)"
   ]
  },
  {
   "cell_type": "code",
   "execution_count": 128,
   "id": "43623944",
   "metadata": {
    "scrolled": true
   },
   "outputs": [
    {
     "data": {
      "text/plain": [
       "0.0     91906\n",
       "1.0     27081\n",
       "2.0     16499\n",
       "3.0     11287\n",
       "4.0      7974\n",
       "5.0      5309\n",
       "6.0      3612\n",
       "7.0      2393\n",
       "8.0      1673\n",
       "9.0      1139\n",
       "10.0      774\n",
       "11.0      464\n",
       "12.0      367\n",
       "13.0      231\n",
       "14.0      152\n",
       "15.0       91\n",
       "16.0       74\n",
       "17.0       52\n",
       "18.0       25\n",
       "19.0       22\n",
       "21.0       19\n",
       "20.0       19\n",
       "22.0       14\n",
       "24.0       10\n",
       "25.0        7\n",
       "23.0        3\n",
       "27.0        2\n",
       "30.0        1\n",
       "47.0        1\n",
       "26.0        1\n",
       "Name: OBS_30_CNT_SOCIAL_CIRCLE, dtype: int64"
      ]
     },
     "execution_count": 128,
     "metadata": {},
     "output_type": "execute_result"
    }
   ],
   "source": [
    "eda7['OBS_30_CNT_SOCIAL_CIRCLE'].value_counts()"
   ]
  },
  {
   "cell_type": "code",
   "execution_count": 129,
   "id": "c1f6a903",
   "metadata": {},
   "outputs": [
    {
     "data": {
      "text/html": [
       "<div>\n",
       "<style scoped>\n",
       "    .dataframe tbody tr th:only-of-type {\n",
       "        vertical-align: middle;\n",
       "    }\n",
       "\n",
       "    .dataframe tbody tr th {\n",
       "        vertical-align: top;\n",
       "    }\n",
       "\n",
       "    .dataframe thead th {\n",
       "        text-align: right;\n",
       "    }\n",
       "</style>\n",
       "<table border=\"1\" class=\"dataframe\">\n",
       "  <thead>\n",
       "    <tr style=\"text-align: right;\">\n",
       "      <th></th>\n",
       "      <th>DAYS_ID_PUBLISH</th>\n",
       "      <th>OBS_30_CNT_SOCIAL_CIRCLE</th>\n",
       "      <th>REG_REGION_NOT_WORK_REGION0</th>\n",
       "      <th>REG_REGION_NOT_WORK_REGION1</th>\n",
       "    </tr>\n",
       "  </thead>\n",
       "  <tbody>\n",
       "    <tr>\n",
       "      <th>0</th>\n",
       "      <td>-3022</td>\n",
       "      <td>2.0</td>\n",
       "      <td>1</td>\n",
       "      <td>0</td>\n",
       "    </tr>\n",
       "    <tr>\n",
       "      <th>1</th>\n",
       "      <td>-253</td>\n",
       "      <td>5.0</td>\n",
       "      <td>1</td>\n",
       "      <td>0</td>\n",
       "    </tr>\n",
       "    <tr>\n",
       "      <th>2</th>\n",
       "      <td>-4495</td>\n",
       "      <td>7.0</td>\n",
       "      <td>1</td>\n",
       "      <td>0</td>\n",
       "    </tr>\n",
       "    <tr>\n",
       "      <th>3</th>\n",
       "      <td>-1189</td>\n",
       "      <td>2.0</td>\n",
       "      <td>1</td>\n",
       "      <td>0</td>\n",
       "    </tr>\n",
       "    <tr>\n",
       "      <th>4</th>\n",
       "      <td>-1728</td>\n",
       "      <td>2.0</td>\n",
       "      <td>1</td>\n",
       "      <td>0</td>\n",
       "    </tr>\n",
       "  </tbody>\n",
       "</table>\n",
       "</div>"
      ],
      "text/plain": [
       "   DAYS_ID_PUBLISH  OBS_30_CNT_SOCIAL_CIRCLE  REG_REGION_NOT_WORK_REGION0  \\\n",
       "0            -3022                       2.0                            1   \n",
       "1             -253                       5.0                            1   \n",
       "2            -4495                       7.0                            1   \n",
       "3            -1189                       2.0                            1   \n",
       "4            -1728                       2.0                            1   \n",
       "\n",
       "   REG_REGION_NOT_WORK_REGION1  \n",
       "0                            0  \n",
       "1                            0  \n",
       "2                            0  \n",
       "3                            0  \n",
       "4                            0  "
      ]
     },
     "execution_count": 129,
     "metadata": {},
     "output_type": "execute_result"
    }
   ],
   "source": [
    "# REG_REGION_NOT_WORK_REGIONをOne Hot Encoding\n",
    "eda7_REG_REGION_NOT_WORK_REGION_ohe = pd.get_dummies(eda7[\"REG_REGION_NOT_WORK_REGION\"]).add_prefix(\"REG_REGION_NOT_WORK_REGION\")\n",
    "eda7_test_REG_REGION_NOT_WORK_REGION_ohe = pd.get_dummies(eda7_test[\"REG_REGION_NOT_WORK_REGION\"]).add_prefix(\"REG_REGION_NOT_WORK_REGION\")\n",
    "\n",
    "eda7 = pd.concat([eda7, eda7_REG_REGION_NOT_WORK_REGION_ohe], axis=1)\n",
    "eda7_test = pd.concat([eda7_test, eda7_test_REG_REGION_NOT_WORK_REGION_ohe], axis=1)\n",
    "\n",
    "eda7.drop('REG_REGION_NOT_WORK_REGION', axis=1, inplace=True)\n",
    "eda7_test.drop('REG_REGION_NOT_WORK_REGION', axis=1, inplace=True)\n",
    "\n",
    "eda7_test.head(5)"
   ]
  },
  {
   "cell_type": "code",
   "execution_count": 130,
   "id": "bba366a4",
   "metadata": {},
   "outputs": [
    {
     "name": "stdout",
     "output_type": "stream",
     "text": [
      "(171202, 4)\n",
      "(61500, 4)\n"
     ]
    }
   ],
   "source": [
    "print(eda7.shape)\n",
    "print(eda7_test.shape)"
   ]
  },
  {
   "cell_type": "code",
   "execution_count": 131,
   "id": "aa5041d3",
   "metadata": {},
   "outputs": [],
   "source": [
    "#データ加工\n",
    "eda7.loc[eda7[\"OBS_30_CNT_SOCIAL_CIRCLE\"] >= 15, \"OBS_30_CNT_SOCIAL_CIRCLE\"] = '15以上'\n",
    "eda7_test.loc[eda7_test[\"OBS_30_CNT_SOCIAL_CIRCLE\"] >= 15, \"OBS_30_CNT_SOCIAL_CIRCLE\"] = '15以上'\n",
    "\n"
   ]
  },
  {
   "cell_type": "code",
   "execution_count": 132,
   "id": "2840df3b",
   "metadata": {
    "scrolled": true
   },
   "outputs": [
    {
     "data": {
      "text/html": [
       "<div>\n",
       "<style scoped>\n",
       "    .dataframe tbody tr th:only-of-type {\n",
       "        vertical-align: middle;\n",
       "    }\n",
       "\n",
       "    .dataframe tbody tr th {\n",
       "        vertical-align: top;\n",
       "    }\n",
       "\n",
       "    .dataframe thead th {\n",
       "        text-align: right;\n",
       "    }\n",
       "</style>\n",
       "<table border=\"1\" class=\"dataframe\">\n",
       "  <thead>\n",
       "    <tr style=\"text-align: right;\">\n",
       "      <th></th>\n",
       "      <th>DAYS_ID_PUBLISH</th>\n",
       "      <th>OBS_30_CNT_SOCIAL_CIRCLE</th>\n",
       "      <th>REG_REGION_NOT_WORK_REGION0</th>\n",
       "      <th>REG_REGION_NOT_WORK_REGION1</th>\n",
       "      <th>publish</th>\n",
       "    </tr>\n",
       "  </thead>\n",
       "  <tbody>\n",
       "    <tr>\n",
       "      <th>0</th>\n",
       "      <td>-3022</td>\n",
       "      <td>2.0</td>\n",
       "      <td>1</td>\n",
       "      <td>0</td>\n",
       "      <td>8.0</td>\n",
       "    </tr>\n",
       "    <tr>\n",
       "      <th>1</th>\n",
       "      <td>-253</td>\n",
       "      <td>5.0</td>\n",
       "      <td>1</td>\n",
       "      <td>0</td>\n",
       "      <td>0.0</td>\n",
       "    </tr>\n",
       "    <tr>\n",
       "      <th>2</th>\n",
       "      <td>-4495</td>\n",
       "      <td>7.0</td>\n",
       "      <td>1</td>\n",
       "      <td>0</td>\n",
       "      <td>12.0</td>\n",
       "    </tr>\n",
       "  </tbody>\n",
       "</table>\n",
       "</div>"
      ],
      "text/plain": [
       "   DAYS_ID_PUBLISH OBS_30_CNT_SOCIAL_CIRCLE  REG_REGION_NOT_WORK_REGION0  \\\n",
       "0            -3022                      2.0                            1   \n",
       "1             -253                      5.0                            1   \n",
       "2            -4495                      7.0                            1   \n",
       "\n",
       "   REG_REGION_NOT_WORK_REGION1  publish  \n",
       "0                            0      8.0  \n",
       "1                            0      0.0  \n",
       "2                            0     12.0  "
      ]
     },
     "execution_count": 132,
     "metadata": {},
     "output_type": "execute_result"
    }
   ],
   "source": [
    "#加工\n",
    "eda7['publish'] = np.floor(eda7['DAYS_ID_PUBLISH']/(-365))\n",
    "eda7_test['publish'] = np.floor(eda7_test['DAYS_ID_PUBLISH']/(-365))\n",
    "eda7_test.head(3)\n"
   ]
  },
  {
   "cell_type": "code",
   "execution_count": 756,
   "id": "4ba9bad2",
   "metadata": {},
   "outputs": [
    {
     "data": {
      "text/plain": [
       "<AxesSubplot:xlabel='publish', ylabel='count'>"
      ]
     },
     "execution_count": 756,
     "metadata": {},
     "output_type": "execute_result"
    },
    {
     "data": {
      "image/png": "[encoded data removed]",
      "text/plain": [
       "<Figure size 1440x1440 with 1 Axes>"
      ]
     },
     "metadata": {},
     "output_type": "display_data"
    }
   ],
   "source": [
    "sns.countplot(data = eda7, x = 'publish')"
   ]
  },
  {
   "cell_type": "code",
   "execution_count": 133,
   "id": "36a5f474",
   "metadata": {},
   "outputs": [
    {
     "data": {
      "text/plain": [
       "array([1., 0., 2., 3.])"
      ]
     },
     "execution_count": 133,
     "metadata": {},
     "output_type": "execute_result"
    }
   ],
   "source": [
    "# oldをグループ分け\n",
    "eda7[\"publish\"] = eda7[\"publish\"] // 5\n",
    "eda7_test[\"publish\"] = eda7_test[\"publish\"] // 5\n",
    "eda7_test[\"publish\"].unique()"
   ]
  },
  {
   "cell_type": "code",
   "execution_count": 134,
   "id": "e76045a3",
   "metadata": {},
   "outputs": [
    {
     "data": {
      "text/html": [
       "<div>\n",
       "<style scoped>\n",
       "    .dataframe tbody tr th:only-of-type {\n",
       "        vertical-align: middle;\n",
       "    }\n",
       "\n",
       "    .dataframe tbody tr th {\n",
       "        vertical-align: top;\n",
       "    }\n",
       "\n",
       "    .dataframe thead th {\n",
       "        text-align: right;\n",
       "    }\n",
       "</style>\n",
       "<table border=\"1\" class=\"dataframe\">\n",
       "  <thead>\n",
       "    <tr style=\"text-align: right;\">\n",
       "      <th></th>\n",
       "      <th>OBS_30_CNT_SOCIAL_CIRCLE</th>\n",
       "      <th>REG_REGION_NOT_WORK_REGION0</th>\n",
       "      <th>REG_REGION_NOT_WORK_REGION1</th>\n",
       "      <th>publish</th>\n",
       "      <th>publish0.0</th>\n",
       "      <th>publish1.0</th>\n",
       "      <th>publish2.0</th>\n",
       "      <th>publish3.0</th>\n",
       "    </tr>\n",
       "  </thead>\n",
       "  <tbody>\n",
       "    <tr>\n",
       "      <th>0</th>\n",
       "      <td>2.0</td>\n",
       "      <td>1</td>\n",
       "      <td>0</td>\n",
       "      <td>1.0</td>\n",
       "      <td>0</td>\n",
       "      <td>1</td>\n",
       "      <td>0</td>\n",
       "      <td>0</td>\n",
       "    </tr>\n",
       "    <tr>\n",
       "      <th>1</th>\n",
       "      <td>5.0</td>\n",
       "      <td>1</td>\n",
       "      <td>0</td>\n",
       "      <td>0.0</td>\n",
       "      <td>1</td>\n",
       "      <td>0</td>\n",
       "      <td>0</td>\n",
       "      <td>0</td>\n",
       "    </tr>\n",
       "    <tr>\n",
       "      <th>2</th>\n",
       "      <td>7.0</td>\n",
       "      <td>1</td>\n",
       "      <td>0</td>\n",
       "      <td>2.0</td>\n",
       "      <td>0</td>\n",
       "      <td>0</td>\n",
       "      <td>1</td>\n",
       "      <td>0</td>\n",
       "    </tr>\n",
       "    <tr>\n",
       "      <th>3</th>\n",
       "      <td>2.0</td>\n",
       "      <td>1</td>\n",
       "      <td>0</td>\n",
       "      <td>0.0</td>\n",
       "      <td>1</td>\n",
       "      <td>0</td>\n",
       "      <td>0</td>\n",
       "      <td>0</td>\n",
       "    </tr>\n",
       "    <tr>\n",
       "      <th>4</th>\n",
       "      <td>2.0</td>\n",
       "      <td>1</td>\n",
       "      <td>0</td>\n",
       "      <td>0.0</td>\n",
       "      <td>1</td>\n",
       "      <td>0</td>\n",
       "      <td>0</td>\n",
       "      <td>0</td>\n",
       "    </tr>\n",
       "  </tbody>\n",
       "</table>\n",
       "</div>"
      ],
      "text/plain": [
       "  OBS_30_CNT_SOCIAL_CIRCLE  REG_REGION_NOT_WORK_REGION0  \\\n",
       "0                      2.0                            1   \n",
       "1                      5.0                            1   \n",
       "2                      7.0                            1   \n",
       "3                      2.0                            1   \n",
       "4                      2.0                            1   \n",
       "\n",
       "   REG_REGION_NOT_WORK_REGION1  publish  publish0.0  publish1.0  publish2.0  \\\n",
       "0                            0      1.0           0           1           0   \n",
       "1                            0      0.0           1           0           0   \n",
       "2                            0      2.0           0           0           1   \n",
       "3                            0      0.0           1           0           0   \n",
       "4                            0      0.0           1           0           0   \n",
       "\n",
       "   publish3.0  \n",
       "0           0  \n",
       "1           0  \n",
       "2           0  \n",
       "3           0  \n",
       "4           0  "
      ]
     },
     "execution_count": 134,
     "metadata": {},
     "output_type": "execute_result"
    }
   ],
   "source": [
    "# oldをOne Hot Encoding\n",
    "eda7_publish_ohe = pd.get_dummies(eda7[\"publish\"]).add_prefix(\"publish\")\n",
    "eda7_test_publish_ohe = pd.get_dummies(eda7_test[\"publish\"]).add_prefix(\"publish\")\n",
    "\n",
    "eda7 = pd.concat([eda7, eda7_publish_ohe], axis=1)\n",
    "eda7_test = pd.concat([eda7_test, eda7_test_publish_ohe], axis=1)\n",
    "\n",
    "eda7.drop('DAYS_ID_PUBLISH', axis=1, inplace=True)\n",
    "eda7_test.drop('DAYS_ID_PUBLISH', axis=1, inplace=True)\n",
    "\n",
    "eda7_test.head(5)"
   ]
  },
  {
   "cell_type": "code",
   "execution_count": 135,
   "id": "5f24f07f",
   "metadata": {
    "scrolled": true
   },
   "outputs": [
    {
     "data": {
      "text/html": [
       "<div>\n",
       "<style scoped>\n",
       "    .dataframe tbody tr th:only-of-type {\n",
       "        vertical-align: middle;\n",
       "    }\n",
       "\n",
       "    .dataframe tbody tr th {\n",
       "        vertical-align: top;\n",
       "    }\n",
       "\n",
       "    .dataframe thead th {\n",
       "        text-align: right;\n",
       "    }\n",
       "</style>\n",
       "<table border=\"1\" class=\"dataframe\">\n",
       "  <thead>\n",
       "    <tr style=\"text-align: right;\">\n",
       "      <th></th>\n",
       "      <th>REG_REGION_NOT_WORK_REGION0</th>\n",
       "      <th>REG_REGION_NOT_WORK_REGION1</th>\n",
       "      <th>publish</th>\n",
       "      <th>publish0.0</th>\n",
       "      <th>publish1.0</th>\n",
       "      <th>publish2.0</th>\n",
       "      <th>publish3.0</th>\n",
       "      <th>OBS_30_CNT_SOCIAL_CIRCLE0.0</th>\n",
       "      <th>OBS_30_CNT_SOCIAL_CIRCLE1.0</th>\n",
       "      <th>OBS_30_CNT_SOCIAL_CIRCLE2.0</th>\n",
       "      <th>...</th>\n",
       "      <th>OBS_30_CNT_SOCIAL_CIRCLE6.0</th>\n",
       "      <th>OBS_30_CNT_SOCIAL_CIRCLE7.0</th>\n",
       "      <th>OBS_30_CNT_SOCIAL_CIRCLE8.0</th>\n",
       "      <th>OBS_30_CNT_SOCIAL_CIRCLE9.0</th>\n",
       "      <th>OBS_30_CNT_SOCIAL_CIRCLE10.0</th>\n",
       "      <th>OBS_30_CNT_SOCIAL_CIRCLE11.0</th>\n",
       "      <th>OBS_30_CNT_SOCIAL_CIRCLE12.0</th>\n",
       "      <th>OBS_30_CNT_SOCIAL_CIRCLE13.0</th>\n",
       "      <th>OBS_30_CNT_SOCIAL_CIRCLE14.0</th>\n",
       "      <th>OBS_30_CNT_SOCIAL_CIRCLE15以上</th>\n",
       "    </tr>\n",
       "  </thead>\n",
       "  <tbody>\n",
       "    <tr>\n",
       "      <th>0</th>\n",
       "      <td>1</td>\n",
       "      <td>0</td>\n",
       "      <td>1.0</td>\n",
       "      <td>0</td>\n",
       "      <td>1</td>\n",
       "      <td>0</td>\n",
       "      <td>0</td>\n",
       "      <td>0</td>\n",
       "      <td>0</td>\n",
       "      <td>1</td>\n",
       "      <td>...</td>\n",
       "      <td>0</td>\n",
       "      <td>0</td>\n",
       "      <td>0</td>\n",
       "      <td>0</td>\n",
       "      <td>0</td>\n",
       "      <td>0</td>\n",
       "      <td>0</td>\n",
       "      <td>0</td>\n",
       "      <td>0</td>\n",
       "      <td>0</td>\n",
       "    </tr>\n",
       "    <tr>\n",
       "      <th>1</th>\n",
       "      <td>1</td>\n",
       "      <td>0</td>\n",
       "      <td>0.0</td>\n",
       "      <td>1</td>\n",
       "      <td>0</td>\n",
       "      <td>0</td>\n",
       "      <td>0</td>\n",
       "      <td>0</td>\n",
       "      <td>0</td>\n",
       "      <td>0</td>\n",
       "      <td>...</td>\n",
       "      <td>0</td>\n",
       "      <td>0</td>\n",
       "      <td>0</td>\n",
       "      <td>0</td>\n",
       "      <td>0</td>\n",
       "      <td>0</td>\n",
       "      <td>0</td>\n",
       "      <td>0</td>\n",
       "      <td>0</td>\n",
       "      <td>0</td>\n",
       "    </tr>\n",
       "    <tr>\n",
       "      <th>2</th>\n",
       "      <td>1</td>\n",
       "      <td>0</td>\n",
       "      <td>2.0</td>\n",
       "      <td>0</td>\n",
       "      <td>0</td>\n",
       "      <td>1</td>\n",
       "      <td>0</td>\n",
       "      <td>0</td>\n",
       "      <td>0</td>\n",
       "      <td>0</td>\n",
       "      <td>...</td>\n",
       "      <td>0</td>\n",
       "      <td>1</td>\n",
       "      <td>0</td>\n",
       "      <td>0</td>\n",
       "      <td>0</td>\n",
       "      <td>0</td>\n",
       "      <td>0</td>\n",
       "      <td>0</td>\n",
       "      <td>0</td>\n",
       "      <td>0</td>\n",
       "    </tr>\n",
       "    <tr>\n",
       "      <th>3</th>\n",
       "      <td>1</td>\n",
       "      <td>0</td>\n",
       "      <td>0.0</td>\n",
       "      <td>1</td>\n",
       "      <td>0</td>\n",
       "      <td>0</td>\n",
       "      <td>0</td>\n",
       "      <td>0</td>\n",
       "      <td>0</td>\n",
       "      <td>1</td>\n",
       "      <td>...</td>\n",
       "      <td>0</td>\n",
       "      <td>0</td>\n",
       "      <td>0</td>\n",
       "      <td>0</td>\n",
       "      <td>0</td>\n",
       "      <td>0</td>\n",
       "      <td>0</td>\n",
       "      <td>0</td>\n",
       "      <td>0</td>\n",
       "      <td>0</td>\n",
       "    </tr>\n",
       "    <tr>\n",
       "      <th>4</th>\n",
       "      <td>1</td>\n",
       "      <td>0</td>\n",
       "      <td>0.0</td>\n",
       "      <td>1</td>\n",
       "      <td>0</td>\n",
       "      <td>0</td>\n",
       "      <td>0</td>\n",
       "      <td>0</td>\n",
       "      <td>0</td>\n",
       "      <td>1</td>\n",
       "      <td>...</td>\n",
       "      <td>0</td>\n",
       "      <td>0</td>\n",
       "      <td>0</td>\n",
       "      <td>0</td>\n",
       "      <td>0</td>\n",
       "      <td>0</td>\n",
       "      <td>0</td>\n",
       "      <td>0</td>\n",
       "      <td>0</td>\n",
       "      <td>0</td>\n",
       "    </tr>\n",
       "  </tbody>\n",
       "</table>\n",
       "<p>5 rows × 23 columns</p>\n",
       "</div>"
      ],
      "text/plain": [
       "   REG_REGION_NOT_WORK_REGION0  REG_REGION_NOT_WORK_REGION1  publish  \\\n",
       "0                            1                            0      1.0   \n",
       "1                            1                            0      0.0   \n",
       "2                            1                            0      2.0   \n",
       "3                            1                            0      0.0   \n",
       "4                            1                            0      0.0   \n",
       "\n",
       "   publish0.0  publish1.0  publish2.0  publish3.0  \\\n",
       "0           0           1           0           0   \n",
       "1           1           0           0           0   \n",
       "2           0           0           1           0   \n",
       "3           1           0           0           0   \n",
       "4           1           0           0           0   \n",
       "\n",
       "   OBS_30_CNT_SOCIAL_CIRCLE0.0  OBS_30_CNT_SOCIAL_CIRCLE1.0  \\\n",
       "0                            0                            0   \n",
       "1                            0                            0   \n",
       "2                            0                            0   \n",
       "3                            0                            0   \n",
       "4                            0                            0   \n",
       "\n",
       "   OBS_30_CNT_SOCIAL_CIRCLE2.0  ...  OBS_30_CNT_SOCIAL_CIRCLE6.0  \\\n",
       "0                            1  ...                            0   \n",
       "1                            0  ...                            0   \n",
       "2                            0  ...                            0   \n",
       "3                            1  ...                            0   \n",
       "4                            1  ...                            0   \n",
       "\n",
       "   OBS_30_CNT_SOCIAL_CIRCLE7.0  OBS_30_CNT_SOCIAL_CIRCLE8.0  \\\n",
       "0                            0                            0   \n",
       "1                            0                            0   \n",
       "2                            1                            0   \n",
       "3                            0                            0   \n",
       "4                            0                            0   \n",
       "\n",
       "   OBS_30_CNT_SOCIAL_CIRCLE9.0  OBS_30_CNT_SOCIAL_CIRCLE10.0  \\\n",
       "0                            0                             0   \n",
       "1                            0                             0   \n",
       "2                            0                             0   \n",
       "3                            0                             0   \n",
       "4                            0                             0   \n",
       "\n",
       "   OBS_30_CNT_SOCIAL_CIRCLE11.0  OBS_30_CNT_SOCIAL_CIRCLE12.0  \\\n",
       "0                             0                             0   \n",
       "1                             0                             0   \n",
       "2                             0                             0   \n",
       "3                             0                             0   \n",
       "4                             0                             0   \n",
       "\n",
       "   OBS_30_CNT_SOCIAL_CIRCLE13.0  OBS_30_CNT_SOCIAL_CIRCLE14.0  \\\n",
       "0                             0                             0   \n",
       "1                             0                             0   \n",
       "2                             0                             0   \n",
       "3                             0                             0   \n",
       "4                             0                             0   \n",
       "\n",
       "   OBS_30_CNT_SOCIAL_CIRCLE15以上  \n",
       "0                             0  \n",
       "1                             0  \n",
       "2                             0  \n",
       "3                             0  \n",
       "4                             0  \n",
       "\n",
       "[5 rows x 23 columns]"
      ]
     },
     "execution_count": 135,
     "metadata": {},
     "output_type": "execute_result"
    }
   ],
   "source": [
    "# REG_REGION_NOT_WORK_REGIONをOne Hot Encoding\n",
    "eda7_OBS_30_CNT_SOCIAL_CIRCLE_ohe = pd.get_dummies(eda7[\"OBS_30_CNT_SOCIAL_CIRCLE\"]).add_prefix(\"OBS_30_CNT_SOCIAL_CIRCLE\")\n",
    "eda7_test_OBS_30_CNT_SOCIAL_CIRCLE_ohe = pd.get_dummies(eda7_test[\"OBS_30_CNT_SOCIAL_CIRCLE\"]).add_prefix(\"OBS_30_CNT_SOCIAL_CIRCLE\")\n",
    "\n",
    "eda7 = pd.concat([eda7, eda7_OBS_30_CNT_SOCIAL_CIRCLE_ohe], axis=1)\n",
    "eda7_test = pd.concat([eda7_test, eda7_test_OBS_30_CNT_SOCIAL_CIRCLE_ohe], axis=1)\n",
    "\n",
    "eda7.drop('OBS_30_CNT_SOCIAL_CIRCLE', axis=1, inplace=True)\n",
    "eda7_test.drop('OBS_30_CNT_SOCIAL_CIRCLE', axis=1, inplace=True)\n",
    "\n",
    "eda7_test.head(5)"
   ]
  },
  {
   "cell_type": "code",
   "execution_count": 136,
   "id": "6ecc142f",
   "metadata": {},
   "outputs": [
    {
     "data": {
      "text/plain": [
       "Index(['REG_REGION_NOT_WORK_REGION0', 'REG_REGION_NOT_WORK_REGION1', 'publish',\n",
       "       'publish0.0', 'publish1.0', 'publish2.0', 'publish3.0',\n",
       "       'OBS_30_CNT_SOCIAL_CIRCLE0.0', 'OBS_30_CNT_SOCIAL_CIRCLE1.0',\n",
       "       'OBS_30_CNT_SOCIAL_CIRCLE2.0', 'OBS_30_CNT_SOCIAL_CIRCLE3.0',\n",
       "       'OBS_30_CNT_SOCIAL_CIRCLE4.0', 'OBS_30_CNT_SOCIAL_CIRCLE5.0',\n",
       "       'OBS_30_CNT_SOCIAL_CIRCLE6.0', 'OBS_30_CNT_SOCIAL_CIRCLE7.0',\n",
       "       'OBS_30_CNT_SOCIAL_CIRCLE8.0', 'OBS_30_CNT_SOCIAL_CIRCLE9.0',\n",
       "       'OBS_30_CNT_SOCIAL_CIRCLE10.0', 'OBS_30_CNT_SOCIAL_CIRCLE11.0',\n",
       "       'OBS_30_CNT_SOCIAL_CIRCLE12.0', 'OBS_30_CNT_SOCIAL_CIRCLE13.0',\n",
       "       'OBS_30_CNT_SOCIAL_CIRCLE14.0', 'OBS_30_CNT_SOCIAL_CIRCLE15以上'],\n",
       "      dtype='object')"
      ]
     },
     "execution_count": 136,
     "metadata": {},
     "output_type": "execute_result"
    }
   ],
   "source": [
    "eda7.columns"
   ]
  },
  {
   "cell_type": "code",
   "execution_count": 139,
   "id": "1323557c",
   "metadata": {},
   "outputs": [
    {
     "data": {
      "text/plain": [
       "(171202, 95)"
      ]
     },
     "execution_count": 139,
     "metadata": {},
     "output_type": "execute_result"
    }
   ],
   "source": [
    "eda7.shape"
   ]
  },
  {
   "cell_type": "code",
   "execution_count": 140,
   "id": "376da6d0",
   "metadata": {},
   "outputs": [
    {
     "data": {
      "text/plain": [
       "(61500, 93)"
      ]
     },
     "execution_count": 140,
     "metadata": {},
     "output_type": "execute_result"
    }
   ],
   "source": [
    "eda7_test.shape"
   ]
  },
  {
   "cell_type": "code",
   "execution_count": 138,
   "id": "dd8de700",
   "metadata": {},
   "outputs": [],
   "source": [
    "#最終5データ\n",
    "eda7 = pd.concat([eda5, eda7], axis = 1)\n",
    "eda7_test = pd.concat([eda5_test, eda7_test], axis = 1)\n"
   ]
  },
  {
   "cell_type": "code",
   "execution_count": 791,
   "id": "a9d22cd6",
   "metadata": {},
   "outputs": [],
   "source": [
    "# 目的変数と説明変数に分割\n",
    "X = eda7.drop(\"TARGET\", axis=1).values\n",
    "y = eda7[\"TARGET\"].values\n",
    "X_test = eda7_test.values\n",
    "\n"
   ]
  },
  {
   "cell_type": "code",
   "execution_count": 794,
   "id": "f83b2050",
   "metadata": {},
   "outputs": [],
   "source": [
    "# 標準化\n",
    "sc = StandardScaler()\n",
    "sc.fit(X)\n",
    "X_std = sc.transform(X)\n",
    "X_test_std = sc.transform(X_test)\n",
    "\n"
   ]
  },
  {
   "cell_type": "code",
   "execution_count": 795,
   "id": "5cc122ca",
   "metadata": {},
   "outputs": [],
   "source": [
    "# 訓練データと評価データに分割\n",
    "X_train, X_valid, y_train, y_valid = train_test_split(X_std, y, test_size=0.3, stratify=y, random_state=1)"
   ]
  },
  {
   "cell_type": "code",
   "execution_count": 796,
   "id": "0886245d",
   "metadata": {},
   "outputs": [
    {
     "name": "stdout",
     "output_type": "stream",
     "text": [
      "Train Score: 0.8512371576818465\n",
      "Valid Score: 0.7294257356156132\n"
     ]
    }
   ],
   "source": [
    "# XGBClassifier\n",
    "from xgboost import XGBClassifier\n",
    "xgb = XGBClassifier(random_state = 1)\n",
    "xgb.fit(X_train, y_train)\n",
    "xgb_train_pred = xgb.predict_proba(X_train)[:,1]\n",
    "xgb_valid_pred = xgb.predict_proba(X_valid)[:,1]\n",
    "print(f\"Train Score: {roc_auc_score(y_train, xgb_train_pred)}\")\n",
    "print(f\"Valid Score: {roc_auc_score(y_valid, xgb_valid_pred)}\")"
   ]
  },
  {
   "cell_type": "code",
   "execution_count": 797,
   "id": "95bfebd2",
   "metadata": {},
   "outputs": [
    {
     "name": "stdout",
     "output_type": "stream",
     "text": [
      "Train Score: 0.8034380299290884\n",
      "Valid Score: 0.7382316393090306\n"
     ]
    }
   ],
   "source": [
    "# LGBMClassfier\n",
    "from lightgbm import LGBMClassifier\n",
    "\n",
    "lgb = LGBMClassifier(random_state = 1)\n",
    "lgb.fit(X_train, y_train)\n",
    "\n",
    "lgb_train_pred = lgb.predict_proba(X_train)[:, 1]\n",
    "lgb_valid_pred = lgb.predict_proba(X_valid)[:, 1]\n",
    "print(f\"Train Score: {roc_auc_score(y_train, lgb_train_pred)}\")\n",
    "print(f\"Valid Score: {roc_auc_score(y_valid, lgb_valid_pred)}\")"
   ]
  },
  {
   "cell_type": "markdown",
   "id": "ca16539d",
   "metadata": {},
   "source": [
    "## 自己的8"
   ]
  },
  {
   "cell_type": "code",
   "execution_count": 802,
   "id": "3b4e1099",
   "metadata": {},
   "outputs": [
    {
     "data": {
      "text/html": [
       "<div>\n",
       "<style scoped>\n",
       "    .dataframe tbody tr th:only-of-type {\n",
       "        vertical-align: middle;\n",
       "    }\n",
       "\n",
       "    .dataframe tbody tr th {\n",
       "        vertical-align: top;\n",
       "    }\n",
       "\n",
       "    .dataframe thead th {\n",
       "        text-align: right;\n",
       "    }\n",
       "</style>\n",
       "<table border=\"1\" class=\"dataframe\">\n",
       "  <thead>\n",
       "    <tr style=\"text-align: right;\">\n",
       "      <th></th>\n",
       "      <th>NAME_TYPE_SUITE</th>\n",
       "      <th>NAME_INCOME_TYPE</th>\n",
       "      <th>DAYS_LAST_PHONE_CHANGE</th>\n",
       "    </tr>\n",
       "  </thead>\n",
       "  <tbody>\n",
       "    <tr>\n",
       "      <th>0</th>\n",
       "      <td>Unaccompanied</td>\n",
       "      <td>Working</td>\n",
       "      <td>-292.0</td>\n",
       "    </tr>\n",
       "    <tr>\n",
       "      <th>1</th>\n",
       "      <td>Unaccompanied</td>\n",
       "      <td>Pensioner</td>\n",
       "      <td>-617.0</td>\n",
       "    </tr>\n",
       "    <tr>\n",
       "      <th>2</th>\n",
       "      <td>Family</td>\n",
       "      <td>State servant</td>\n",
       "      <td>-542.0</td>\n",
       "    </tr>\n",
       "    <tr>\n",
       "      <th>3</th>\n",
       "      <td>Children</td>\n",
       "      <td>Pensioner</td>\n",
       "      <td>0.0</td>\n",
       "    </tr>\n",
       "    <tr>\n",
       "      <th>4</th>\n",
       "      <td>Unaccompanied</td>\n",
       "      <td>Commercial associate</td>\n",
       "      <td>-1243.0</td>\n",
       "    </tr>\n",
       "  </tbody>\n",
       "</table>\n",
       "</div>"
      ],
      "text/plain": [
       "  NAME_TYPE_SUITE      NAME_INCOME_TYPE  DAYS_LAST_PHONE_CHANGE\n",
       "0   Unaccompanied               Working                  -292.0\n",
       "1   Unaccompanied             Pensioner                  -617.0\n",
       "2          Family         State servant                  -542.0\n",
       "3        Children             Pensioner                     0.0\n",
       "4   Unaccompanied  Commercial associate                 -1243.0"
      ]
     },
     "execution_count": 802,
     "metadata": {},
     "output_type": "execute_result"
    }
   ],
   "source": [
    "#３つに絞る\n",
    "features8 = ['NAME_TYPE_SUITE', 'NAME_INCOME_TYPE', 'DAYS_LAST_PHONE_CHANGE']\n",
    "eda8 = train[features8]\n",
    "\n",
    "eda8_test = test[features8]\n",
    "eda8.head(5)"
   ]
  },
  {
   "cell_type": "code",
   "execution_count": 812,
   "id": "69f134fe",
   "metadata": {},
   "outputs": [
    {
     "name": "stdout",
     "output_type": "stream",
     "text": [
      "NAME_TYPE_SUITE           0\n",
      "NAME_INCOME_TYPE          0\n",
      "DAYS_LAST_PHONE_CHANGE    1\n",
      "dtype: int64\n",
      "NAME_TYPE_SUITE           0\n",
      "NAME_INCOME_TYPE          0\n",
      "DAYS_LAST_PHONE_CHANGE    0\n",
      "dtype: int64\n"
     ]
    }
   ],
   "source": [
    "print(eda8.isnull().sum())\n",
    "print(eda8_test.isnull().sum())"
   ]
  },
  {
   "cell_type": "code",
   "execution_count": 813,
   "id": "85899009",
   "metadata": {},
   "outputs": [
    {
     "data": {
      "text/plain": [
       "Unaccompanied      139192\n",
       "Family              22356\n",
       "Spouse, partner      6288\n",
       "Children             1775\n",
       "Other_B               955\n",
       "Other_A               492\n",
       "Group of people       144\n",
       "Name: NAME_TYPE_SUITE, dtype: int64"
      ]
     },
     "execution_count": 813,
     "metadata": {},
     "output_type": "execute_result"
    }
   ],
   "source": [
    "eda8['NAME_TYPE_SUITE'].value_counts()"
   ]
  },
  {
   "cell_type": "code",
   "execution_count": 807,
   "id": "9b50e107",
   "metadata": {
    "scrolled": true
   },
   "outputs": [
    {
     "data": {
      "text/plain": [
       "<AxesSubplot:xlabel='NAME_TYPE_SUITE', ylabel='count'>"
      ]
     },
     "execution_count": 807,
     "metadata": {},
     "output_type": "execute_result"
    },
    {
     "data": {
      "image/png": "[encoded data removed]",
      "text/plain": [
       "<Figure size 1440x1440 with 1 Axes>"
      ]
     },
     "metadata": {},
     "output_type": "display_data"
    }
   ],
   "source": [
    "sns.countplot(data = eda8,x = 'NAME_TYPE_SUITE')"
   ]
  },
  {
   "cell_type": "code",
   "execution_count": 815,
   "id": "31d67e9b",
   "metadata": {},
   "outputs": [
    {
     "data": {
      "text/plain": [
       "Working                 88268\n",
       "Commercial associate    40007\n",
       "Pensioner               30895\n",
       "State servant           12007\n",
       "Unemployed                 10\n",
       "Student                     9\n",
       "Businessman                 3\n",
       "Maternity leave             3\n",
       "Name: NAME_INCOME_TYPE, dtype: int64"
      ]
     },
     "execution_count": 815,
     "metadata": {},
     "output_type": "execute_result"
    }
   ],
   "source": [
    "eda8['NAME_INCOME_TYPE'].value_counts()"
   ]
  },
  {
   "cell_type": "code",
   "execution_count": 816,
   "id": "cf5ae564",
   "metadata": {
    "scrolled": true
   },
   "outputs": [
    {
     "data": {
      "text/plain": [
       "<AxesSubplot:xlabel='NAME_INCOME_TYPE', ylabel='count'>"
      ]
     },
     "execution_count": 816,
     "metadata": {},
     "output_type": "execute_result"
    },
    {
     "data": {
      "image/png": "[encoded data removed]",
      "text/plain": [
       "<Figure size 1440x1440 with 1 Axes>"
      ]
     },
     "metadata": {},
     "output_type": "display_data"
    }
   ],
   "source": [
    "sns.countplot(data = eda8, x = 'NAME_INCOME_TYPE')"
   ]
  },
  {
   "cell_type": "code",
   "execution_count": 818,
   "id": "040357a2",
   "metadata": {
    "scrolled": false
   },
   "outputs": [
    {
     "data": {
      "text/plain": [
       "<seaborn.axisgrid.FacetGrid at 0x7fb744b13e50>"
      ]
     },
     "execution_count": 818,
     "metadata": {},
     "output_type": "execute_result"
    },
    {
     "data": {
      "image/png": "[encoded data removed]",
      "text/plain": [
       "<Figure size 360x360 with 1 Axes>"
      ]
     },
     "metadata": {},
     "output_type": "display_data"
    }
   ],
   "source": [
    "sns.displot(data = eda8, x = 'DAYS_LAST_PHONE_CHANGE' )"
   ]
  },
  {
   "cell_type": "code",
   "execution_count": 824,
   "id": "cda6990f",
   "metadata": {},
   "outputs": [
    {
     "data": {
      "text/plain": [
       "<AxesSubplot:xlabel='DAYS_LAST_PHONE_CHANGE'>"
      ]
     },
     "execution_count": 824,
     "metadata": {},
     "output_type": "execute_result"
    },
    {
     "data": {
      "image/png": "[encoded data removed]",
      "text/plain": [
       "<Figure size 1440x1440 with 1 Axes>"
      ]
     },
     "metadata": {},
     "output_type": "display_data"
    }
   ],
   "source": [
    "sns.boxplot(data = eda8, x = 'DAYS_LAST_PHONE_CHANGE')"
   ]
  },
  {
   "cell_type": "code",
   "execution_count": 823,
   "id": "fe1c7225",
   "metadata": {},
   "outputs": [
    {
     "data": {
      "text/plain": [
       "count    171201.000000\n",
       "mean       -962.411218\n",
       "std         826.278427\n",
       "min       -4173.000000\n",
       "25%       -1568.000000\n",
       "50%        -757.000000\n",
       "75%        -274.000000\n",
       "max           0.000000\n",
       "Name: DAYS_LAST_PHONE_CHANGE, dtype: float64"
      ]
     },
     "execution_count": 823,
     "metadata": {},
     "output_type": "execute_result"
    }
   ],
   "source": [
    "eda8['DAYS_LAST_PHONE_CHANGE'].describe()"
   ]
  },
  {
   "cell_type": "code",
   "execution_count": 825,
   "id": "ffa2011c",
   "metadata": {},
   "outputs": [],
   "source": [
    "#データ加工\n",
    "eda8 = eda8.fillna({'DAYS_LAST_PHONE_CHANGE':-962.411218})\n",
    "eda8_test = eda8_test.fillna({'DAYS_LAST_PHONE_CHANGE':-962.411218})\n"
   ]
  },
  {
   "cell_type": "code",
   "execution_count": 826,
   "id": "b50e254c",
   "metadata": {},
   "outputs": [],
   "source": [
    "eda8['YEARS_PHONE'] = np.floor(eda8['DAYS_LAST_PHONE_CHANGE']/(-365))\n",
    "eda8_test['YEARS_PHONE'] = np.floor(eda8_test['DAYS_LAST_PHONE_CHANGE']/(-365))\n",
    "\n"
   ]
  },
  {
   "cell_type": "code",
   "execution_count": 827,
   "id": "f29a921d",
   "metadata": {
    "scrolled": true
   },
   "outputs": [
    {
     "data": {
      "text/plain": [
       "array([ 0.,  1.,  3.,  5.,  4.,  7.,  6.,  2.,  8.,  9., 11., 10.])"
      ]
     },
     "execution_count": 827,
     "metadata": {},
     "output_type": "execute_result"
    }
   ],
   "source": [
    "eda8_test[\"YEARS_PHONE\"].unique()"
   ]
  },
  {
   "cell_type": "code",
   "execution_count": 828,
   "id": "02df8b77",
   "metadata": {},
   "outputs": [
    {
     "data": {
      "text/plain": [
       "<seaborn.axisgrid.FacetGrid at 0x7fb623482490>"
      ]
     },
     "execution_count": 828,
     "metadata": {},
     "output_type": "execute_result"
    },
    {
     "data": {
      "image/png": "[encoded data removed]",
      "text/plain": [
       "<Figure size 360x360 with 1 Axes>"
      ]
     },
     "metadata": {},
     "output_type": "display_data"
    }
   ],
   "source": [
    "sns.displot(data = eda8, x = \"YEARS_PHONE\")"
   ]
  },
  {
   "cell_type": "code",
   "execution_count": null,
   "id": "a9eb41ce",
   "metadata": {},
   "outputs": [],
   "source": [
    "# YEARS_EMPLOYEDをグループ分け\n",
    "#eda8[\"YEARS_PHONE\"] = eda8[\"YEARS_PHONE\"] // 5\n",
    "#eda8_test[\"YEARS_PHONE\"] = eda8_test[\"YEARS_PHONE\"] // 5\n",
    "#eda8_test[\"YEARS_PHONE\"].unique()"
   ]
  },
  {
   "cell_type": "code",
   "execution_count": 829,
   "id": "fe34b489",
   "metadata": {},
   "outputs": [
    {
     "data": {
      "text/html": [
       "<div>\n",
       "<style scoped>\n",
       "    .dataframe tbody tr th:only-of-type {\n",
       "        vertical-align: middle;\n",
       "    }\n",
       "\n",
       "    .dataframe tbody tr th {\n",
       "        vertical-align: top;\n",
       "    }\n",
       "\n",
       "    .dataframe thead th {\n",
       "        text-align: right;\n",
       "    }\n",
       "</style>\n",
       "<table border=\"1\" class=\"dataframe\">\n",
       "  <thead>\n",
       "    <tr style=\"text-align: right;\">\n",
       "      <th></th>\n",
       "      <th>DAYS_LAST_PHONE_CHANGE</th>\n",
       "      <th>NAME_TYPE_SUITEChildren</th>\n",
       "      <th>NAME_TYPE_SUITEFamily</th>\n",
       "      <th>NAME_TYPE_SUITEGroup of people</th>\n",
       "      <th>NAME_TYPE_SUITEOther_A</th>\n",
       "      <th>NAME_TYPE_SUITEOther_B</th>\n",
       "      <th>NAME_TYPE_SUITESpouse, partner</th>\n",
       "      <th>NAME_TYPE_SUITEUnaccompanied</th>\n",
       "      <th>NAME_INCOME_TYPEBusinessman</th>\n",
       "      <th>NAME_INCOME_TYPECommercial associate</th>\n",
       "      <th>...</th>\n",
       "      <th>YEARS_PHONE2.0</th>\n",
       "      <th>YEARS_PHONE3.0</th>\n",
       "      <th>YEARS_PHONE4.0</th>\n",
       "      <th>YEARS_PHONE5.0</th>\n",
       "      <th>YEARS_PHONE6.0</th>\n",
       "      <th>YEARS_PHONE7.0</th>\n",
       "      <th>YEARS_PHONE8.0</th>\n",
       "      <th>YEARS_PHONE9.0</th>\n",
       "      <th>YEARS_PHONE10.0</th>\n",
       "      <th>YEARS_PHONE11.0</th>\n",
       "    </tr>\n",
       "  </thead>\n",
       "  <tbody>\n",
       "    <tr>\n",
       "      <th>0</th>\n",
       "      <td>-1.0</td>\n",
       "      <td>0</td>\n",
       "      <td>0</td>\n",
       "      <td>0</td>\n",
       "      <td>0</td>\n",
       "      <td>0</td>\n",
       "      <td>0</td>\n",
       "      <td>1</td>\n",
       "      <td>0</td>\n",
       "      <td>0</td>\n",
       "      <td>...</td>\n",
       "      <td>0</td>\n",
       "      <td>0</td>\n",
       "      <td>0</td>\n",
       "      <td>0</td>\n",
       "      <td>0</td>\n",
       "      <td>0</td>\n",
       "      <td>0</td>\n",
       "      <td>0</td>\n",
       "      <td>0</td>\n",
       "      <td>0</td>\n",
       "    </tr>\n",
       "    <tr>\n",
       "      <th>1</th>\n",
       "      <td>-212.0</td>\n",
       "      <td>0</td>\n",
       "      <td>0</td>\n",
       "      <td>0</td>\n",
       "      <td>0</td>\n",
       "      <td>0</td>\n",
       "      <td>0</td>\n",
       "      <td>1</td>\n",
       "      <td>0</td>\n",
       "      <td>0</td>\n",
       "      <td>...</td>\n",
       "      <td>0</td>\n",
       "      <td>0</td>\n",
       "      <td>0</td>\n",
       "      <td>0</td>\n",
       "      <td>0</td>\n",
       "      <td>0</td>\n",
       "      <td>0</td>\n",
       "      <td>0</td>\n",
       "      <td>0</td>\n",
       "      <td>0</td>\n",
       "    </tr>\n",
       "    <tr>\n",
       "      <th>2</th>\n",
       "      <td>-428.0</td>\n",
       "      <td>1</td>\n",
       "      <td>0</td>\n",
       "      <td>0</td>\n",
       "      <td>0</td>\n",
       "      <td>0</td>\n",
       "      <td>0</td>\n",
       "      <td>0</td>\n",
       "      <td>0</td>\n",
       "      <td>1</td>\n",
       "      <td>...</td>\n",
       "      <td>0</td>\n",
       "      <td>0</td>\n",
       "      <td>0</td>\n",
       "      <td>0</td>\n",
       "      <td>0</td>\n",
       "      <td>0</td>\n",
       "      <td>0</td>\n",
       "      <td>0</td>\n",
       "      <td>0</td>\n",
       "      <td>0</td>\n",
       "    </tr>\n",
       "    <tr>\n",
       "      <th>3</th>\n",
       "      <td>-442.0</td>\n",
       "      <td>0</td>\n",
       "      <td>0</td>\n",
       "      <td>0</td>\n",
       "      <td>0</td>\n",
       "      <td>0</td>\n",
       "      <td>0</td>\n",
       "      <td>1</td>\n",
       "      <td>0</td>\n",
       "      <td>0</td>\n",
       "      <td>...</td>\n",
       "      <td>0</td>\n",
       "      <td>0</td>\n",
       "      <td>0</td>\n",
       "      <td>0</td>\n",
       "      <td>0</td>\n",
       "      <td>0</td>\n",
       "      <td>0</td>\n",
       "      <td>0</td>\n",
       "      <td>0</td>\n",
       "      <td>0</td>\n",
       "    </tr>\n",
       "    <tr>\n",
       "      <th>4</th>\n",
       "      <td>-1333.0</td>\n",
       "      <td>0</td>\n",
       "      <td>0</td>\n",
       "      <td>0</td>\n",
       "      <td>0</td>\n",
       "      <td>0</td>\n",
       "      <td>0</td>\n",
       "      <td>1</td>\n",
       "      <td>0</td>\n",
       "      <td>0</td>\n",
       "      <td>...</td>\n",
       "      <td>0</td>\n",
       "      <td>1</td>\n",
       "      <td>0</td>\n",
       "      <td>0</td>\n",
       "      <td>0</td>\n",
       "      <td>0</td>\n",
       "      <td>0</td>\n",
       "      <td>0</td>\n",
       "      <td>0</td>\n",
       "      <td>0</td>\n",
       "    </tr>\n",
       "  </tbody>\n",
       "</table>\n",
       "<p>5 rows × 28 columns</p>\n",
       "</div>"
      ],
      "text/plain": [
       "   DAYS_LAST_PHONE_CHANGE  NAME_TYPE_SUITEChildren  NAME_TYPE_SUITEFamily  \\\n",
       "0                    -1.0                        0                      0   \n",
       "1                  -212.0                        0                      0   \n",
       "2                  -428.0                        1                      0   \n",
       "3                  -442.0                        0                      0   \n",
       "4                 -1333.0                        0                      0   \n",
       "\n",
       "   NAME_TYPE_SUITEGroup of people  NAME_TYPE_SUITEOther_A  \\\n",
       "0                               0                       0   \n",
       "1                               0                       0   \n",
       "2                               0                       0   \n",
       "3                               0                       0   \n",
       "4                               0                       0   \n",
       "\n",
       "   NAME_TYPE_SUITEOther_B  NAME_TYPE_SUITESpouse, partner  \\\n",
       "0                       0                               0   \n",
       "1                       0                               0   \n",
       "2                       0                               0   \n",
       "3                       0                               0   \n",
       "4                       0                               0   \n",
       "\n",
       "   NAME_TYPE_SUITEUnaccompanied  NAME_INCOME_TYPEBusinessman  \\\n",
       "0                             1                            0   \n",
       "1                             1                            0   \n",
       "2                             0                            0   \n",
       "3                             1                            0   \n",
       "4                             1                            0   \n",
       "\n",
       "   NAME_INCOME_TYPECommercial associate  ...  YEARS_PHONE2.0  YEARS_PHONE3.0  \\\n",
       "0                                     0  ...               0               0   \n",
       "1                                     0  ...               0               0   \n",
       "2                                     1  ...               0               0   \n",
       "3                                     0  ...               0               0   \n",
       "4                                     0  ...               0               1   \n",
       "\n",
       "   YEARS_PHONE4.0  YEARS_PHONE5.0  YEARS_PHONE6.0  YEARS_PHONE7.0  \\\n",
       "0               0               0               0               0   \n",
       "1               0               0               0               0   \n",
       "2               0               0               0               0   \n",
       "3               0               0               0               0   \n",
       "4               0               0               0               0   \n",
       "\n",
       "   YEARS_PHONE8.0  YEARS_PHONE9.0  YEARS_PHONE10.0  YEARS_PHONE11.0  \n",
       "0               0               0                0                0  \n",
       "1               0               0                0                0  \n",
       "2               0               0                0                0  \n",
       "3               0               0                0                0  \n",
       "4               0               0                0                0  \n",
       "\n",
       "[5 rows x 28 columns]"
      ]
     },
     "execution_count": 829,
     "metadata": {},
     "output_type": "execute_result"
    }
   ],
   "source": [
    "\n",
    "\n",
    "# YEARS_EMPLOYEDをOne Hot Encoding\n",
    "eda8_YEARS_PHONE_ohe = pd.get_dummies(eda8[\"YEARS_PHONE\"]).add_prefix(\"YEARS_PHONE\")\n",
    "eda8_test_YEARS_PHONE_ohe = pd.get_dummies(eda8_test[\"YEARS_PHONE\"]).add_prefix(\"YEARS_PHONE\")\n",
    "\n",
    "eda8 = pd.concat([eda8, eda8_YEARS_PHONE_ohe], axis=1)\n",
    "eda8_test = pd.concat([eda8_test, eda8_test_YEARS_PHONE_ohe], axis=1)\n",
    "\n",
    "eda8.drop('YEARS_PHONE', axis=1, inplace=True)\n",
    "eda8_test.drop('YEARS_PHONE', axis=1, inplace=True)\n",
    "\n",
    "eda8_test.head(5)"
   ]
  },
  {
   "cell_type": "code",
   "execution_count": 811,
   "id": "c2b85216",
   "metadata": {},
   "outputs": [],
   "source": [
    "#data加工\n",
    "eda8.fillna({'NAME_TYPE_SUITE':'Unaccompanied'}, inplace = True)\n",
    "eda8_test.fillna({'NAME_TYPE_SUITE':'Unaccompanied'}, inplace = True)"
   ]
  },
  {
   "cell_type": "code",
   "execution_count": 814,
   "id": "47d998fa",
   "metadata": {},
   "outputs": [
    {
     "data": {
      "text/html": [
       "<div>\n",
       "<style scoped>\n",
       "    .dataframe tbody tr th:only-of-type {\n",
       "        vertical-align: middle;\n",
       "    }\n",
       "\n",
       "    .dataframe tbody tr th {\n",
       "        vertical-align: top;\n",
       "    }\n",
       "\n",
       "    .dataframe thead th {\n",
       "        text-align: right;\n",
       "    }\n",
       "</style>\n",
       "<table border=\"1\" class=\"dataframe\">\n",
       "  <thead>\n",
       "    <tr style=\"text-align: right;\">\n",
       "      <th></th>\n",
       "      <th>NAME_CONTRACT_TYPE</th>\n",
       "      <th>AMT_INCOME_TOTAL</th>\n",
       "      <th>EXT_SOURCE_2</th>\n",
       "      <th>ORGANIZATION_TYPE</th>\n",
       "      <th>OWN_CAR_AGE_0.0</th>\n",
       "      <th>OWN_CAR_AGE_1.0</th>\n",
       "      <th>OWN_CAR_AGE_2.0</th>\n",
       "      <th>OWN_CAR_AGE_3.0</th>\n",
       "      <th>OWN_CAR_AGE_4.0</th>\n",
       "      <th>OWN_CAR_AGE_5.0</th>\n",
       "      <th>...</th>\n",
       "      <th>OBS_30_CNT_SOCIAL_CIRCLE6.0</th>\n",
       "      <th>OBS_30_CNT_SOCIAL_CIRCLE7.0</th>\n",
       "      <th>OBS_30_CNT_SOCIAL_CIRCLE8.0</th>\n",
       "      <th>OBS_30_CNT_SOCIAL_CIRCLE9.0</th>\n",
       "      <th>OBS_30_CNT_SOCIAL_CIRCLE10.0</th>\n",
       "      <th>OBS_30_CNT_SOCIAL_CIRCLE11.0</th>\n",
       "      <th>OBS_30_CNT_SOCIAL_CIRCLE12.0</th>\n",
       "      <th>OBS_30_CNT_SOCIAL_CIRCLE13.0</th>\n",
       "      <th>OBS_30_CNT_SOCIAL_CIRCLE14.0</th>\n",
       "      <th>OBS_30_CNT_SOCIAL_CIRCLE15以上</th>\n",
       "    </tr>\n",
       "  </thead>\n",
       "  <tbody>\n",
       "    <tr>\n",
       "      <th>0</th>\n",
       "      <td>0</td>\n",
       "      <td>144000.0</td>\n",
       "      <td>0.720416</td>\n",
       "      <td>3866</td>\n",
       "      <td>0</td>\n",
       "      <td>0</td>\n",
       "      <td>0</td>\n",
       "      <td>0</td>\n",
       "      <td>0</td>\n",
       "      <td>0</td>\n",
       "      <td>...</td>\n",
       "      <td>0</td>\n",
       "      <td>0</td>\n",
       "      <td>0</td>\n",
       "      <td>0</td>\n",
       "      <td>0</td>\n",
       "      <td>0</td>\n",
       "      <td>0</td>\n",
       "      <td>0</td>\n",
       "      <td>0</td>\n",
       "      <td>0</td>\n",
       "    </tr>\n",
       "    <tr>\n",
       "      <th>1</th>\n",
       "      <td>0</td>\n",
       "      <td>103500.0</td>\n",
       "      <td>0.287306</td>\n",
       "      <td>4991</td>\n",
       "      <td>0</td>\n",
       "      <td>0</td>\n",
       "      <td>0</td>\n",
       "      <td>0</td>\n",
       "      <td>0</td>\n",
       "      <td>0</td>\n",
       "      <td>...</td>\n",
       "      <td>0</td>\n",
       "      <td>0</td>\n",
       "      <td>0</td>\n",
       "      <td>0</td>\n",
       "      <td>0</td>\n",
       "      <td>0</td>\n",
       "      <td>0</td>\n",
       "      <td>0</td>\n",
       "      <td>0</td>\n",
       "      <td>0</td>\n",
       "    </tr>\n",
       "    <tr>\n",
       "      <th>2</th>\n",
       "      <td>0</td>\n",
       "      <td>180000.0</td>\n",
       "      <td>0.352456</td>\n",
       "      <td>4336</td>\n",
       "      <td>0</td>\n",
       "      <td>0</td>\n",
       "      <td>0</td>\n",
       "      <td>0</td>\n",
       "      <td>0</td>\n",
       "      <td>0</td>\n",
       "      <td>...</td>\n",
       "      <td>0</td>\n",
       "      <td>1</td>\n",
       "      <td>0</td>\n",
       "      <td>0</td>\n",
       "      <td>0</td>\n",
       "      <td>0</td>\n",
       "      <td>0</td>\n",
       "      <td>0</td>\n",
       "      <td>0</td>\n",
       "      <td>0</td>\n",
       "    </tr>\n",
       "    <tr>\n",
       "      <th>3</th>\n",
       "      <td>1</td>\n",
       "      <td>225000.0</td>\n",
       "      <td>0.470384</td>\n",
       "      <td>37943</td>\n",
       "      <td>0</td>\n",
       "      <td>0</td>\n",
       "      <td>0</td>\n",
       "      <td>0</td>\n",
       "      <td>0</td>\n",
       "      <td>0</td>\n",
       "      <td>...</td>\n",
       "      <td>0</td>\n",
       "      <td>0</td>\n",
       "      <td>0</td>\n",
       "      <td>0</td>\n",
       "      <td>0</td>\n",
       "      <td>0</td>\n",
       "      <td>0</td>\n",
       "      <td>0</td>\n",
       "      <td>0</td>\n",
       "      <td>0</td>\n",
       "    </tr>\n",
       "    <tr>\n",
       "      <th>4</th>\n",
       "      <td>0</td>\n",
       "      <td>144000.0</td>\n",
       "      <td>0.373133</td>\n",
       "      <td>37943</td>\n",
       "      <td>0</td>\n",
       "      <td>1</td>\n",
       "      <td>0</td>\n",
       "      <td>0</td>\n",
       "      <td>0</td>\n",
       "      <td>0</td>\n",
       "      <td>...</td>\n",
       "      <td>0</td>\n",
       "      <td>0</td>\n",
       "      <td>0</td>\n",
       "      <td>0</td>\n",
       "      <td>0</td>\n",
       "      <td>0</td>\n",
       "      <td>0</td>\n",
       "      <td>0</td>\n",
       "      <td>0</td>\n",
       "      <td>0</td>\n",
       "    </tr>\n",
       "  </tbody>\n",
       "</table>\n",
       "<p>5 rows × 116 columns</p>\n",
       "</div>"
      ],
      "text/plain": [
       "   NAME_CONTRACT_TYPE  AMT_INCOME_TOTAL  EXT_SOURCE_2  ORGANIZATION_TYPE  \\\n",
       "0                   0          144000.0      0.720416               3866   \n",
       "1                   0          103500.0      0.287306               4991   \n",
       "2                   0          180000.0      0.352456               4336   \n",
       "3                   1          225000.0      0.470384              37943   \n",
       "4                   0          144000.0      0.373133              37943   \n",
       "\n",
       "   OWN_CAR_AGE_0.0  OWN_CAR_AGE_1.0  OWN_CAR_AGE_2.0  OWN_CAR_AGE_3.0  \\\n",
       "0                0                0                0                0   \n",
       "1                0                0                0                0   \n",
       "2                0                0                0                0   \n",
       "3                0                0                0                0   \n",
       "4                0                1                0                0   \n",
       "\n",
       "   OWN_CAR_AGE_4.0  OWN_CAR_AGE_5.0  ...  OBS_30_CNT_SOCIAL_CIRCLE6.0  \\\n",
       "0                0                0  ...                            0   \n",
       "1                0                0  ...                            0   \n",
       "2                0                0  ...                            0   \n",
       "3                0                0  ...                            0   \n",
       "4                0                0  ...                            0   \n",
       "\n",
       "   OBS_30_CNT_SOCIAL_CIRCLE7.0  OBS_30_CNT_SOCIAL_CIRCLE8.0  \\\n",
       "0                            0                            0   \n",
       "1                            0                            0   \n",
       "2                            1                            0   \n",
       "3                            0                            0   \n",
       "4                            0                            0   \n",
       "\n",
       "   OBS_30_CNT_SOCIAL_CIRCLE9.0  OBS_30_CNT_SOCIAL_CIRCLE10.0  \\\n",
       "0                            0                             0   \n",
       "1                            0                             0   \n",
       "2                            0                             0   \n",
       "3                            0                             0   \n",
       "4                            0                             0   \n",
       "\n",
       "   OBS_30_CNT_SOCIAL_CIRCLE11.0  OBS_30_CNT_SOCIAL_CIRCLE12.0  \\\n",
       "0                             0                             0   \n",
       "1                             0                             0   \n",
       "2                             0                             0   \n",
       "3                             0                             0   \n",
       "4                             0                             0   \n",
       "\n",
       "   OBS_30_CNT_SOCIAL_CIRCLE13.0  OBS_30_CNT_SOCIAL_CIRCLE14.0  \\\n",
       "0                             0                             0   \n",
       "1                             0                             0   \n",
       "2                             0                             0   \n",
       "3                             0                             0   \n",
       "4                             0                             0   \n",
       "\n",
       "   OBS_30_CNT_SOCIAL_CIRCLE15以上  \n",
       "0                             0  \n",
       "1                             0  \n",
       "2                             0  \n",
       "3                             0  \n",
       "4                             0  \n",
       "\n",
       "[5 rows x 116 columns]"
      ]
     },
     "execution_count": 814,
     "metadata": {},
     "output_type": "execute_result"
    }
   ],
   "source": [
    "# NAME_TYPE_SUITEをOne Hot Encoding\n",
    "eda8_NAME_TYPE_SUITE_ohe = pd.get_dummies(eda8[\"NAME_TYPE_SUITE\"]).add_prefix(\"NAME_TYPE_SUITE\")\n",
    "eda8_test_NAME_TYPE_SUITE_ohe = pd.get_dummies(eda8_test[\"NAME_TYPE_SUITE\"]).add_prefix(\"NAME_TYPE_SUITE\")\n",
    "\n",
    "eda8 = pd.concat([eda8, eda8_NAME_TYPE_SUITE_ohe], axis=1)\n",
    "eda8_test = pd.concat([eda8_test, eda8_test_NAME_TYPE_SUITE_ohe], axis=1)\n",
    "\n",
    "eda8.drop('NAME_TYPE_SUITE', axis=1, inplace=True)\n",
    "eda8_test.drop('NAME_TYPE_SUITE', axis=1, inplace=True)\n",
    "\n",
    "eda7_test.head(5)"
   ]
  },
  {
   "cell_type": "code",
   "execution_count": 817,
   "id": "a8bb3780",
   "metadata": {},
   "outputs": [
    {
     "data": {
      "text/html": [
       "<div>\n",
       "<style scoped>\n",
       "    .dataframe tbody tr th:only-of-type {\n",
       "        vertical-align: middle;\n",
       "    }\n",
       "\n",
       "    .dataframe tbody tr th {\n",
       "        vertical-align: top;\n",
       "    }\n",
       "\n",
       "    .dataframe thead th {\n",
       "        text-align: right;\n",
       "    }\n",
       "</style>\n",
       "<table border=\"1\" class=\"dataframe\">\n",
       "  <thead>\n",
       "    <tr style=\"text-align: right;\">\n",
       "      <th></th>\n",
       "      <th>NAME_CONTRACT_TYPE</th>\n",
       "      <th>AMT_INCOME_TOTAL</th>\n",
       "      <th>EXT_SOURCE_2</th>\n",
       "      <th>ORGANIZATION_TYPE</th>\n",
       "      <th>OWN_CAR_AGE_0.0</th>\n",
       "      <th>OWN_CAR_AGE_1.0</th>\n",
       "      <th>OWN_CAR_AGE_2.0</th>\n",
       "      <th>OWN_CAR_AGE_3.0</th>\n",
       "      <th>OWN_CAR_AGE_4.0</th>\n",
       "      <th>OWN_CAR_AGE_5.0</th>\n",
       "      <th>...</th>\n",
       "      <th>OBS_30_CNT_SOCIAL_CIRCLE6.0</th>\n",
       "      <th>OBS_30_CNT_SOCIAL_CIRCLE7.0</th>\n",
       "      <th>OBS_30_CNT_SOCIAL_CIRCLE8.0</th>\n",
       "      <th>OBS_30_CNT_SOCIAL_CIRCLE9.0</th>\n",
       "      <th>OBS_30_CNT_SOCIAL_CIRCLE10.0</th>\n",
       "      <th>OBS_30_CNT_SOCIAL_CIRCLE11.0</th>\n",
       "      <th>OBS_30_CNT_SOCIAL_CIRCLE12.0</th>\n",
       "      <th>OBS_30_CNT_SOCIAL_CIRCLE13.0</th>\n",
       "      <th>OBS_30_CNT_SOCIAL_CIRCLE14.0</th>\n",
       "      <th>OBS_30_CNT_SOCIAL_CIRCLE15以上</th>\n",
       "    </tr>\n",
       "  </thead>\n",
       "  <tbody>\n",
       "    <tr>\n",
       "      <th>0</th>\n",
       "      <td>0</td>\n",
       "      <td>144000.0</td>\n",
       "      <td>0.720416</td>\n",
       "      <td>3866</td>\n",
       "      <td>0</td>\n",
       "      <td>0</td>\n",
       "      <td>0</td>\n",
       "      <td>0</td>\n",
       "      <td>0</td>\n",
       "      <td>0</td>\n",
       "      <td>...</td>\n",
       "      <td>0</td>\n",
       "      <td>0</td>\n",
       "      <td>0</td>\n",
       "      <td>0</td>\n",
       "      <td>0</td>\n",
       "      <td>0</td>\n",
       "      <td>0</td>\n",
       "      <td>0</td>\n",
       "      <td>0</td>\n",
       "      <td>0</td>\n",
       "    </tr>\n",
       "    <tr>\n",
       "      <th>1</th>\n",
       "      <td>0</td>\n",
       "      <td>103500.0</td>\n",
       "      <td>0.287306</td>\n",
       "      <td>4991</td>\n",
       "      <td>0</td>\n",
       "      <td>0</td>\n",
       "      <td>0</td>\n",
       "      <td>0</td>\n",
       "      <td>0</td>\n",
       "      <td>0</td>\n",
       "      <td>...</td>\n",
       "      <td>0</td>\n",
       "      <td>0</td>\n",
       "      <td>0</td>\n",
       "      <td>0</td>\n",
       "      <td>0</td>\n",
       "      <td>0</td>\n",
       "      <td>0</td>\n",
       "      <td>0</td>\n",
       "      <td>0</td>\n",
       "      <td>0</td>\n",
       "    </tr>\n",
       "    <tr>\n",
       "      <th>2</th>\n",
       "      <td>0</td>\n",
       "      <td>180000.0</td>\n",
       "      <td>0.352456</td>\n",
       "      <td>4336</td>\n",
       "      <td>0</td>\n",
       "      <td>0</td>\n",
       "      <td>0</td>\n",
       "      <td>0</td>\n",
       "      <td>0</td>\n",
       "      <td>0</td>\n",
       "      <td>...</td>\n",
       "      <td>0</td>\n",
       "      <td>1</td>\n",
       "      <td>0</td>\n",
       "      <td>0</td>\n",
       "      <td>0</td>\n",
       "      <td>0</td>\n",
       "      <td>0</td>\n",
       "      <td>0</td>\n",
       "      <td>0</td>\n",
       "      <td>0</td>\n",
       "    </tr>\n",
       "    <tr>\n",
       "      <th>3</th>\n",
       "      <td>1</td>\n",
       "      <td>225000.0</td>\n",
       "      <td>0.470384</td>\n",
       "      <td>37943</td>\n",
       "      <td>0</td>\n",
       "      <td>0</td>\n",
       "      <td>0</td>\n",
       "      <td>0</td>\n",
       "      <td>0</td>\n",
       "      <td>0</td>\n",
       "      <td>...</td>\n",
       "      <td>0</td>\n",
       "      <td>0</td>\n",
       "      <td>0</td>\n",
       "      <td>0</td>\n",
       "      <td>0</td>\n",
       "      <td>0</td>\n",
       "      <td>0</td>\n",
       "      <td>0</td>\n",
       "      <td>0</td>\n",
       "      <td>0</td>\n",
       "    </tr>\n",
       "    <tr>\n",
       "      <th>4</th>\n",
       "      <td>0</td>\n",
       "      <td>144000.0</td>\n",
       "      <td>0.373133</td>\n",
       "      <td>37943</td>\n",
       "      <td>0</td>\n",
       "      <td>1</td>\n",
       "      <td>0</td>\n",
       "      <td>0</td>\n",
       "      <td>0</td>\n",
       "      <td>0</td>\n",
       "      <td>...</td>\n",
       "      <td>0</td>\n",
       "      <td>0</td>\n",
       "      <td>0</td>\n",
       "      <td>0</td>\n",
       "      <td>0</td>\n",
       "      <td>0</td>\n",
       "      <td>0</td>\n",
       "      <td>0</td>\n",
       "      <td>0</td>\n",
       "      <td>0</td>\n",
       "    </tr>\n",
       "  </tbody>\n",
       "</table>\n",
       "<p>5 rows × 116 columns</p>\n",
       "</div>"
      ],
      "text/plain": [
       "   NAME_CONTRACT_TYPE  AMT_INCOME_TOTAL  EXT_SOURCE_2  ORGANIZATION_TYPE  \\\n",
       "0                   0          144000.0      0.720416               3866   \n",
       "1                   0          103500.0      0.287306               4991   \n",
       "2                   0          180000.0      0.352456               4336   \n",
       "3                   1          225000.0      0.470384              37943   \n",
       "4                   0          144000.0      0.373133              37943   \n",
       "\n",
       "   OWN_CAR_AGE_0.0  OWN_CAR_AGE_1.0  OWN_CAR_AGE_2.0  OWN_CAR_AGE_3.0  \\\n",
       "0                0                0                0                0   \n",
       "1                0                0                0                0   \n",
       "2                0                0                0                0   \n",
       "3                0                0                0                0   \n",
       "4                0                1                0                0   \n",
       "\n",
       "   OWN_CAR_AGE_4.0  OWN_CAR_AGE_5.0  ...  OBS_30_CNT_SOCIAL_CIRCLE6.0  \\\n",
       "0                0                0  ...                            0   \n",
       "1                0                0  ...                            0   \n",
       "2                0                0  ...                            0   \n",
       "3                0                0  ...                            0   \n",
       "4                0                0  ...                            0   \n",
       "\n",
       "   OBS_30_CNT_SOCIAL_CIRCLE7.0  OBS_30_CNT_SOCIAL_CIRCLE8.0  \\\n",
       "0                            0                            0   \n",
       "1                            0                            0   \n",
       "2                            1                            0   \n",
       "3                            0                            0   \n",
       "4                            0                            0   \n",
       "\n",
       "   OBS_30_CNT_SOCIAL_CIRCLE9.0  OBS_30_CNT_SOCIAL_CIRCLE10.0  \\\n",
       "0                            0                             0   \n",
       "1                            0                             0   \n",
       "2                            0                             0   \n",
       "3                            0                             0   \n",
       "4                            0                             0   \n",
       "\n",
       "   OBS_30_CNT_SOCIAL_CIRCLE11.0  OBS_30_CNT_SOCIAL_CIRCLE12.0  \\\n",
       "0                             0                             0   \n",
       "1                             0                             0   \n",
       "2                             0                             0   \n",
       "3                             0                             0   \n",
       "4                             0                             0   \n",
       "\n",
       "   OBS_30_CNT_SOCIAL_CIRCLE13.0  OBS_30_CNT_SOCIAL_CIRCLE14.0  \\\n",
       "0                             0                             0   \n",
       "1                             0                             0   \n",
       "2                             0                             0   \n",
       "3                             0                             0   \n",
       "4                             0                             0   \n",
       "\n",
       "   OBS_30_CNT_SOCIAL_CIRCLE15以上  \n",
       "0                             0  \n",
       "1                             0  \n",
       "2                             0  \n",
       "3                             0  \n",
       "4                             0  \n",
       "\n",
       "[5 rows x 116 columns]"
      ]
     },
     "execution_count": 817,
     "metadata": {},
     "output_type": "execute_result"
    }
   ],
   "source": [
    "# NAME_INCOME_TYPEをOne Hot Encoding\n",
    "eda8_NAME_INCOME_TYPE_ohe = pd.get_dummies(eda8[\"NAME_INCOME_TYPE\"]).add_prefix(\"NAME_INCOME_TYPE\")\n",
    "eda8_test_NAME_INCOME_TYPE_ohe = pd.get_dummies(eda8_test[\"NAME_INCOME_TYPE\"]).add_prefix(\"NAME_INCOME_TYPE\")\n",
    "\n",
    "eda8 = pd.concat([eda8, eda8_NAME_INCOME_TYPE_ohe], axis=1)\n",
    "eda8_test = pd.concat([eda8_test, eda8_test_NAME_INCOME_TYPE_ohe], axis=1)\n",
    "\n",
    "eda8.drop('NAME_INCOME_TYPE', axis=1, inplace=True)\n",
    "eda8_test.drop('NAME_INCOME_TYPE', axis=1, inplace=True)\n",
    "\n",
    "eda7_test.head(5)"
   ]
  },
  {
   "cell_type": "code",
   "execution_count": 863,
   "id": "5d7514b7",
   "metadata": {},
   "outputs": [],
   "source": [
    "#最終5データ\n",
    "eda8 = pd.concat([eda7, eda8], axis = 1)\n",
    "eda8_test = pd.concat([eda7_test, eda8_test], axis = 1)\n",
    "\n"
   ]
  },
  {
   "cell_type": "code",
   "execution_count": 864,
   "id": "b2ad7afd",
   "metadata": {},
   "outputs": [
    {
     "name": "stdout",
     "output_type": "stream",
     "text": [
      "(171202, 145)\n",
      "(61500, 144)\n"
     ]
    }
   ],
   "source": [
    "print(eda8.shape)\n",
    "print(eda8_test.shape)"
   ]
  },
  {
   "cell_type": "code",
   "execution_count": 865,
   "id": "be31e531",
   "metadata": {},
   "outputs": [],
   "source": [
    "# 目的変数と説明変数に分割\n",
    "X = eda8.drop(\"TARGET\", axis=1).values\n",
    "y = eda8[\"TARGET\"].values\n",
    "X_test = eda8_test.values\n"
   ]
  },
  {
   "cell_type": "code",
   "execution_count": 866,
   "id": "fc153ecf",
   "metadata": {},
   "outputs": [],
   "source": [
    "# 標準化\n",
    "sc = StandardScaler()\n",
    "sc.fit(X)\n",
    "X_std = sc.transform(X)\n",
    "X_test_std = sc.transform(X_test)\n"
   ]
  },
  {
   "cell_type": "code",
   "execution_count": 867,
   "id": "86b8272a",
   "metadata": {},
   "outputs": [],
   "source": [
    "# 訓練データと評価データに分割\n",
    "X_train, X_valid, y_train, y_valid = train_test_split(X_std, y, test_size=0.3, stratify=y, random_state=1)"
   ]
  },
  {
   "cell_type": "code",
   "execution_count": 868,
   "id": "d5d97887",
   "metadata": {},
   "outputs": [
    {
     "name": "stdout",
     "output_type": "stream",
     "text": [
      "Train Score: 0.8627450296876393\n",
      "Valid Score: 0.7302201356512906\n"
     ]
    }
   ],
   "source": [
    "# XGBClassifier\n",
    "from xgboost import XGBClassifier\n",
    "xgb = XGBClassifier(random_state = 1)\n",
    "xgb.fit(X_train, y_train)\n",
    "xgb_train_pred = xgb.predict_proba(X_train)[:,1]\n",
    "xgb_valid_pred = xgb.predict_proba(X_valid)[:,1]\n",
    "print(f\"Train Score: {roc_auc_score(y_train, xgb_train_pred)}\")\n",
    "print(f\"Valid Score: {roc_auc_score(y_valid, xgb_valid_pred)}\")"
   ]
  },
  {
   "cell_type": "code",
   "execution_count": 869,
   "id": "a1951c01",
   "metadata": {},
   "outputs": [
    {
     "name": "stdout",
     "output_type": "stream",
     "text": [
      "Train Score: 0.8090069948939165\n",
      "Valid Score: 0.7382641496017004\n"
     ]
    }
   ],
   "source": [
    "# LGBMClassfier\n",
    "from lightgbm import LGBMClassifier\n",
    "\n",
    "lgb = LGBMClassifier(random_state = 1)\n",
    "lgb.fit(X_train, y_train)\n",
    "\n",
    "lgb_train_pred = lgb.predict_proba(X_train)[:, 1]\n",
    "lgb_valid_pred = lgb.predict_proba(X_valid)[:, 1]\n",
    "print(f\"Train Score: {roc_auc_score(y_train, lgb_train_pred)}\")\n",
    "print(f\"Valid Score: {roc_auc_score(y_valid, lgb_valid_pred)}\")"
   ]
  },
  {
   "cell_type": "code",
   "execution_count": null,
   "id": "88c0ba0e",
   "metadata": {},
   "outputs": [],
   "source": []
  },
  {
   "cell_type": "code",
   "execution_count": null,
   "id": "6f8241f7",
   "metadata": {},
   "outputs": [],
   "source": []
  },
  {
   "cell_type": "code",
   "execution_count": null,
   "id": "ad4a2554",
   "metadata": {},
   "outputs": [],
   "source": []
  },
  {
   "cell_type": "code",
   "execution_count": 870,
   "id": "c8174a40",
   "metadata": {},
   "outputs": [],
   "source": [
    "#予測値の作成\n",
    "pred = lgb.predict_proba(X_test)[:, 1]"
   ]
  },
  {
   "cell_type": "code",
   "execution_count": 871,
   "id": "1916df63",
   "metadata": {},
   "outputs": [
    {
     "data": {
      "text/html": [
       "<div>\n",
       "<style scoped>\n",
       "    .dataframe tbody tr th:only-of-type {\n",
       "        vertical-align: middle;\n",
       "    }\n",
       "\n",
       "    .dataframe tbody tr th {\n",
       "        vertical-align: top;\n",
       "    }\n",
       "\n",
       "    .dataframe thead th {\n",
       "        text-align: right;\n",
       "    }\n",
       "</style>\n",
       "<table border=\"1\" class=\"dataframe\">\n",
       "  <thead>\n",
       "    <tr style=\"text-align: right;\">\n",
       "      <th></th>\n",
       "      <th>SK_ID_CURR</th>\n",
       "      <th>TARGET</th>\n",
       "    </tr>\n",
       "  </thead>\n",
       "  <tbody>\n",
       "    <tr>\n",
       "      <th>0</th>\n",
       "      <td>171202</td>\n",
       "      <td>0.017188</td>\n",
       "    </tr>\n",
       "    <tr>\n",
       "      <th>1</th>\n",
       "      <td>171203</td>\n",
       "      <td>0.036714</td>\n",
       "    </tr>\n",
       "    <tr>\n",
       "      <th>2</th>\n",
       "      <td>171204</td>\n",
       "      <td>0.062941</td>\n",
       "    </tr>\n",
       "    <tr>\n",
       "      <th>3</th>\n",
       "      <td>171205</td>\n",
       "      <td>0.028919</td>\n",
       "    </tr>\n",
       "    <tr>\n",
       "      <th>4</th>\n",
       "      <td>171206</td>\n",
       "      <td>0.023026</td>\n",
       "    </tr>\n",
       "    <tr>\n",
       "      <th>...</th>\n",
       "      <td>...</td>\n",
       "      <td>...</td>\n",
       "    </tr>\n",
       "    <tr>\n",
       "      <th>61495</th>\n",
       "      <td>232697</td>\n",
       "      <td>0.033525</td>\n",
       "    </tr>\n",
       "    <tr>\n",
       "      <th>61496</th>\n",
       "      <td>232698</td>\n",
       "      <td>0.037460</td>\n",
       "    </tr>\n",
       "    <tr>\n",
       "      <th>61497</th>\n",
       "      <td>232699</td>\n",
       "      <td>0.026783</td>\n",
       "    </tr>\n",
       "    <tr>\n",
       "      <th>61498</th>\n",
       "      <td>232700</td>\n",
       "      <td>0.022300</td>\n",
       "    </tr>\n",
       "    <tr>\n",
       "      <th>61499</th>\n",
       "      <td>232701</td>\n",
       "      <td>0.028517</td>\n",
       "    </tr>\n",
       "  </tbody>\n",
       "</table>\n",
       "<p>61500 rows × 2 columns</p>\n",
       "</div>"
      ],
      "text/plain": [
       "       SK_ID_CURR    TARGET\n",
       "0          171202  0.017188\n",
       "1          171203  0.036714\n",
       "2          171204  0.062941\n",
       "3          171205  0.028919\n",
       "4          171206  0.023026\n",
       "...           ...       ...\n",
       "61495      232697  0.033525\n",
       "61496      232698  0.037460\n",
       "61497      232699  0.026783\n",
       "61498      232700  0.022300\n",
       "61499      232701  0.028517\n",
       "\n",
       "[61500 rows x 2 columns]"
      ]
     },
     "execution_count": 871,
     "metadata": {},
     "output_type": "execute_result"
    }
   ],
   "source": [
    "# 予測結果を提出用のフォーマットに格納\n",
    "sample_sub['TARGET'] = pred\n",
    "sample_sub"
   ]
  },
  {
   "cell_type": "code",
   "execution_count": 872,
   "id": "877e43b4",
   "metadata": {},
   "outputs": [],
   "source": [
    "# 提出用のcsvファイルを作成\n",
    "sample_sub.to_csv('/Users/suxuanrong/Desktop/关于横市啊/GCI/コンペ２/提出結果/submission8.csv',index=False)"
   ]
  },
  {
   "cell_type": "code",
   "execution_count": null,
   "id": "3d631a74",
   "metadata": {},
   "outputs": [],
   "source": []
  }
 ],
 "metadata": {
  "kernelspec": {
   "display_name": "Python 3 (ipykernel)",
   "language": "python",
   "name": "python3"
  },
  "language_info": {
   "codemirror_mode": {
    "name": "ipython",
    "version": 3
   },
   "file_extension": ".py",
   "mimetype": "text/x-python",
   "name": "python",
   "nbconvert_exporter": "python",
   "pygments_lexer": "ipython3",
   "version": "3.9.7"
  }
 },
 "nbformat": 4,
 "nbformat_minor": 5
}
